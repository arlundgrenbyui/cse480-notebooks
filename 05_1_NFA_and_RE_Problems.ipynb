{
  "nbformat": 4,
  "nbformat_minor": 0,
  "metadata": {
    "colab": {
      "name": "05_1_NFA_and_RE_Problems.ipynb",
      "provenance": [],
      "collapsed_sections": []
    },
    "kernelspec": {
      "display_name": "Python 3",
      "language": "python",
      "name": "python3"
    },
    "language_info": {
      "codemirror_mode": {
        "name": "ipython",
        "version": 3
      },
      "file_extension": ".py",
      "mimetype": "text/x-python",
      "name": "python",
      "nbconvert_exporter": "python",
      "pygments_lexer": "ipython3",
      "version": "3.9.0"
    },
    "toc": {
      "colors": {
        "hover_highlight": "#DAA520",
        "running_highlight": "#FF0000",
        "selected_highlight": "#FFD700"
      },
      "moveMenuLeft": true,
      "nav_menu": {
        "height": "121px",
        "width": "252px"
      },
      "navigate_menu": true,
      "number_sections": true,
      "sideBar": true,
      "threshold": 4,
      "toc_cell": false,
      "toc_section_display": "block",
      "toc_window_display": false,
      "widenNotebook": false
    }
  },
<<<<<<< HEAD
  {
   "cell_type": "code",
   "execution_count": null,
   "metadata": {
    "id": "iF-KnQi01Faq"
   },
   "outputs": [],
   "source": [
    "dotObj_gnfa(grnfa1)"
   ]
  },
  {
   "cell_type": "markdown",
   "metadata": {
    "id": "VFtjQsTs1Faq"
   },
   "source": [
    "## 3.2: Apply the elimination order by supplying the second argument \n",
    "['B', 'F2', 'F1', 'I3', 'I4']\n",
    "\n",
    "as you learned in the help"
   ]
  },
  {
   "cell_type": "code",
   "execution_count": null,
   "metadata": {
    "id": "4XkJaoDL1Far"
   },
   "outputs": [],
   "source": [
    "(Gfinal, DO, Rev_RE1) = del_gnfa_states(...args filled here...)"
   ]
  },
  {
   "cell_type": "code",
   "execution_count": null,
   "metadata": {
    "id": "zvc3WnQb1Far"
   },
   "outputs": [],
   "source": [
    "Rev_RE1"
   ]
  },
  {
   "cell_type": "code",
   "execution_count": null,
   "metadata": {
    "id": "D0dEbHik1Far"
   },
   "outputs": [],
   "source": [
    "dotObj_dfa(min_dfa(nfa2dfa(re2nfa(Rev_RE1))))"
   ]
  },
  {
   "cell_type": "markdown",
   "metadata": {
    "id": "iQEHDBcy1Far"
   },
   "source": [
    "## 3.3: Apply the elimination order by supplying the second argument \n",
    " ['I3', 'I4', 'F1', 'B', 'F2' ]\n",
    "\n",
    "as you learned in the help"
   ]
  },
  {
   "cell_type": "markdown",
   "metadata": {
    "id": "RdLm-Pc-1Fas"
   },
   "source": [
    "## Examine DO[0] through DO[Last_Legal_Item] (find out how long DO is)\n",
    "\n",
    "DO[0] is the initial GNFA machine, DO[1] is the next one, and so on. You will see each step getting\n",
    "rid of one state.\n",
    "\n",
    "### Summarize your observation of the state elimination and which REs were introduced as a result. Use one bullet per question answered below.\n",
    "\n",
    "*\n",
    "\n",
    "*\n",
    "\n",
    "*\n",
    "\n",
    "*\n",
    "\n",
    "*\n",
    "\n",
    "*\n",
    "\n",
    "*"
   ]
  },
  {
   "cell_type": "code",
   "execution_count": null,
   "metadata": {
    "id": "AaJuAMRJ1Fas",
    "scrolled": true
   },
   "outputs": [],
   "source": [
    "(Gfinal, DO, Rev_RE2) = del_gnfa_states(grnfa1, ...args...)"
   ]
  },
  {
   "cell_type": "code",
   "execution_count": null,
   "metadata": {
    "id": "_1zdEmFo1Fas"
   },
   "outputs": [],
   "source": [
    "Rev_RE2"
   ]
  },
  {
   "cell_type": "markdown",
   "metadata": {
    "id": "xbzVZEQY1Fat"
   },
   "source": [
    "## Examine DO[0] through DO[Last_Legal_Item] (find out how long DO is)\n",
    "\n",
    "### Summarize your observation of the state elimination and which REs were introduced as a result\n",
    "\n",
    "*\n",
    "\n",
    "*\n",
    "\n",
    "*\n",
    "\n",
    "*\n",
    "\n",
    "*\n",
    "\n",
    "*\n",
    "\n",
    "*"
   ]
  },
  {
   "cell_type": "markdown",
   "metadata": {
    "id": "1QaSXKIu1Fat"
   },
   "source": [
    "## 3.4: Check for isomorphism as requested between Rev_RE1 and Rev_RE2\n",
    "\n",
    "Apply a Jove call that is compact (and will be given in class) that checks that Rev_RE1 and Rev_RE2 are equivalent. It has to involve iso_dfa and min_dfa and other calls."
   ]
  },
  {
   "cell_type": "code",
   "execution_count": null,
   "metadata": {
    "id": "ft9RVqT71Fat"
   },
   "outputs": [],
   "source": [
    "iso_dfa( ... )"
   ]
  },
  {
   "cell_type": "markdown",
   "metadata": {
    "id": "7YPYmZWU1Fau"
   },
   "source": []
  },
  {
   "cell_type": "code",
   "execution_count": null,
   "metadata": {
    "id": "y8DyxZvA1Fau"
   },
   "outputs": [],
   "source": [
    "# Just look at it again for comparison\n",
    "\n",
    "...Rev_RE1_hand..."
   ]
  },
  {
   "cell_type": "markdown",
   "metadata": {
    "id": "SrFKBgbl1Fau"
   },
   "source": [
    "## 3.5: Check for isomorphism as requested between Rev_RE1 and Rev_RE1_hand\n",
    "\n",
    "Same methods as above."
   ]
  },
  {
   "cell_type": "code",
   "execution_count": null,
   "metadata": {
    "id": "ITE6hltC1Fau"
   },
   "outputs": [],
   "source": [
    "iso_dfa( ... )"
   ]
  },
  {
   "cell_type": "markdown",
   "metadata": {
    "id": "gAGEONPJ1Fav"
   },
   "source": [
    "# Problem 4: Chasing down the RE2NFA components\n",
    "\n",
    "Find out where the s* components are and explain the set of all strings that precede s* in Rev_RE2 and the NFA of Rev_RE2\n",
    "\n",
    "Find out where the ending \"a\" is, and find out the set of all the symbols that precede a\n",
    "\n",
    "Let's first look at the NFA and then see where the RE \"parts\" are in it."
   ]
  },
  {
   "cell_type": "code",
   "execution_count": null,
   "metadata": {
    "id": "reKK6EvN1Fav",
    "scrolled": true
   },
   "outputs": [],
   "source": [
    "dotObj_nfa(re2nfa(Rev_RE2))"
   ]
  },
  {
   "cell_type": "markdown",
   "metadata": {
    "id": "rViHZD9k1Fav"
   },
   "source": [
    "\n",
    "This is an exercise in explaining how Rev_RE2 got translated to an NFA. You are to pick these cases and find an example of each, and explain below. What you pick does not matter.\n",
    "\n",
    "* Find a case where a Star is used, and explain the construction, pointing to the states involved. Use up to 6 bullets below. More or less based on how you explain (clarity not length emphasized).\n",
    "  - ...\n",
    "  - ...\n",
    "  - ...\n",
    "  - ...\n",
    "  - ...\n",
    "  - ...\n",
    "\n",
    "* Find a case where the Star follows something (I.e. a concatenation of the form \"X\" followed by \"Star\" is used). Show how that concatenation construction is accomplished in the same manner (up to 6 bullets roughly) as above. More or less based on how you explain.\n",
    "  - ...\n",
    "  - ...\n",
    "  - ...\n",
    "  - ...\n",
    "  - ...\n",
    "  - ...\n",
    "  \n",
    "* Find a case where something follows Star (I.e. a concatenation of the form \"Star\" followed by \"X\"). Explain how the concatenation is accomplished.\n",
    "  - ...\n",
    "  - ...\n",
    "  - ...\n",
    "  - ...\n",
    "  - ...\n",
    "  - ..."
   ]
  },
  {
   "cell_type": "markdown",
   "metadata": {
    "id": "fmY0Ky9A1Faw"
   },
   "source": [
    "## Repeat finding out the aforesaid paths in your own Rev_RE1_hand"
   ]
  },
  {
   "cell_type": "markdown",
   "metadata": {
    "id": "cmAoBNG81Faw"
   },
   "source": [
    "\n",
    "This is an exercise in explaining how Rev_RE1_hand got translated to an NFA. You are to pick these cases and find an example of each, and explain below. What you pick does not matter.\n",
    "\n",
    "* Find a case where a Star is used, and explain the construction, pointing to the states involved. Use up to 6 bullets below. More or less based on how you explain (clarity not length emphasized).\n",
    "  - ...\n",
    "  - ...\n",
    "  - ...\n",
    "  - ...\n",
    "  - ...\n",
    "  - ...\n",
    "\n",
    "* Find a case where the Star follows something (I.e. a concatenation of the form \"X\" followed by \"Star\" is used). If such a case does not arise in your RE, skip this part. Show how that concatenation construction is accomplished in the same manner (up to 6 bullets roughly) as above. More or less based on how you explain. \n",
    "  - ...\n",
    "  - ...\n",
    "  - ...\n",
    "  - ...\n",
    "  - ...\n",
    "  - ...\n",
    "  \n",
    "* Find a case where something follows Star (I.e. a concatenation of the form \"Star\" followed by \"X\"). If such a case does not arise in your RE, skip this part. Explain how the concatenation is accomplished.\n",
    "  - ...\n",
    "  - ...\n",
    "  - ...\n",
    "  - ...\n",
    "  - ...\n",
    "  - ..."
   ]
  },
  {
   "cell_type": "markdown",
   "metadata": {
    "id": "V9nRzOHS1Fax"
   },
   "source": [
    "# END\n"
   ]
  }
 ],
 "metadata": {
  "colab": {
   "name": "05_1_NFA_and_RE_Problems.ipynb",
   "provenance": []
  },
  "kernelspec": {
   "display_name": "Python 3",
   "language": "python",
   "name": "python3"
  },
  "language_info": {
   "codemirror_mode": {
    "name": "ipython",
    "version": 3
   },
   "file_extension": ".py",
   "mimetype": "text/x-python",
   "name": "python",
   "nbconvert_exporter": "python",
   "pygments_lexer": "ipython3",
   "version": "3.9.0"
  },
  "toc": {
   "colors": {
    "hover_highlight": "#DAA520",
    "running_highlight": "#FF0000",
    "selected_highlight": "#FFD700"
   },
   "moveMenuLeft": true,
   "nav_menu": {
    "height": "121px",
    "width": "252px"
   },
   "navigate_menu": true,
   "number_sections": true,
   "sideBar": true,
   "threshold": 4,
   "toc_cell": false,
   "toc_section_display": "block",
   "toc_window_display": false,
   "widenNotebook": false
  }
 },
 "nbformat": 4,
 "nbformat_minor": 1
}
=======
  "cells": [
    {
      "cell_type": "markdown",
      "metadata": {
        "id": "F6evhB5n1FaV"
      },
      "source": [
        "# Four Problems for Week 05's Assignment \n",
        "\n",
        "Problem 1:\n",
        "\n",
        "    a. take a given nfa called nfa1\n",
        "    \n",
        "    b. convert it to dfa1 \n",
        "    \n",
        "    c. reverse nfa1 by hand obtaining rnfa1\n",
        "    \n",
        "    d. inspect and conclude (listing six paths) that rnfa1 is indeed a reverse of nfa1\n",
        "\n",
        "Problem 2:\n",
        "\n",
        "    a. learn about a few DFA utilities such as totalize_dfa and dotObj_dfa_w_bh\n",
        "    \n",
        "    b. extract an RE by inspecting nfa1 and write it down as RE1_hand\n",
        "    \n",
        "    c. reverse RE1_hand by inspection, writing the result down as Rev_RE1_hand\n",
        "    \n",
        "    d. Understand the function del_gnfa_states via its help command\n",
        "    \n",
        "\n",
        "Problem 3:\n",
        "\n",
        "    a. obtain a GNFA for rnfa1, calling it grnfa1\n",
        "    \n",
        "    b. apply two elimination orders for states on grnfa1\n",
        "    \n",
        "    c. obtain Rev_RE1 and Rev_RE2\n",
        "    \n",
        "    d. check that Rev_RE1 and Rev_RE2 and Rev_RE1_hand are all isomorphic\n",
        "    \n",
        "\n",
        "Problem 4:\n",
        "\n",
        "    a. print the NFA for Rev_RE2 and answer the stated questions.\n",
        "    \n",
        "    b. print the NFA for Rev_RE1_hand and answer the stated questions. "
      ]
    },
    {
      "cell_type": "markdown",
      "metadata": {
        "id": "1an9nmMw1Fac",
        "run_control": {
          "frozen": false,
          "read_only": false
        }
      },
      "source": [
        "# Imports \n"
      ]
    },
    {
      "cell_type": "code",
      "metadata": {
        "id": "y863_jSu1Fad",
        "run_control": {
          "frozen": false,
          "read_only": false
        },
        "scrolled": true,
        "colab": {
          "base_uri": "https://localhost:8080/"
        },
        "outputId": "819cabe3-5a88-4456-c88f-d50325225c5b"
      },
      "source": [
        "#~~~~~~~~~~~~~~~~~~~~~~~~~~~~~~~~~~~~~~~~~~~~~~~~~~~~~~~\n",
        "import sys\n",
        "\n",
        "# -- Detect if in Own Install or in Colab\n",
        "try:\n",
        "    import google.colab\n",
        "    OWN_INSTALL = False\n",
        "except:\n",
        "    OWN_INSTALL = True\n",
        "    \n",
        "if OWN_INSTALL:\n",
        "  \n",
        "  sys.path[0:0] = ['../../../../..',  '../../../../../3rdparty',  \n",
        "                   '../../../..',  '../../../../3rdparty',  \n",
        "                   '../../..',     '../../../3rdparty', \n",
        "                   '../..',        '../../3rdparty',\n",
        "                   '..',           '../3rdparty',\n",
        "                   '../Jove',      '../Jove/jove']\n",
        "\n",
        "else: # In colab\n",
        "  ! if [ ! -d Jove ]; then git clone https://github.com/ganeshutah/Jove Jove; fi\n",
        "  sys.path.append('./Jove')\n",
        "  sys.path.append('./Jove/jove')\n",
        "\n",
        "# -- common imports --\n",
        "from jove.DotBashers import *\n",
        "from jove.Def_md2mc  import *\n",
        "from jove.Def_NFA    import *\n",
        "from jove.Def_DFA    import *\n",
        "from jove.Def_NFA2RE import *\n",
        "from jove.Def_RE2NFA import *\n",
        "from jove.AnimateNFA import *\n",
        "#~~~~~~~~~~~~~~~~~~~~~~~~~~~~~~~~~~~~~~~~~~~~~~~~~~~~~~~"
      ],
      "execution_count": null,
      "outputs": [
        {
          "output_type": "stream",
          "text": [
            "Cloning into 'Jove'...\n",
            "remote: Enumerating objects: 4634, done.\u001b[K\n",
            "remote: Total 4634 (delta 0), reused 0 (delta 0), pack-reused 4634\u001b[K\n",
            "Receiving objects: 100% (4634/4634), 7.38 MiB | 1.49 MiB/s, done.\n",
            "Resolving deltas: 100% (3005/3005), done.\n",
            "You may use any of these help commands:\n",
            "help(ResetStNum)\n",
            "help(NxtStateStr)\n",
            "\n",
            "You may use any of these help commands:\n",
            "help(md2mc)\n",
            ".. and if you want to dig more, then ..\n",
            "help(default_line_attr)\n",
            "help(length_ok_input_items)\n",
            "help(union_line_attr_list_fld)\n",
            "help(extend_rsltdict)\n",
            "help(form_delta)\n",
            "help(get_machine_components)\n",
            "\n",
            "You may use any of these help commands:\n",
            "help(mkp_dfa)\n",
            "help(mk_dfa)\n",
            "help(totalize_dfa)\n",
            "help(addtosigma_delta)\n",
            "help(step_dfa)\n",
            "help(run_dfa)\n",
            "help(accepts_dfa)\n",
            "help(comp_dfa)\n",
            "help(union_dfa)\n",
            "help(intersect_dfa)\n",
            "help(pruneUnreach)\n",
            "help(iso_dfa)\n",
            "help(langeq_dfa)\n",
            "help(same_status)\n",
            "help(h_langeq_dfa)\n",
            "help(fixptDist)\n",
            "help(min_dfa)\n",
            "help(pairFR)\n",
            "help(state_combos)\n",
            "help(sepFinNonFin)\n",
            "help(bash_eql_classes)\n",
            "help(listminus)\n",
            "help(bash_1)\n",
            "help(mk_rep_eqc)\n",
            "help(F_of)\n",
            "help(rep_of_s)\n",
            "help(q0_of)\n",
            "help(Delta_of)\n",
            "help(mk_state_eqc_name)\n",
            "\n",
            "You may use any of these help commands:\n",
            "help(mk_nfa)\n",
            "help(totalize_nfa)\n",
            "help(step_nfa)\n",
            "help(run_nfa)\n",
            "help(ec_step_nfa)\n",
            "help(Eclosure)\n",
            "help(Echelp)\n",
            "help(accepts_nfa)\n",
            "help(nfa2dfa)\n",
            "help(n2d)\n",
            "help(inSets)\n",
            "help(rev_dfa)\n",
            "help(min_dfa_brz)\n",
            "\n",
            "You may use any of these help commands:\n",
            "help(RE2Str)\n",
            "help(mk_gnfa)\n",
            "help(mk_gnfa_from_D)\n",
            "help(dfa2nfa)\n",
            "help(del_gnfa_states)\n",
            "help(gnfa_w_REStr)\n",
            "help(del_one_gnfa_state)\n",
            "help(Edges_Exist_Via)\n",
            "help(choose_state_to_del)\n",
            "help(form_alt_RE)\n",
            "help(form_concat_RE)\n",
            "help(form_kleene_RE)\n",
            "\n",
            "You may use any of these help commands:\n",
            "help(re2nfa)\n",
            "\n",
            " \"help(AnimateNFA)\" gives you info on how to use animations with NFA \n"
          ],
          "name": "stdout"
        }
      ]
    },
    {
      "cell_type": "markdown",
      "metadata": {
        "id": "BzOCjuwm1Fae"
      },
      "source": [
        "## Problem 1: "
      ]
    },
    {
      "cell_type": "code",
      "metadata": {
        "id": "tnc6tDJT1Faf",
        "colab": {
          "base_uri": "https://localhost:8080/"
        },
        "outputId": "298e8484-dacb-46af-b548-becc6df25324"
      },
      "source": [
        "# Given NFA\n",
        "# RE is (a(bs*(d+f)+c)+''s*(f+d))\n",
        "nfa1 = md2mc('''NFA\n",
        "I1 : '' -> B\n",
        "I1 : a  -> I2\n",
        "\n",
        "I2 : c  -> F3\n",
        "I2 : b  -> B\n",
        "\n",
        "B : s  -> B\n",
        "B : d  -> F4\n",
        "B : f  -> F3\n",
        "\n",
        "\n",
        "''')\n"
      ],
      "execution_count": null,
      "outputs": [
        {
          "output_type": "stream",
          "text": [
            "Generating LALR tables\n"
          ],
          "name": "stderr"
        }
      ]
    },
    {
      "cell_type": "code",
      "metadata": {
        "id": "kV7jblE21Fag",
        "colab": {
          "base_uri": "https://localhost:8080/",
          "height": 201
        },
        "outputId": "85660237-2905-475f-edd2-6e28ee748a35"
      },
      "source": [
        "dotObj_nfa(nfa1)"
      ],
      "execution_count": null,
      "outputs": [
        {
          "output_type": "execute_result",
          "data": {
            "text/plain": [
              "<graphviz.dot.Digraph at 0x7f71f22c6e80>"
            ],
            "image/svg+xml": "<?xml version=\"1.0\" encoding=\"UTF-8\" standalone=\"no\"?>\n<!DOCTYPE svg PUBLIC \"-//W3C//DTD SVG 1.1//EN\"\n \"http://www.w3.org/Graphics/SVG/1.1/DTD/svg11.dtd\">\n<!-- Generated by graphviz version 2.40.1 (20161225.0304)\n -->\n<!-- Title: %3 Pages: 1 -->\n<svg width=\"402pt\" height=\"136pt\"\n viewBox=\"0.00 0.00 401.99 135.60\" xmlns=\"http://www.w3.org/2000/svg\" xmlns:xlink=\"http://www.w3.org/1999/xlink\">\n<g id=\"graph0\" class=\"graph\" transform=\"scale(1 1) rotate(0) translate(4 131.5963)\">\n<title>%3</title>\n<polygon fill=\"#ffffff\" stroke=\"transparent\" points=\"-4,4 -4,-131.5963 397.9896,-131.5963 397.9896,4 -4,4\"/>\n<!-- EMPTY -->\n<g id=\"node1\" class=\"node\">\n<title>EMPTY</title>\n</g>\n<!-- I2 -->\n<g id=\"node3\" class=\"node\">\n<title>I2</title>\n<ellipse fill=\"none\" stroke=\"#000000\" cx=\"193.545\" cy=\"-81.7982\" rx=\"18.6979\" ry=\"18.6979\"/>\n<text text-anchor=\"middle\" x=\"193.545\" y=\"-78.0982\" font-family=\"Times,serif\" font-size=\"14.00\" fill=\"#000000\">I2</text>\n</g>\n<!-- EMPTY&#45;&gt;I2 -->\n<g id=\"edge1\" class=\"edge\">\n<title>EMPTY&#45;&gt;I2</title>\n<path fill=\"none\" stroke=\"#000000\" d=\"M54.129,-66.7302C84.4711,-70.0096 133.4281,-75.3008 164.5205,-78.6612\"/>\n<polygon fill=\"#000000\" stroke=\"#000000\" points=\"164.3952,-82.168 174.7135,-79.7629 165.1475,-75.2085 164.3952,-82.168\"/>\n</g>\n<!-- I1 -->\n<g id=\"node4\" class=\"node\">\n<title>I1</title>\n<ellipse fill=\"none\" stroke=\"#000000\" cx=\"109.8483\" cy=\"-40.7982\" rx=\"18.6979\" ry=\"18.6979\"/>\n<text text-anchor=\"middle\" x=\"109.8483\" y=\"-37.0982\" font-family=\"Times,serif\" font-size=\"14.00\" fill=\"#000000\">I1</text>\n</g>\n<!-- EMPTY&#45;&gt;I1 -->\n<g id=\"edge2\" class=\"edge\">\n<title>EMPTY&#45;&gt;I1</title>\n<path fill=\"none\" stroke=\"#000000\" d=\"M54.1276,-56.2671C62.9466,-53.8188 72.7508,-51.097 81.6463,-48.6275\"/>\n<polygon fill=\"#000000\" stroke=\"#000000\" points=\"82.8586,-51.9234 91.5579,-45.8759 80.9861,-45.1785 82.8586,-51.9234\"/>\n</g>\n<!-- B -->\n<g id=\"node2\" class=\"node\">\n<title>B</title>\n<ellipse fill=\"none\" stroke=\"#000000\" cx=\"278.3933\" cy=\"-24.7982\" rx=\"18\" ry=\"18\"/>\n<text text-anchor=\"middle\" x=\"278.3933\" y=\"-21.0982\" font-family=\"Times,serif\" font-size=\"14.00\" fill=\"#000000\">B</text>\n</g>\n<!-- B&#45;&gt;B -->\n<g id=\"edge7\" class=\"edge\">\n<title>B&#45;&gt;B</title>\n<path fill=\"none\" stroke=\"#000000\" d=\"M271.3621,-41.4622C269.7996,-51.4232 272.1433,-60.7982 278.3933,-60.7982 282.3972,-60.7982 284.798,-56.9507 285.5956,-51.5664\"/>\n<polygon fill=\"#000000\" stroke=\"#000000\" points=\"289.0935,-51.4015 285.4246,-41.4622 282.0945,-51.5201 289.0935,-51.4015\"/>\n<text text-anchor=\"middle\" x=\"278.3933\" y=\"-64.5982\" font-family=\"Times,serif\" font-size=\"14.00\" fill=\"#000000\">s </text>\n</g>\n<!-- F4 -->\n<g id=\"node5\" class=\"node\">\n<title>F4</title>\n<ellipse fill=\"none\" stroke=\"#000000\" cx=\"369.1915\" cy=\"-24.7982\" rx=\"20.6302\" ry=\"20.6302\"/>\n<ellipse fill=\"none\" stroke=\"#000000\" cx=\"369.1915\" cy=\"-24.7982\" rx=\"24.5979\" ry=\"24.5979\"/>\n<text text-anchor=\"middle\" x=\"369.1915\" y=\"-21.0982\" font-family=\"Times,serif\" font-size=\"14.00\" fill=\"#000000\">F4</text>\n</g>\n<!-- B&#45;&gt;F4 -->\n<g id=\"edge8\" class=\"edge\">\n<title>B&#45;&gt;F4</title>\n<path fill=\"none\" stroke=\"#000000\" d=\"M296.7677,-24.7982C307.4554,-24.7982 321.2849,-24.7982 333.9906,-24.7982\"/>\n<polygon fill=\"#000000\" stroke=\"#000000\" points=\"334.3055,-28.2983 344.3054,-24.7982 334.3054,-21.2983 334.3055,-28.2983\"/>\n<text text-anchor=\"middle\" x=\"320.3933\" y=\"-28.5982\" font-family=\"Times,serif\" font-size=\"14.00\" fill=\"#000000\">d </text>\n</g>\n<!-- F3 -->\n<g id=\"node6\" class=\"node\">\n<title>F3</title>\n<ellipse fill=\"none\" stroke=\"#000000\" cx=\"369.1915\" cy=\"-102.7982\" rx=\"20.6302\" ry=\"20.6302\"/>\n<ellipse fill=\"none\" stroke=\"#000000\" cx=\"369.1915\" cy=\"-102.7982\" rx=\"24.5979\" ry=\"24.5979\"/>\n<text text-anchor=\"middle\" x=\"369.1915\" y=\"-99.0982\" font-family=\"Times,serif\" font-size=\"14.00\" fill=\"#000000\">F3</text>\n</g>\n<!-- B&#45;&gt;F3 -->\n<g id=\"edge9\" class=\"edge\">\n<title>B&#45;&gt;F3</title>\n<path fill=\"none\" stroke=\"#000000\" d=\"M292.1836,-36.6447C305.4854,-48.0715 325.9742,-65.6724 342.4747,-79.8471\"/>\n<polygon fill=\"#000000\" stroke=\"#000000\" points=\"340.3394,-82.627 350.2056,-86.4884 344.9008,-77.3172 340.3394,-82.627\"/>\n<text text-anchor=\"middle\" x=\"320.3933\" y=\"-67.5982\" font-family=\"Times,serif\" font-size=\"14.00\" fill=\"#000000\">f </text>\n</g>\n<!-- I2&#45;&gt;B -->\n<g id=\"edge6\" class=\"edge\">\n<title>I2&#45;&gt;B</title>\n<path fill=\"none\" stroke=\"#000000\" d=\"M209.5043,-71.0769C222.3051,-62.4775 240.4581,-50.2825 254.9162,-40.5698\"/>\n<polygon fill=\"#000000\" stroke=\"#000000\" points=\"257.0109,-43.379 263.36,-34.8973 253.1074,-37.5685 257.0109,-43.379\"/>\n<text text-anchor=\"middle\" x=\"236.3933\" y=\"-60.5982\" font-family=\"Times,serif\" font-size=\"14.00\" fill=\"#000000\">b </text>\n</g>\n<!-- I2&#45;&gt;F3 -->\n<g id=\"edge5\" class=\"edge\">\n<title>I2&#45;&gt;F3</title>\n<path fill=\"none\" stroke=\"#000000\" d=\"M212.3422,-84.0455C241.3398,-87.5124 297.4593,-94.222 334.1115,-98.6041\"/>\n<polygon fill=\"#000000\" stroke=\"#000000\" points=\"334.0069,-102.1164 344.3517,-99.8284 334.8379,-95.1659 334.0069,-102.1164\"/>\n<text text-anchor=\"middle\" x=\"278.3933\" y=\"-97.5982\" font-family=\"Times,serif\" font-size=\"14.00\" fill=\"#000000\">c </text>\n</g>\n<!-- I1&#45;&gt;B -->\n<g id=\"edge3\" class=\"edge\">\n<title>I1&#45;&gt;B</title>\n<path fill=\"none\" stroke=\"#000000\" d=\"M128.855,-38.9939C158.3749,-36.1915 215.4247,-30.7758 249.8904,-27.5039\"/>\n<polygon fill=\"#000000\" stroke=\"#000000\" points=\"250.599,-30.9525 260.2235,-26.523 249.9374,-23.9838 250.599,-30.9525\"/>\n<text text-anchor=\"middle\" x=\"193.545\" y=\"-38.5982\" font-family=\"Times,serif\" font-size=\"14.00\" fill=\"#000000\">&#39;&#39; </text>\n</g>\n<!-- I1&#45;&gt;I2 -->\n<g id=\"edge4\" class=\"edge\">\n<title>I1&#45;&gt;I2</title>\n<path fill=\"none\" stroke=\"#000000\" d=\"M127.9903,-46.8522C136.8226,-50.0288 147.495,-54.2115 156.6967,-58.7982 160.8326,-60.8598 165.1,-63.2524 169.1988,-65.6993\"/>\n<polygon fill=\"#000000\" stroke=\"#000000\" points=\"167.4451,-68.7302 177.7862,-71.0355 171.1397,-62.7846 167.4451,-68.7302\"/>\n<text text-anchor=\"middle\" x=\"151.6967\" y=\"-62.5982\" font-family=\"Times,serif\" font-size=\"14.00\" fill=\"#000000\">a </text>\n</g>\n</g>\n</svg>\n"
          },
          "metadata": {
            "tags": []
          },
          "execution_count": 3
        }
      ]
    },
    {
      "cell_type": "markdown",
      "metadata": {
        "id": "Ub1tr-Rv1Fah"
      },
      "source": [
        "## 1.1: Convert the given NFA to a DFA by hand.\n",
        "\n",
        "Use as many bullets as necessary to clearly show your work:\n",
        "\n",
        "* We started with an initial state consisting of all of the NFA's initial states eclosured. This became I1_I2_B\n",
        "\n",
        "* We went from our initial state and transitioned from I1 through 'a' to I2. B and I2 have no 'a' transition, so their paths ended. We now have state I2.\n",
        "\n",
        "* We went from our initial state and transitioned from I2 through 'b' to B. I1 and B have no 'b' transition, so their paths ended. We now have state _I2. We added an underscore to show that it is not our DFA's initial state.\n",
        "\n",
        "* We went from our initial state and transitioned from I2 through 'c' to F3. I1 and B have no 'c' transition, so their paths end\n",
        "\n",
        "* We went from our initial state and transitioned from B through 's' to B. I1 and I2 have no 's' transition, so their paths end.\n",
        "\n",
        "* We went from our initial state and transition from B through 'd' to F4. I1 and I2 have no 'd' transition, so their paths end.\n",
        "\n",
        "* We went from our initial state and transition from B through 'f' to F3. I1 and I2 have no 'd' transition, so their paths end.\n",
        "\n",
        "* Our state set is now {I1_I2_B, _I2, F3, B, F4}. We will repeat this process through the remainder of these states. Since these states are all sets of one element, we can treat these steps like any other DFA.\n",
        "\n",
        "* _I2 transitions through 'b' to B.\n",
        "\n",
        "* _I2 transitions through 'c' to F3.\n",
        "\n",
        "* F3 has no output transitions.\n",
        "\n",
        "* B transitions through 's' to B.\n",
        "\n",
        "* B transitions through 'd' to F4\n",
        "\n",
        "* B transitions through 'f' to F3.\n",
        "\n",
        "* F4 has no output transitions.\n",
        "\n",
        "* For each of the states, we added a transition to a black hole state for each element of $\\Sigma$ that did not already have a corresponding transition.\n",
        "\n",
        "* We transitioned the black hole state to itself through every element of $\\Sigma$.\n",
        "\n",
        "* We commented out every reference to the black hole state.\n"
      ]
    },
    {
      "cell_type": "code",
      "metadata": {
        "id": "CMDNIlBA1Fah"
      },
      "source": [
        "# DFA of nfa1\n",
        "\n",
        "dfa1 = md2mc('''DFA\n",
        "\n",
        "I1_I2_B : b | s -> B\n",
        "\n",
        "I1_I2_B : a -> _I2\n",
        "\n",
        "I1_I2_B : f | c -> F3\n",
        "\n",
        "I1_I2_B : d -> F4\n",
        "\n",
        "!!_I2 : a | f | d | s -> H\n",
        "\n",
        "_I2 : c -> F3\n",
        "\n",
        "_I2 : b -> B\n",
        "\n",
        "B : s -> B\n",
        "\n",
        "B : f -> F3\n",
        "\n",
        "B : d -> F4\n",
        "\n",
        "!!B : a | b | c -> H\n",
        "\n",
        "!!F3 : a | b | c | f | d | s -> H\n",
        "\n",
        "!!F4 : a | b | c | f | d | s -> H\n",
        "\n",
        "!!H : a | b | c | f | d | s -> H\n",
        "\n",
        "''')"
      ],
      "execution_count": null,
      "outputs": []
    },
    {
      "cell_type": "code",
      "metadata": {
        "id": "0RbZ4_-o1Fai",
        "colab": {
          "base_uri": "https://localhost:8080/",
          "height": 319
        },
        "outputId": "8e9f593a-8bca-4205-9017-77507e66d2c0"
      },
      "source": [
        "dotObj_dfa(dfa1, FuseEdges=False)"
      ],
      "execution_count": null,
      "outputs": [
        {
          "output_type": "execute_result",
          "data": {
            "text/plain": [
              "<graphviz.dot.Digraph at 0x7f71f35c0be0>"
            ],
            "image/svg+xml": "<?xml version=\"1.0\" encoding=\"UTF-8\" standalone=\"no\"?>\n<!DOCTYPE svg PUBLIC \"-//W3C//DTD SVG 1.1//EN\"\n \"http://www.w3.org/Graphics/SVG/1.1/DTD/svg11.dtd\">\n<!-- Generated by graphviz version 2.40.1 (20161225.0304)\n -->\n<!-- Title: %3 Pages: 1 -->\n<svg width=\"458pt\" height=\"224pt\"\n viewBox=\"0.00 0.00 457.88 224.08\" xmlns=\"http://www.w3.org/2000/svg\" xmlns:xlink=\"http://www.w3.org/1999/xlink\">\n<g id=\"graph0\" class=\"graph\" transform=\"scale(1 1) rotate(0) translate(4 220.0847)\">\n<title>%3</title>\n<polygon fill=\"#ffffff\" stroke=\"transparent\" points=\"-4,4 -4,-220.0847 453.8847,-220.0847 453.8847,4 -4,4\"/>\n<!-- EMPTY -->\n<g id=\"node1\" class=\"node\">\n<title>EMPTY</title>\n</g>\n<!-- I1_I2_B -->\n<g id=\"node2\" class=\"node\">\n<title>I1_I2_B</title>\n<ellipse fill=\"none\" stroke=\"#000000\" cx=\"133.2463\" cy=\"-107.2866\" rx=\"42.4939\" ry=\"42.4939\"/>\n<text text-anchor=\"middle\" x=\"133.2463\" y=\"-103.5866\" font-family=\"Times,serif\" font-size=\"14.00\" fill=\"#000000\">I1_I2_B</text>\n</g>\n<!-- EMPTY&#45;&gt;I1_I2_B -->\n<g id=\"edge1\" class=\"edge\">\n<title>EMPTY&#45;&gt;I1_I2_B</title>\n<path fill=\"none\" stroke=\"#000000\" d=\"M54.0853,-107.2866C62.3026,-107.2866 71.6242,-107.2866 80.9135,-107.2866\"/>\n<polygon fill=\"#000000\" stroke=\"#000000\" points=\"80.927,-110.7867 90.927,-107.2866 80.9269,-103.7867 80.927,-110.7867\"/>\n</g>\n<!-- _I2 -->\n<g id=\"node3\" class=\"node\">\n<title>_I2</title>\n<ellipse fill=\"none\" stroke=\"#000000\" cx=\"244.8904\" cy=\"-64.2866\" rx=\"23.2963\" ry=\"23.2963\"/>\n<text text-anchor=\"middle\" x=\"244.8904\" y=\"-60.5866\" font-family=\"Times,serif\" font-size=\"14.00\" fill=\"#000000\">_I2</text>\n</g>\n<!-- I1_I2_B&#45;&gt;_I2 -->\n<g id=\"edge4\" class=\"edge\">\n<title>I1_I2_B&#45;&gt;_I2</title>\n<path fill=\"none\" stroke=\"#000000\" d=\"M172.9222,-92.0053C186.176,-86.9006 200.7586,-81.2841 213.3113,-76.4494\"/>\n<polygon fill=\"#000000\" stroke=\"#000000\" points=\"214.8051,-79.6247 222.879,-72.7643 212.2892,-73.0924 214.8051,-79.6247\"/>\n<text text-anchor=\"middle\" x=\"198.4925\" y=\"-87.0866\" font-family=\"Times,serif\" font-size=\"14.00\" fill=\"#000000\">a </text>\n</g>\n<!-- B -->\n<g id=\"node4\" class=\"node\">\n<title>B</title>\n<ellipse fill=\"none\" stroke=\"#000000\" cx=\"334.2884\" cy=\"-123.2866\" rx=\"18\" ry=\"18\"/>\n<text text-anchor=\"middle\" x=\"334.2884\" y=\"-119.5866\" font-family=\"Times,serif\" font-size=\"14.00\" fill=\"#000000\">B</text>\n</g>\n<!-- I1_I2_B&#45;&gt;B -->\n<g id=\"edge2\" class=\"edge\">\n<title>I1_I2_B&#45;&gt;B</title>\n<path fill=\"none\" stroke=\"#000000\" d=\"M170.4685,-127.8713C177.9329,-131.4092 185.8379,-134.7554 193.4925,-137.2866 237.7134,-151.9095 253.3753,-149.6209 298.2884,-137.2866 301.5216,-136.3986 304.8652,-135.3235 308.1526,-134.1681\"/>\n<polygon fill=\"#000000\" stroke=\"#000000\" points=\"309.5626,-137.377 317.6801,-130.5684 307.0885,-130.8287 309.5626,-137.377\"/>\n<text text-anchor=\"middle\" x=\"244.8904\" y=\"-152.0866\" font-family=\"Times,serif\" font-size=\"14.00\" fill=\"#000000\">b </text>\n</g>\n<!-- I1_I2_B&#45;&gt;B -->\n<g id=\"edge3\" class=\"edge\">\n<title>I1_I2_B&#45;&gt;B</title>\n<path fill=\"none\" stroke=\"#000000\" d=\"M175.3913,-110.6407C214.6641,-113.7662 272.1297,-118.3397 306.1193,-121.0447\"/>\n<polygon fill=\"#000000\" stroke=\"#000000\" points=\"306.031,-124.5487 316.2772,-121.8532 306.5864,-117.5707 306.031,-124.5487\"/>\n<text text-anchor=\"middle\" x=\"244.8904\" y=\"-122.0866\" font-family=\"Times,serif\" font-size=\"14.00\" fill=\"#000000\">s </text>\n</g>\n<!-- F4 -->\n<g id=\"node5\" class=\"node\">\n<title>F4</title>\n<ellipse fill=\"none\" stroke=\"#000000\" cx=\"425.0865\" cy=\"-191.2866\" rx=\"20.6302\" ry=\"20.6302\"/>\n<ellipse fill=\"none\" stroke=\"#000000\" cx=\"425.0865\" cy=\"-191.2866\" rx=\"24.5979\" ry=\"24.5979\"/>\n<text text-anchor=\"middle\" x=\"425.0865\" y=\"-187.5866\" font-family=\"Times,serif\" font-size=\"14.00\" fill=\"#000000\">F4</text>\n</g>\n<!-- I1_I2_B&#45;&gt;F4 -->\n<g id=\"edge7\" class=\"edge\">\n<title>I1_I2_B&#45;&gt;F4</title>\n<path fill=\"none\" stroke=\"#000000\" d=\"M165.2256,-135.5113C181.0279,-147.6753 201.0622,-160.6197 221.4925,-167.2866 278.6079,-185.9246 348.9234,-190.4182 390.1968,-191.3171\"/>\n<polygon fill=\"#000000\" stroke=\"#000000\" points=\"390.2329,-194.818 400.2872,-191.4771 390.3439,-187.8189 390.2329,-194.818\"/>\n<text text-anchor=\"middle\" x=\"292.2884\" y=\"-187.0866\" font-family=\"Times,serif\" font-size=\"14.00\" fill=\"#000000\">d </text>\n</g>\n<!-- F3 -->\n<g id=\"node6\" class=\"node\">\n<title>F3</title>\n<ellipse fill=\"none\" stroke=\"#000000\" cx=\"425.0865\" cy=\"-36.2866\" rx=\"20.6302\" ry=\"20.6302\"/>\n<ellipse fill=\"none\" stroke=\"#000000\" cx=\"425.0865\" cy=\"-36.2866\" rx=\"24.5979\" ry=\"24.5979\"/>\n<text text-anchor=\"middle\" x=\"425.0865\" y=\"-32.5866\" font-family=\"Times,serif\" font-size=\"14.00\" fill=\"#000000\">F3</text>\n</g>\n<!-- I1_I2_B&#45;&gt;F3 -->\n<g id=\"edge5\" class=\"edge\">\n<title>I1_I2_B&#45;&gt;F3</title>\n<path fill=\"none\" stroke=\"#000000\" d=\"M160.772,-74.8895C176.6558,-58.7527 198.0913,-40.8875 221.4925,-32.2866 278.0846,-11.4866 349.6327,-20.1757 391.0928,-28.2942\"/>\n<polygon fill=\"#000000\" stroke=\"#000000\" points=\"390.4571,-31.7367 400.9578,-30.3277 391.8704,-24.8808 390.4571,-31.7367\"/>\n<text text-anchor=\"middle\" x=\"292.2884\" y=\"-24.0866\" font-family=\"Times,serif\" font-size=\"14.00\" fill=\"#000000\">f </text>\n</g>\n<!-- I1_I2_B&#45;&gt;F3 -->\n<g id=\"edge6\" class=\"edge\">\n<title>I1_I2_B&#45;&gt;F3</title>\n<path fill=\"none\" stroke=\"#000000\" d=\"M159.169,-73.5854C169.2417,-61.4942 181.2855,-48.1707 193.4925,-37.2866 226.511,-7.8463 242.4144,-6.9462 286.2884,-1.2866 323.7691,3.5484 365.6979,-9.7111 393.5646,-21.274\"/>\n<polygon fill=\"#000000\" stroke=\"#000000\" points=\"392.2362,-24.5127 402.8046,-25.2608 395.0094,-18.0855 392.2362,-24.5127\"/>\n<text text-anchor=\"middle\" x=\"292.2884\" y=\"-5.0866\" font-family=\"Times,serif\" font-size=\"14.00\" fill=\"#000000\">c </text>\n</g>\n<!-- _I2&#45;&gt;B -->\n<g id=\"edge9\" class=\"edge\">\n<title>_I2&#45;&gt;B</title>\n<path fill=\"none\" stroke=\"#000000\" d=\"M265.9101,-75.0479C275.9463,-80.4477 287.9853,-87.3133 298.2884,-94.2866 303.107,-97.5479 308.0837,-101.2879 312.7424,-104.9739\"/>\n<polygon fill=\"#000000\" stroke=\"#000000\" points=\"310.7166,-107.8378 320.6819,-111.4353 315.1351,-102.4085 310.7166,-107.8378\"/>\n<text text-anchor=\"middle\" x=\"292.2884\" y=\"-98.0866\" font-family=\"Times,serif\" font-size=\"14.00\" fill=\"#000000\">b </text>\n</g>\n<!-- _I2&#45;&gt;F3 -->\n<g id=\"edge8\" class=\"edge\">\n<title>_I2&#45;&gt;F3</title>\n<path fill=\"none\" stroke=\"#000000\" d=\"M268.079,-60.6834C299.1378,-55.8573 354.4989,-47.2549 390.4947,-41.6617\"/>\n<polygon fill=\"#000000\" stroke=\"#000000\" points=\"391.2023,-45.0938 400.5463,-40.0998 390.1274,-38.1768 391.2023,-45.0938\"/>\n<text text-anchor=\"middle\" x=\"334.2884\" y=\"-57.0866\" font-family=\"Times,serif\" font-size=\"14.00\" fill=\"#000000\">c </text>\n</g>\n<!-- B&#45;&gt;B -->\n<g id=\"edge10\" class=\"edge\">\n<title>B&#45;&gt;B</title>\n<path fill=\"none\" stroke=\"#000000\" d=\"M327.2571,-139.9506C325.6946,-149.9116 328.0384,-159.2866 334.2884,-159.2866 338.2923,-159.2866 340.693,-155.4391 341.4907,-150.0548\"/>\n<polygon fill=\"#000000\" stroke=\"#000000\" points=\"344.9885,-149.8899 341.3196,-139.9506 337.9895,-150.0085 344.9885,-149.8899\"/>\n<text text-anchor=\"middle\" x=\"334.2884\" y=\"-163.0866\" font-family=\"Times,serif\" font-size=\"14.00\" fill=\"#000000\">s </text>\n</g>\n<!-- B&#45;&gt;F4 -->\n<g id=\"edge12\" class=\"edge\">\n<title>B&#45;&gt;F4</title>\n<path fill=\"none\" stroke=\"#000000\" d=\"M348.8766,-134.212C361.735,-143.8417 380.8368,-158.1474 396.6993,-170.027\"/>\n<polygon fill=\"#000000\" stroke=\"#000000\" points=\"395.0161,-173.1391 405.1183,-176.3321 399.2122,-167.5362 395.0161,-173.1391\"/>\n<text text-anchor=\"middle\" x=\"376.2884\" y=\"-161.0866\" font-family=\"Times,serif\" font-size=\"14.00\" fill=\"#000000\">d </text>\n</g>\n<!-- B&#45;&gt;F3 -->\n<g id=\"edge11\" class=\"edge\">\n<title>B&#45;&gt;F3</title>\n<path fill=\"none\" stroke=\"#000000\" d=\"M347.2975,-110.8216C360.905,-97.7833 382.6132,-76.9832 399.6437,-60.6651\"/>\n<polygon fill=\"#000000\" stroke=\"#000000\" points=\"402.2944,-62.9726 407.0935,-53.527 397.4515,-57.9182 402.2944,-62.9726\"/>\n<text text-anchor=\"middle\" x=\"376.2884\" y=\"-92.0866\" font-family=\"Times,serif\" font-size=\"14.00\" fill=\"#000000\">f </text>\n</g>\n</g>\n</svg>\n"
          },
          "metadata": {
            "tags": []
          },
          "execution_count": 5
        }
      ]
    },
    {
      "cell_type": "code",
      "metadata": {
        "colab": {
          "base_uri": "https://localhost:8080/",
          "height": 201
        },
        "id": "IR4LTW0BF31L",
        "outputId": "6defbcc4-e5e3-47b2-c1a2-3f70aecb1a55"
      },
      "source": [
        "dotObj_nfa(nfa1)"
      ],
      "execution_count": null,
      "outputs": [
        {
          "output_type": "execute_result",
          "data": {
            "text/plain": [
              "<graphviz.dot.Digraph at 0x7f71f35e6860>"
            ],
            "image/svg+xml": "<?xml version=\"1.0\" encoding=\"UTF-8\" standalone=\"no\"?>\n<!DOCTYPE svg PUBLIC \"-//W3C//DTD SVG 1.1//EN\"\n \"http://www.w3.org/Graphics/SVG/1.1/DTD/svg11.dtd\">\n<!-- Generated by graphviz version 2.40.1 (20161225.0304)\n -->\n<!-- Title: %3 Pages: 1 -->\n<svg width=\"402pt\" height=\"136pt\"\n viewBox=\"0.00 0.00 401.99 135.60\" xmlns=\"http://www.w3.org/2000/svg\" xmlns:xlink=\"http://www.w3.org/1999/xlink\">\n<g id=\"graph0\" class=\"graph\" transform=\"scale(1 1) rotate(0) translate(4 131.5963)\">\n<title>%3</title>\n<polygon fill=\"#ffffff\" stroke=\"transparent\" points=\"-4,4 -4,-131.5963 397.9896,-131.5963 397.9896,4 -4,4\"/>\n<!-- EMPTY -->\n<g id=\"node1\" class=\"node\">\n<title>EMPTY</title>\n</g>\n<!-- I2 -->\n<g id=\"node3\" class=\"node\">\n<title>I2</title>\n<ellipse fill=\"none\" stroke=\"#000000\" cx=\"193.545\" cy=\"-81.7982\" rx=\"18.6979\" ry=\"18.6979\"/>\n<text text-anchor=\"middle\" x=\"193.545\" y=\"-78.0982\" font-family=\"Times,serif\" font-size=\"14.00\" fill=\"#000000\">I2</text>\n</g>\n<!-- EMPTY&#45;&gt;I2 -->\n<g id=\"edge1\" class=\"edge\">\n<title>EMPTY&#45;&gt;I2</title>\n<path fill=\"none\" stroke=\"#000000\" d=\"M54.129,-66.7302C84.4711,-70.0096 133.4281,-75.3008 164.5205,-78.6612\"/>\n<polygon fill=\"#000000\" stroke=\"#000000\" points=\"164.3952,-82.168 174.7135,-79.7629 165.1475,-75.2085 164.3952,-82.168\"/>\n</g>\n<!-- I1 -->\n<g id=\"node4\" class=\"node\">\n<title>I1</title>\n<ellipse fill=\"none\" stroke=\"#000000\" cx=\"109.8483\" cy=\"-40.7982\" rx=\"18.6979\" ry=\"18.6979\"/>\n<text text-anchor=\"middle\" x=\"109.8483\" y=\"-37.0982\" font-family=\"Times,serif\" font-size=\"14.00\" fill=\"#000000\">I1</text>\n</g>\n<!-- EMPTY&#45;&gt;I1 -->\n<g id=\"edge2\" class=\"edge\">\n<title>EMPTY&#45;&gt;I1</title>\n<path fill=\"none\" stroke=\"#000000\" d=\"M54.1276,-56.2671C62.9466,-53.8188 72.7508,-51.097 81.6463,-48.6275\"/>\n<polygon fill=\"#000000\" stroke=\"#000000\" points=\"82.8586,-51.9234 91.5579,-45.8759 80.9861,-45.1785 82.8586,-51.9234\"/>\n</g>\n<!-- B -->\n<g id=\"node2\" class=\"node\">\n<title>B</title>\n<ellipse fill=\"none\" stroke=\"#000000\" cx=\"278.3933\" cy=\"-24.7982\" rx=\"18\" ry=\"18\"/>\n<text text-anchor=\"middle\" x=\"278.3933\" y=\"-21.0982\" font-family=\"Times,serif\" font-size=\"14.00\" fill=\"#000000\">B</text>\n</g>\n<!-- B&#45;&gt;B -->\n<g id=\"edge7\" class=\"edge\">\n<title>B&#45;&gt;B</title>\n<path fill=\"none\" stroke=\"#000000\" d=\"M271.3621,-41.4622C269.7996,-51.4232 272.1433,-60.7982 278.3933,-60.7982 282.3972,-60.7982 284.798,-56.9507 285.5956,-51.5664\"/>\n<polygon fill=\"#000000\" stroke=\"#000000\" points=\"289.0935,-51.4015 285.4246,-41.4622 282.0945,-51.5201 289.0935,-51.4015\"/>\n<text text-anchor=\"middle\" x=\"278.3933\" y=\"-64.5982\" font-family=\"Times,serif\" font-size=\"14.00\" fill=\"#000000\">s </text>\n</g>\n<!-- F4 -->\n<g id=\"node5\" class=\"node\">\n<title>F4</title>\n<ellipse fill=\"none\" stroke=\"#000000\" cx=\"369.1915\" cy=\"-24.7982\" rx=\"20.6302\" ry=\"20.6302\"/>\n<ellipse fill=\"none\" stroke=\"#000000\" cx=\"369.1915\" cy=\"-24.7982\" rx=\"24.5979\" ry=\"24.5979\"/>\n<text text-anchor=\"middle\" x=\"369.1915\" y=\"-21.0982\" font-family=\"Times,serif\" font-size=\"14.00\" fill=\"#000000\">F4</text>\n</g>\n<!-- B&#45;&gt;F4 -->\n<g id=\"edge8\" class=\"edge\">\n<title>B&#45;&gt;F4</title>\n<path fill=\"none\" stroke=\"#000000\" d=\"M296.7677,-24.7982C307.4554,-24.7982 321.2849,-24.7982 333.9906,-24.7982\"/>\n<polygon fill=\"#000000\" stroke=\"#000000\" points=\"334.3055,-28.2983 344.3054,-24.7982 334.3054,-21.2983 334.3055,-28.2983\"/>\n<text text-anchor=\"middle\" x=\"320.3933\" y=\"-28.5982\" font-family=\"Times,serif\" font-size=\"14.00\" fill=\"#000000\">d </text>\n</g>\n<!-- F3 -->\n<g id=\"node6\" class=\"node\">\n<title>F3</title>\n<ellipse fill=\"none\" stroke=\"#000000\" cx=\"369.1915\" cy=\"-102.7982\" rx=\"20.6302\" ry=\"20.6302\"/>\n<ellipse fill=\"none\" stroke=\"#000000\" cx=\"369.1915\" cy=\"-102.7982\" rx=\"24.5979\" ry=\"24.5979\"/>\n<text text-anchor=\"middle\" x=\"369.1915\" y=\"-99.0982\" font-family=\"Times,serif\" font-size=\"14.00\" fill=\"#000000\">F3</text>\n</g>\n<!-- B&#45;&gt;F3 -->\n<g id=\"edge9\" class=\"edge\">\n<title>B&#45;&gt;F3</title>\n<path fill=\"none\" stroke=\"#000000\" d=\"M292.1836,-36.6447C305.4854,-48.0715 325.9742,-65.6724 342.4747,-79.8471\"/>\n<polygon fill=\"#000000\" stroke=\"#000000\" points=\"340.3394,-82.627 350.2056,-86.4884 344.9008,-77.3172 340.3394,-82.627\"/>\n<text text-anchor=\"middle\" x=\"320.3933\" y=\"-67.5982\" font-family=\"Times,serif\" font-size=\"14.00\" fill=\"#000000\">f </text>\n</g>\n<!-- I2&#45;&gt;B -->\n<g id=\"edge6\" class=\"edge\">\n<title>I2&#45;&gt;B</title>\n<path fill=\"none\" stroke=\"#000000\" d=\"M209.5043,-71.0769C222.3051,-62.4775 240.4581,-50.2825 254.9162,-40.5698\"/>\n<polygon fill=\"#000000\" stroke=\"#000000\" points=\"257.0109,-43.379 263.36,-34.8973 253.1074,-37.5685 257.0109,-43.379\"/>\n<text text-anchor=\"middle\" x=\"236.3933\" y=\"-60.5982\" font-family=\"Times,serif\" font-size=\"14.00\" fill=\"#000000\">b </text>\n</g>\n<!-- I2&#45;&gt;F3 -->\n<g id=\"edge5\" class=\"edge\">\n<title>I2&#45;&gt;F3</title>\n<path fill=\"none\" stroke=\"#000000\" d=\"M212.3422,-84.0455C241.3398,-87.5124 297.4593,-94.222 334.1115,-98.6041\"/>\n<polygon fill=\"#000000\" stroke=\"#000000\" points=\"334.0069,-102.1164 344.3517,-99.8284 334.8379,-95.1659 334.0069,-102.1164\"/>\n<text text-anchor=\"middle\" x=\"278.3933\" y=\"-97.5982\" font-family=\"Times,serif\" font-size=\"14.00\" fill=\"#000000\">c </text>\n</g>\n<!-- I1&#45;&gt;B -->\n<g id=\"edge3\" class=\"edge\">\n<title>I1&#45;&gt;B</title>\n<path fill=\"none\" stroke=\"#000000\" d=\"M128.855,-38.9939C158.3749,-36.1915 215.4247,-30.7758 249.8904,-27.5039\"/>\n<polygon fill=\"#000000\" stroke=\"#000000\" points=\"250.599,-30.9525 260.2235,-26.523 249.9374,-23.9838 250.599,-30.9525\"/>\n<text text-anchor=\"middle\" x=\"193.545\" y=\"-38.5982\" font-family=\"Times,serif\" font-size=\"14.00\" fill=\"#000000\">&#39;&#39; </text>\n</g>\n<!-- I1&#45;&gt;I2 -->\n<g id=\"edge4\" class=\"edge\">\n<title>I1&#45;&gt;I2</title>\n<path fill=\"none\" stroke=\"#000000\" d=\"M127.9903,-46.8522C136.8226,-50.0288 147.495,-54.2115 156.6967,-58.7982 160.8326,-60.8598 165.1,-63.2524 169.1988,-65.6993\"/>\n<polygon fill=\"#000000\" stroke=\"#000000\" points=\"167.4451,-68.7302 177.7862,-71.0355 171.1397,-62.7846 167.4451,-68.7302\"/>\n<text text-anchor=\"middle\" x=\"151.6967\" y=\"-62.5982\" font-family=\"Times,serif\" font-size=\"14.00\" fill=\"#000000\">a </text>\n</g>\n</g>\n</svg>\n"
          },
          "metadata": {
            "tags": []
          },
          "execution_count": 6
        }
      ]
    },
    {
      "cell_type": "markdown",
      "metadata": {
        "id": "p0RgegJo1Fai"
      },
      "source": [
        "## 1.2: Reverse nfa1 by hand and name the states in this manner:\n",
        "\n",
        "1) Change F3 to I3\n",
        "\n",
        "2) Change F4 to I4\n",
        "\n",
        "3) Change I1 and I2 to F1 and F2\n",
        "\n",
        "4) Now, reverse the transitions of nfa1, obtaining \"rnfa1\" below\n",
        " "
      ]
    },
    {
      "cell_type": "code",
      "metadata": {
        "id": "qhRWvd9b1Fai"
      },
      "source": [
        "# There is no Jove function to reverse automatically - do it by hand!\n",
        "rnfa1 = md2mc('''\n",
        "NFA\n",
        "\n",
        "\n",
        "I3 : f -> B\n",
        "I3 : c -> F2\n",
        "\n",
        "I4 : d -> B\n",
        "\n",
        "B : b  -> F2\n",
        "B : '' -> F1\n",
        "B : s  -> B\n",
        "\n",
        "F2 : a -> F1\n",
        "\n",
        "\n",
        "''')"
      ],
      "execution_count": null,
      "outputs": []
    },
    {
      "cell_type": "code",
      "metadata": {
        "id": "8UbDrNhh1Faj",
        "colab": {
          "base_uri": "https://localhost:8080/",
          "height": 167
        },
        "outputId": "42ebe13e-d487-4963-986e-5a2b175f5cc3"
      },
      "source": [
        "dotObj_nfa(rnfa1)"
      ],
      "execution_count": null,
      "outputs": [
        {
          "output_type": "execute_result",
          "data": {
            "text/plain": [
              "<graphviz.dot.Digraph at 0x7f71f22f75f8>"
            ],
            "image/svg+xml": "<?xml version=\"1.0\" encoding=\"UTF-8\" standalone=\"no\"?>\n<!DOCTYPE svg PUBLIC \"-//W3C//DTD SVG 1.1//EN\"\n \"http://www.w3.org/Graphics/SVG/1.1/DTD/svg11.dtd\">\n<!-- Generated by graphviz version 2.40.1 (20161225.0304)\n -->\n<!-- Title: %3 Pages: 1 -->\n<svg width=\"414pt\" height=\"110pt\"\n viewBox=\"0.00 0.00 413.89 109.65\" xmlns=\"http://www.w3.org/2000/svg\" xmlns:xlink=\"http://www.w3.org/1999/xlink\">\n<g id=\"graph0\" class=\"graph\" transform=\"scale(1 1) rotate(0) translate(4 105.6465)\">\n<title>%3</title>\n<polygon fill=\"#ffffff\" stroke=\"transparent\" points=\"-4,4 -4,-105.6465 409.8893,-105.6465 409.8893,4 -4,4\"/>\n<!-- EMPTY -->\n<g id=\"node1\" class=\"node\">\n<title>EMPTY</title>\n</g>\n<!-- I3 -->\n<g id=\"node2\" class=\"node\">\n<title>I3</title>\n<ellipse fill=\"none\" stroke=\"#000000\" cx=\"109.8483\" cy=\"-74.8483\" rx=\"18.6979\" ry=\"18.6979\"/>\n<text text-anchor=\"middle\" x=\"109.8483\" y=\"-71.1483\" font-family=\"Times,serif\" font-size=\"14.00\" fill=\"#000000\">I3</text>\n</g>\n<!-- EMPTY&#45;&gt;I3 -->\n<g id=\"edge1\" class=\"edge\">\n<title>EMPTY&#45;&gt;I3</title>\n<path fill=\"none\" stroke=\"#000000\" d=\"M54.1276,-55.344C63.111,-58.4885 73.1168,-61.9909 82.143,-65.1504\"/>\n<polygon fill=\"#000000\" stroke=\"#000000\" points=\"81.216,-68.5341 91.8108,-68.5345 83.5287,-61.9272 81.216,-68.5341\"/>\n</g>\n<!-- I4 -->\n<g id=\"node4\" class=\"node\">\n<title>I4</title>\n<ellipse fill=\"none\" stroke=\"#000000\" cx=\"109.8483\" cy=\"-18.8483\" rx=\"18.6979\" ry=\"18.6979\"/>\n<text text-anchor=\"middle\" x=\"109.8483\" y=\"-15.1483\" font-family=\"Times,serif\" font-size=\"14.00\" fill=\"#000000\">I4</text>\n</g>\n<!-- EMPTY&#45;&gt;I4 -->\n<g id=\"edge2\" class=\"edge\">\n<title>EMPTY&#45;&gt;I4</title>\n<path fill=\"none\" stroke=\"#000000\" d=\"M54.1276,-37.0075C63.111,-34.0799 73.1168,-30.819 82.143,-27.8774\"/>\n<polygon fill=\"#000000\" stroke=\"#000000\" points=\"83.3875,-31.1531 91.8108,-24.7267 81.2185,-24.4976 83.3875,-31.1531\"/>\n</g>\n<!-- B -->\n<g id=\"node3\" class=\"node\">\n<title>B</title>\n<ellipse fill=\"none\" stroke=\"#000000\" cx=\"194.6967\" cy=\"-18.8483\" rx=\"18\" ry=\"18\"/>\n<text text-anchor=\"middle\" x=\"194.6967\" y=\"-15.1483\" font-family=\"Times,serif\" font-size=\"14.00\" fill=\"#000000\">B</text>\n</g>\n<!-- I3&#45;&gt;B -->\n<g id=\"edge3\" class=\"edge\">\n<title>I3&#45;&gt;B</title>\n<path fill=\"none\" stroke=\"#000000\" d=\"M125.8076,-64.3152C138.6084,-55.8666 156.7615,-43.8856 171.2196,-34.3432\"/>\n<polygon fill=\"#000000\" stroke=\"#000000\" points=\"173.2452,-37.1999 179.6634,-28.7703 169.3893,-31.3576 173.2452,-37.1999\"/>\n<text text-anchor=\"middle\" x=\"152.6967\" y=\"-54.6483\" font-family=\"Times,serif\" font-size=\"14.00\" fill=\"#000000\">f </text>\n</g>\n<!-- F2 -->\n<g id=\"node5\" class=\"node\">\n<title>F2</title>\n<ellipse fill=\"none\" stroke=\"#000000\" cx=\"285.4948\" cy=\"-76.8483\" rx=\"20.6302\" ry=\"20.6302\"/>\n<ellipse fill=\"none\" stroke=\"#000000\" cx=\"285.4948\" cy=\"-76.8483\" rx=\"24.5979\" ry=\"24.5979\"/>\n<text text-anchor=\"middle\" x=\"285.4948\" y=\"-73.1483\" font-family=\"Times,serif\" font-size=\"14.00\" fill=\"#000000\">F2</text>\n</g>\n<!-- I3&#45;&gt;F2 -->\n<g id=\"edge4\" class=\"edge\">\n<title>I3&#45;&gt;F2</title>\n<path fill=\"none\" stroke=\"#000000\" d=\"M128.8522,-76.2886C142.2235,-77.2277 160.5432,-78.3655 176.6967,-78.8483 201.2509,-79.5823 228.9309,-79.0547 250.2263,-78.3577\"/>\n<polygon fill=\"#000000\" stroke=\"#000000\" points=\"250.558,-81.8482 260.4274,-77.9952 250.3093,-74.8526 250.558,-81.8482\"/>\n<text text-anchor=\"middle\" x=\"194.6967\" y=\"-83.6483\" font-family=\"Times,serif\" font-size=\"14.00\" fill=\"#000000\">c </text>\n</g>\n<!-- B&#45;&gt;B -->\n<g id=\"edge8\" class=\"edge\">\n<title>B&#45;&gt;B</title>\n<path fill=\"none\" stroke=\"#000000\" d=\"M187.3138,-35.5124C185.6732,-45.4733 188.1342,-54.8483 194.6967,-54.8483 198.9008,-54.8483 201.4216,-51.0008 202.2591,-45.6166\"/>\n<polygon fill=\"#000000\" stroke=\"#000000\" points=\"205.7568,-45.4486 202.0795,-35.5124 198.7579,-45.5731 205.7568,-45.4486\"/>\n<text text-anchor=\"middle\" x=\"194.6967\" y=\"-58.6483\" font-family=\"Times,serif\" font-size=\"14.00\" fill=\"#000000\">s </text>\n</g>\n<!-- B&#45;&gt;F2 -->\n<g id=\"edge6\" class=\"edge\">\n<title>B&#45;&gt;F2</title>\n<path fill=\"none\" stroke=\"#000000\" d=\"M210.0993,-28.6872C222.6187,-36.6843 240.6465,-48.2001 255.9346,-57.9658\"/>\n<polygon fill=\"#000000\" stroke=\"#000000\" points=\"254.2455,-61.04 264.557,-63.4737 258.0138,-55.1408 254.2455,-61.04\"/>\n<text text-anchor=\"middle\" x=\"236.6967\" y=\"-51.6483\" font-family=\"Times,serif\" font-size=\"14.00\" fill=\"#000000\">b </text>\n</g>\n<!-- F1 -->\n<g id=\"node6\" class=\"node\">\n<title>F1</title>\n<ellipse fill=\"none\" stroke=\"#000000\" cx=\"381.0911\" cy=\"-34.8483\" rx=\"20.6302\" ry=\"20.6302\"/>\n<ellipse fill=\"none\" stroke=\"#000000\" cx=\"381.0911\" cy=\"-34.8483\" rx=\"24.5979\" ry=\"24.5979\"/>\n<text text-anchor=\"middle\" x=\"381.0911\" y=\"-31.1483\" font-family=\"Times,serif\" font-size=\"14.00\" fill=\"#000000\">F1</text>\n</g>\n<!-- B&#45;&gt;F1 -->\n<g id=\"edge7\" class=\"edge\">\n<title>B&#45;&gt;F1</title>\n<path fill=\"none\" stroke=\"#000000\" d=\"M212.7268,-20.1352C235.4779,-21.7858 275.8045,-24.8011 310.293,-27.8483 321.9735,-28.8804 334.7274,-30.1096 346.1521,-31.2479\"/>\n<polygon fill=\"#000000\" stroke=\"#000000\" points=\"345.9014,-34.7403 356.2017,-32.2595 346.6025,-27.7755 345.9014,-34.7403\"/>\n<text text-anchor=\"middle\" x=\"285.4948\" y=\"-31.6483\" font-family=\"Times,serif\" font-size=\"14.00\" fill=\"#000000\">&#39;&#39; </text>\n</g>\n<!-- I4&#45;&gt;B -->\n<g id=\"edge5\" class=\"edge\">\n<title>I4&#45;&gt;B</title>\n<path fill=\"none\" stroke=\"#000000\" d=\"M129.1017,-18.8483C140.1442,-18.8483 154.2078,-18.8483 166.4787,-18.8483\"/>\n<polygon fill=\"#000000\" stroke=\"#000000\" points=\"166.6798,-22.3484 176.6798,-18.8483 166.6798,-15.3484 166.6798,-22.3484\"/>\n<text text-anchor=\"middle\" x=\"152.6967\" y=\"-22.6483\" font-family=\"Times,serif\" font-size=\"14.00\" fill=\"#000000\">d </text>\n</g>\n<!-- F2&#45;&gt;F1 -->\n<g id=\"edge9\" class=\"edge\">\n<title>F2&#45;&gt;F1</title>\n<path fill=\"none\" stroke=\"#000000\" d=\"M308.636,-66.6813C320.7306,-61.3676 335.7255,-54.7796 348.9309,-48.9779\"/>\n<polygon fill=\"#000000\" stroke=\"#000000\" points=\"350.4155,-52.1485 358.163,-44.9217 347.5998,-45.7398 350.4155,-52.1485\"/>\n<text text-anchor=\"middle\" x=\"333.293\" y=\"-61.6483\" font-family=\"Times,serif\" font-size=\"14.00\" fill=\"#000000\">a </text>\n</g>\n</g>\n</svg>\n"
          },
          "metadata": {
            "tags": []
          },
          "execution_count": 8
        }
      ]
    },
    {
      "cell_type": "code",
      "metadata": {
        "id": "lNvtz_C51Faj",
        "colab": {
          "base_uri": "https://localhost:8080/",
          "height": 201
        },
        "outputId": "3d903072-d2ca-426f-9fc5-9aa633dd9385"
      },
      "source": [
        "dotObj_nfa(nfa1)"
      ],
      "execution_count": null,
      "outputs": [
        {
          "output_type": "execute_result",
          "data": {
            "text/plain": [
              "<graphviz.dot.Digraph at 0x7f71f22f7780>"
            ],
            "image/svg+xml": "<?xml version=\"1.0\" encoding=\"UTF-8\" standalone=\"no\"?>\n<!DOCTYPE svg PUBLIC \"-//W3C//DTD SVG 1.1//EN\"\n \"http://www.w3.org/Graphics/SVG/1.1/DTD/svg11.dtd\">\n<!-- Generated by graphviz version 2.40.1 (20161225.0304)\n -->\n<!-- Title: %3 Pages: 1 -->\n<svg width=\"402pt\" height=\"136pt\"\n viewBox=\"0.00 0.00 401.99 135.60\" xmlns=\"http://www.w3.org/2000/svg\" xmlns:xlink=\"http://www.w3.org/1999/xlink\">\n<g id=\"graph0\" class=\"graph\" transform=\"scale(1 1) rotate(0) translate(4 131.5963)\">\n<title>%3</title>\n<polygon fill=\"#ffffff\" stroke=\"transparent\" points=\"-4,4 -4,-131.5963 397.9896,-131.5963 397.9896,4 -4,4\"/>\n<!-- EMPTY -->\n<g id=\"node1\" class=\"node\">\n<title>EMPTY</title>\n</g>\n<!-- I2 -->\n<g id=\"node3\" class=\"node\">\n<title>I2</title>\n<ellipse fill=\"none\" stroke=\"#000000\" cx=\"193.545\" cy=\"-81.7982\" rx=\"18.6979\" ry=\"18.6979\"/>\n<text text-anchor=\"middle\" x=\"193.545\" y=\"-78.0982\" font-family=\"Times,serif\" font-size=\"14.00\" fill=\"#000000\">I2</text>\n</g>\n<!-- EMPTY&#45;&gt;I2 -->\n<g id=\"edge1\" class=\"edge\">\n<title>EMPTY&#45;&gt;I2</title>\n<path fill=\"none\" stroke=\"#000000\" d=\"M54.129,-66.7302C84.4711,-70.0096 133.4281,-75.3008 164.5205,-78.6612\"/>\n<polygon fill=\"#000000\" stroke=\"#000000\" points=\"164.3952,-82.168 174.7135,-79.7629 165.1475,-75.2085 164.3952,-82.168\"/>\n</g>\n<!-- I1 -->\n<g id=\"node4\" class=\"node\">\n<title>I1</title>\n<ellipse fill=\"none\" stroke=\"#000000\" cx=\"109.8483\" cy=\"-40.7982\" rx=\"18.6979\" ry=\"18.6979\"/>\n<text text-anchor=\"middle\" x=\"109.8483\" y=\"-37.0982\" font-family=\"Times,serif\" font-size=\"14.00\" fill=\"#000000\">I1</text>\n</g>\n<!-- EMPTY&#45;&gt;I1 -->\n<g id=\"edge2\" class=\"edge\">\n<title>EMPTY&#45;&gt;I1</title>\n<path fill=\"none\" stroke=\"#000000\" d=\"M54.1276,-56.2671C62.9466,-53.8188 72.7508,-51.097 81.6463,-48.6275\"/>\n<polygon fill=\"#000000\" stroke=\"#000000\" points=\"82.8586,-51.9234 91.5579,-45.8759 80.9861,-45.1785 82.8586,-51.9234\"/>\n</g>\n<!-- B -->\n<g id=\"node2\" class=\"node\">\n<title>B</title>\n<ellipse fill=\"none\" stroke=\"#000000\" cx=\"278.3933\" cy=\"-24.7982\" rx=\"18\" ry=\"18\"/>\n<text text-anchor=\"middle\" x=\"278.3933\" y=\"-21.0982\" font-family=\"Times,serif\" font-size=\"14.00\" fill=\"#000000\">B</text>\n</g>\n<!-- B&#45;&gt;B -->\n<g id=\"edge7\" class=\"edge\">\n<title>B&#45;&gt;B</title>\n<path fill=\"none\" stroke=\"#000000\" d=\"M271.3621,-41.4622C269.7996,-51.4232 272.1433,-60.7982 278.3933,-60.7982 282.3972,-60.7982 284.798,-56.9507 285.5956,-51.5664\"/>\n<polygon fill=\"#000000\" stroke=\"#000000\" points=\"289.0935,-51.4015 285.4246,-41.4622 282.0945,-51.5201 289.0935,-51.4015\"/>\n<text text-anchor=\"middle\" x=\"278.3933\" y=\"-64.5982\" font-family=\"Times,serif\" font-size=\"14.00\" fill=\"#000000\">s </text>\n</g>\n<!-- F4 -->\n<g id=\"node5\" class=\"node\">\n<title>F4</title>\n<ellipse fill=\"none\" stroke=\"#000000\" cx=\"369.1915\" cy=\"-24.7982\" rx=\"20.6302\" ry=\"20.6302\"/>\n<ellipse fill=\"none\" stroke=\"#000000\" cx=\"369.1915\" cy=\"-24.7982\" rx=\"24.5979\" ry=\"24.5979\"/>\n<text text-anchor=\"middle\" x=\"369.1915\" y=\"-21.0982\" font-family=\"Times,serif\" font-size=\"14.00\" fill=\"#000000\">F4</text>\n</g>\n<!-- B&#45;&gt;F4 -->\n<g id=\"edge8\" class=\"edge\">\n<title>B&#45;&gt;F4</title>\n<path fill=\"none\" stroke=\"#000000\" d=\"M296.7677,-24.7982C307.4554,-24.7982 321.2849,-24.7982 333.9906,-24.7982\"/>\n<polygon fill=\"#000000\" stroke=\"#000000\" points=\"334.3055,-28.2983 344.3054,-24.7982 334.3054,-21.2983 334.3055,-28.2983\"/>\n<text text-anchor=\"middle\" x=\"320.3933\" y=\"-28.5982\" font-family=\"Times,serif\" font-size=\"14.00\" fill=\"#000000\">d </text>\n</g>\n<!-- F3 -->\n<g id=\"node6\" class=\"node\">\n<title>F3</title>\n<ellipse fill=\"none\" stroke=\"#000000\" cx=\"369.1915\" cy=\"-102.7982\" rx=\"20.6302\" ry=\"20.6302\"/>\n<ellipse fill=\"none\" stroke=\"#000000\" cx=\"369.1915\" cy=\"-102.7982\" rx=\"24.5979\" ry=\"24.5979\"/>\n<text text-anchor=\"middle\" x=\"369.1915\" y=\"-99.0982\" font-family=\"Times,serif\" font-size=\"14.00\" fill=\"#000000\">F3</text>\n</g>\n<!-- B&#45;&gt;F3 -->\n<g id=\"edge9\" class=\"edge\">\n<title>B&#45;&gt;F3</title>\n<path fill=\"none\" stroke=\"#000000\" d=\"M292.1836,-36.6447C305.4854,-48.0715 325.9742,-65.6724 342.4747,-79.8471\"/>\n<polygon fill=\"#000000\" stroke=\"#000000\" points=\"340.3394,-82.627 350.2056,-86.4884 344.9008,-77.3172 340.3394,-82.627\"/>\n<text text-anchor=\"middle\" x=\"320.3933\" y=\"-67.5982\" font-family=\"Times,serif\" font-size=\"14.00\" fill=\"#000000\">f </text>\n</g>\n<!-- I2&#45;&gt;B -->\n<g id=\"edge6\" class=\"edge\">\n<title>I2&#45;&gt;B</title>\n<path fill=\"none\" stroke=\"#000000\" d=\"M209.5043,-71.0769C222.3051,-62.4775 240.4581,-50.2825 254.9162,-40.5698\"/>\n<polygon fill=\"#000000\" stroke=\"#000000\" points=\"257.0109,-43.379 263.36,-34.8973 253.1074,-37.5685 257.0109,-43.379\"/>\n<text text-anchor=\"middle\" x=\"236.3933\" y=\"-60.5982\" font-family=\"Times,serif\" font-size=\"14.00\" fill=\"#000000\">b </text>\n</g>\n<!-- I2&#45;&gt;F3 -->\n<g id=\"edge5\" class=\"edge\">\n<title>I2&#45;&gt;F3</title>\n<path fill=\"none\" stroke=\"#000000\" d=\"M212.3422,-84.0455C241.3398,-87.5124 297.4593,-94.222 334.1115,-98.6041\"/>\n<polygon fill=\"#000000\" stroke=\"#000000\" points=\"334.0069,-102.1164 344.3517,-99.8284 334.8379,-95.1659 334.0069,-102.1164\"/>\n<text text-anchor=\"middle\" x=\"278.3933\" y=\"-97.5982\" font-family=\"Times,serif\" font-size=\"14.00\" fill=\"#000000\">c </text>\n</g>\n<!-- I1&#45;&gt;B -->\n<g id=\"edge3\" class=\"edge\">\n<title>I1&#45;&gt;B</title>\n<path fill=\"none\" stroke=\"#000000\" d=\"M128.855,-38.9939C158.3749,-36.1915 215.4247,-30.7758 249.8904,-27.5039\"/>\n<polygon fill=\"#000000\" stroke=\"#000000\" points=\"250.599,-30.9525 260.2235,-26.523 249.9374,-23.9838 250.599,-30.9525\"/>\n<text text-anchor=\"middle\" x=\"193.545\" y=\"-38.5982\" font-family=\"Times,serif\" font-size=\"14.00\" fill=\"#000000\">&#39;&#39; </text>\n</g>\n<!-- I1&#45;&gt;I2 -->\n<g id=\"edge4\" class=\"edge\">\n<title>I1&#45;&gt;I2</title>\n<path fill=\"none\" stroke=\"#000000\" d=\"M127.9903,-46.8522C136.8226,-50.0288 147.495,-54.2115 156.6967,-58.7982 160.8326,-60.8598 165.1,-63.2524 169.1988,-65.6993\"/>\n<polygon fill=\"#000000\" stroke=\"#000000\" points=\"167.4451,-68.7302 177.7862,-71.0355 171.1397,-62.7846 167.4451,-68.7302\"/>\n<text text-anchor=\"middle\" x=\"151.6967\" y=\"-62.5982\" font-family=\"Times,serif\" font-size=\"14.00\" fill=\"#000000\">a </text>\n</g>\n</g>\n</svg>\n"
          },
          "metadata": {
            "tags": []
          },
          "execution_count": 9
        }
      ]
    },
    {
      "cell_type": "markdown",
      "metadata": {
        "id": "h3BNQFbW1Fak"
      },
      "source": [
        "## 1.3: Inspect and conclude that rnfa1 is truly the reverse of nfa1\n",
        "### List the first six strings in numeric order and check that they have been correctly reversed. State the string in the original machine and explain (by specifying a path as a sequence of states) that this string is present in the reversed machine also.\n",
        "\n",
        "1. c -> c `{I3, F2}`\n",
        "\n",
        "2. d -> d `{I4, B, F1}`\n",
        "\n",
        "3. f -> f `{I3, B, F1}`\n",
        "\n",
        "4. ac -> ca `{I3, F2, F1}`\n",
        "\n",
        "5. sd -> ds `{I4, B, B, F1}`\n",
        "\n",
        "6. sf -> fs `{I3, B, B, F1}`\n",
        "\n",
        " \n",
        " "
      ]
    },
    {
      "cell_type": "markdown",
      "metadata": {
        "id": "Pln4gmGl1Fak"
      },
      "source": [
        "# Problem 2: Extraction of RE by Inspection and other things before it\n"
      ]
    },
    {
      "cell_type": "markdown",
      "metadata": {
        "id": "KfUW_PBz1Fak"
      },
      "source": [
        "## 2.1: Totalize dfa1 to obtain the totalized machine, then explain totalize_dfa in a few sentences below, by looking at the Delta before and After"
      ]
    },
    {
      "cell_type": "code",
      "metadata": {
        "id": "Vq0a77k-1Fal"
      },
      "source": [
        "tdfa1 = totalize_dfa(dfa1)"
      ],
      "execution_count": null,
      "outputs": []
    },
    {
      "cell_type": "code",
      "metadata": {
        "colab": {
          "base_uri": "https://localhost:8080/",
          "height": 928
        },
        "id": "NJtGAMz5GXno",
        "outputId": "424e101d-7229-4a63-f964-f0622fdbe110"
      },
      "source": [
        "dotObj_dfa_w_bh(tdfa1)"
      ],
      "execution_count": null,
      "outputs": [
        {
          "output_type": "execute_result",
          "data": {
            "text/plain": [
              "<graphviz.dot.Digraph at 0x7f71f22f7be0>"
            ],
            "image/svg+xml": "<?xml version=\"1.0\" encoding=\"UTF-8\" standalone=\"no\"?>\n<!DOCTYPE svg PUBLIC \"-//W3C//DTD SVG 1.1//EN\"\n \"http://www.w3.org/Graphics/SVG/1.1/DTD/svg11.dtd\">\n<!-- Generated by graphviz version 2.40.1 (20161225.0304)\n -->\n<!-- Title: %3 Pages: 1 -->\n<svg width=\"554pt\" height=\"681pt\"\n viewBox=\"0.00 0.00 553.98 680.58\" xmlns=\"http://www.w3.org/2000/svg\" xmlns:xlink=\"http://www.w3.org/1999/xlink\">\n<g id=\"graph0\" class=\"graph\" transform=\"scale(1 1) rotate(0) translate(4 676.5813)\">\n<title>%3</title>\n<polygon fill=\"#ffffff\" stroke=\"transparent\" points=\"-4,4 -4,-676.5813 549.9804,-676.5813 549.9804,4 -4,4\"/>\n<!-- EMPTY -->\n<g id=\"node1\" class=\"node\">\n<title>EMPTY</title>\n</g>\n<!-- I1_I2_B -->\n<g id=\"node2\" class=\"node\">\n<title>I1_I2_B</title>\n<ellipse fill=\"none\" stroke=\"#000000\" cx=\"133.2463\" cy=\"-325.5813\" rx=\"42.4939\" ry=\"42.4939\"/>\n<text text-anchor=\"middle\" x=\"133.2463\" y=\"-321.8813\" font-family=\"Times,serif\" font-size=\"14.00\" fill=\"#000000\">I1_I2_B</text>\n</g>\n<!-- EMPTY&#45;&gt;I1_I2_B -->\n<g id=\"edge1\" class=\"edge\">\n<title>EMPTY&#45;&gt;I1_I2_B</title>\n<path fill=\"none\" stroke=\"#000000\" d=\"M54.0853,-325.5813C62.3026,-325.5813 71.6242,-325.5813 80.9135,-325.5813\"/>\n<polygon fill=\"#000000\" stroke=\"#000000\" points=\"80.927,-329.0814 90.927,-325.5813 80.9269,-322.0814 80.927,-329.0814\"/>\n</g>\n<!-- _I2 -->\n<g id=\"node3\" class=\"node\">\n<title>_I2</title>\n<ellipse fill=\"none\" stroke=\"#000000\" cx=\"244.8904\" cy=\"-529.5813\" rx=\"23.2963\" ry=\"23.2963\"/>\n<text text-anchor=\"middle\" x=\"244.8904\" y=\"-525.8813\" font-family=\"Times,serif\" font-size=\"14.00\" fill=\"#000000\">_I2</text>\n</g>\n<!-- I1_I2_B&#45;&gt;_I2 -->\n<g id=\"edge4\" class=\"edge\">\n<title>I1_I2_B&#45;&gt;_I2</title>\n<path fill=\"none\" stroke=\"#000000\" d=\"M153.7235,-362.9981C175.278,-402.3831 208.776,-463.5918 228.603,-499.8205\"/>\n<polygon fill=\"#000000\" stroke=\"#000000\" points=\"225.7014,-501.8091 233.5726,-508.901 231.842,-498.4485 225.7014,-501.8091\"/>\n<text text-anchor=\"middle\" x=\"198.4925\" y=\"-455.3813\" font-family=\"Times,serif\" font-size=\"14.00\" fill=\"#000000\">a </text>\n</g>\n<!-- B -->\n<g id=\"node4\" class=\"node\">\n<title>B</title>\n<ellipse fill=\"none\" stroke=\"#000000\" cx=\"334.2884\" cy=\"-396.5813\" rx=\"18\" ry=\"18\"/>\n<text text-anchor=\"middle\" x=\"334.2884\" y=\"-392.8813\" font-family=\"Times,serif\" font-size=\"14.00\" fill=\"#000000\">B</text>\n</g>\n<!-- I1_I2_B&#45;&gt;B -->\n<g id=\"edge2\" class=\"edge\">\n<title>I1_I2_B&#45;&gt;B</title>\n<path fill=\"none\" stroke=\"#000000\" d=\"M168.2606,-349.617C176.3006,-354.4101 184.9915,-359.0486 193.4925,-362.5813 230.9673,-378.1546 277.1469,-387.6048 306.1635,-392.4631\"/>\n<polygon fill=\"#000000\" stroke=\"#000000\" points=\"305.962,-395.9754 316.3902,-394.1034 307.0707,-389.0638 305.962,-395.9754\"/>\n<text text-anchor=\"middle\" x=\"244.8904\" y=\"-388.3813\" font-family=\"Times,serif\" font-size=\"14.00\" fill=\"#000000\">b </text>\n</g>\n<!-- I1_I2_B&#45;&gt;B -->\n<g id=\"edge3\" class=\"edge\">\n<title>I1_I2_B&#45;&gt;B</title>\n<path fill=\"none\" stroke=\"#000000\" d=\"M175.4631,-330.7092C202.6864,-334.9617 238.4474,-342.3453 268.2884,-354.5813 283.6585,-360.8837 299.4077,-370.7514 311.6651,-379.3388\"/>\n<polygon fill=\"#000000\" stroke=\"#000000\" points=\"309.7612,-382.281 319.9179,-385.2962 313.8583,-376.6053 309.7612,-382.281\"/>\n<text text-anchor=\"middle\" x=\"244.8904\" y=\"-358.3813\" font-family=\"Times,serif\" font-size=\"14.00\" fill=\"#000000\">s </text>\n</g>\n<!-- F4 -->\n<g id=\"node6\" class=\"node\">\n<title>F4</title>\n<ellipse fill=\"none\" stroke=\"#000000\" cx=\"425.0865\" cy=\"-320.5813\" rx=\"20.6302\" ry=\"20.6302\"/>\n<ellipse fill=\"none\" stroke=\"#000000\" cx=\"425.0865\" cy=\"-320.5813\" rx=\"24.5979\" ry=\"24.5979\"/>\n<text text-anchor=\"middle\" x=\"425.0865\" y=\"-316.8813\" font-family=\"Times,serif\" font-size=\"14.00\" fill=\"#000000\">F4</text>\n</g>\n<!-- I1_I2_B&#45;&gt;F4 -->\n<g id=\"edge7\" class=\"edge\">\n<title>I1_I2_B&#45;&gt;F4</title>\n<path fill=\"none\" stroke=\"#000000\" d=\"M175.6823,-324.8543C233.6316,-323.8615 336.4421,-322.1001 390.1745,-321.1795\"/>\n<polygon fill=\"#000000\" stroke=\"#000000\" points=\"390.3003,-324.6779 400.2388,-321.0071 390.1803,-317.679 390.3003,-324.6779\"/>\n<text text-anchor=\"middle\" x=\"292.2884\" y=\"-327.3813\" font-family=\"Times,serif\" font-size=\"14.00\" fill=\"#000000\">d </text>\n</g>\n<!-- F3 -->\n<g id=\"node7\" class=\"node\">\n<title>F3</title>\n<ellipse fill=\"none\" stroke=\"#000000\" cx=\"425.0865\" cy=\"-172.5813\" rx=\"20.6302\" ry=\"20.6302\"/>\n<ellipse fill=\"none\" stroke=\"#000000\" cx=\"425.0865\" cy=\"-172.5813\" rx=\"24.5979\" ry=\"24.5979\"/>\n<text text-anchor=\"middle\" x=\"425.0865\" y=\"-168.8813\" font-family=\"Times,serif\" font-size=\"14.00\" fill=\"#000000\">F3</text>\n</g>\n<!-- I1_I2_B&#45;&gt;F3 -->\n<g id=\"edge5\" class=\"edge\">\n<title>I1_I2_B&#45;&gt;F3</title>\n<path fill=\"none\" stroke=\"#000000\" d=\"M170.8018,-305.8925C229.0384,-275.3614 340.0305,-217.1727 394.0316,-188.8622\"/>\n<polygon fill=\"#000000\" stroke=\"#000000\" points=\"395.8868,-191.8414 403.1184,-184.0983 392.6365,-185.6418 395.8868,-191.8414\"/>\n<text text-anchor=\"middle\" x=\"292.2884\" y=\"-248.3813\" font-family=\"Times,serif\" font-size=\"14.00\" fill=\"#000000\">f </text>\n</g>\n<!-- I1_I2_B&#45;&gt;F3 -->\n<g id=\"edge6\" class=\"edge\">\n<title>I1_I2_B&#45;&gt;F3</title>\n<path fill=\"none\" stroke=\"#000000\" d=\"M164.4785,-296.5429C180.7414,-282.2735 201.388,-265.4304 221.4925,-252.5813 276.3307,-217.5336 348.9836,-193.5595 391.0265,-181.5388\"/>\n<polygon fill=\"#000000\" stroke=\"#000000\" points=\"392.0886,-184.8761 400.7747,-178.8097 390.2014,-178.1353 392.0886,-184.8761\"/>\n<text text-anchor=\"middle\" x=\"292.2884\" y=\"-222.3813\" font-family=\"Times,serif\" font-size=\"14.00\" fill=\"#000000\">c </text>\n</g>\n<!-- _I2&#45;&gt;B -->\n<g id=\"edge9\" class=\"edge\">\n<title>_I2&#45;&gt;B</title>\n<path fill=\"none\" stroke=\"#000000\" d=\"M258.0814,-509.9567C274.1567,-486.041 301.2942,-445.6677 318.4742,-420.1085\"/>\n<polygon fill=\"#000000\" stroke=\"#000000\" points=\"321.4275,-421.9888 324.1013,-411.7369 315.6179,-418.0838 321.4275,-421.9888\"/>\n<text text-anchor=\"middle\" x=\"292.2884\" y=\"-470.3813\" font-family=\"Times,serif\" font-size=\"14.00\" fill=\"#000000\">b </text>\n</g>\n<!-- BH -->\n<g id=\"node5\" class=\"node\">\n<title>BH</title>\n<ellipse fill=\"none\" stroke=\"#000000\" cx=\"521.9325\" cy=\"-330.5813\" rx=\"24.0958\" ry=\"24.0958\"/>\n<text text-anchor=\"middle\" x=\"521.9325\" y=\"-326.8813\" font-family=\"Times,serif\" font-size=\"14.00\" fill=\"#000000\">BH</text>\n</g>\n<!-- _I2&#45;&gt;BH -->\n<g id=\"edge25\" class=\"edge\">\n<title>_I2&#45;&gt;BH</title>\n<path fill=\"none\" stroke=\"#000000\" d=\"M248.5535,-552.8933C253.269,-574.2556 263.728,-604.7443 286.2884,-619.5813 358.1777,-666.8601 415.3906,-676.5364 479.8847,-619.5813 498.7657,-602.9074 513.6711,-437.9681 519.3955,-365.0008\"/>\n<polygon fill=\"#000000\" stroke=\"#000000\" points=\"522.8927,-365.1708 520.1729,-354.9311 515.9135,-364.632 522.8927,-365.1708\"/>\n<text text-anchor=\"middle\" x=\"376.2884\" y=\"-661.3813\" font-family=\"Times,serif\" font-size=\"14.00\" fill=\"#000000\">s </text>\n</g>\n<!-- _I2&#45;&gt;BH -->\n<g id=\"edge26\" class=\"edge\">\n<title>_I2&#45;&gt;BH</title>\n<path fill=\"none\" stroke=\"#000000\" d=\"M255.6687,-550.6523C262.7112,-562.0093 273.0607,-575.0093 286.2884,-581.5813 363.3445,-619.866 414.7821,-637.8399 479.8847,-581.5813 496.1144,-567.5564 511.9163,-430.3829 518.6009,-364.9601\"/>\n<polygon fill=\"#000000\" stroke=\"#000000\" points=\"522.111,-365.035 519.631,-354.7345 515.1462,-364.3333 522.111,-365.035\"/>\n<text text-anchor=\"middle\" x=\"376.2884\" y=\"-619.3813\" font-family=\"Times,serif\" font-size=\"14.00\" fill=\"#000000\">f </text>\n</g>\n<!-- _I2&#45;&gt;BH -->\n<g id=\"edge27\" class=\"edge\">\n<title>_I2&#45;&gt;BH</title>\n<path fill=\"none\" stroke=\"#000000\" d=\"M266.4096,-539.5692C311.7604,-558.9633 418.0541,-595.4697 479.8847,-543.5813 506.6823,-521.0927 516.7255,-419.2287 520.2222,-364.9229\"/>\n<polygon fill=\"#000000\" stroke=\"#000000\" points=\"523.7282,-364.9262 520.8372,-354.7334 516.741,-364.5043 523.7282,-364.9262\"/>\n<text text-anchor=\"middle\" x=\"376.2884\" y=\"-573.3813\" font-family=\"Times,serif\" font-size=\"14.00\" fill=\"#000000\">d </text>\n</g>\n<!-- _I2&#45;&gt;BH -->\n<g id=\"edge28\" class=\"edge\">\n<title>_I2&#45;&gt;BH</title>\n<path fill=\"none\" stroke=\"#000000\" d=\"M268.0163,-534.203C316.4478,-542.3683 428.3104,-552.9894 479.8847,-489.5813 495.3816,-470.5287 509.0381,-405.2855 516.33,-364.5326\"/>\n<polygon fill=\"#000000\" stroke=\"#000000\" points=\"519.8106,-364.9472 518.0866,-354.4935 512.9154,-363.7406 519.8106,-364.9472\"/>\n<text text-anchor=\"middle\" x=\"376.2884\" y=\"-542.3813\" font-family=\"Times,serif\" font-size=\"14.00\" fill=\"#000000\">a </text>\n</g>\n<!-- _I2&#45;&gt;F3 -->\n<g id=\"edge8\" class=\"edge\">\n<title>_I2&#45;&gt;F3</title>\n<path fill=\"none\" stroke=\"#000000\" d=\"M252.7518,-507.283C264.915,-473.5593 289.6841,-407.8649 316.2884,-354.5813 344.1823,-298.7147 382.8776,-236.9778 405.8139,-201.6773\"/>\n<polygon fill=\"#000000\" stroke=\"#000000\" points=\"408.7525,-203.5785 411.2895,-193.2918 402.8914,-199.7512 408.7525,-203.5785\"/>\n<text text-anchor=\"middle\" x=\"334.2884\" y=\"-358.3813\" font-family=\"Times,serif\" font-size=\"14.00\" fill=\"#000000\">c </text>\n</g>\n<!-- B&#45;&gt;B -->\n<g id=\"edge10\" class=\"edge\">\n<title>B&#45;&gt;B</title>\n<path fill=\"none\" stroke=\"#000000\" d=\"M326.9055,-413.2454C325.2649,-423.2063 327.7259,-432.5813 334.2884,-432.5813 338.4925,-432.5813 341.0133,-428.7338 341.8508,-423.3496\"/>\n<polygon fill=\"#000000\" stroke=\"#000000\" points=\"345.3485,-423.1816 341.6712,-413.2454 338.3496,-423.3061 345.3485,-423.1816\"/>\n<text text-anchor=\"middle\" x=\"334.2884\" y=\"-436.3813\" font-family=\"Times,serif\" font-size=\"14.00\" fill=\"#000000\">s </text>\n</g>\n<!-- B&#45;&gt;BH -->\n<g id=\"edge29\" class=\"edge\">\n<title>B&#45;&gt;BH</title>\n<path fill=\"none\" stroke=\"#000000\" d=\"M352.5165,-394.9352C375.472,-393.3086 416.0094,-391.9225 449.8847,-398.5813 463.3191,-401.2221 468.0709,-412.5018 479.8847,-405.5813 495.4577,-396.4587 505.6999,-379.2238 512.1729,-363.5742\"/>\n<polygon fill=\"#000000\" stroke=\"#000000\" points=\"515.4837,-364.7136 515.7302,-354.1216 508.9323,-362.248 515.4837,-364.7136\"/>\n<text text-anchor=\"middle\" x=\"425.0865\" y=\"-402.3813\" font-family=\"Times,serif\" font-size=\"14.00\" fill=\"#000000\">c </text>\n</g>\n<!-- B&#45;&gt;BH -->\n<g id=\"edge30\" class=\"edge\">\n<title>B&#45;&gt;BH</title>\n<path fill=\"none\" stroke=\"#000000\" d=\"M341.4798,-413.1733C347.4879,-425.0827 357.1854,-440.5634 370.2884,-449.5813 411.2872,-477.7984 440.0072,-502.3621 479.8847,-472.5813 497.2082,-459.644 509.9181,-402.415 516.5993,-364.6761\"/>\n<polygon fill=\"#000000\" stroke=\"#000000\" points=\"520.0864,-365.0486 518.3227,-354.6016 513.1866,-363.8683 520.0864,-365.0486\"/>\n<text text-anchor=\"middle\" x=\"425.0865\" y=\"-489.3813\" font-family=\"Times,serif\" font-size=\"14.00\" fill=\"#000000\">a </text>\n</g>\n<!-- B&#45;&gt;BH -->\n<g id=\"edge31\" class=\"edge\">\n<title>B&#45;&gt;BH</title>\n<path fill=\"none\" stroke=\"#000000\" d=\"M350.1429,-405.7564C378.5118,-420.8385 438.8233,-446.7192 479.8847,-420.5813 499.3003,-408.2222 509.8999,-384.2908 515.5987,-364.211\"/>\n<polygon fill=\"#000000\" stroke=\"#000000\" points=\"519.0114,-364.9922 518.0864,-354.4378 512.2277,-363.2654 519.0114,-364.9922\"/>\n<text text-anchor=\"middle\" x=\"425.0865\" y=\"-435.3813\" font-family=\"Times,serif\" font-size=\"14.00\" fill=\"#000000\">b </text>\n</g>\n<!-- B&#45;&gt;F4 -->\n<g id=\"edge12\" class=\"edge\">\n<title>B&#45;&gt;F4</title>\n<path fill=\"none\" stroke=\"#000000\" d=\"M345.388,-382.0042C352.0879,-373.7285 361.0879,-363.4785 370.2884,-355.5813 377.7111,-349.21 386.3876,-343.1417 394.6185,-337.9013\"/>\n<polygon fill=\"#000000\" stroke=\"#000000\" points=\"396.6106,-340.7851 403.2946,-332.5647 392.9432,-334.8227 396.6106,-340.7851\"/>\n<text text-anchor=\"middle\" x=\"376.2884\" y=\"-359.3813\" font-family=\"Times,serif\" font-size=\"14.00\" fill=\"#000000\">d </text>\n</g>\n<!-- B&#45;&gt;F3 -->\n<g id=\"edge11\" class=\"edge\">\n<title>B&#45;&gt;F3</title>\n<path fill=\"none\" stroke=\"#000000\" d=\"M341.113,-379.7449C356.1223,-342.7169 392.2205,-253.6621 411.8447,-205.2491\"/>\n<polygon fill=\"#000000\" stroke=\"#000000\" points=\"415.1407,-206.4345 415.6537,-195.8521 408.6534,-203.8048 415.1407,-206.4345\"/>\n<text text-anchor=\"middle\" x=\"376.2884\" y=\"-309.3813\" font-family=\"Times,serif\" font-size=\"14.00\" fill=\"#000000\">f </text>\n</g>\n<!-- BH&#45;&gt;BH -->\n<g id=\"edge32\" class=\"edge\">\n<title>BH&#45;&gt;BH</title>\n<path fill=\"none\" stroke=\"#000000\" d=\"M520.4417,-354.7786C520.3575,-364.4835 520.8544,-372.6292 521.9325,-372.6292 522.5895,-372.6292 523.0307,-369.6044 523.256,-365.0452\"/>\n<polygon fill=\"#000000\" stroke=\"#000000\" points=\"526.7598,-364.8343 523.4234,-354.7786 519.7608,-364.7202 526.7598,-364.8343\"/>\n<text text-anchor=\"middle\" x=\"521.9325\" y=\"-376.4292\" font-family=\"Times,serif\" font-size=\"14.00\" fill=\"#000000\">s </text>\n</g>\n<!-- BH&#45;&gt;BH -->\n<g id=\"edge33\" class=\"edge\">\n<title>BH&#45;&gt;BH</title>\n<path fill=\"none\" stroke=\"#000000\" d=\"M519.287,-354.6283C518.3632,-372.5582 519.245,-390.6292 521.9325,-390.6292 524.0951,-390.6292 525.0885,-378.9278 524.9127,-365.0145\"/>\n<polygon fill=\"#000000\" stroke=\"#000000\" points=\"528.3984,-364.5104 524.578,-354.6283 521.402,-364.7359 528.3984,-364.5104\"/>\n<text text-anchor=\"middle\" x=\"521.9325\" y=\"-394.4292\" font-family=\"Times,serif\" font-size=\"14.00\" fill=\"#000000\">c </text>\n</g>\n<!-- BH&#45;&gt;BH -->\n<g id=\"edge34\" class=\"edge\">\n<title>BH&#45;&gt;BH</title>\n<path fill=\"none\" stroke=\"#000000\" d=\"M518.4883,-354.5533C516.3313,-379.9678 517.4794,-408.6292 521.9325,-408.6292 525.7942,-408.6292 527.1705,-387.0754 526.0613,-364.7764\"/>\n<polygon fill=\"#000000\" stroke=\"#000000\" points=\"529.5371,-364.297 525.3767,-354.5533 522.5527,-364.7648 529.5371,-364.297\"/>\n<text text-anchor=\"middle\" x=\"521.9325\" y=\"-412.4292\" font-family=\"Times,serif\" font-size=\"14.00\" fill=\"#000000\">f </text>\n</g>\n<!-- BH&#45;&gt;BH -->\n<g id=\"edge35\" class=\"edge\">\n<title>BH&#45;&gt;BH</title>\n<path fill=\"none\" stroke=\"#000000\" d=\"M517.8841,-354.6975C514.3018,-387.1554 515.6513,-426.6292 521.9325,-426.6292 527.5758,-426.6292 529.2383,-394.7664 526.9198,-364.7554\"/>\n<polygon fill=\"#000000\" stroke=\"#000000\" points=\"530.3953,-364.3289 525.981,-354.6975 523.4256,-364.9796 530.3953,-364.3289\"/>\n<text text-anchor=\"middle\" x=\"521.9325\" y=\"-430.4292\" font-family=\"Times,serif\" font-size=\"14.00\" fill=\"#000000\">d </text>\n</g>\n<!-- BH&#45;&gt;BH -->\n<g id=\"edge36\" class=\"edge\">\n<title>BH&#45;&gt;BH</title>\n<path fill=\"none\" stroke=\"#000000\" d=\"M517.4731,-354.3764C512.2625,-393.7097 513.7489,-444.6292 521.9325,-444.6292 529.4128,-444.6292 531.2976,-402.0855 527.5869,-364.7341\"/>\n<polygon fill=\"#000000\" stroke=\"#000000\" points=\"531.0151,-363.9093 526.3919,-354.3764 524.0612,-364.7117 531.0151,-363.9093\"/>\n<text text-anchor=\"middle\" x=\"521.9325\" y=\"-448.4292\" font-family=\"Times,serif\" font-size=\"14.00\" fill=\"#000000\">a </text>\n</g>\n<!-- BH&#45;&gt;BH -->\n<g id=\"edge37\" class=\"edge\">\n<title>BH&#45;&gt;BH</title>\n<path fill=\"none\" stroke=\"#000000\" d=\"M517.1382,-354.2538C510.2329,-400.2479 511.831,-462.6292 521.9325,-462.6292 531.3238,-462.6292 533.3654,-408.7118 528.0573,-364.1713\"/>\n<polygon fill=\"#000000\" stroke=\"#000000\" points=\"531.5255,-363.6996 526.7268,-354.2538 524.5876,-364.6304 531.5255,-363.6996\"/>\n<text text-anchor=\"middle\" x=\"521.9325\" y=\"-466.4292\" font-family=\"Times,serif\" font-size=\"14.00\" fill=\"#000000\">b </text>\n</g>\n<!-- F4&#45;&gt;BH -->\n<g id=\"edge13\" class=\"edge\">\n<title>F4&#45;&gt;BH</title>\n<path fill=\"none\" stroke=\"#000000\" d=\"M449.7754,-323.1306C461.3339,-324.3241 475.2893,-325.7651 487.8349,-327.0605\"/>\n<polygon fill=\"#000000\" stroke=\"#000000\" points=\"487.6514,-330.5601 497.9581,-328.1058 488.3705,-323.5971 487.6514,-330.5601\"/>\n<text text-anchor=\"middle\" x=\"473.8847\" y=\"-330.3813\" font-family=\"Times,serif\" font-size=\"14.00\" fill=\"#000000\">s </text>\n</g>\n<!-- F4&#45;&gt;BH -->\n<g id=\"edge14\" class=\"edge\">\n<title>F4&#45;&gt;BH</title>\n<path fill=\"none\" stroke=\"#000000\" d=\"M447.5062,-309.5988C457.4375,-306.0884 469.2549,-303.7613 479.8847,-306.5813 484.3937,-307.7776 488.9239,-309.5832 493.2542,-311.6777\"/>\n<polygon fill=\"#000000\" stroke=\"#000000\" points=\"491.8698,-314.9084 502.3288,-316.5999 495.2074,-308.7553 491.8698,-314.9084\"/>\n<text text-anchor=\"middle\" x=\"473.8847\" y=\"-310.3813\" font-family=\"Times,serif\" font-size=\"14.00\" fill=\"#000000\">c </text>\n</g>\n<!-- F4&#45;&gt;BH -->\n<g id=\"edge15\" class=\"edge\">\n<title>F4&#45;&gt;BH</title>\n<path fill=\"none\" stroke=\"#000000\" d=\"M440.6914,-301.2271C451.2937,-290.5651 465.8841,-280.5952 479.8847,-286.5813 488.1245,-290.1044 495.5197,-296.1225 501.7256,-302.5957\"/>\n<polygon fill=\"#000000\" stroke=\"#000000\" points=\"499.2274,-305.0558 508.4438,-310.2815 504.4978,-300.4489 499.2274,-305.0558\"/>\n<text text-anchor=\"middle\" x=\"473.8847\" y=\"-290.3813\" font-family=\"Times,serif\" font-size=\"14.00\" fill=\"#000000\">f </text>\n</g>\n<!-- F4&#45;&gt;BH -->\n<g id=\"edge16\" class=\"edge\">\n<title>F4&#45;&gt;BH</title>\n<path fill=\"none\" stroke=\"#000000\" d=\"M435.2443,-297.7705C445.2097,-278.9043 461.547,-256.6879 479.8847,-266.5813 492.7514,-273.5232 502.3229,-286.3107 509.0559,-298.6409\"/>\n<polygon fill=\"#000000\" stroke=\"#000000\" points=\"506.0656,-300.4876 513.6589,-307.8762 512.3306,-297.365 506.0656,-300.4876\"/>\n<text text-anchor=\"middle\" x=\"473.8847\" y=\"-270.3813\" font-family=\"Times,serif\" font-size=\"14.00\" fill=\"#000000\">d </text>\n</g>\n<!-- F4&#45;&gt;BH -->\n<g id=\"edge17\" class=\"edge\">\n<title>F4&#45;&gt;BH</title>\n<path fill=\"none\" stroke=\"#000000\" d=\"M438.1061,-342.1555C448.9688,-359.7823 463.3752,-382.1721 467.8847,-384.5813 483.3823,-392.8613 497.3131,-378.1131 507.149,-361.9519\"/>\n<polygon fill=\"#000000\" stroke=\"#000000\" points=\"510.3486,-363.4014 512.1761,-352.9653 504.2394,-359.9839 510.3486,-363.4014\"/>\n<text text-anchor=\"middle\" x=\"473.8847\" y=\"-390.3813\" font-family=\"Times,serif\" font-size=\"14.00\" fill=\"#000000\">a </text>\n</g>\n<!-- F4&#45;&gt;BH -->\n<g id=\"edge18\" class=\"edge\">\n<title>F4&#45;&gt;BH</title>\n<path fill=\"none\" stroke=\"#000000\" d=\"M445.4314,-335.4058C452.2326,-339.536 460.0769,-343.468 467.8847,-345.5813 475.4008,-347.6157 483.4946,-346.9158 491.0719,-344.9913\"/>\n<polygon fill=\"#000000\" stroke=\"#000000\" points=\"492.2136,-348.3005 500.6435,-341.8828 490.0514,-341.6428 492.2136,-348.3005\"/>\n<text text-anchor=\"middle\" x=\"473.8847\" y=\"-351.3813\" font-family=\"Times,serif\" font-size=\"14.00\" fill=\"#000000\">b </text>\n</g>\n<!-- F3&#45;&gt;BH -->\n<g id=\"edge19\" class=\"edge\">\n<title>F3&#45;&gt;BH</title>\n<path fill=\"none\" stroke=\"#000000\" d=\"M426.106,-147.4782C429.0057,-97.3993 439.9037,7.2345 479.8847,-27.5813 499.9258,-45.0334 514.3323,-220.4209 519.6639,-296.1084\"/>\n<polygon fill=\"#000000\" stroke=\"#000000\" points=\"516.2024,-296.7868 520.3843,-306.5213 523.1857,-296.3036 516.2024,-296.7868\"/>\n<text text-anchor=\"middle\" x=\"473.8847\" y=\"-31.3813\" font-family=\"Times,serif\" font-size=\"14.00\" fill=\"#000000\">s </text>\n</g>\n<!-- F3&#45;&gt;BH -->\n<g id=\"edge20\" class=\"edge\">\n<title>F3&#45;&gt;BH</title>\n<path fill=\"none\" stroke=\"#000000\" d=\"M427.6458,-147.7159C432.6173,-104.9425 445.1406,-20.3092 467.8847,-2.5813 472.0911,.6974 475.8808,.942 479.8847,-2.5813 501.7199,-21.7961 515.3342,-216.1282 520.0602,-296.2887\"/>\n<polygon fill=\"#000000\" stroke=\"#000000\" points=\"516.5716,-296.5879 520.643,-306.3692 523.5599,-296.1838 516.5716,-296.5879\"/>\n<text text-anchor=\"middle\" x=\"473.8847\" y=\"-6.3813\" font-family=\"Times,serif\" font-size=\"14.00\" fill=\"#000000\">c </text>\n</g>\n<!-- F3&#45;&gt;BH -->\n<g id=\"edge21\" class=\"edge\">\n<title>F3&#45;&gt;BH</title>\n<path fill=\"none\" stroke=\"#000000\" d=\"M440.9922,-191.7157C452.5208,-206.0523 468.091,-226.4166 479.8847,-245.5813 490.4156,-262.6942 500.4623,-282.8095 508.0929,-299.1748\"/>\n<polygon fill=\"#000000\" stroke=\"#000000\" points=\"504.9404,-300.6969 512.2919,-308.3261 511.3026,-297.7776 504.9404,-300.6969\"/>\n<text text-anchor=\"middle\" x=\"473.8847\" y=\"-249.3813\" font-family=\"Times,serif\" font-size=\"14.00\" fill=\"#000000\">f </text>\n</g>\n<!-- F3&#45;&gt;BH -->\n<g id=\"edge22\" class=\"edge\">\n<title>F3&#45;&gt;BH</title>\n<path fill=\"none\" stroke=\"#000000\" d=\"M447.3778,-183.6795C458.482,-190.1868 471.3284,-199.3438 479.8847,-210.5813 499.1604,-235.8978 510.06,-270.7483 515.9049,-296.3707\"/>\n<polygon fill=\"#000000\" stroke=\"#000000\" points=\"512.5322,-297.3371 518.0416,-306.3867 519.3781,-295.8766 512.5322,-297.3371\"/>\n<text text-anchor=\"middle\" x=\"473.8847\" y=\"-214.3813\" font-family=\"Times,serif\" font-size=\"14.00\" fill=\"#000000\">d </text>\n</g>\n<!-- F3&#45;&gt;BH -->\n<g id=\"edge23\" class=\"edge\">\n<title>F3&#45;&gt;BH</title>\n<path fill=\"none\" stroke=\"#000000\" d=\"M449.92,-170.5782C460.2983,-171.051 471.7978,-173.471 479.8847,-180.5813 497.1778,-195.7862 510.0693,-257.1309 516.7635,-296.5065\"/>\n<polygon fill=\"#000000\" stroke=\"#000000\" points=\"513.3288,-297.1898 518.4083,-306.4876 520.2356,-296.0515 513.3288,-297.1898\"/>\n<text text-anchor=\"middle\" x=\"473.8847\" y=\"-184.3813\" font-family=\"Times,serif\" font-size=\"14.00\" fill=\"#000000\">a </text>\n</g>\n<!-- F3&#45;&gt;BH -->\n<g id=\"edge24\" class=\"edge\">\n<title>F3&#45;&gt;BH</title>\n<path fill=\"none\" stroke=\"#000000\" d=\"M445.2384,-158.0165C456.3855,-151.8732 469.9495,-147.7505 479.8847,-155.5813 501.6839,-172.7633 513.4774,-250.3806 518.6539,-296.2753\"/>\n<polygon fill=\"#000000\" stroke=\"#000000\" points=\"515.1915,-296.8126 519.7448,-306.3791 522.1511,-296.0612 515.1915,-296.8126\"/>\n<text text-anchor=\"middle\" x=\"473.8847\" y=\"-159.3813\" font-family=\"Times,serif\" font-size=\"14.00\" fill=\"#000000\">b </text>\n</g>\n</g>\n</svg>\n"
          },
          "metadata": {
            "tags": []
          },
          "execution_count": 11
        }
      ]
    },
    {
      "cell_type": "markdown",
      "metadata": {
        "id": "eMdiPwL01Fal"
      },
      "source": [
        "### Your explanation of totalize_dfa:\n",
        "\n",
        "* For any input in $\\sum$ where a state does not have a transition, the next state becomes the black hole. \n",
        "\n",
        "* For any input received by the black hole, the next state is the black hole.\n",
        "\n"
      ]
    },
    {
      "cell_type": "markdown",
      "metadata": {
        "id": "27sayTkz1Fal"
      },
      "source": [
        "##  Compare the dfa with and without the black hole:"
      ]
    },
    {
      "cell_type": "code",
      "metadata": {
        "id": "rDOSZT6p1Fal",
        "colab": {
          "base_uri": "https://localhost:8080/",
          "height": 261
        },
        "outputId": "e79782ea-e05a-4265-c0d0-d840923e7c4c"
      },
      "source": [
        "dotObj_dfa(tdfa1, FuseEdges=True)"
      ],
      "execution_count": null,
      "outputs": [
        {
          "output_type": "execute_result",
          "data": {
            "text/plain": [
              "<graphviz.dot.Digraph at 0x7f71f22f7588>"
            ],
            "image/svg+xml": "<?xml version=\"1.0\" encoding=\"UTF-8\" standalone=\"no\"?>\n<!DOCTYPE svg PUBLIC \"-//W3C//DTD SVG 1.1//EN\"\n \"http://www.w3.org/Graphics/SVG/1.1/DTD/svg11.dtd\">\n<!-- Generated by graphviz version 2.40.1 (20161225.0304)\n -->\n<!-- Title: %3 Pages: 1 -->\n<svg width=\"460pt\" height=\"181pt\"\n viewBox=\"0.00 0.00 459.88 180.63\" xmlns=\"http://www.w3.org/2000/svg\" xmlns:xlink=\"http://www.w3.org/1999/xlink\">\n<g id=\"graph0\" class=\"graph\" transform=\"scale(1 1) rotate(0) translate(4 176.6326)\">\n<title>%3</title>\n<polygon fill=\"#ffffff\" stroke=\"transparent\" points=\"-4,4 -4,-176.6326 455.8847,-176.6326 455.8847,4 -4,4\"/>\n<!-- EMPTY -->\n<g id=\"node1\" class=\"node\">\n<title>EMPTY</title>\n</g>\n<!-- I1_I2_B -->\n<g id=\"node2\" class=\"node\">\n<title>I1_I2_B</title>\n<ellipse fill=\"none\" stroke=\"#000000\" cx=\"133.2463\" cy=\"-85.8345\" rx=\"42.4939\" ry=\"42.4939\"/>\n<text text-anchor=\"middle\" x=\"133.2463\" y=\"-82.1345\" font-family=\"Times,serif\" font-size=\"14.00\" fill=\"#000000\">I1_I2_B</text>\n</g>\n<!-- EMPTY&#45;&gt;I1_I2_B -->\n<g id=\"edge1\" class=\"edge\">\n<title>EMPTY&#45;&gt;I1_I2_B</title>\n<path fill=\"none\" stroke=\"#000000\" d=\"M54.0853,-85.8345C62.3026,-85.8345 71.6242,-85.8345 80.9135,-85.8345\"/>\n<polygon fill=\"#000000\" stroke=\"#000000\" points=\"80.927,-89.3346 90.927,-85.8345 80.9269,-82.3346 80.927,-89.3346\"/>\n</g>\n<!-- _I2 -->\n<g id=\"node3\" class=\"node\">\n<title>_I2</title>\n<ellipse fill=\"none\" stroke=\"#000000\" cx=\"244.8904\" cy=\"-42.8345\" rx=\"23.2963\" ry=\"23.2963\"/>\n<text text-anchor=\"middle\" x=\"244.8904\" y=\"-39.1345\" font-family=\"Times,serif\" font-size=\"14.00\" fill=\"#000000\">_I2</text>\n</g>\n<!-- I1_I2_B&#45;&gt;_I2 -->\n<g id=\"edge3\" class=\"edge\">\n<title>I1_I2_B&#45;&gt;_I2</title>\n<path fill=\"none\" stroke=\"#000000\" d=\"M172.9222,-70.5532C186.176,-65.4485 200.7586,-59.832 213.3113,-54.9973\"/>\n<polygon fill=\"#000000\" stroke=\"#000000\" points=\"214.8051,-58.1726 222.879,-51.3122 212.2892,-51.6403 214.8051,-58.1726\"/>\n<text text-anchor=\"middle\" x=\"198.4925\" y=\"-65.6345\" font-family=\"Times,serif\" font-size=\"14.00\" fill=\"#000000\">a </text>\n</g>\n<!-- B -->\n<g id=\"node4\" class=\"node\">\n<title>B</title>\n<ellipse fill=\"none\" stroke=\"#000000\" cx=\"336.2884\" cy=\"-88.8345\" rx=\"18\" ry=\"18\"/>\n<text text-anchor=\"middle\" x=\"336.2884\" y=\"-85.1345\" font-family=\"Times,serif\" font-size=\"14.00\" fill=\"#000000\">B</text>\n</g>\n<!-- I1_I2_B&#45;&gt;B -->\n<g id=\"edge2\" class=\"edge\">\n<title>I1_I2_B&#45;&gt;B</title>\n<path fill=\"none\" stroke=\"#000000\" d=\"M175.8105,-86.4634C215.4741,-87.0494 273.5113,-87.9069 307.8391,-88.4141\"/>\n<polygon fill=\"#000000\" stroke=\"#000000\" points=\"308.0474,-91.9175 318.098,-88.5657 308.1509,-84.9183 308.0474,-91.9175\"/>\n<text text-anchor=\"middle\" x=\"244.8904\" y=\"-106.6345\" font-family=\"Times,serif\" font-size=\"14.00\" fill=\"#000000\">b </text>\n<text text-anchor=\"middle\" x=\"244.8904\" y=\"-91.6345\" font-family=\"Times,serif\" font-size=\"14.00\" fill=\"#000000\"> s </text>\n</g>\n<!-- F4 -->\n<g id=\"node5\" class=\"node\">\n<title>F4</title>\n<ellipse fill=\"none\" stroke=\"#000000\" cx=\"427.0865\" cy=\"-147.8345\" rx=\"20.6302\" ry=\"20.6302\"/>\n<ellipse fill=\"none\" stroke=\"#000000\" cx=\"427.0865\" cy=\"-147.8345\" rx=\"24.5979\" ry=\"24.5979\"/>\n<text text-anchor=\"middle\" x=\"427.0865\" y=\"-144.1345\" font-family=\"Times,serif\" font-size=\"14.00\" fill=\"#000000\">F4</text>\n</g>\n<!-- I1_I2_B&#45;&gt;F4 -->\n<g id=\"edge5\" class=\"edge\">\n<title>I1_I2_B&#45;&gt;F4</title>\n<path fill=\"none\" stroke=\"#000000\" d=\"M171.9768,-102.7632C187.2553,-109.143 205.0545,-116.2099 221.4925,-121.8345 263.7499,-136.2936 274.0382,-142.7785 318.2884,-148.8345 334.1406,-151.004 338.2887,-148.9444 354.2884,-148.8345 366.6059,-148.7499 380.095,-148.5848 392.0786,-148.4127\"/>\n<polygon fill=\"#000000\" stroke=\"#000000\" points=\"392.2085,-151.9113 402.1549,-148.2616 392.1035,-144.912 392.2085,-151.9113\"/>\n<text text-anchor=\"middle\" x=\"293.2884\" y=\"-149.6345\" font-family=\"Times,serif\" font-size=\"14.00\" fill=\"#000000\">d </text>\n</g>\n<!-- F3 -->\n<g id=\"node6\" class=\"node\">\n<title>F3</title>\n<ellipse fill=\"none\" stroke=\"#000000\" cx=\"427.0865\" cy=\"-37.8345\" rx=\"20.6302\" ry=\"20.6302\"/>\n<ellipse fill=\"none\" stroke=\"#000000\" cx=\"427.0865\" cy=\"-37.8345\" rx=\"24.5979\" ry=\"24.5979\"/>\n<text text-anchor=\"middle\" x=\"427.0865\" y=\"-34.1345\" font-family=\"Times,serif\" font-size=\"14.00\" fill=\"#000000\">F3</text>\n</g>\n<!-- I1_I2_B&#45;&gt;F3 -->\n<g id=\"edge4\" class=\"edge\">\n<title>I1_I2_B&#45;&gt;F3</title>\n<path fill=\"none\" stroke=\"#000000\" d=\"M160.9357,-53.8673C176.8674,-37.8564 198.2965,-19.9744 221.4925,-10.8345 279.632,12.0742 353.4527,-8.4979 394.9583,-24.1181\"/>\n<polygon fill=\"#000000\" stroke=\"#000000\" points=\"393.7044,-27.3858 404.2928,-27.7544 396.2454,-20.8632 393.7044,-27.3858\"/>\n<text text-anchor=\"middle\" x=\"293.2884\" y=\"-20.6345\" font-family=\"Times,serif\" font-size=\"14.00\" fill=\"#000000\">f </text>\n<text text-anchor=\"middle\" x=\"293.2884\" y=\"-5.6345\" font-family=\"Times,serif\" font-size=\"14.00\" fill=\"#000000\"> c </text>\n</g>\n<!-- _I2&#45;&gt;B -->\n<g id=\"edge7\" class=\"edge\">\n<title>_I2&#45;&gt;B</title>\n<path fill=\"none\" stroke=\"#000000\" d=\"M266.0887,-53.5034C279.4568,-60.2315 296.7961,-68.9583 310.8972,-76.0553\"/>\n<polygon fill=\"#000000\" stroke=\"#000000\" points=\"309.5476,-79.2943 320.0536,-80.6636 312.6946,-73.0415 309.5476,-79.2943\"/>\n<text text-anchor=\"middle\" x=\"293.2884\" y=\"-74.6345\" font-family=\"Times,serif\" font-size=\"14.00\" fill=\"#000000\">b </text>\n</g>\n<!-- _I2&#45;&gt;F3 -->\n<g id=\"edge6\" class=\"edge\">\n<title>_I2&#45;&gt;F3</title>\n<path fill=\"none\" stroke=\"#000000\" d=\"M268.3364,-42.191C299.7399,-41.3292 355.7154,-39.7931 392.1107,-38.7943\"/>\n<polygon fill=\"#000000\" stroke=\"#000000\" points=\"392.3737,-42.2885 402.2739,-38.5154 392.1816,-35.2911 392.3737,-42.2885\"/>\n<text text-anchor=\"middle\" x=\"336.2884\" y=\"-44.6345\" font-family=\"Times,serif\" font-size=\"14.00\" fill=\"#000000\">c </text>\n</g>\n<!-- B&#45;&gt;B -->\n<g id=\"edge8\" class=\"edge\">\n<title>B&#45;&gt;B</title>\n<path fill=\"none\" stroke=\"#000000\" d=\"M328.9055,-105.4985C327.2649,-115.4595 329.7259,-124.8345 336.2884,-124.8345 340.4925,-124.8345 343.0133,-120.987 343.8508,-115.6027\"/>\n<polygon fill=\"#000000\" stroke=\"#000000\" points=\"347.3485,-115.4347 343.6712,-105.4985 340.3496,-115.5592 347.3485,-115.4347\"/>\n<text text-anchor=\"middle\" x=\"336.2884\" y=\"-128.6345\" font-family=\"Times,serif\" font-size=\"14.00\" fill=\"#000000\">s </text>\n</g>\n<!-- B&#45;&gt;F4 -->\n<g id=\"edge10\" class=\"edge\">\n<title>B&#45;&gt;F4</title>\n<path fill=\"none\" stroke=\"#000000\" d=\"M351.691,-98.843C364.2104,-106.978 382.2382,-118.6923 397.5262,-128.6264\"/>\n<polygon fill=\"#000000\" stroke=\"#000000\" points=\"395.8564,-131.7154 406.1487,-134.2292 399.6705,-125.8457 395.8564,-131.7154\"/>\n<text text-anchor=\"middle\" x=\"378.2884\" y=\"-122.6345\" font-family=\"Times,serif\" font-size=\"14.00\" fill=\"#000000\">d </text>\n</g>\n<!-- B&#45;&gt;F3 -->\n<g id=\"edge9\" class=\"edge\">\n<title>B&#45;&gt;F3</title>\n<path fill=\"none\" stroke=\"#000000\" d=\"M352.1042,-79.9509C364.3063,-73.0972 381.5586,-63.4069 396.4387,-55.0489\"/>\n<polygon fill=\"#000000\" stroke=\"#000000\" points=\"398.3261,-58.0031 405.3309,-50.0543 394.898,-51.9 398.3261,-58.0031\"/>\n<text text-anchor=\"middle\" x=\"378.2884\" y=\"-72.6345\" font-family=\"Times,serif\" font-size=\"14.00\" fill=\"#000000\">f </text>\n</g>\n</g>\n</svg>\n"
          },
          "metadata": {
            "tags": []
          },
          "execution_count": 12
        }
      ]
    },
    {
      "cell_type": "code",
      "metadata": {
        "id": "dWbXpki11Fam",
        "colab": {
          "base_uri": "https://localhost:8080/",
          "height": 416
        },
        "outputId": "76e829f8-7f4d-4d83-cc7e-c206a7b48314"
      },
      "source": [
        "dotObj_dfa_w_bh(tdfa1, FuseEdges=True)"
      ],
      "execution_count": null,
      "outputs": [
        {
          "output_type": "execute_result",
          "data": {
            "text/plain": [
              "<graphviz.dot.Digraph at 0x7f71f22f77f0>"
            ],
            "image/svg+xml": "<?xml version=\"1.0\" encoding=\"UTF-8\" standalone=\"no\"?>\n<!DOCTYPE svg PUBLIC \"-//W3C//DTD SVG 1.1//EN\"\n \"http://www.w3.org/Graphics/SVG/1.1/DTD/svg11.dtd\">\n<!-- Generated by graphviz version 2.40.1 (20161225.0304)\n -->\n<!-- Title: %3 Pages: 1 -->\n<svg width=\"606pt\" height=\"297pt\"\n viewBox=\"0.00 0.00 605.88 296.88\" xmlns=\"http://www.w3.org/2000/svg\" xmlns:xlink=\"http://www.w3.org/1999/xlink\">\n<g id=\"graph0\" class=\"graph\" transform=\"scale(1 1) rotate(0) translate(4 292.88)\">\n<title>%3</title>\n<polygon fill=\"#ffffff\" stroke=\"transparent\" points=\"-4,4 -4,-292.88 601.8847,-292.88 601.8847,4 -4,4\"/>\n<!-- EMPTY -->\n<g id=\"node1\" class=\"node\">\n<title>EMPTY</title>\n</g>\n<!-- I1_I2_B -->\n<g id=\"node2\" class=\"node\">\n<title>I1_I2_B</title>\n<ellipse fill=\"none\" stroke=\"#000000\" cx=\"133.2463\" cy=\"-137.88\" rx=\"42.4939\" ry=\"42.4939\"/>\n<text text-anchor=\"middle\" x=\"133.2463\" y=\"-134.18\" font-family=\"Times,serif\" font-size=\"14.00\" fill=\"#000000\">I1_I2_B</text>\n</g>\n<!-- EMPTY&#45;&gt;I1_I2_B -->\n<g id=\"edge1\" class=\"edge\">\n<title>EMPTY&#45;&gt;I1_I2_B</title>\n<path fill=\"none\" stroke=\"#000000\" d=\"M54.0853,-137.88C62.3026,-137.88 71.6242,-137.88 80.9135,-137.88\"/>\n<polygon fill=\"#000000\" stroke=\"#000000\" points=\"80.927,-141.3801 90.927,-137.88 80.9269,-134.3801 80.927,-141.3801\"/>\n</g>\n<!-- _I2 -->\n<g id=\"node3\" class=\"node\">\n<title>_I2</title>\n<ellipse fill=\"none\" stroke=\"#000000\" cx=\"244.8904\" cy=\"-45.88\" rx=\"23.2963\" ry=\"23.2963\"/>\n<text text-anchor=\"middle\" x=\"244.8904\" y=\"-42.18\" font-family=\"Times,serif\" font-size=\"14.00\" fill=\"#000000\">_I2</text>\n</g>\n<!-- I1_I2_B&#45;&gt;_I2 -->\n<g id=\"edge3\" class=\"edge\">\n<title>I1_I2_B&#45;&gt;_I2</title>\n<path fill=\"none\" stroke=\"#000000\" d=\"M157.8064,-103.2154C167.8155,-90.8782 180.1702,-77.6403 193.4925,-67.88 199.3319,-63.6019 206.131,-59.9493 212.8351,-56.9209\"/>\n<polygon fill=\"#000000\" stroke=\"#000000\" points=\"214.5679,-59.9915 222.4666,-52.9303 211.8885,-53.5246 214.5679,-59.9915\"/>\n<text text-anchor=\"middle\" x=\"198.4925\" y=\"-71.68\" font-family=\"Times,serif\" font-size=\"14.00\" fill=\"#000000\">a </text>\n</g>\n<!-- B -->\n<g id=\"node4\" class=\"node\">\n<title>B</title>\n<ellipse fill=\"none\" stroke=\"#000000\" cx=\"336.2884\" cy=\"-159.88\" rx=\"18\" ry=\"18\"/>\n<text text-anchor=\"middle\" x=\"336.2884\" y=\"-156.18\" font-family=\"Times,serif\" font-size=\"14.00\" fill=\"#000000\">B</text>\n</g>\n<!-- I1_I2_B&#45;&gt;B -->\n<g id=\"edge2\" class=\"edge\">\n<title>I1_I2_B&#45;&gt;B</title>\n<path fill=\"none\" stroke=\"#000000\" d=\"M175.0014,-144.9463C205.6892,-149.8129 248.4557,-155.9162 286.2884,-158.88 293.3009,-159.4294 300.8825,-159.7312 307.9707,-159.8871\"/>\n<polygon fill=\"#000000\" stroke=\"#000000\" points=\"308.1655,-163.3899 318.2118,-160.0249 308.2598,-156.3906 308.1655,-163.3899\"/>\n<text text-anchor=\"middle\" x=\"244.8904\" y=\"-176.68\" font-family=\"Times,serif\" font-size=\"14.00\" fill=\"#000000\">b </text>\n<text text-anchor=\"middle\" x=\"244.8904\" y=\"-161.68\" font-family=\"Times,serif\" font-size=\"14.00\" fill=\"#000000\"> s </text>\n</g>\n<!-- F4 -->\n<g id=\"node6\" class=\"node\">\n<title>F4</title>\n<ellipse fill=\"none\" stroke=\"#000000\" cx=\"431.0865\" cy=\"-247.88\" rx=\"20.6302\" ry=\"20.6302\"/>\n<ellipse fill=\"none\" stroke=\"#000000\" cx=\"431.0865\" cy=\"-247.88\" rx=\"24.5979\" ry=\"24.5979\"/>\n<text text-anchor=\"middle\" x=\"431.0865\" y=\"-244.18\" font-family=\"Times,serif\" font-size=\"14.00\" fill=\"#000000\">F4</text>\n</g>\n<!-- I1_I2_B&#45;&gt;F4 -->\n<g id=\"edge5\" class=\"edge\">\n<title>I1_I2_B&#45;&gt;F4</title>\n<path fill=\"none\" stroke=\"#000000\" d=\"M168.1279,-162.2108C183.8947,-172.4119 203.0863,-183.7625 221.4925,-191.88 280.3904,-217.8552 354.0633,-234.1072 396.5324,-242.0413\"/>\n<polygon fill=\"#000000\" stroke=\"#000000\" points=\"395.9098,-245.4854 406.3753,-243.8351 397.1648,-238.5988 395.9098,-245.4854\"/>\n<text text-anchor=\"middle\" x=\"293.2884\" y=\"-223.68\" font-family=\"Times,serif\" font-size=\"14.00\" fill=\"#000000\">d </text>\n</g>\n<!-- F3 -->\n<g id=\"node7\" class=\"node\">\n<title>F3</title>\n<ellipse fill=\"none\" stroke=\"#000000\" cx=\"431.0865\" cy=\"-75.88\" rx=\"20.6302\" ry=\"20.6302\"/>\n<ellipse fill=\"none\" stroke=\"#000000\" cx=\"431.0865\" cy=\"-75.88\" rx=\"24.5979\" ry=\"24.5979\"/>\n<text text-anchor=\"middle\" x=\"431.0865\" y=\"-72.18\" font-family=\"Times,serif\" font-size=\"14.00\" fill=\"#000000\">F3</text>\n</g>\n<!-- I1_I2_B&#45;&gt;F3 -->\n<g id=\"edge4\" class=\"edge\">\n<title>I1_I2_B&#45;&gt;F3</title>\n<path fill=\"none\" stroke=\"#000000\" d=\"M173.403,-124.3897C204.0173,-114.5824 247.3954,-101.7045 286.2884,-93.88 331.0377,-84.8773 343.0169,-87.7157 388.2884,-81.88 390.8277,-81.5527 393.4505,-81.206 396.0895,-80.8509\"/>\n<polygon fill=\"#000000\" stroke=\"#000000\" points=\"396.7735,-84.29 406.205,-79.4633 395.8221,-77.3549 396.7735,-84.29\"/>\n<text text-anchor=\"middle\" x=\"293.2884\" y=\"-112.68\" font-family=\"Times,serif\" font-size=\"14.00\" fill=\"#000000\">f </text>\n<text text-anchor=\"middle\" x=\"293.2884\" y=\"-97.68\" font-family=\"Times,serif\" font-size=\"14.00\" fill=\"#000000\"> c </text>\n</g>\n<!-- _I2&#45;&gt;B -->\n<g id=\"edge7\" class=\"edge\">\n<title>_I2&#45;&gt;B</title>\n<path fill=\"none\" stroke=\"#000000\" d=\"M252.4693,-68.3557C259.2588,-86.0266 270.5766,-110.4816 286.2884,-127.88 293.1871,-135.5193 302.3132,-142.0684 310.8788,-147.2153\"/>\n<polygon fill=\"#000000\" stroke=\"#000000\" points=\"309.388,-150.3922 319.8214,-152.2351 312.8145,-144.2881 309.388,-150.3922\"/>\n<text text-anchor=\"middle\" x=\"293.2884\" y=\"-143.68\" font-family=\"Times,serif\" font-size=\"14.00\" fill=\"#000000\">b </text>\n</g>\n<!-- BH -->\n<g id=\"node5\" class=\"node\">\n<title>BH</title>\n<ellipse fill=\"none\" stroke=\"#000000\" cx=\"552.8847\" cy=\"-106.88\" rx=\"24.0958\" ry=\"24.0958\"/>\n<text text-anchor=\"middle\" x=\"552.8847\" y=\"-103.18\" font-family=\"Times,serif\" font-size=\"14.00\" fill=\"#000000\">BH</text>\n</g>\n<!-- _I2&#45;&gt;BH -->\n<g id=\"edge13\" class=\"edge\">\n<title>_I2&#45;&gt;BH</title>\n<path fill=\"none\" stroke=\"#000000\" d=\"M264.6056,-33.2457C292.0339,-17.2207 343.4006,7.1901 388.2884,-2.88 437.017,-13.8118 448.2219,-23.3446 489.8847,-50.88 503.6726,-59.9926 517.5564,-71.9639 528.768,-82.498\"/>\n<polygon fill=\"#000000\" stroke=\"#000000\" points=\"526.4317,-85.107 536.069,-89.5085 531.28,-80.0578 526.4317,-85.107\"/>\n<text text-anchor=\"middle\" x=\"380.2884\" y=\"-51.68\" font-family=\"Times,serif\" font-size=\"14.00\" fill=\"#000000\">f </text>\n<text text-anchor=\"middle\" x=\"380.2884\" y=\"-36.68\" font-family=\"Times,serif\" font-size=\"14.00\" fill=\"#000000\"> s </text>\n<text text-anchor=\"middle\" x=\"380.2884\" y=\"-21.68\" font-family=\"Times,serif\" font-size=\"14.00\" fill=\"#000000\"> d </text>\n<text text-anchor=\"middle\" x=\"380.2884\" y=\"-6.68\" font-family=\"Times,serif\" font-size=\"14.00\" fill=\"#000000\"> a </text>\n</g>\n<!-- _I2&#45;&gt;F3 -->\n<g id=\"edge6\" class=\"edge\">\n<title>_I2&#45;&gt;F3</title>\n<path fill=\"none\" stroke=\"#000000\" d=\"M268.0958,-49.6189C300.3532,-54.8162 358.9922,-64.2641 396.4407,-70.2979\"/>\n<polygon fill=\"#000000\" stroke=\"#000000\" points=\"395.9722,-73.7674 406.4017,-71.9028 397.0858,-66.8566 395.9722,-73.7674\"/>\n<text text-anchor=\"middle\" x=\"336.2884\" y=\"-67.68\" font-family=\"Times,serif\" font-size=\"14.00\" fill=\"#000000\">c </text>\n</g>\n<!-- B&#45;&gt;B -->\n<g id=\"edge8\" class=\"edge\">\n<title>B&#45;&gt;B</title>\n<path fill=\"none\" stroke=\"#000000\" d=\"M328.9055,-176.5441C327.2649,-186.505 329.7259,-195.88 336.2884,-195.88 340.4925,-195.88 343.0133,-192.0325 343.8508,-186.6483\"/>\n<polygon fill=\"#000000\" stroke=\"#000000\" points=\"347.3485,-186.4802 343.6712,-176.5441 340.3496,-186.6047 347.3485,-186.4802\"/>\n<text text-anchor=\"middle\" x=\"336.2884\" y=\"-199.68\" font-family=\"Times,serif\" font-size=\"14.00\" fill=\"#000000\">s </text>\n</g>\n<!-- B&#45;&gt;BH -->\n<g id=\"edge14\" class=\"edge\">\n<title>B&#45;&gt;BH</title>\n<path fill=\"none\" stroke=\"#000000\" d=\"M354.3373,-160.8707C383.6118,-161.9026 442.9034,-161.5849 489.8847,-145.88 502.3706,-141.7062 514.9423,-134.6364 525.5355,-127.6533\"/>\n<polygon fill=\"#000000\" stroke=\"#000000\" points=\"527.6749,-130.4296 533.9231,-121.8733 523.7029,-124.6656 527.6749,-130.4296\"/>\n<text text-anchor=\"middle\" x=\"431.0865\" y=\"-194.68\" font-family=\"Times,serif\" font-size=\"14.00\" fill=\"#000000\">b </text>\n<text text-anchor=\"middle\" x=\"431.0865\" y=\"-179.68\" font-family=\"Times,serif\" font-size=\"14.00\" fill=\"#000000\"> a </text>\n<text text-anchor=\"middle\" x=\"431.0865\" y=\"-164.68\" font-family=\"Times,serif\" font-size=\"14.00\" fill=\"#000000\"> c </text>\n</g>\n<!-- B&#45;&gt;F4 -->\n<g id=\"edge10\" class=\"edge\">\n<title>B&#45;&gt;F4</title>\n<path fill=\"none\" stroke=\"#000000\" d=\"M349.8706,-172.4883C364.1664,-185.7589 387.0257,-206.9789 404.8556,-223.5302\"/>\n<polygon fill=\"#000000\" stroke=\"#000000\" points=\"402.9349,-226.5227 412.6451,-230.761 407.6973,-221.3925 402.9349,-226.5227\"/>\n<text text-anchor=\"middle\" x=\"380.2884\" y=\"-210.68\" font-family=\"Times,serif\" font-size=\"14.00\" fill=\"#000000\">d </text>\n</g>\n<!-- B&#45;&gt;F3 -->\n<g id=\"edge9\" class=\"edge\">\n<title>B&#45;&gt;F3</title>\n<path fill=\"none\" stroke=\"#000000\" d=\"M349.8706,-147.8449C364.0776,-135.2561 386.7421,-115.1733 404.5228,-99.4179\"/>\n<polygon fill=\"#000000\" stroke=\"#000000\" points=\"407.1375,-101.7774 412.3008,-92.5259 402.4951,-96.5383 407.1375,-101.7774\"/>\n<text text-anchor=\"middle\" x=\"380.2884\" y=\"-131.68\" font-family=\"Times,serif\" font-size=\"14.00\" fill=\"#000000\">f </text>\n</g>\n<!-- BH&#45;&gt;BH -->\n<g id=\"edge15\" class=\"edge\">\n<title>BH&#45;&gt;BH</title>\n<path fill=\"none\" stroke=\"#000000\" d=\"M540.3012,-127.649C538.1628,-138.7838 542.3573,-148.9279 552.8847,-148.9279 559.9577,-148.9279 564.172,-144.3487 565.5276,-137.9664\"/>\n<polygon fill=\"#000000\" stroke=\"#000000\" points=\"569.0258,-137.6286 565.4681,-127.649 562.0259,-137.669 569.0258,-137.6286\"/>\n<text text-anchor=\"middle\" x=\"552.8847\" y=\"-227.7279\" font-family=\"Times,serif\" font-size=\"14.00\" fill=\"#000000\">s </text>\n<text text-anchor=\"middle\" x=\"552.8847\" y=\"-212.7279\" font-family=\"Times,serif\" font-size=\"14.00\" fill=\"#000000\"> c </text>\n<text text-anchor=\"middle\" x=\"552.8847\" y=\"-197.7279\" font-family=\"Times,serif\" font-size=\"14.00\" fill=\"#000000\"> f </text>\n<text text-anchor=\"middle\" x=\"552.8847\" y=\"-182.7279\" font-family=\"Times,serif\" font-size=\"14.00\" fill=\"#000000\"> d </text>\n<text text-anchor=\"middle\" x=\"552.8847\" y=\"-167.7279\" font-family=\"Times,serif\" font-size=\"14.00\" fill=\"#000000\"> a </text>\n<text text-anchor=\"middle\" x=\"552.8847\" y=\"-152.7279\" font-family=\"Times,serif\" font-size=\"14.00\" fill=\"#000000\"> b </text>\n</g>\n<!-- F4&#45;&gt;BH -->\n<g id=\"edge11\" class=\"edge\">\n<title>F4&#45;&gt;BH</title>\n<path fill=\"none\" stroke=\"#000000\" d=\"M447.5127,-228.8641C468.9066,-204.0974 506.4011,-160.6918 530.4151,-132.8919\"/>\n<polygon fill=\"#000000\" stroke=\"#000000\" points=\"533.2157,-135.004 537.1041,-125.1485 527.9184,-130.4281 533.2157,-135.004\"/>\n<text text-anchor=\"middle\" x=\"481.8847\" y=\"-277.68\" font-family=\"Times,serif\" font-size=\"14.00\" fill=\"#000000\">s </text>\n<text text-anchor=\"middle\" x=\"481.8847\" y=\"-262.68\" font-family=\"Times,serif\" font-size=\"14.00\" fill=\"#000000\"> c </text>\n<text text-anchor=\"middle\" x=\"481.8847\" y=\"-247.68\" font-family=\"Times,serif\" font-size=\"14.00\" fill=\"#000000\"> f </text>\n<text text-anchor=\"middle\" x=\"481.8847\" y=\"-232.68\" font-family=\"Times,serif\" font-size=\"14.00\" fill=\"#000000\"> d </text>\n<text text-anchor=\"middle\" x=\"481.8847\" y=\"-217.68\" font-family=\"Times,serif\" font-size=\"14.00\" fill=\"#000000\"> a </text>\n<text text-anchor=\"middle\" x=\"481.8847\" y=\"-202.68\" font-family=\"Times,serif\" font-size=\"14.00\" fill=\"#000000\"> b </text>\n</g>\n<!-- F3&#45;&gt;BH -->\n<g id=\"edge12\" class=\"edge\">\n<title>F3&#45;&gt;BH</title>\n<path fill=\"none\" stroke=\"#000000\" d=\"M451.8105,-61.8524C463.092,-55.9709 477.281,-51.4179 489.8847,-55.88 504.7222,-61.1329 518.6207,-71.5315 529.5683,-81.5765\"/>\n<polygon fill=\"#000000\" stroke=\"#000000\" points=\"527.3669,-84.3163 536.9896,-88.7496 532.2318,-79.2831 527.3669,-84.3163\"/>\n<text text-anchor=\"middle\" x=\"481.8847\" y=\"-134.68\" font-family=\"Times,serif\" font-size=\"14.00\" fill=\"#000000\">s </text>\n<text text-anchor=\"middle\" x=\"481.8847\" y=\"-119.68\" font-family=\"Times,serif\" font-size=\"14.00\" fill=\"#000000\"> c </text>\n<text text-anchor=\"middle\" x=\"481.8847\" y=\"-104.68\" font-family=\"Times,serif\" font-size=\"14.00\" fill=\"#000000\"> f </text>\n<text text-anchor=\"middle\" x=\"481.8847\" y=\"-89.68\" font-family=\"Times,serif\" font-size=\"14.00\" fill=\"#000000\"> d </text>\n<text text-anchor=\"middle\" x=\"481.8847\" y=\"-74.68\" font-family=\"Times,serif\" font-size=\"14.00\" fill=\"#000000\"> a </text>\n<text text-anchor=\"middle\" x=\"481.8847\" y=\"-59.68\" font-family=\"Times,serif\" font-size=\"14.00\" fill=\"#000000\"> b </text>\n</g>\n</g>\n</svg>\n"
          },
          "metadata": {
            "tags": []
          },
          "execution_count": 13
        }
      ]
    },
    {
      "cell_type": "markdown",
      "metadata": {
        "id": "285Y2wis1Fam"
      },
      "source": [
        "### Was it a good idea to not always show black-holes?\n",
        "\n",
        "* In what circumstances might you still need to apply the _w_bh view option?\n",
        "An open-ended answer - anything you may think up can be a valuable piece of feedback.\n",
        "\n",
        "Answer:\n",
        "\n",
        "* Drawing the black hole can matter when multiple black hole states exist in a DFA system or a system modeled as a DFA.\n",
        "* It's helpful to not draw the black holes when doing so would cause unnecessary clutter in the drawing. \n"
      ]
    },
    {
      "cell_type": "code",
      "metadata": {
        "colab": {
          "base_uri": "https://localhost:8080/",
          "height": 201
        },
        "id": "_IhY0us7r4-f",
        "outputId": "76418e42-ed5e-410a-f75c-38df0a3cf54a"
      },
      "source": [
        "dotObj_nfa(nfa1)"
      ],
      "execution_count": null,
      "outputs": [
        {
          "output_type": "execute_result",
          "data": {
            "text/plain": [
              "<graphviz.dot.Digraph at 0x7f71f22f72b0>"
            ],
            "image/svg+xml": "<?xml version=\"1.0\" encoding=\"UTF-8\" standalone=\"no\"?>\n<!DOCTYPE svg PUBLIC \"-//W3C//DTD SVG 1.1//EN\"\n \"http://www.w3.org/Graphics/SVG/1.1/DTD/svg11.dtd\">\n<!-- Generated by graphviz version 2.40.1 (20161225.0304)\n -->\n<!-- Title: %3 Pages: 1 -->\n<svg width=\"402pt\" height=\"136pt\"\n viewBox=\"0.00 0.00 401.99 135.60\" xmlns=\"http://www.w3.org/2000/svg\" xmlns:xlink=\"http://www.w3.org/1999/xlink\">\n<g id=\"graph0\" class=\"graph\" transform=\"scale(1 1) rotate(0) translate(4 131.5963)\">\n<title>%3</title>\n<polygon fill=\"#ffffff\" stroke=\"transparent\" points=\"-4,4 -4,-131.5963 397.9896,-131.5963 397.9896,4 -4,4\"/>\n<!-- EMPTY -->\n<g id=\"node1\" class=\"node\">\n<title>EMPTY</title>\n</g>\n<!-- I2 -->\n<g id=\"node3\" class=\"node\">\n<title>I2</title>\n<ellipse fill=\"none\" stroke=\"#000000\" cx=\"193.545\" cy=\"-81.7982\" rx=\"18.6979\" ry=\"18.6979\"/>\n<text text-anchor=\"middle\" x=\"193.545\" y=\"-78.0982\" font-family=\"Times,serif\" font-size=\"14.00\" fill=\"#000000\">I2</text>\n</g>\n<!-- EMPTY&#45;&gt;I2 -->\n<g id=\"edge1\" class=\"edge\">\n<title>EMPTY&#45;&gt;I2</title>\n<path fill=\"none\" stroke=\"#000000\" d=\"M54.129,-66.7302C84.4711,-70.0096 133.4281,-75.3008 164.5205,-78.6612\"/>\n<polygon fill=\"#000000\" stroke=\"#000000\" points=\"164.3952,-82.168 174.7135,-79.7629 165.1475,-75.2085 164.3952,-82.168\"/>\n</g>\n<!-- I1 -->\n<g id=\"node4\" class=\"node\">\n<title>I1</title>\n<ellipse fill=\"none\" stroke=\"#000000\" cx=\"109.8483\" cy=\"-40.7982\" rx=\"18.6979\" ry=\"18.6979\"/>\n<text text-anchor=\"middle\" x=\"109.8483\" y=\"-37.0982\" font-family=\"Times,serif\" font-size=\"14.00\" fill=\"#000000\">I1</text>\n</g>\n<!-- EMPTY&#45;&gt;I1 -->\n<g id=\"edge2\" class=\"edge\">\n<title>EMPTY&#45;&gt;I1</title>\n<path fill=\"none\" stroke=\"#000000\" d=\"M54.1276,-56.2671C62.9466,-53.8188 72.7508,-51.097 81.6463,-48.6275\"/>\n<polygon fill=\"#000000\" stroke=\"#000000\" points=\"82.8586,-51.9234 91.5579,-45.8759 80.9861,-45.1785 82.8586,-51.9234\"/>\n</g>\n<!-- B -->\n<g id=\"node2\" class=\"node\">\n<title>B</title>\n<ellipse fill=\"none\" stroke=\"#000000\" cx=\"278.3933\" cy=\"-24.7982\" rx=\"18\" ry=\"18\"/>\n<text text-anchor=\"middle\" x=\"278.3933\" y=\"-21.0982\" font-family=\"Times,serif\" font-size=\"14.00\" fill=\"#000000\">B</text>\n</g>\n<!-- B&#45;&gt;B -->\n<g id=\"edge7\" class=\"edge\">\n<title>B&#45;&gt;B</title>\n<path fill=\"none\" stroke=\"#000000\" d=\"M271.3621,-41.4622C269.7996,-51.4232 272.1433,-60.7982 278.3933,-60.7982 282.3972,-60.7982 284.798,-56.9507 285.5956,-51.5664\"/>\n<polygon fill=\"#000000\" stroke=\"#000000\" points=\"289.0935,-51.4015 285.4246,-41.4622 282.0945,-51.5201 289.0935,-51.4015\"/>\n<text text-anchor=\"middle\" x=\"278.3933\" y=\"-64.5982\" font-family=\"Times,serif\" font-size=\"14.00\" fill=\"#000000\">s </text>\n</g>\n<!-- F4 -->\n<g id=\"node5\" class=\"node\">\n<title>F4</title>\n<ellipse fill=\"none\" stroke=\"#000000\" cx=\"369.1915\" cy=\"-24.7982\" rx=\"20.6302\" ry=\"20.6302\"/>\n<ellipse fill=\"none\" stroke=\"#000000\" cx=\"369.1915\" cy=\"-24.7982\" rx=\"24.5979\" ry=\"24.5979\"/>\n<text text-anchor=\"middle\" x=\"369.1915\" y=\"-21.0982\" font-family=\"Times,serif\" font-size=\"14.00\" fill=\"#000000\">F4</text>\n</g>\n<!-- B&#45;&gt;F4 -->\n<g id=\"edge8\" class=\"edge\">\n<title>B&#45;&gt;F4</title>\n<path fill=\"none\" stroke=\"#000000\" d=\"M296.7677,-24.7982C307.4554,-24.7982 321.2849,-24.7982 333.9906,-24.7982\"/>\n<polygon fill=\"#000000\" stroke=\"#000000\" points=\"334.3055,-28.2983 344.3054,-24.7982 334.3054,-21.2983 334.3055,-28.2983\"/>\n<text text-anchor=\"middle\" x=\"320.3933\" y=\"-28.5982\" font-family=\"Times,serif\" font-size=\"14.00\" fill=\"#000000\">d </text>\n</g>\n<!-- F3 -->\n<g id=\"node6\" class=\"node\">\n<title>F3</title>\n<ellipse fill=\"none\" stroke=\"#000000\" cx=\"369.1915\" cy=\"-102.7982\" rx=\"20.6302\" ry=\"20.6302\"/>\n<ellipse fill=\"none\" stroke=\"#000000\" cx=\"369.1915\" cy=\"-102.7982\" rx=\"24.5979\" ry=\"24.5979\"/>\n<text text-anchor=\"middle\" x=\"369.1915\" y=\"-99.0982\" font-family=\"Times,serif\" font-size=\"14.00\" fill=\"#000000\">F3</text>\n</g>\n<!-- B&#45;&gt;F3 -->\n<g id=\"edge9\" class=\"edge\">\n<title>B&#45;&gt;F3</title>\n<path fill=\"none\" stroke=\"#000000\" d=\"M292.1836,-36.6447C305.4854,-48.0715 325.9742,-65.6724 342.4747,-79.8471\"/>\n<polygon fill=\"#000000\" stroke=\"#000000\" points=\"340.3394,-82.627 350.2056,-86.4884 344.9008,-77.3172 340.3394,-82.627\"/>\n<text text-anchor=\"middle\" x=\"320.3933\" y=\"-67.5982\" font-family=\"Times,serif\" font-size=\"14.00\" fill=\"#000000\">f </text>\n</g>\n<!-- I2&#45;&gt;B -->\n<g id=\"edge6\" class=\"edge\">\n<title>I2&#45;&gt;B</title>\n<path fill=\"none\" stroke=\"#000000\" d=\"M209.5043,-71.0769C222.3051,-62.4775 240.4581,-50.2825 254.9162,-40.5698\"/>\n<polygon fill=\"#000000\" stroke=\"#000000\" points=\"257.0109,-43.379 263.36,-34.8973 253.1074,-37.5685 257.0109,-43.379\"/>\n<text text-anchor=\"middle\" x=\"236.3933\" y=\"-60.5982\" font-family=\"Times,serif\" font-size=\"14.00\" fill=\"#000000\">b </text>\n</g>\n<!-- I2&#45;&gt;F3 -->\n<g id=\"edge5\" class=\"edge\">\n<title>I2&#45;&gt;F3</title>\n<path fill=\"none\" stroke=\"#000000\" d=\"M212.3422,-84.0455C241.3398,-87.5124 297.4593,-94.222 334.1115,-98.6041\"/>\n<polygon fill=\"#000000\" stroke=\"#000000\" points=\"334.0069,-102.1164 344.3517,-99.8284 334.8379,-95.1659 334.0069,-102.1164\"/>\n<text text-anchor=\"middle\" x=\"278.3933\" y=\"-97.5982\" font-family=\"Times,serif\" font-size=\"14.00\" fill=\"#000000\">c </text>\n</g>\n<!-- I1&#45;&gt;B -->\n<g id=\"edge3\" class=\"edge\">\n<title>I1&#45;&gt;B</title>\n<path fill=\"none\" stroke=\"#000000\" d=\"M128.855,-38.9939C158.3749,-36.1915 215.4247,-30.7758 249.8904,-27.5039\"/>\n<polygon fill=\"#000000\" stroke=\"#000000\" points=\"250.599,-30.9525 260.2235,-26.523 249.9374,-23.9838 250.599,-30.9525\"/>\n<text text-anchor=\"middle\" x=\"193.545\" y=\"-38.5982\" font-family=\"Times,serif\" font-size=\"14.00\" fill=\"#000000\">&#39;&#39; </text>\n</g>\n<!-- I1&#45;&gt;I2 -->\n<g id=\"edge4\" class=\"edge\">\n<title>I1&#45;&gt;I2</title>\n<path fill=\"none\" stroke=\"#000000\" d=\"M127.9903,-46.8522C136.8226,-50.0288 147.495,-54.2115 156.6967,-58.7982 160.8326,-60.8598 165.1,-63.2524 169.1988,-65.6993\"/>\n<polygon fill=\"#000000\" stroke=\"#000000\" points=\"167.4451,-68.7302 177.7862,-71.0355 171.1397,-62.7846 167.4451,-68.7302\"/>\n<text text-anchor=\"middle\" x=\"151.6967\" y=\"-62.5982\" font-family=\"Times,serif\" font-size=\"14.00\" fill=\"#000000\">a </text>\n</g>\n</g>\n</svg>\n"
          },
          "metadata": {
            "tags": []
          },
          "execution_count": 14
        }
      ]
    },
    {
      "cell_type": "markdown",
      "metadata": {
        "id": "b6bWV4AZ1Fan"
      },
      "source": [
        "## 2.2: Obtain an RE by looking at nfa1\n",
        "\n",
        "* Follow all paths\n",
        "\n",
        "* Summarize the paths in your head, using the Star operator suitably\n",
        "\n",
        "\n"
      ]
    },
    {
      "cell_type": "code",
      "metadata": {
        "id": "W2GdlsN01Fan"
      },
      "source": [
        "RE1_hand = \"(a (((b (s*) (d + f)) + c)) + '' (s*) (f + d) + (b (s*) (d + f)) + c)\""
      ],
      "execution_count": null,
      "outputs": []
    },
    {
      "cell_type": "code",
      "metadata": {
        "colab": {
          "base_uri": "https://localhost:8080/",
          "height": 167
        },
        "id": "KKG7DDgYtkIe",
        "outputId": "7d2feac4-d6e7-489b-9a14-9615f50f5618"
      },
      "source": [
        "dotObj_nfa(rnfa1)"
      ],
      "execution_count": null,
      "outputs": [
        {
          "output_type": "execute_result",
          "data": {
            "text/plain": [
              "<graphviz.dot.Digraph at 0x7f71f22f7908>"
            ],
            "image/svg+xml": "<?xml version=\"1.0\" encoding=\"UTF-8\" standalone=\"no\"?>\n<!DOCTYPE svg PUBLIC \"-//W3C//DTD SVG 1.1//EN\"\n \"http://www.w3.org/Graphics/SVG/1.1/DTD/svg11.dtd\">\n<!-- Generated by graphviz version 2.40.1 (20161225.0304)\n -->\n<!-- Title: %3 Pages: 1 -->\n<svg width=\"414pt\" height=\"110pt\"\n viewBox=\"0.00 0.00 413.89 109.65\" xmlns=\"http://www.w3.org/2000/svg\" xmlns:xlink=\"http://www.w3.org/1999/xlink\">\n<g id=\"graph0\" class=\"graph\" transform=\"scale(1 1) rotate(0) translate(4 105.6465)\">\n<title>%3</title>\n<polygon fill=\"#ffffff\" stroke=\"transparent\" points=\"-4,4 -4,-105.6465 409.8893,-105.6465 409.8893,4 -4,4\"/>\n<!-- EMPTY -->\n<g id=\"node1\" class=\"node\">\n<title>EMPTY</title>\n</g>\n<!-- I3 -->\n<g id=\"node2\" class=\"node\">\n<title>I3</title>\n<ellipse fill=\"none\" stroke=\"#000000\" cx=\"109.8483\" cy=\"-74.8483\" rx=\"18.6979\" ry=\"18.6979\"/>\n<text text-anchor=\"middle\" x=\"109.8483\" y=\"-71.1483\" font-family=\"Times,serif\" font-size=\"14.00\" fill=\"#000000\">I3</text>\n</g>\n<!-- EMPTY&#45;&gt;I3 -->\n<g id=\"edge1\" class=\"edge\">\n<title>EMPTY&#45;&gt;I3</title>\n<path fill=\"none\" stroke=\"#000000\" d=\"M54.1276,-55.344C63.111,-58.4885 73.1168,-61.9909 82.143,-65.1504\"/>\n<polygon fill=\"#000000\" stroke=\"#000000\" points=\"81.216,-68.5341 91.8108,-68.5345 83.5287,-61.9272 81.216,-68.5341\"/>\n</g>\n<!-- I4 -->\n<g id=\"node4\" class=\"node\">\n<title>I4</title>\n<ellipse fill=\"none\" stroke=\"#000000\" cx=\"109.8483\" cy=\"-18.8483\" rx=\"18.6979\" ry=\"18.6979\"/>\n<text text-anchor=\"middle\" x=\"109.8483\" y=\"-15.1483\" font-family=\"Times,serif\" font-size=\"14.00\" fill=\"#000000\">I4</text>\n</g>\n<!-- EMPTY&#45;&gt;I4 -->\n<g id=\"edge2\" class=\"edge\">\n<title>EMPTY&#45;&gt;I4</title>\n<path fill=\"none\" stroke=\"#000000\" d=\"M54.1276,-37.0075C63.111,-34.0799 73.1168,-30.819 82.143,-27.8774\"/>\n<polygon fill=\"#000000\" stroke=\"#000000\" points=\"83.3875,-31.1531 91.8108,-24.7267 81.2185,-24.4976 83.3875,-31.1531\"/>\n</g>\n<!-- B -->\n<g id=\"node3\" class=\"node\">\n<title>B</title>\n<ellipse fill=\"none\" stroke=\"#000000\" cx=\"194.6967\" cy=\"-18.8483\" rx=\"18\" ry=\"18\"/>\n<text text-anchor=\"middle\" x=\"194.6967\" y=\"-15.1483\" font-family=\"Times,serif\" font-size=\"14.00\" fill=\"#000000\">B</text>\n</g>\n<!-- I3&#45;&gt;B -->\n<g id=\"edge3\" class=\"edge\">\n<title>I3&#45;&gt;B</title>\n<path fill=\"none\" stroke=\"#000000\" d=\"M125.8076,-64.3152C138.6084,-55.8666 156.7615,-43.8856 171.2196,-34.3432\"/>\n<polygon fill=\"#000000\" stroke=\"#000000\" points=\"173.2452,-37.1999 179.6634,-28.7703 169.3893,-31.3576 173.2452,-37.1999\"/>\n<text text-anchor=\"middle\" x=\"152.6967\" y=\"-54.6483\" font-family=\"Times,serif\" font-size=\"14.00\" fill=\"#000000\">f </text>\n</g>\n<!-- F2 -->\n<g id=\"node5\" class=\"node\">\n<title>F2</title>\n<ellipse fill=\"none\" stroke=\"#000000\" cx=\"285.4948\" cy=\"-76.8483\" rx=\"20.6302\" ry=\"20.6302\"/>\n<ellipse fill=\"none\" stroke=\"#000000\" cx=\"285.4948\" cy=\"-76.8483\" rx=\"24.5979\" ry=\"24.5979\"/>\n<text text-anchor=\"middle\" x=\"285.4948\" y=\"-73.1483\" font-family=\"Times,serif\" font-size=\"14.00\" fill=\"#000000\">F2</text>\n</g>\n<!-- I3&#45;&gt;F2 -->\n<g id=\"edge4\" class=\"edge\">\n<title>I3&#45;&gt;F2</title>\n<path fill=\"none\" stroke=\"#000000\" d=\"M128.8522,-76.2886C142.2235,-77.2277 160.5432,-78.3655 176.6967,-78.8483 201.2509,-79.5823 228.9309,-79.0547 250.2263,-78.3577\"/>\n<polygon fill=\"#000000\" stroke=\"#000000\" points=\"250.558,-81.8482 260.4274,-77.9952 250.3093,-74.8526 250.558,-81.8482\"/>\n<text text-anchor=\"middle\" x=\"194.6967\" y=\"-83.6483\" font-family=\"Times,serif\" font-size=\"14.00\" fill=\"#000000\">c </text>\n</g>\n<!-- B&#45;&gt;B -->\n<g id=\"edge8\" class=\"edge\">\n<title>B&#45;&gt;B</title>\n<path fill=\"none\" stroke=\"#000000\" d=\"M187.3138,-35.5124C185.6732,-45.4733 188.1342,-54.8483 194.6967,-54.8483 198.9008,-54.8483 201.4216,-51.0008 202.2591,-45.6166\"/>\n<polygon fill=\"#000000\" stroke=\"#000000\" points=\"205.7568,-45.4486 202.0795,-35.5124 198.7579,-45.5731 205.7568,-45.4486\"/>\n<text text-anchor=\"middle\" x=\"194.6967\" y=\"-58.6483\" font-family=\"Times,serif\" font-size=\"14.00\" fill=\"#000000\">s </text>\n</g>\n<!-- B&#45;&gt;F2 -->\n<g id=\"edge6\" class=\"edge\">\n<title>B&#45;&gt;F2</title>\n<path fill=\"none\" stroke=\"#000000\" d=\"M210.0993,-28.6872C222.6187,-36.6843 240.6465,-48.2001 255.9346,-57.9658\"/>\n<polygon fill=\"#000000\" stroke=\"#000000\" points=\"254.2455,-61.04 264.557,-63.4737 258.0138,-55.1408 254.2455,-61.04\"/>\n<text text-anchor=\"middle\" x=\"236.6967\" y=\"-51.6483\" font-family=\"Times,serif\" font-size=\"14.00\" fill=\"#000000\">b </text>\n</g>\n<!-- F1 -->\n<g id=\"node6\" class=\"node\">\n<title>F1</title>\n<ellipse fill=\"none\" stroke=\"#000000\" cx=\"381.0911\" cy=\"-34.8483\" rx=\"20.6302\" ry=\"20.6302\"/>\n<ellipse fill=\"none\" stroke=\"#000000\" cx=\"381.0911\" cy=\"-34.8483\" rx=\"24.5979\" ry=\"24.5979\"/>\n<text text-anchor=\"middle\" x=\"381.0911\" y=\"-31.1483\" font-family=\"Times,serif\" font-size=\"14.00\" fill=\"#000000\">F1</text>\n</g>\n<!-- B&#45;&gt;F1 -->\n<g id=\"edge7\" class=\"edge\">\n<title>B&#45;&gt;F1</title>\n<path fill=\"none\" stroke=\"#000000\" d=\"M212.7268,-20.1352C235.4779,-21.7858 275.8045,-24.8011 310.293,-27.8483 321.9735,-28.8804 334.7274,-30.1096 346.1521,-31.2479\"/>\n<polygon fill=\"#000000\" stroke=\"#000000\" points=\"345.9014,-34.7403 356.2017,-32.2595 346.6025,-27.7755 345.9014,-34.7403\"/>\n<text text-anchor=\"middle\" x=\"285.4948\" y=\"-31.6483\" font-family=\"Times,serif\" font-size=\"14.00\" fill=\"#000000\">&#39;&#39; </text>\n</g>\n<!-- I4&#45;&gt;B -->\n<g id=\"edge5\" class=\"edge\">\n<title>I4&#45;&gt;B</title>\n<path fill=\"none\" stroke=\"#000000\" d=\"M129.1017,-18.8483C140.1442,-18.8483 154.2078,-18.8483 166.4787,-18.8483\"/>\n<polygon fill=\"#000000\" stroke=\"#000000\" points=\"166.6798,-22.3484 176.6798,-18.8483 166.6798,-15.3484 166.6798,-22.3484\"/>\n<text text-anchor=\"middle\" x=\"152.6967\" y=\"-22.6483\" font-family=\"Times,serif\" font-size=\"14.00\" fill=\"#000000\">d </text>\n</g>\n<!-- F2&#45;&gt;F1 -->\n<g id=\"edge9\" class=\"edge\">\n<title>F2&#45;&gt;F1</title>\n<path fill=\"none\" stroke=\"#000000\" d=\"M308.636,-66.6813C320.7306,-61.3676 335.7255,-54.7796 348.9309,-48.9779\"/>\n<polygon fill=\"#000000\" stroke=\"#000000\" points=\"350.4155,-52.1485 358.163,-44.9217 347.5998,-45.7398 350.4155,-52.1485\"/>\n<text text-anchor=\"middle\" x=\"333.293\" y=\"-61.6483\" font-family=\"Times,serif\" font-size=\"14.00\" fill=\"#000000\">a </text>\n</g>\n</g>\n</svg>\n"
          },
          "metadata": {
            "tags": []
          },
          "execution_count": 16
        }
      ]
    },
    {
      "cell_type": "markdown",
      "metadata": {
        "id": "kFsWMB9l1Fan"
      },
      "source": [
        "## 2.3: Reverse RE1 by hand to obtain Rev_RE1\n",
        "\n",
        "Once you have an RE, you can \"visually reverse it\" for simple REs"
      ]
    },
    {
      "cell_type": "code",
      "metadata": {
        "id": "OTCTyqlv1Fao"
      },
      "source": [
        "Rev_RE1_hand = \"(f (((s*) (( b + (b a) ) + '')) )) + (c + c a) + (d ((s*) (b + (b a) + '')))\""
      ],
      "execution_count": null,
      "outputs": []
    },
    {
      "cell_type": "markdown",
      "metadata": {
        "id": "Fqhsan3o1Fao"
      },
      "source": [
        "## 2.4: Understand del_gnfa_states via help"
      ]
    },
    {
      "cell_type": "code",
      "metadata": {
        "colab": {
          "base_uri": "https://localhost:8080/"
        },
        "id": "hCqZvGl08y2g",
        "outputId": "92f86170-e31d-4835-8c2d-452b37a60281"
      },
      "source": [
        "help(del_gnfa_states)"
      ],
      "execution_count": null,
      "outputs": [
        {
          "output_type": "stream",
          "text": [
            "Help on function del_gnfa_states in module jove.Def_NFA2RE:\n",
            "\n",
            "del_gnfa_states(Gin, DelList=[])\n",
            "    Given a GNFA Gin with no unreachable states, \n",
            "    delete all states but f\n",
            "    or Real_I and Real_F.\n",
            "    If DelList is given, follow the state deletion\n",
            "    order mentioned therein; else choose order internally.\n",
            "    \n",
            "    Return a triple (Gfinal, dotObj_List, final_re_str), where\n",
            "      Gfinal       : the final GNFA\n",
            "      dotObj_List  : a list of Dot objects recording the process of\n",
            "                     deleting states and forming intermediate REs\n",
            "      final_re_str : the final RE as a string (ready to be fed to  \n",
            "                     re2nfa for converting back to an NFA)\n",
            "\n"
          ],
          "name": "stdout"
        }
      ]
    },
    {
      "cell_type": "code",
      "metadata": {
        "id": "St7Zo8AY1Fao"
      },
      "source": [
        "# help of del_gnfa_states run below"
      ],
      "execution_count": null,
      "outputs": []
    },
    {
      "cell_type": "markdown",
      "metadata": {
        "id": "2KFNXlqV1Fao"
      },
      "source": [
        "### Document what you learned from the function help of del_gnfa_states and summarize below\n",
        "\n",
        "\n",
        "* del_gnfa_states deletes everything but the final state.\n",
        "\n",
        "* If Real_I or Real_F are defined, they are preserved.\n",
        "\n",
        "* The order to delete states can be provided in DelList.\n",
        "\n",
        "* This function returns a triple containing the gnfa, a dot object that shows the deletion order, and a regular expression"
      ]
    },
    {
      "cell_type": "markdown",
      "metadata": {
        "id": "5tn3lrpW1Fap"
      },
      "source": [
        "# Problem 3: Converting to GNFA and Attempting Two Elimination Orders\n",
        "\n",
        "Work on rnfa1 to obtain Rev_RE1 and Rev_RE2 "
      ]
    },
    {
      "cell_type": "markdown",
      "metadata": {
        "id": "eOmufZDa1Fap"
      },
      "source": [
        "## 3.1: Obtain grnfa1 below via a suitable command"
      ]
    },
    {
      "cell_type": "code",
      "metadata": {
        "id": "9jf13qhs1Faq"
      },
      "source": [
        "grnfa1 = mk_gnfa(rnfa1)"
      ],
      "execution_count": null,
      "outputs": []
    },
    {
      "cell_type": "code",
      "metadata": {
        "id": "iF-KnQi01Faq",
        "colab": {
          "base_uri": "https://localhost:8080/",
          "height": 160
        },
        "outputId": "e21caff9-bb4c-4488-806a-d7a0ed64cf51"
      },
      "source": [
        "dotObj_gnfa(grnfa1)"
      ],
      "execution_count": null,
      "outputs": [
        {
          "output_type": "execute_result",
          "data": {
            "text/plain": [
              "<graphviz.dot.Digraph at 0x7f71f22fb6d8>"
            ],
            "image/svg+xml": "<?xml version=\"1.0\" encoding=\"UTF-8\" standalone=\"no\"?>\n<!DOCTYPE svg PUBLIC \"-//W3C//DTD SVG 1.1//EN\"\n \"http://www.w3.org/Graphics/SVG/1.1/DTD/svg11.dtd\">\n<!-- Generated by graphviz version 2.40.1 (20161225.0304)\n -->\n<!-- Title: %3 Pages: 1 -->\n<svg width=\"641pt\" height=\"105pt\"\n viewBox=\"0.00 0.00 641.48 104.65\" xmlns=\"http://www.w3.org/2000/svg\" xmlns:xlink=\"http://www.w3.org/1999/xlink\">\n<g id=\"graph0\" class=\"graph\" transform=\"scale(1 1) rotate(0) translate(4 100.6465)\">\n<title>%3</title>\n<polygon fill=\"#ffffff\" stroke=\"transparent\" points=\"-4,4 -4,-100.6465 637.4764,-100.6465 637.4764,4 -4,4\"/>\n<!-- EMPTY -->\n<g id=\"node1\" class=\"node\">\n<title>EMPTY</title>\n</g>\n<!-- Real_I -->\n<g id=\"node7\" class=\"node\">\n<title>Real_I</title>\n<ellipse fill=\"none\" stroke=\"#000000\" cx=\"126.0969\" cy=\"-46.8483\" rx=\"35.194\" ry=\"35.194\"/>\n<text text-anchor=\"middle\" x=\"126.0969\" y=\"-43.1483\" font-family=\"Times,serif\" font-size=\"14.00\" fill=\"#000000\">Real_I</text>\n</g>\n<!-- EMPTY&#45;&gt;Real_I -->\n<g id=\"edge1\" class=\"edge\">\n<title>EMPTY&#45;&gt;Real_I</title>\n<path fill=\"none\" stroke=\"#000000\" d=\"M54.0787,-46.8483C62.3227,-46.8483 71.6196,-46.8483 80.7269,-46.8483\"/>\n<polygon fill=\"#000000\" stroke=\"#000000\" points=\"80.8626,-50.3484 90.8626,-46.8483 80.8625,-43.3484 80.8626,-50.3484\"/>\n</g>\n<!-- F1 -->\n<g id=\"node2\" class=\"node\">\n<title>F1</title>\n<ellipse fill=\"none\" stroke=\"#000000\" cx=\"484.2849\" cy=\"-24.8483\" rx=\"20.5982\" ry=\"20.5982\"/>\n<text text-anchor=\"middle\" x=\"484.2849\" y=\"-21.1483\" font-family=\"Times,serif\" font-size=\"14.00\" fill=\"#000000\">F1</text>\n</g>\n<!-- Real_F -->\n<g id=\"node8\" class=\"node\">\n<title>Real_F</title>\n<ellipse fill=\"none\" stroke=\"#000000\" cx=\"591.7797\" cy=\"-53.8483\" rx=\"37.8753\" ry=\"37.8753\"/>\n<ellipse fill=\"none\" stroke=\"#000000\" cx=\"591.7797\" cy=\"-53.8483\" rx=\"41.8942\" ry=\"41.8942\"/>\n<text text-anchor=\"middle\" x=\"591.7797\" y=\"-50.1483\" font-family=\"Times,serif\" font-size=\"14.00\" fill=\"#000000\">Real_F</text>\n</g>\n<!-- F1&#45;&gt;Real_F -->\n<g id=\"edge12\" class=\"edge\">\n<title>F1&#45;&gt;Real_F</title>\n<path fill=\"none\" stroke=\"#000000\" d=\"M504.5038,-30.303C514.9721,-33.1271 528.2656,-36.7135 541.3017,-40.2304\"/>\n<polygon fill=\"#000000\" stroke=\"#000000\" points=\"540.6028,-43.6669 551.1692,-42.8924 542.4261,-36.9085 540.6028,-43.6669\"/>\n<text text-anchor=\"middle\" x=\"527.583\" y=\"-41.6483\" font-family=\"Times,serif\" font-size=\"14.00\" fill=\"#000000\">&#39;&#39; </text>\n</g>\n<!-- F2 -->\n<g id=\"node3\" class=\"node\">\n<title>F2</title>\n<ellipse fill=\"none\" stroke=\"#000000\" cx=\"396.6886\" cy=\"-75.8483\" rx=\"20.5982\" ry=\"20.5982\"/>\n<text text-anchor=\"middle\" x=\"396.6886\" y=\"-72.1483\" font-family=\"Times,serif\" font-size=\"14.00\" fill=\"#000000\">F2</text>\n</g>\n<!-- F2&#45;&gt;F1 -->\n<g id=\"edge8\" class=\"edge\">\n<title>F2&#45;&gt;F1</title>\n<path fill=\"none\" stroke=\"#000000\" d=\"M414.8163,-65.03C421.323,-61.166 428.7228,-56.7935 435.4867,-52.8483 442.6056,-48.6961 450.3328,-44.2394 457.494,-40.1298\"/>\n<polygon fill=\"#000000\" stroke=\"#000000\" points=\"459.2353,-43.166 466.1737,-35.1592 455.7566,-37.0915 459.2353,-43.166\"/>\n<text text-anchor=\"middle\" x=\"440.4867\" y=\"-56.6483\" font-family=\"Times,serif\" font-size=\"14.00\" fill=\"#000000\">a </text>\n</g>\n<!-- F2&#45;&gt;Real_F -->\n<g id=\"edge11\" class=\"edge\">\n<title>F2&#45;&gt;Real_F</title>\n<path fill=\"none\" stroke=\"#000000\" d=\"M417.5667,-73.4939C446.5934,-70.2207 500.0878,-64.1882 540.1711,-59.6681\"/>\n<polygon fill=\"#000000\" stroke=\"#000000\" points=\"540.7641,-63.1235 550.3089,-58.5249 539.9797,-56.1676 540.7641,-63.1235\"/>\n<text text-anchor=\"middle\" x=\"484.2849\" y=\"-71.6483\" font-family=\"Times,serif\" font-size=\"14.00\" fill=\"#000000\">&#39;&#39; </text>\n</g>\n<!-- I3 -->\n<g id=\"node4\" class=\"node\">\n<title>I3</title>\n<ellipse fill=\"none\" stroke=\"#000000\" cx=\"225.0421\" cy=\"-74.8483\" rx=\"18.6979\" ry=\"18.6979\"/>\n<text text-anchor=\"middle\" x=\"225.0421\" y=\"-71.1483\" font-family=\"Times,serif\" font-size=\"14.00\" fill=\"#000000\">I3</text>\n</g>\n<!-- I3&#45;&gt;F2 -->\n<g id=\"edge3\" class=\"edge\">\n<title>I3&#45;&gt;F2</title>\n<path fill=\"none\" stroke=\"#000000\" d=\"M244.046,-76.2886C257.4173,-77.2277 275.737,-78.3655 291.8904,-78.8483 316.679,-79.5893 344.767,-78.6917 365.6205,-77.6899\"/>\n<polygon fill=\"#000000\" stroke=\"#000000\" points=\"366.0038,-81.1749 375.8104,-77.1646 365.6434,-74.1842 366.0038,-81.1749\"/>\n<text text-anchor=\"middle\" x=\"309.8904\" y=\"-82.6483\" font-family=\"Times,serif\" font-size=\"14.00\" fill=\"#000000\">c </text>\n</g>\n<!-- B -->\n<g id=\"node6\" class=\"node\">\n<title>B</title>\n<ellipse fill=\"none\" stroke=\"#000000\" cx=\"309.8904\" cy=\"-18.8483\" rx=\"18\" ry=\"18\"/>\n<text text-anchor=\"middle\" x=\"309.8904\" y=\"-15.1483\" font-family=\"Times,serif\" font-size=\"14.00\" fill=\"#000000\">B</text>\n</g>\n<!-- I3&#45;&gt;B -->\n<g id=\"edge2\" class=\"edge\">\n<title>I3&#45;&gt;B</title>\n<path fill=\"none\" stroke=\"#000000\" d=\"M241.0014,-64.3152C253.8022,-55.8666 271.9553,-43.8856 286.4133,-34.3432\"/>\n<polygon fill=\"#000000\" stroke=\"#000000\" points=\"288.439,-37.1999 294.8571,-28.7703 284.5831,-31.3576 288.439,-37.1999\"/>\n<text text-anchor=\"middle\" x=\"267.8904\" y=\"-54.6483\" font-family=\"Times,serif\" font-size=\"14.00\" fill=\"#000000\">f </text>\n</g>\n<!-- I4 -->\n<g id=\"node5\" class=\"node\">\n<title>I4</title>\n<ellipse fill=\"none\" stroke=\"#000000\" cx=\"225.0421\" cy=\"-18.8483\" rx=\"18.6979\" ry=\"18.6979\"/>\n<text text-anchor=\"middle\" x=\"225.0421\" y=\"-15.1483\" font-family=\"Times,serif\" font-size=\"14.00\" fill=\"#000000\">I4</text>\n</g>\n<!-- I4&#45;&gt;B -->\n<g id=\"edge4\" class=\"edge\">\n<title>I4&#45;&gt;B</title>\n<path fill=\"none\" stroke=\"#000000\" d=\"M244.2955,-18.8483C255.3379,-18.8483 269.4015,-18.8483 281.6725,-18.8483\"/>\n<polygon fill=\"#000000\" stroke=\"#000000\" points=\"281.8736,-22.3484 291.8736,-18.8483 281.8735,-15.3484 281.8736,-22.3484\"/>\n<text text-anchor=\"middle\" x=\"267.8904\" y=\"-22.6483\" font-family=\"Times,serif\" font-size=\"14.00\" fill=\"#000000\">d </text>\n</g>\n<!-- B&#45;&gt;F1 -->\n<g id=\"edge6\" class=\"edge\">\n<title>B&#45;&gt;F1</title>\n<path fill=\"none\" stroke=\"#000000\" d=\"M327.8968,-19.4678C357.5205,-20.487 416.8797,-22.5293 453.3416,-23.7837\"/>\n<polygon fill=\"#000000\" stroke=\"#000000\" points=\"453.3049,-27.2844 463.4194,-24.1305 453.5457,-20.2886 453.3049,-27.2844\"/>\n<text text-anchor=\"middle\" x=\"396.6886\" y=\"-26.6483\" font-family=\"Times,serif\" font-size=\"14.00\" fill=\"#000000\">&#39;&#39; </text>\n</g>\n<!-- B&#45;&gt;F2 -->\n<g id=\"edge5\" class=\"edge\">\n<title>B&#45;&gt;F2</title>\n<path fill=\"none\" stroke=\"#000000\" d=\"M325.0095,-28.777C337.4785,-36.9653 355.4641,-48.7764 370.2993,-58.5186\"/>\n<polygon fill=\"#000000\" stroke=\"#000000\" points=\"368.7718,-61.7027 379.0518,-64.2663 372.6142,-55.8515 368.7718,-61.7027\"/>\n<text text-anchor=\"middle\" x=\"351.8904\" y=\"-53.6483\" font-family=\"Times,serif\" font-size=\"14.00\" fill=\"#000000\">b </text>\n</g>\n<!-- B&#45;&gt;B -->\n<g id=\"edge7\" class=\"edge\">\n<title>B&#45;&gt;B</title>\n<path fill=\"none\" stroke=\"#000000\" d=\"M302.5076,-35.5124C300.867,-45.4733 303.3279,-54.8483 309.8904,-54.8483 314.0945,-54.8483 316.6153,-51.0008 317.4529,-45.6166\"/>\n<polygon fill=\"#000000\" stroke=\"#000000\" points=\"320.9505,-45.4486 317.2732,-35.5124 313.9517,-45.5731 320.9505,-45.4486\"/>\n<text text-anchor=\"middle\" x=\"309.8904\" y=\"-58.6483\" font-family=\"Times,serif\" font-size=\"14.00\" fill=\"#000000\">s </text>\n</g>\n<!-- Real_I&#45;&gt;I3 -->\n<g id=\"edge9\" class=\"edge\">\n<title>Real_I&#45;&gt;I3</title>\n<path fill=\"none\" stroke=\"#000000\" d=\"M159.8715,-56.406C171.873,-59.8023 185.2495,-63.5876 196.7456,-66.8408\"/>\n<polygon fill=\"#000000\" stroke=\"#000000\" points=\"196.106,-70.2972 206.6812,-69.6525 198.0121,-63.5617 196.106,-70.2972\"/>\n<text text-anchor=\"middle\" x=\"183.6938\" y=\"-67.6483\" font-family=\"Times,serif\" font-size=\"14.00\" fill=\"#000000\">&#39;&#39; </text>\n</g>\n<!-- Real_I&#45;&gt;I4 -->\n<g id=\"edge10\" class=\"edge\">\n<title>Real_I&#45;&gt;I4</title>\n<path fill=\"none\" stroke=\"#000000\" d=\"M159.8715,-37.2906C171.873,-33.8944 185.2495,-30.109 196.7456,-26.8558\"/>\n<polygon fill=\"#000000\" stroke=\"#000000\" points=\"198.0121,-30.1349 206.6812,-24.0442 196.106,-23.3994 198.0121,-30.1349\"/>\n<text text-anchor=\"middle\" x=\"183.6938\" y=\"-35.6483\" font-family=\"Times,serif\" font-size=\"14.00\" fill=\"#000000\">&#39;&#39; </text>\n</g>\n</g>\n</svg>\n"
          },
          "metadata": {
            "tags": []
          },
          "execution_count": 21
        }
      ]
    },
    {
      "cell_type": "markdown",
      "metadata": {
        "id": "VFtjQsTs1Faq"
      },
      "source": [
        "## 3.2: Apply the elimination order by supplying the second argument \n",
        "['B', 'F2', 'F1', 'I3', 'I4']\n",
        "\n",
        "as you learned in the help"
      ]
    },
    {
      "cell_type": "code",
      "metadata": {
        "colab": {
          "base_uri": "https://localhost:8080/"
        },
        "id": "s9Egk4NGqg5J",
        "outputId": "2601a479-cc8c-45c7-a2dd-cdb5cfd6b5bf"
      },
      "source": [
        "help(del_gnfa_states)"
      ],
      "execution_count": null,
      "outputs": [
        {
          "output_type": "stream",
          "text": [
            "Help on function del_gnfa_states in module jove.Def_NFA2RE:\n",
            "\n",
            "del_gnfa_states(Gin, DelList=[])\n",
            "    Given a GNFA Gin with no unreachable states, \n",
            "    delete all states but f\n",
            "    or Real_I and Real_F.\n",
            "    If DelList is given, follow the state deletion\n",
            "    order mentioned therein; else choose order internally.\n",
            "    \n",
            "    Return a triple (Gfinal, dotObj_List, final_re_str), where\n",
            "      Gfinal       : the final GNFA\n",
            "      dotObj_List  : a list of Dot objects recording the process of\n",
            "                     deleting states and forming intermediate REs\n",
            "      final_re_str : the final RE as a string (ready to be fed to  \n",
            "                     re2nfa for converting back to an NFA)\n",
            "\n"
          ],
          "name": "stdout"
        }
      ]
    },
    {
      "cell_type": "code",
      "metadata": {
        "id": "4XkJaoDL1Far",
        "colab": {
          "base_uri": "https://localhost:8080/"
        },
        "outputId": "db21cef4-951d-4966-81d2-d8e64d86d778"
      },
      "source": [
        "(Gfinal, DO, Rev_RE1) = del_gnfa_states(grnfa1, DelList=['B','F2','F1','I3','I4'])"
      ],
      "execution_count": null,
      "outputs": [
        {
          "output_type": "stream",
          "text": [
            "**** Eliminating state B ****\n",
            "**** Eliminating state F2 ****\n",
            "**** Eliminating state F1 ****\n",
            "**** Eliminating state I3 ****\n",
            "**** Eliminating state I4 ****\n"
          ],
          "name": "stdout"
        }
      ]
    },
    {
      "cell_type": "code",
      "metadata": {
        "id": "sKfYnSmmi-II",
        "colab": {
          "base_uri": "https://localhost:8080/"
        },
        "outputId": "dfb84c33-f04e-4281-c9d1-06f97ac0831c"
      },
      "source": [
        "Gfinal"
      ],
      "execution_count": null,
      "outputs": [
        {
          "output_type": "execute_result",
          "data": {
            "text/plain": [
              "{'Delta': {('Real_I',\n",
              "   ('+',\n",
              "    (('+',\n",
              "      (('+',\n",
              "        (('+',\n",
              "          (('+',\n",
              "            (('+',\n",
              "              (('.', (('.', ('d', ('.', (('*', 's'), 'b')))), 'a')),\n",
              "               ('.', ('d', ('*', 's'))))),\n",
              "             ('.', ('d', ('*', 's'))))),\n",
              "           ('.', ('d', ('.', (('*', 's'), 'b')))))),\n",
              "         ('.', ('d', ('.', (('*', 's'), 'b')))))),\n",
              "       ('+',\n",
              "        (('+',\n",
              "          (('+',\n",
              "            (('+',\n",
              "              (('.',\n",
              "                (('+',\n",
              "                  (('+', (('.', ('f', ('.', (('*', 's'), 'b')))), 'c')), 'c')),\n",
              "                 'a')),\n",
              "               ('.', ('f', ('*', 's'))))),\n",
              "             ('.', ('f', ('*', 's'))))),\n",
              "           ('+',\n",
              "            (('+', (('.', ('f', ('.', (('*', 's'), 'b')))), 'c')), 'c')))),\n",
              "         ('+',\n",
              "          (('+', (('.', ('f', ('.', (('*', 's'), 'b')))), 'c')), 'c')))))),\n",
              "     ('+',\n",
              "      (('+',\n",
              "        (('+',\n",
              "          (('+',\n",
              "            (('.',\n",
              "              (('+',\n",
              "                (('+', (('.', ('f', ('.', (('*', 's'), 'b')))), 'c')), 'c')),\n",
              "               'a')),\n",
              "             ('.', ('f', ('*', 's'))))),\n",
              "           ('.', ('f', ('*', 's'))))),\n",
              "         ('+', (('+', (('.', ('f', ('.', (('*', 's'), 'b')))), 'c')), 'c')))),\n",
              "       ('+',\n",
              "        (('+', (('.', ('f', ('.', (('*', 's'), 'b')))), 'c')),\n",
              "         'c'))))))): {'Real_F'}},\n",
              " 'F': {'Real_F'},\n",
              " 'Q': {'Real_F', 'Real_I'},\n",
              " 'Q0': {'Real_I'},\n",
              " 'Sigma': {('+',\n",
              "   (('+',\n",
              "     (('+',\n",
              "       (('+',\n",
              "         (('+',\n",
              "           (('+',\n",
              "             (('.', (('.', ('d', ('.', (('*', 's'), 'b')))), 'a')),\n",
              "              ('.', ('d', ('*', 's'))))),\n",
              "            ('.', ('d', ('*', 's'))))),\n",
              "          ('.', ('d', ('.', (('*', 's'), 'b')))))),\n",
              "        ('.', ('d', ('.', (('*', 's'), 'b')))))),\n",
              "      ('+',\n",
              "       (('+',\n",
              "         (('+',\n",
              "           (('+',\n",
              "             (('.',\n",
              "               (('+',\n",
              "                 (('+', (('.', ('f', ('.', (('*', 's'), 'b')))), 'c')), 'c')),\n",
              "                'a')),\n",
              "              ('.', ('f', ('*', 's'))))),\n",
              "            ('.', ('f', ('*', 's'))))),\n",
              "          ('+', (('+', (('.', ('f', ('.', (('*', 's'), 'b')))), 'c')), 'c')))),\n",
              "        ('+', (('+', (('.', ('f', ('.', (('*', 's'), 'b')))), 'c')), 'c')))))),\n",
              "    ('+',\n",
              "     (('+',\n",
              "       (('+',\n",
              "         (('+',\n",
              "           (('.',\n",
              "             (('+',\n",
              "               (('+', (('.', ('f', ('.', (('*', 's'), 'b')))), 'c')), 'c')),\n",
              "              'a')),\n",
              "            ('.', ('f', ('*', 's'))))),\n",
              "          ('.', ('f', ('*', 's'))))),\n",
              "        ('+', (('+', (('.', ('f', ('.', (('*', 's'), 'b')))), 'c')), 'c')))),\n",
              "      ('+', (('+', (('.', ('f', ('.', (('*', 's'), 'b')))), 'c')), 'c'))))))}}"
            ]
          },
          "metadata": {
            "tags": []
          },
          "execution_count": 24
        }
      ]
    },
    {
      "cell_type": "code",
      "metadata": {
        "id": "z2PSBdrbjJxm",
        "colab": {
          "base_uri": "https://localhost:8080/"
        },
        "outputId": "88b9c459-ad5c-4cf3-9205-fd2da17d6178"
      },
      "source": [
        "for i in DO:\r\n",
        "  print(i)"
      ],
      "execution_count": null,
      "outputs": [
        {
          "output_type": "stream",
          "text": [
            "// GO_St12\n",
            "digraph {\n",
            "\tgraph [rankdir=LR]\n",
            "\tEMPTY [label=\"\" shape=plaintext]\n",
            "\tReal_I [label=Real_I peripheries=1 shape=circle]\n",
            "\tF2 [label=F2 peripheries=1 shape=circle]\n",
            "\tI3 [label=I3 peripheries=1 shape=circle]\n",
            "\tI4 [label=I4 peripheries=1 shape=circle]\n",
            "\tB [label=B peripheries=1 shape=circle]\n",
            "\tF1 [label=F1 peripheries=1 shape=circle]\n",
            "\tReal_F [label=Real_F peripheries=2 shape=circle]\n",
            "\tEMPTY -> Real_I\n",
            "\tI3 -> B [label=\"f \"]\n",
            "\tI3 -> F2 [label=\"c \"]\n",
            "\tI4 -> B [label=\"d \"]\n",
            "\tB -> F2 [label=\"b \"]\n",
            "\tB -> F1 [label=\"'' \"]\n",
            "\tB -> B [label=\"s \"]\n",
            "\tF2 -> F1 [label=\"a \"]\n",
            "\tReal_I -> I3 [label=\"'' \"]\n",
            "\tReal_I -> I4 [label=\"'' \"]\n",
            "\tF2 -> Real_F [label=\"'' \"]\n",
            "\tF1 -> Real_F [label=\"'' \"]\n",
            "}\n",
            "// GO_St13\n",
            "digraph {\n",
            "\tgraph [rankdir=LR]\n",
            "\tEMPTY [label=\"\" shape=plaintext]\n",
            "\tReal_I [label=Real_I peripheries=1 shape=circle]\n",
            "\tF2 [label=F2 peripheries=1 shape=circle]\n",
            "\tI3 [label=I3 peripheries=1 shape=circle]\n",
            "\tI4 [label=I4 peripheries=1 shape=circle]\n",
            "\tF1 [label=F1 peripheries=1 shape=circle]\n",
            "\tReal_F [label=Real_F peripheries=2 shape=circle]\n",
            "\tEMPTY -> Real_I\n",
            "\tI3 -> F2 [label=\"((f ((s)* b)) + c) \"]\n",
            "\tI3 -> F1 [label=\"(f (s)*) \"]\n",
            "\tI4 -> F2 [label=\"(d ((s)* b)) \"]\n",
            "\tI4 -> F1 [label=\"(d (s)*) \"]\n",
            "\tI3 -> F2 [label=\"c \"]\n",
            "\tF2 -> F1 [label=\"a \"]\n",
            "\tReal_I -> I3 [label=\"\\\"\\\" \"]\n",
            "\tReal_I -> I4 [label=\"\\\"\\\" \"]\n",
            "\tF2 -> Real_F [label=\"\\\"\\\" \"]\n",
            "\tF1 -> Real_F [label=\"\\\"\\\" \"]\n",
            "}\n",
            "// GO_St14\n",
            "digraph {\n",
            "\tgraph [rankdir=LR]\n",
            "\tEMPTY [label=\"\" shape=plaintext]\n",
            "\tReal_I [label=Real_I peripheries=1 shape=circle]\n",
            "\tI3 [label=I3 peripheries=1 shape=circle]\n",
            "\tI4 [label=I4 peripheries=1 shape=circle]\n",
            "\tF1 [label=F1 peripheries=1 shape=circle]\n",
            "\tReal_F [label=Real_F peripheries=2 shape=circle]\n",
            "\tEMPTY -> Real_I\n",
            "\tI3 -> F1 [label=\"(((((f ((s)* b)) + c) + c) a) + (f (s)*)) \"]\n",
            "\tI3 -> Real_F [label=\"(((f ((s)* b)) + c) + c) \"]\n",
            "\tI4 -> F1 [label=\"(((d ((s)* b)) a) + (d (s)*)) \"]\n",
            "\tI4 -> Real_F [label=\"(d ((s)* b)) \"]\n",
            "\tI3 -> F1 [label=\"(f (s)*) \"]\n",
            "\tI4 -> F1 [label=\"(d (s)*) \"]\n",
            "\tReal_I -> I3 [label=\"\\\"\\\" \"]\n",
            "\tReal_I -> I4 [label=\"\\\"\\\" \"]\n",
            "\tF1 -> Real_F [label=\"\\\"\\\" \"]\n",
            "}\n",
            "// GO_St15\n",
            "digraph {\n",
            "\tgraph [rankdir=LR]\n",
            "\tEMPTY [label=\"\" shape=plaintext]\n",
            "\tReal_I [label=Real_I peripheries=1 shape=circle]\n",
            "\tI3 [label=I3 peripheries=1 shape=circle]\n",
            "\tI4 [label=I4 peripheries=1 shape=circle]\n",
            "\tReal_F [label=Real_F peripheries=2 shape=circle]\n",
            "\tEMPTY -> Real_I\n",
            "\tI3 -> Real_F [label=\"(((((((f ((s)* b)) + c) + c) a) + (f (s)*)) + (f (s)*)) + (((f ((s)* b)) + c) + c)) \"]\n",
            "\tI4 -> Real_F [label=\"(((((d ((s)* b)) a) + (d (s)*)) + (d (s)*)) + (d ((s)* b))) \"]\n",
            "\tI3 -> Real_F [label=\"(((f ((s)* b)) + c) + c) \"]\n",
            "\tI4 -> Real_F [label=\"(d ((s)* b)) \"]\n",
            "\tReal_I -> I3 [label=\"\\\"\\\" \"]\n",
            "\tReal_I -> I4 [label=\"\\\"\\\" \"]\n",
            "}\n",
            "// GO_St16\n",
            "digraph {\n",
            "\tgraph [rankdir=LR]\n",
            "\tEMPTY [label=\"\" shape=plaintext]\n",
            "\tReal_I [label=Real_I peripheries=1 shape=circle]\n",
            "\tI4 [label=I4 peripheries=1 shape=circle]\n",
            "\tReal_F [label=Real_F peripheries=2 shape=circle]\n",
            "\tEMPTY -> Real_I\n",
            "\tReal_I -> Real_F [label=\"((((((((f ((s)* b)) + c) + c) a) + (f (s)*)) + (f (s)*)) + (((f ((s)* b)) + c) + c)) + (((f ((s)* b)) + c) + c)) \"]\n",
            "\tI4 -> Real_F [label=\"(((((d ((s)* b)) a) + (d (s)*)) + (d (s)*)) + (d ((s)* b))) \"]\n",
            "\tI4 -> Real_F [label=\"(d ((s)* b)) \"]\n",
            "\tReal_I -> I4 [label=\"\\\"\\\" \"]\n",
            "}\n",
            "// GO_St17\n",
            "digraph {\n",
            "\tgraph [rankdir=LR]\n",
            "\tEMPTY [label=\"\" shape=plaintext]\n",
            "\tReal_I [label=Real_I peripheries=1 shape=circle]\n",
            "\tReal_F [label=Real_F peripheries=2 shape=circle]\n",
            "\tEMPTY -> Real_I\n",
            "\tReal_I -> Real_F [label=\"(((((((d ((s)* b)) a) + (d (s)*)) + (d (s)*)) + (d ((s)* b))) + (d ((s)* b))) + ((((((((f ((s)* b)) + c) + c) a) + (f (s)*)) + (f (s)*)) + (((f ((s)* b)) + c) + c)) + (((f ((s)* b)) + c) + c))) \"]\n",
            "\tReal_I -> Real_F [label=\"((((((((f ((s)* b)) + c) + c) a) + (f (s)*)) + (f (s)*)) + (((f ((s)* b)) + c) + c)) + (((f ((s)* b)) + c) + c)) \"]\n",
            "}\n"
          ],
          "name": "stdout"
        }
      ]
    },
    {
      "cell_type": "code",
      "metadata": {
        "colab": {
          "base_uri": "https://localhost:8080/",
          "height": 160
        },
        "id": "8IivR7njjjGr",
        "outputId": "1be58f97-5637-4e9f-aa34-c928c4a28950"
      },
      "source": [
        "DO[0]"
      ],
      "execution_count": null,
      "outputs": [
        {
          "output_type": "execute_result",
          "data": {
            "text/plain": [
              "<graphviz.dot.Digraph at 0x7f71f22fbf28>"
            ],
            "image/svg+xml": "<?xml version=\"1.0\" encoding=\"UTF-8\" standalone=\"no\"?>\n<!DOCTYPE svg PUBLIC \"-//W3C//DTD SVG 1.1//EN\"\n \"http://www.w3.org/Graphics/SVG/1.1/DTD/svg11.dtd\">\n<!-- Generated by graphviz version 2.40.1 (20161225.0304)\n -->\n<!-- Title: %3 Pages: 1 -->\n<svg width=\"641pt\" height=\"105pt\"\n viewBox=\"0.00 0.00 641.48 104.65\" xmlns=\"http://www.w3.org/2000/svg\" xmlns:xlink=\"http://www.w3.org/1999/xlink\">\n<g id=\"graph0\" class=\"graph\" transform=\"scale(1 1) rotate(0) translate(4 100.6465)\">\n<title>%3</title>\n<polygon fill=\"#ffffff\" stroke=\"transparent\" points=\"-4,4 -4,-100.6465 637.4764,-100.6465 637.4764,4 -4,4\"/>\n<!-- EMPTY -->\n<g id=\"node1\" class=\"node\">\n<title>EMPTY</title>\n</g>\n<!-- Real_I -->\n<g id=\"node2\" class=\"node\">\n<title>Real_I</title>\n<ellipse fill=\"none\" stroke=\"#000000\" cx=\"126.0969\" cy=\"-46.8483\" rx=\"35.194\" ry=\"35.194\"/>\n<text text-anchor=\"middle\" x=\"126.0969\" y=\"-43.1483\" font-family=\"Times,serif\" font-size=\"14.00\" fill=\"#000000\">Real_I</text>\n</g>\n<!-- EMPTY&#45;&gt;Real_I -->\n<g id=\"edge1\" class=\"edge\">\n<title>EMPTY&#45;&gt;Real_I</title>\n<path fill=\"none\" stroke=\"#000000\" d=\"M54.0787,-46.8483C62.3227,-46.8483 71.6196,-46.8483 80.7269,-46.8483\"/>\n<polygon fill=\"#000000\" stroke=\"#000000\" points=\"80.8626,-50.3484 90.8626,-46.8483 80.8625,-43.3484 80.8626,-50.3484\"/>\n</g>\n<!-- I3 -->\n<g id=\"node4\" class=\"node\">\n<title>I3</title>\n<ellipse fill=\"none\" stroke=\"#000000\" cx=\"225.0421\" cy=\"-74.8483\" rx=\"18.6979\" ry=\"18.6979\"/>\n<text text-anchor=\"middle\" x=\"225.0421\" y=\"-71.1483\" font-family=\"Times,serif\" font-size=\"14.00\" fill=\"#000000\">I3</text>\n</g>\n<!-- Real_I&#45;&gt;I3 -->\n<g id=\"edge9\" class=\"edge\">\n<title>Real_I&#45;&gt;I3</title>\n<path fill=\"none\" stroke=\"#000000\" d=\"M159.8715,-56.406C171.873,-59.8023 185.2495,-63.5876 196.7456,-66.8408\"/>\n<polygon fill=\"#000000\" stroke=\"#000000\" points=\"196.106,-70.2972 206.6812,-69.6525 198.0121,-63.5617 196.106,-70.2972\"/>\n<text text-anchor=\"middle\" x=\"183.6938\" y=\"-67.6483\" font-family=\"Times,serif\" font-size=\"14.00\" fill=\"#000000\">&#39;&#39; </text>\n</g>\n<!-- I4 -->\n<g id=\"node5\" class=\"node\">\n<title>I4</title>\n<ellipse fill=\"none\" stroke=\"#000000\" cx=\"225.0421\" cy=\"-18.8483\" rx=\"18.6979\" ry=\"18.6979\"/>\n<text text-anchor=\"middle\" x=\"225.0421\" y=\"-15.1483\" font-family=\"Times,serif\" font-size=\"14.00\" fill=\"#000000\">I4</text>\n</g>\n<!-- Real_I&#45;&gt;I4 -->\n<g id=\"edge10\" class=\"edge\">\n<title>Real_I&#45;&gt;I4</title>\n<path fill=\"none\" stroke=\"#000000\" d=\"M159.8715,-37.2906C171.873,-33.8944 185.2495,-30.109 196.7456,-26.8558\"/>\n<polygon fill=\"#000000\" stroke=\"#000000\" points=\"198.0121,-30.1349 206.6812,-24.0442 196.106,-23.3994 198.0121,-30.1349\"/>\n<text text-anchor=\"middle\" x=\"183.6938\" y=\"-35.6483\" font-family=\"Times,serif\" font-size=\"14.00\" fill=\"#000000\">&#39;&#39; </text>\n</g>\n<!-- F2 -->\n<g id=\"node3\" class=\"node\">\n<title>F2</title>\n<ellipse fill=\"none\" stroke=\"#000000\" cx=\"396.6886\" cy=\"-75.8483\" rx=\"20.5982\" ry=\"20.5982\"/>\n<text text-anchor=\"middle\" x=\"396.6886\" y=\"-72.1483\" font-family=\"Times,serif\" font-size=\"14.00\" fill=\"#000000\">F2</text>\n</g>\n<!-- F1 -->\n<g id=\"node7\" class=\"node\">\n<title>F1</title>\n<ellipse fill=\"none\" stroke=\"#000000\" cx=\"484.2849\" cy=\"-24.8483\" rx=\"20.5982\" ry=\"20.5982\"/>\n<text text-anchor=\"middle\" x=\"484.2849\" y=\"-21.1483\" font-family=\"Times,serif\" font-size=\"14.00\" fill=\"#000000\">F1</text>\n</g>\n<!-- F2&#45;&gt;F1 -->\n<g id=\"edge8\" class=\"edge\">\n<title>F2&#45;&gt;F1</title>\n<path fill=\"none\" stroke=\"#000000\" d=\"M414.8163,-65.03C421.323,-61.166 428.7228,-56.7935 435.4867,-52.8483 442.6056,-48.6961 450.3328,-44.2394 457.494,-40.1298\"/>\n<polygon fill=\"#000000\" stroke=\"#000000\" points=\"459.2353,-43.166 466.1737,-35.1592 455.7566,-37.0915 459.2353,-43.166\"/>\n<text text-anchor=\"middle\" x=\"440.4867\" y=\"-56.6483\" font-family=\"Times,serif\" font-size=\"14.00\" fill=\"#000000\">a </text>\n</g>\n<!-- Real_F -->\n<g id=\"node8\" class=\"node\">\n<title>Real_F</title>\n<ellipse fill=\"none\" stroke=\"#000000\" cx=\"591.7797\" cy=\"-53.8483\" rx=\"37.8753\" ry=\"37.8753\"/>\n<ellipse fill=\"none\" stroke=\"#000000\" cx=\"591.7797\" cy=\"-53.8483\" rx=\"41.8942\" ry=\"41.8942\"/>\n<text text-anchor=\"middle\" x=\"591.7797\" y=\"-50.1483\" font-family=\"Times,serif\" font-size=\"14.00\" fill=\"#000000\">Real_F</text>\n</g>\n<!-- F2&#45;&gt;Real_F -->\n<g id=\"edge11\" class=\"edge\">\n<title>F2&#45;&gt;Real_F</title>\n<path fill=\"none\" stroke=\"#000000\" d=\"M417.5667,-73.4939C446.5934,-70.2207 500.0878,-64.1882 540.1711,-59.6681\"/>\n<polygon fill=\"#000000\" stroke=\"#000000\" points=\"540.7641,-63.1235 550.3089,-58.5249 539.9797,-56.1676 540.7641,-63.1235\"/>\n<text text-anchor=\"middle\" x=\"484.2849\" y=\"-71.6483\" font-family=\"Times,serif\" font-size=\"14.00\" fill=\"#000000\">&#39;&#39; </text>\n</g>\n<!-- I3&#45;&gt;F2 -->\n<g id=\"edge3\" class=\"edge\">\n<title>I3&#45;&gt;F2</title>\n<path fill=\"none\" stroke=\"#000000\" d=\"M244.046,-76.2886C257.4173,-77.2277 275.737,-78.3655 291.8904,-78.8483 316.679,-79.5893 344.767,-78.6917 365.6205,-77.6899\"/>\n<polygon fill=\"#000000\" stroke=\"#000000\" points=\"366.0038,-81.1749 375.8104,-77.1646 365.6434,-74.1842 366.0038,-81.1749\"/>\n<text text-anchor=\"middle\" x=\"309.8904\" y=\"-82.6483\" font-family=\"Times,serif\" font-size=\"14.00\" fill=\"#000000\">c </text>\n</g>\n<!-- B -->\n<g id=\"node6\" class=\"node\">\n<title>B</title>\n<ellipse fill=\"none\" stroke=\"#000000\" cx=\"309.8904\" cy=\"-18.8483\" rx=\"18\" ry=\"18\"/>\n<text text-anchor=\"middle\" x=\"309.8904\" y=\"-15.1483\" font-family=\"Times,serif\" font-size=\"14.00\" fill=\"#000000\">B</text>\n</g>\n<!-- I3&#45;&gt;B -->\n<g id=\"edge2\" class=\"edge\">\n<title>I3&#45;&gt;B</title>\n<path fill=\"none\" stroke=\"#000000\" d=\"M241.0014,-64.3152C253.8022,-55.8666 271.9553,-43.8856 286.4133,-34.3432\"/>\n<polygon fill=\"#000000\" stroke=\"#000000\" points=\"288.439,-37.1999 294.8571,-28.7703 284.5831,-31.3576 288.439,-37.1999\"/>\n<text text-anchor=\"middle\" x=\"267.8904\" y=\"-54.6483\" font-family=\"Times,serif\" font-size=\"14.00\" fill=\"#000000\">f </text>\n</g>\n<!-- I4&#45;&gt;B -->\n<g id=\"edge4\" class=\"edge\">\n<title>I4&#45;&gt;B</title>\n<path fill=\"none\" stroke=\"#000000\" d=\"M244.2955,-18.8483C255.3379,-18.8483 269.4015,-18.8483 281.6725,-18.8483\"/>\n<polygon fill=\"#000000\" stroke=\"#000000\" points=\"281.8736,-22.3484 291.8736,-18.8483 281.8735,-15.3484 281.8736,-22.3484\"/>\n<text text-anchor=\"middle\" x=\"267.8904\" y=\"-22.6483\" font-family=\"Times,serif\" font-size=\"14.00\" fill=\"#000000\">d </text>\n</g>\n<!-- B&#45;&gt;F2 -->\n<g id=\"edge5\" class=\"edge\">\n<title>B&#45;&gt;F2</title>\n<path fill=\"none\" stroke=\"#000000\" d=\"M325.0095,-28.777C337.4785,-36.9653 355.4641,-48.7764 370.2993,-58.5186\"/>\n<polygon fill=\"#000000\" stroke=\"#000000\" points=\"368.7718,-61.7027 379.0518,-64.2663 372.6142,-55.8515 368.7718,-61.7027\"/>\n<text text-anchor=\"middle\" x=\"351.8904\" y=\"-53.6483\" font-family=\"Times,serif\" font-size=\"14.00\" fill=\"#000000\">b </text>\n</g>\n<!-- B&#45;&gt;B -->\n<g id=\"edge7\" class=\"edge\">\n<title>B&#45;&gt;B</title>\n<path fill=\"none\" stroke=\"#000000\" d=\"M302.5076,-35.5124C300.867,-45.4733 303.3279,-54.8483 309.8904,-54.8483 314.0945,-54.8483 316.6153,-51.0008 317.4529,-45.6166\"/>\n<polygon fill=\"#000000\" stroke=\"#000000\" points=\"320.9505,-45.4486 317.2732,-35.5124 313.9517,-45.5731 320.9505,-45.4486\"/>\n<text text-anchor=\"middle\" x=\"309.8904\" y=\"-58.6483\" font-family=\"Times,serif\" font-size=\"14.00\" fill=\"#000000\">s </text>\n</g>\n<!-- B&#45;&gt;F1 -->\n<g id=\"edge6\" class=\"edge\">\n<title>B&#45;&gt;F1</title>\n<path fill=\"none\" stroke=\"#000000\" d=\"M327.8968,-19.4678C357.5205,-20.487 416.8797,-22.5293 453.3416,-23.7837\"/>\n<polygon fill=\"#000000\" stroke=\"#000000\" points=\"453.3049,-27.2844 463.4194,-24.1305 453.5457,-20.2886 453.3049,-27.2844\"/>\n<text text-anchor=\"middle\" x=\"396.6886\" y=\"-26.6483\" font-family=\"Times,serif\" font-size=\"14.00\" fill=\"#000000\">&#39;&#39; </text>\n</g>\n<!-- F1&#45;&gt;Real_F -->\n<g id=\"edge12\" class=\"edge\">\n<title>F1&#45;&gt;Real_F</title>\n<path fill=\"none\" stroke=\"#000000\" d=\"M504.5038,-30.303C514.9721,-33.1271 528.2656,-36.7135 541.3017,-40.2304\"/>\n<polygon fill=\"#000000\" stroke=\"#000000\" points=\"540.6028,-43.6669 551.1692,-42.8924 542.4261,-36.9085 540.6028,-43.6669\"/>\n<text text-anchor=\"middle\" x=\"527.583\" y=\"-41.6483\" font-family=\"Times,serif\" font-size=\"14.00\" fill=\"#000000\">&#39;&#39; </text>\n</g>\n</g>\n</svg>\n"
          },
          "metadata": {
            "tags": []
          },
          "execution_count": 26
        }
      ]
    },
    {
      "cell_type": "code",
      "metadata": {
        "colab": {
          "base_uri": "https://localhost:8080/",
          "height": 221
        },
        "id": "jU7z7KyJjo9a",
        "outputId": "43cec660-b189-44e4-a3f0-d76675cc9a6c"
      },
      "source": [
        "DO[1]"
      ],
      "execution_count": null,
      "outputs": [
        {
          "output_type": "execute_result",
          "data": {
            "text/plain": [
              "<graphviz.dot.Digraph at 0x7f71f26ca550>"
            ],
            "image/svg+xml": "<?xml version=\"1.0\" encoding=\"UTF-8\" standalone=\"no\"?>\n<!DOCTYPE svg PUBLIC \"-//W3C//DTD SVG 1.1//EN\"\n \"http://www.w3.org/Graphics/SVG/1.1/DTD/svg11.dtd\">\n<!-- Generated by graphviz version 2.40.1 (20161225.0304)\n -->\n<!-- Title: %3 Pages: 1 -->\n<svg width=\"658pt\" height=\"151pt\"\n viewBox=\"0.00 0.00 657.88 150.70\" xmlns=\"http://www.w3.org/2000/svg\" xmlns:xlink=\"http://www.w3.org/1999/xlink\">\n<g id=\"graph0\" class=\"graph\" transform=\"scale(1 1) rotate(0) translate(4 146.6967)\">\n<title>%3</title>\n<polygon fill=\"#ffffff\" stroke=\"transparent\" points=\"-4,4 -4,-146.6967 653.88,-146.6967 653.88,4 -4,4\"/>\n<!-- EMPTY -->\n<g id=\"node1\" class=\"node\">\n<title>EMPTY</title>\n</g>\n<!-- Real_I -->\n<g id=\"node2\" class=\"node\">\n<title>Real_I</title>\n<ellipse fill=\"none\" stroke=\"#000000\" cx=\"126.0969\" cy=\"-90.6967\" rx=\"35.194\" ry=\"35.194\"/>\n<text text-anchor=\"middle\" x=\"126.0969\" y=\"-86.9967\" font-family=\"Times,serif\" font-size=\"14.00\" fill=\"#000000\">Real_I</text>\n</g>\n<!-- EMPTY&#45;&gt;Real_I -->\n<g id=\"edge1\" class=\"edge\">\n<title>EMPTY&#45;&gt;Real_I</title>\n<path fill=\"none\" stroke=\"#000000\" d=\"M54.0787,-90.6967C62.3227,-90.6967 71.6196,-90.6967 80.7269,-90.6967\"/>\n<polygon fill=\"#000000\" stroke=\"#000000\" points=\"80.8626,-94.1968 90.8626,-90.6967 80.8625,-87.1968 80.8626,-94.1968\"/>\n</g>\n<!-- I3 -->\n<g id=\"node4\" class=\"node\">\n<title>I3</title>\n<ellipse fill=\"none\" stroke=\"#000000\" cx=\"232.0421\" cy=\"-62.6967\" rx=\"18.6979\" ry=\"18.6979\"/>\n<text text-anchor=\"middle\" x=\"232.0421\" y=\"-58.9967\" font-family=\"Times,serif\" font-size=\"14.00\" fill=\"#000000\">I3</text>\n</g>\n<!-- Real_I&#45;&gt;I3 -->\n<g id=\"edge8\" class=\"edge\">\n<title>Real_I&#45;&gt;I3</title>\n<path fill=\"none\" stroke=\"#000000\" d=\"M160.2018,-81.6832C174.2346,-77.9744 190.2995,-73.7287 203.6741,-70.194\"/>\n<polygon fill=\"#000000\" stroke=\"#000000\" points=\"204.9596,-73.4745 213.7333,-67.5354 203.171,-66.7068 204.9596,-73.4745\"/>\n<text text-anchor=\"middle\" x=\"187.1938\" y=\"-79.4967\" font-family=\"Times,serif\" font-size=\"14.00\" fill=\"#000000\">&quot;&quot; </text>\n</g>\n<!-- I4 -->\n<g id=\"node5\" class=\"node\">\n<title>I4</title>\n<ellipse fill=\"none\" stroke=\"#000000\" cx=\"232.0421\" cy=\"-121.6967\" rx=\"18.6979\" ry=\"18.6979\"/>\n<text text-anchor=\"middle\" x=\"232.0421\" y=\"-117.9967\" font-family=\"Times,serif\" font-size=\"14.00\" fill=\"#000000\">I4</text>\n</g>\n<!-- Real_I&#45;&gt;I4 -->\n<g id=\"edge9\" class=\"edge\">\n<title>Real_I&#45;&gt;I4</title>\n<path fill=\"none\" stroke=\"#000000\" d=\"M159.9099,-100.5905C174.194,-104.7701 190.6261,-109.5782 204.1955,-113.5486\"/>\n<polygon fill=\"#000000\" stroke=\"#000000\" points=\"203.3505,-116.9481 213.9311,-116.3973 205.3164,-110.2298 203.3505,-116.9481\"/>\n<text text-anchor=\"middle\" x=\"187.1938\" y=\"-114.4967\" font-family=\"Times,serif\" font-size=\"14.00\" fill=\"#000000\">&quot;&quot; </text>\n</g>\n<!-- F2 -->\n<g id=\"node3\" class=\"node\">\n<title>F2</title>\n<ellipse fill=\"none\" stroke=\"#000000\" cx=\"403.8904\" cy=\"-31.6967\" rx=\"20.5982\" ry=\"20.5982\"/>\n<text text-anchor=\"middle\" x=\"403.8904\" y=\"-27.9967\" font-family=\"Times,serif\" font-size=\"14.00\" fill=\"#000000\">F2</text>\n</g>\n<!-- F1 -->\n<g id=\"node6\" class=\"node\">\n<title>F1</title>\n<ellipse fill=\"none\" stroke=\"#000000\" cx=\"493.6886\" cy=\"-83.6967\" rx=\"20.5982\" ry=\"20.5982\"/>\n<text text-anchor=\"middle\" x=\"493.6886\" y=\"-79.9967\" font-family=\"Times,serif\" font-size=\"14.00\" fill=\"#000000\">F1</text>\n</g>\n<!-- F2&#45;&gt;F1 -->\n<g id=\"edge7\" class=\"edge\">\n<title>F2&#45;&gt;F1</title>\n<path fill=\"none\" stroke=\"#000000\" d=\"M422.4326,-41.577C432.1641,-46.8377 444.2458,-53.4879 454.8904,-59.6967 458.9248,-62.0498 463.1592,-64.5923 467.2874,-67.1121\"/>\n<polygon fill=\"#000000\" stroke=\"#000000\" points=\"465.6878,-70.2377 476.0362,-72.5096 469.3632,-64.2802 465.6878,-70.2377\"/>\n<text text-anchor=\"middle\" x=\"449.8904\" y=\"-63.4967\" font-family=\"Times,serif\" font-size=\"14.00\" fill=\"#000000\">a </text>\n</g>\n<!-- Real_F -->\n<g id=\"node7\" class=\"node\">\n<title>Real_F</title>\n<ellipse fill=\"none\" stroke=\"#000000\" cx=\"608.1834\" cy=\"-41.6967\" rx=\"37.8753\" ry=\"37.8753\"/>\n<ellipse fill=\"none\" stroke=\"#000000\" cx=\"608.1834\" cy=\"-41.6967\" rx=\"41.8942\" ry=\"41.8942\"/>\n<text text-anchor=\"middle\" x=\"608.1834\" y=\"-37.9967\" font-family=\"Times,serif\" font-size=\"14.00\" fill=\"#000000\">Real_F</text>\n</g>\n<!-- F2&#45;&gt;Real_F -->\n<g id=\"edge10\" class=\"edge\">\n<title>F2&#45;&gt;Real_F</title>\n<path fill=\"none\" stroke=\"#000000\" d=\"M424.9839,-32.7292C455.6869,-34.2321 513.657,-37.0697 556.1929,-39.1518\"/>\n<polygon fill=\"#000000\" stroke=\"#000000\" points=\"556.2165,-42.657 566.3757,-39.6502 556.5588,-35.6654 556.2165,-42.657\"/>\n<text text-anchor=\"middle\" x=\"493.6886\" y=\"-41.4967\" font-family=\"Times,serif\" font-size=\"14.00\" fill=\"#000000\">&quot;&quot; </text>\n</g>\n<!-- I3&#45;&gt;F2 -->\n<g id=\"edge2\" class=\"edge\">\n<title>I3&#45;&gt;F2</title>\n<path fill=\"none\" stroke=\"#000000\" d=\"M241.7761,-46.3585C248.2022,-37.256 257.5269,-26.7623 268.8904,-21.6967 302.7287,-6.6122 346.0835,-13.8972 374.4034,-21.722\"/>\n<polygon fill=\"#000000\" stroke=\"#000000\" points=\"373.5295,-25.1133 384.1113,-24.5888 375.512,-18.3999 373.5295,-25.1133\"/>\n<text text-anchor=\"middle\" x=\"315.8904\" y=\"-25.4967\" font-family=\"Times,serif\" font-size=\"14.00\" fill=\"#000000\">((f ((s)* b)) + c) </text>\n</g>\n<!-- I3&#45;&gt;F2 -->\n<g id=\"edge6\" class=\"edge\">\n<title>I3&#45;&gt;F2</title>\n<path fill=\"none\" stroke=\"#000000\" d=\"M250.76,-59.3201C280.1656,-54.0156 337.4906,-43.6746 373.0517,-37.2597\"/>\n<polygon fill=\"#000000\" stroke=\"#000000\" points=\"374.1144,-40.6246 383.3342,-35.4048 372.8717,-33.7358 374.1144,-40.6246\"/>\n<text text-anchor=\"middle\" x=\"315.8904\" y=\"-60.4967\" font-family=\"Times,serif\" font-size=\"14.00\" fill=\"#000000\">c </text>\n</g>\n<!-- I3&#45;&gt;F1 -->\n<g id=\"edge3\" class=\"edge\">\n<title>I3&#45;&gt;F1</title>\n<path fill=\"none\" stroke=\"#000000\" d=\"M249.7812,-69.5639C255.7618,-71.5842 262.533,-73.5567 268.8904,-74.6967 337.1163,-86.93 418.7764,-86.5277 462.4604,-85.1294\"/>\n<polygon fill=\"#000000\" stroke=\"#000000\" points=\"462.8497,-88.6177 472.717,-84.7595 462.5973,-81.6223 462.8497,-88.6177\"/>\n<text text-anchor=\"middle\" x=\"403.8904\" y=\"-89.4967\" font-family=\"Times,serif\" font-size=\"14.00\" fill=\"#000000\">(f (s)*) </text>\n</g>\n<!-- I4&#45;&gt;F2 -->\n<g id=\"edge4\" class=\"edge\">\n<title>I4&#45;&gt;F2</title>\n<path fill=\"none\" stroke=\"#000000\" d=\"M250.6449,-118.1201C277.2203,-112.3823 326.8219,-99.295 362.8904,-75.6967 370.8032,-70.5196 378.2485,-63.499 384.5668,-56.5871\"/>\n<polygon fill=\"#000000\" stroke=\"#000000\" points=\"387.5419,-58.4969 391.4268,-48.64 382.243,-53.9228 387.5419,-58.4969\"/>\n<text text-anchor=\"middle\" x=\"315.8904\" y=\"-117.4967\" font-family=\"Times,serif\" font-size=\"14.00\" fill=\"#000000\">(d ((s)* b)) </text>\n</g>\n<!-- I4&#45;&gt;F1 -->\n<g id=\"edge5\" class=\"edge\">\n<title>I4&#45;&gt;F1</title>\n<path fill=\"none\" stroke=\"#000000\" d=\"M249.7995,-128.1306C255.7813,-129.9918 262.5485,-131.7703 268.8904,-132.6967 310.2295,-138.7353 321.7654,-140.0527 362.8904,-132.6967 399.7197,-126.109 439.6663,-109.6634 465.595,-97.6353\"/>\n<polygon fill=\"#000000\" stroke=\"#000000\" points=\"467.2703,-100.7146 474.8103,-93.2715 464.2744,-94.3881 467.2703,-100.7146\"/>\n<text text-anchor=\"middle\" x=\"403.8904\" y=\"-131.4967\" font-family=\"Times,serif\" font-size=\"14.00\" fill=\"#000000\">(d (s)*) </text>\n</g>\n<!-- F1&#45;&gt;Real_F -->\n<g id=\"edge11\" class=\"edge\">\n<title>F1&#45;&gt;Real_F</title>\n<path fill=\"none\" stroke=\"#000000\" d=\"M513.3709,-76.4766C526.0914,-71.8104 543.2422,-65.519 559.4595,-59.57\"/>\n<polygon fill=\"#000000\" stroke=\"#000000\" points=\"560.6767,-62.8516 568.8596,-56.1217 558.266,-56.2798 560.6767,-62.8516\"/>\n<text text-anchor=\"middle\" x=\"540.4867\" y=\"-72.4967\" font-family=\"Times,serif\" font-size=\"14.00\" fill=\"#000000\">&quot;&quot; </text>\n</g>\n</g>\n</svg>\n"
          },
          "metadata": {
            "tags": []
          },
          "execution_count": 27
        }
      ]
    },
    {
      "cell_type": "code",
      "metadata": {
        "colab": {
          "base_uri": "https://localhost:8080/",
          "height": 289
        },
        "id": "xQFMcsnkjo0s",
        "outputId": "9c6f74f6-c796-415f-be56-2dc9ab6b9047"
      },
      "source": [
        "DO[2]"
      ],
      "execution_count": null,
      "outputs": [
        {
          "output_type": "execute_result",
          "data": {
            "text/plain": [
              "<graphviz.dot.Digraph at 0x7f71f35c06a0>"
            ],
            "image/svg+xml": "<?xml version=\"1.0\" encoding=\"UTF-8\" standalone=\"no\"?>\n<!DOCTYPE svg PUBLIC \"-//W3C//DTD SVG 1.1//EN\"\n \"http://www.w3.org/Graphics/SVG/1.1/DTD/svg11.dtd\">\n<!-- Generated by graphviz version 2.40.1 (20161225.0304)\n -->\n<!-- Title: %3 Pages: 1 -->\n<svg width=\"763pt\" height=\"202pt\"\n viewBox=\"0.00 0.00 763.28 201.57\" xmlns=\"http://www.w3.org/2000/svg\" xmlns:xlink=\"http://www.w3.org/1999/xlink\">\n<g id=\"graph0\" class=\"graph\" transform=\"scale(1 1) rotate(0) translate(4 197.571)\">\n<title>%3</title>\n<polygon fill=\"#ffffff\" stroke=\"transparent\" points=\"-4,4 -4,-197.571 759.2837,-197.571 759.2837,4 -4,4\"/>\n<!-- EMPTY -->\n<g id=\"node1\" class=\"node\">\n<title>EMPTY</title>\n</g>\n<!-- Real_I -->\n<g id=\"node2\" class=\"node\">\n<title>Real_I</title>\n<ellipse fill=\"none\" stroke=\"#000000\" cx=\"126.0969\" cy=\"-101.2463\" rx=\"35.194\" ry=\"35.194\"/>\n<text text-anchor=\"middle\" x=\"126.0969\" y=\"-97.5463\" font-family=\"Times,serif\" font-size=\"14.00\" fill=\"#000000\">Real_I</text>\n</g>\n<!-- EMPTY&#45;&gt;Real_I -->\n<g id=\"edge1\" class=\"edge\">\n<title>EMPTY&#45;&gt;Real_I</title>\n<path fill=\"none\" stroke=\"#000000\" d=\"M54.0787,-101.2463C62.3227,-101.2463 71.6196,-101.2463 80.7269,-101.2463\"/>\n<polygon fill=\"#000000\" stroke=\"#000000\" points=\"80.8626,-104.7464 90.8626,-101.2463 80.8625,-97.7464 80.8626,-104.7464\"/>\n</g>\n<!-- I3 -->\n<g id=\"node3\" class=\"node\">\n<title>I3</title>\n<ellipse fill=\"none\" stroke=\"#000000\" cx=\"232.0421\" cy=\"-139.2463\" rx=\"18.6979\" ry=\"18.6979\"/>\n<text text-anchor=\"middle\" x=\"232.0421\" y=\"-135.5463\" font-family=\"Times,serif\" font-size=\"14.00\" fill=\"#000000\">I3</text>\n</g>\n<!-- Real_I&#45;&gt;I3 -->\n<g id=\"edge8\" class=\"edge\">\n<title>Real_I&#45;&gt;I3</title>\n<path fill=\"none\" stroke=\"#000000\" d=\"M159.3279,-113.1655C173.8798,-118.3849 190.751,-124.4362 204.577,-129.3953\"/>\n<polygon fill=\"#000000\" stroke=\"#000000\" points=\"203.4351,-132.7039 214.0296,-132.7857 205.7985,-126.115 203.4351,-132.7039\"/>\n<text text-anchor=\"middle\" x=\"187.1938\" y=\"-129.0463\" font-family=\"Times,serif\" font-size=\"14.00\" fill=\"#000000\">&quot;&quot; </text>\n</g>\n<!-- I4 -->\n<g id=\"node4\" class=\"node\">\n<title>I4</title>\n<ellipse fill=\"none\" stroke=\"#000000\" cx=\"232.0421\" cy=\"-73.2463\" rx=\"18.6979\" ry=\"18.6979\"/>\n<text text-anchor=\"middle\" x=\"232.0421\" y=\"-69.5463\" font-family=\"Times,serif\" font-size=\"14.00\" fill=\"#000000\">I4</text>\n</g>\n<!-- Real_I&#45;&gt;I4 -->\n<g id=\"edge9\" class=\"edge\">\n<title>Real_I&#45;&gt;I4</title>\n<path fill=\"none\" stroke=\"#000000\" d=\"M160.2018,-92.2328C174.2346,-88.5241 190.2995,-84.2784 203.6741,-80.7436\"/>\n<polygon fill=\"#000000\" stroke=\"#000000\" points=\"204.9596,-84.0241 213.7333,-78.0851 203.171,-77.2565 204.9596,-84.0241\"/>\n<text text-anchor=\"middle\" x=\"187.1938\" y=\"-90.0463\" font-family=\"Times,serif\" font-size=\"14.00\" fill=\"#000000\">&quot;&quot; </text>\n</g>\n<!-- F1 -->\n<g id=\"node5\" class=\"node\">\n<title>F1</title>\n<ellipse fill=\"none\" stroke=\"#000000\" cx=\"557.3904\" cy=\"-106.2463\" rx=\"20.5982\" ry=\"20.5982\"/>\n<text text-anchor=\"middle\" x=\"557.3904\" y=\"-102.5463\" font-family=\"Times,serif\" font-size=\"14.00\" fill=\"#000000\">F1</text>\n</g>\n<!-- I3&#45;&gt;F1 -->\n<g id=\"edge2\" class=\"edge\">\n<title>I3&#45;&gt;F1</title>\n<path fill=\"none\" stroke=\"#000000\" d=\"M250.7344,-142.0616C292.0559,-147.7087 394.0683,-158.4723 476.8904,-141.2463 495.3717,-137.4024 514.8148,-129.0843 529.9622,-121.5215\"/>\n<polygon fill=\"#000000\" stroke=\"#000000\" points=\"531.9723,-124.4221 539.2426,-116.7154 528.7532,-118.2062 531.9723,-124.4221\"/>\n<text text-anchor=\"middle\" x=\"372.8904\" y=\"-154.0463\" font-family=\"Times,serif\" font-size=\"14.00\" fill=\"#000000\">(((((f ((s)* b)) + c) + c) a) + (f (s)*)) </text>\n</g>\n<!-- I3&#45;&gt;F1 -->\n<g id=\"edge6\" class=\"edge\">\n<title>I3&#45;&gt;F1</title>\n<path fill=\"none\" stroke=\"#000000\" d=\"M248.7989,-129.8965C254.9354,-126.9132 262.0535,-123.9472 268.8904,-122.2463 316.864,-110.3116 461.9795,-107.27 526.2183,-106.5022\"/>\n<polygon fill=\"#000000\" stroke=\"#000000\" points=\"526.5592,-109.9988 536.5206,-106.3905 526.4832,-102.9992 526.5592,-109.9988\"/>\n<text text-anchor=\"middle\" x=\"372.8904\" y=\"-126.0463\" font-family=\"Times,serif\" font-size=\"14.00\" fill=\"#000000\">(f (s)*) </text>\n</g>\n<!-- Real_F -->\n<g id=\"node6\" class=\"node\">\n<title>Real_F</title>\n<ellipse fill=\"none\" stroke=\"#000000\" cx=\"713.5871\" cy=\"-106.2463\" rx=\"37.8753\" ry=\"37.8753\"/>\n<ellipse fill=\"none\" stroke=\"#000000\" cx=\"713.5871\" cy=\"-106.2463\" rx=\"41.8942\" ry=\"41.8942\"/>\n<text text-anchor=\"middle\" x=\"713.5871\" y=\"-102.5463\" font-family=\"Times,serif\" font-size=\"14.00\" fill=\"#000000\">Real_F</text>\n</g>\n<!-- I3&#45;&gt;Real_F -->\n<g id=\"edge3\" class=\"edge\">\n<title>I3&#45;&gt;Real_F</title>\n<path fill=\"none\" stroke=\"#000000\" d=\"M244.9601,-153.4729C251.4632,-159.5799 259.8743,-166.0402 268.8904,-169.2463 416.5221,-221.744 468.8097,-177.7882 619.8904,-136.2463 634.342,-132.2726 649.8951,-127.4983 664.0966,-122.9391\"/>\n<polygon fill=\"#000000\" stroke=\"#000000\" points=\"665.2503,-126.2444 673.6823,-119.8295 663.0903,-119.586 665.2503,-126.2444\"/>\n<text text-anchor=\"middle\" x=\"557.3904\" y=\"-177.0463\" font-family=\"Times,serif\" font-size=\"14.00\" fill=\"#000000\">(((f ((s)* b)) + c) + c) </text>\n</g>\n<!-- I4&#45;&gt;F1 -->\n<g id=\"edge4\" class=\"edge\">\n<title>I4&#45;&gt;F1</title>\n<path fill=\"none\" stroke=\"#000000\" d=\"M251.1946,-73.3878C292.5883,-73.9192 393.3979,-76.4306 476.8904,-88.2463 493.7109,-90.6267 512.2278,-94.666 527.2573,-98.3157\"/>\n<polygon fill=\"#000000\" stroke=\"#000000\" points=\"526.4918,-101.7319 537.0415,-100.755 528.1852,-94.9398 526.4918,-101.7319\"/>\n<text text-anchor=\"middle\" x=\"372.8904\" y=\"-92.0463\" font-family=\"Times,serif\" font-size=\"14.00\" fill=\"#000000\">(((d ((s)* b)) a) + (d (s)*)) </text>\n</g>\n<!-- I4&#45;&gt;F1 -->\n<g id=\"edge7\" class=\"edge\">\n<title>I4&#45;&gt;F1</title>\n<path fill=\"none\" stroke=\"#000000\" d=\"M247.8937,-62.9725C254.1706,-59.478 261.616,-56.0114 268.8904,-54.2463 358.7282,-32.4485 388.2211,-28.0982 476.8904,-54.2463 498.0305,-60.4804 518.8472,-74.1863 534.0147,-85.9621\"/>\n<polygon fill=\"#000000\" stroke=\"#000000\" points=\"531.8404,-88.705 541.8261,-92.246 536.2281,-83.2507 531.8404,-88.705\"/>\n<text text-anchor=\"middle\" x=\"372.8904\" y=\"-58.0463\" font-family=\"Times,serif\" font-size=\"14.00\" fill=\"#000000\">(d (s)*) </text>\n</g>\n<!-- I4&#45;&gt;Real_F -->\n<g id=\"edge5\" class=\"edge\">\n<title>I4&#45;&gt;Real_F</title>\n<path fill=\"none\" stroke=\"#000000\" d=\"M241.7761,-56.9082C248.2022,-47.8056 257.5269,-37.3119 268.8904,-32.2463 411.8598,31.4866 471.4989,-11.4257 619.8904,-61.2463 635.899,-66.621 652.7237,-74.0792 667.6288,-81.3796\"/>\n<polygon fill=\"#000000\" stroke=\"#000000\" points=\"666.1274,-84.542 676.6369,-85.8847 669.2586,-78.2813 666.1274,-84.542\"/>\n<text text-anchor=\"middle\" x=\"557.3904\" y=\"-65.0463\" font-family=\"Times,serif\" font-size=\"14.00\" fill=\"#000000\">(d ((s)* b)) </text>\n</g>\n<!-- F1&#45;&gt;Real_F -->\n<g id=\"edge10\" class=\"edge\">\n<title>F1&#45;&gt;Real_F</title>\n<path fill=\"none\" stroke=\"#000000\" d=\"M578.4558,-106.2463C599.6666,-106.2463 633.2183,-106.2463 661.582,-106.2463\"/>\n<polygon fill=\"#000000\" stroke=\"#000000\" points=\"661.7646,-109.7464 671.7645,-106.2463 661.7645,-102.7464 661.7646,-109.7464\"/>\n<text text-anchor=\"middle\" x=\"645.8904\" y=\"-110.0463\" font-family=\"Times,serif\" font-size=\"14.00\" fill=\"#000000\">&quot;&quot; </text>\n</g>\n</g>\n</svg>\n"
          },
          "metadata": {
            "tags": []
          },
          "execution_count": 28
        }
      ]
    },
    {
      "cell_type": "code",
      "metadata": {
        "colab": {
          "base_uri": "https://localhost:8080/",
          "height": 259
        },
        "id": "ZxMY5fj4jos5",
        "outputId": "04e1d74d-3914-40c2-f47a-9aef7e88f189"
      },
      "source": [
        "DO[3]"
      ],
      "execution_count": null,
      "outputs": [
        {
          "output_type": "execute_result",
          "data": {
            "text/plain": [
              "<graphviz.dot.Digraph at 0x7f71f26ca710>"
            ],
            "image/svg+xml": "<?xml version=\"1.0\" encoding=\"UTF-8\" standalone=\"no\"?>\n<!DOCTYPE svg PUBLIC \"-//W3C//DTD SVG 1.1//EN\"\n \"http://www.w3.org/Graphics/SVG/1.1/DTD/svg11.dtd\">\n<!-- Generated by graphviz version 2.40.1 (20161225.0304)\n -->\n<!-- Title: %3 Pages: 1 -->\n<svg width=\"795pt\" height=\"179pt\"\n viewBox=\"0.00 0.00 795.28 179.33\" xmlns=\"http://www.w3.org/2000/svg\" xmlns:xlink=\"http://www.w3.org/1999/xlink\">\n<g id=\"graph0\" class=\"graph\" transform=\"scale(1 1) rotate(0) translate(4 175.3298)\">\n<title>%3</title>\n<polygon fill=\"#ffffff\" stroke=\"transparent\" points=\"-4,4 -4,-175.3298 791.2837,-175.3298 791.2837,4 -4,4\"/>\n<!-- EMPTY -->\n<g id=\"node1\" class=\"node\">\n<title>EMPTY</title>\n</g>\n<!-- Real_I -->\n<g id=\"node2\" class=\"node\">\n<title>Real_I</title>\n<ellipse fill=\"none\" stroke=\"#000000\" cx=\"126.0969\" cy=\"-100.3298\" rx=\"35.194\" ry=\"35.194\"/>\n<text text-anchor=\"middle\" x=\"126.0969\" y=\"-96.6298\" font-family=\"Times,serif\" font-size=\"14.00\" fill=\"#000000\">Real_I</text>\n</g>\n<!-- EMPTY&#45;&gt;Real_I -->\n<g id=\"edge1\" class=\"edge\">\n<title>EMPTY&#45;&gt;Real_I</title>\n<path fill=\"none\" stroke=\"#000000\" d=\"M54.0787,-100.3298C62.3227,-100.3298 71.6196,-100.3298 80.7269,-100.3298\"/>\n<polygon fill=\"#000000\" stroke=\"#000000\" points=\"80.8626,-103.8299 90.8626,-100.3298 80.8625,-96.8299 80.8626,-103.8299\"/>\n</g>\n<!-- I3 -->\n<g id=\"node3\" class=\"node\">\n<title>I3</title>\n<ellipse fill=\"none\" stroke=\"#000000\" cx=\"232.0421\" cy=\"-128.3298\" rx=\"18.6979\" ry=\"18.6979\"/>\n<text text-anchor=\"middle\" x=\"232.0421\" y=\"-124.6298\" font-family=\"Times,serif\" font-size=\"14.00\" fill=\"#000000\">I3</text>\n</g>\n<!-- Real_I&#45;&gt;I3 -->\n<g id=\"edge6\" class=\"edge\">\n<title>Real_I&#45;&gt;I3</title>\n<path fill=\"none\" stroke=\"#000000\" d=\"M160.2018,-109.3433C174.2346,-113.0521 190.2995,-117.2978 203.6741,-120.8325\"/>\n<polygon fill=\"#000000\" stroke=\"#000000\" points=\"203.171,-124.3197 213.7333,-123.4911 204.9596,-117.552 203.171,-124.3197\"/>\n<text text-anchor=\"middle\" x=\"187.1938\" y=\"-123.1298\" font-family=\"Times,serif\" font-size=\"14.00\" fill=\"#000000\">&quot;&quot; </text>\n</g>\n<!-- I4 -->\n<g id=\"node4\" class=\"node\">\n<title>I4</title>\n<ellipse fill=\"none\" stroke=\"#000000\" cx=\"232.0421\" cy=\"-72.3298\" rx=\"18.6979\" ry=\"18.6979\"/>\n<text text-anchor=\"middle\" x=\"232.0421\" y=\"-68.6298\" font-family=\"Times,serif\" font-size=\"14.00\" fill=\"#000000\">I4</text>\n</g>\n<!-- Real_I&#45;&gt;I4 -->\n<g id=\"edge7\" class=\"edge\">\n<title>Real_I&#45;&gt;I4</title>\n<path fill=\"none\" stroke=\"#000000\" d=\"M160.2018,-91.3163C174.2346,-87.6076 190.2995,-83.3619 203.6741,-79.8271\"/>\n<polygon fill=\"#000000\" stroke=\"#000000\" points=\"204.9596,-83.1077 213.7333,-77.1686 203.171,-76.34 204.9596,-83.1077\"/>\n<text text-anchor=\"middle\" x=\"187.1938\" y=\"-90.1298\" font-family=\"Times,serif\" font-size=\"14.00\" fill=\"#000000\">&quot;&quot; </text>\n</g>\n<!-- Real_F -->\n<g id=\"node5\" class=\"node\">\n<title>Real_F</title>\n<ellipse fill=\"none\" stroke=\"#000000\" cx=\"745.5871\" cy=\"-100.3298\" rx=\"37.8753\" ry=\"37.8753\"/>\n<ellipse fill=\"none\" stroke=\"#000000\" cx=\"745.5871\" cy=\"-100.3298\" rx=\"41.8942\" ry=\"41.8942\"/>\n<text text-anchor=\"middle\" x=\"745.5871\" y=\"-96.6298\" font-family=\"Times,serif\" font-size=\"14.00\" fill=\"#000000\">Real_F</text>\n</g>\n<!-- I3&#45;&gt;Real_F -->\n<g id=\"edge2\" class=\"edge\">\n<title>I3&#45;&gt;Real_F</title>\n<path fill=\"none\" stroke=\"#000000\" d=\"M250.6552,-132.2273C313.4015,-144.6135 522.3856,-179.7271 685.8904,-135.3298 691.3252,-133.8541 696.7711,-131.7454 702.042,-129.2849\"/>\n<polygon fill=\"#000000\" stroke=\"#000000\" points=\"703.9993,-132.2146 711.3002,-124.5368 700.8049,-125.9859 703.9993,-132.2146\"/>\n<text text-anchor=\"middle\" x=\"477.3904\" y=\"-160.1298\" font-family=\"Times,serif\" font-size=\"14.00\" fill=\"#000000\">(((((((f ((s)* b)) + c) + c) a) + (f (s)*)) + (f (s)*)) + (((f ((s)* b)) + c) + c)) </text>\n</g>\n<!-- I3&#45;&gt;Real_F -->\n<g id=\"edge4\" class=\"edge\">\n<title>I3&#45;&gt;Real_F</title>\n<path fill=\"none\" stroke=\"#000000\" d=\"M249.777,-121.4385C255.7573,-119.4166 262.5293,-117.4492 268.8904,-116.3298 349.0981,-102.2154 587.4794,-100.3449 693.6133,-100.2356\"/>\n<polygon fill=\"#000000\" stroke=\"#000000\" points=\"693.7672,-103.7356 703.7653,-100.2302 693.7634,-96.7356 693.7672,-103.7356\"/>\n<text text-anchor=\"middle\" x=\"477.3904\" y=\"-120.1298\" font-family=\"Times,serif\" font-size=\"14.00\" fill=\"#000000\">(((f ((s)* b)) + c) + c) </text>\n</g>\n<!-- I4&#45;&gt;Real_F -->\n<g id=\"edge3\" class=\"edge\">\n<title>I4&#45;&gt;Real_F</title>\n<path fill=\"none\" stroke=\"#000000\" d=\"M251.2311,-70.9136C314.0886,-66.6649 519.3183,-55.8854 685.8904,-82.3298 689.3082,-82.8724 692.8033,-83.5602 696.3031,-84.3485\"/>\n<polygon fill=\"#000000\" stroke=\"#000000\" points=\"695.5686,-87.7724 706.1186,-86.7988 697.2641,-80.9808 695.5686,-87.7724\"/>\n<text text-anchor=\"middle\" x=\"477.3904\" y=\"-86.1298\" font-family=\"Times,serif\" font-size=\"14.00\" fill=\"#000000\">(((((d ((s)* b)) a) + (d (s)*)) + (d (s)*)) + (d ((s)* b))) </text>\n</g>\n<!-- I4&#45;&gt;Real_F -->\n<g id=\"edge5\" class=\"edge\">\n<title>I4&#45;&gt;Real_F</title>\n<path fill=\"none\" stroke=\"#000000\" d=\"M245.9689,-59.4223C252.4343,-54.2899 260.5321,-48.9818 268.8904,-46.3298 445.5452,9.7196 512.9433,20.2864 685.8904,-46.3298 694.7971,-49.7605 703.2003,-55.2041 710.7347,-61.3424\"/>\n<polygon fill=\"#000000\" stroke=\"#000000\" points=\"708.7304,-64.2405 718.5521,-68.2134 713.3516,-58.9827 708.7304,-64.2405\"/>\n<text text-anchor=\"middle\" x=\"477.3904\" y=\"-50.1298\" font-family=\"Times,serif\" font-size=\"14.00\" fill=\"#000000\">(d ((s)* b)) </text>\n</g>\n</g>\n</svg>\n"
          },
          "metadata": {
            "tags": []
          },
          "execution_count": 29
        }
      ]
    },
    {
      "cell_type": "code",
      "metadata": {
        "colab": {
          "base_uri": "https://localhost:8080/",
          "height": 183
        },
        "id": "SzxcTrQZjofj",
        "outputId": "8c1daddd-0e46-4426-d35b-e0bd7e35696f"
      },
      "source": [
        "DO[4]"
      ],
      "execution_count": null,
      "outputs": [
        {
          "output_type": "execute_result",
          "data": {
            "text/plain": [
              "<graphviz.dot.Digraph at 0x7f71f26cab38>"
            ],
            "image/svg+xml": "<?xml version=\"1.0\" encoding=\"UTF-8\" standalone=\"no\"?>\n<!DOCTYPE svg PUBLIC \"-//W3C//DTD SVG 1.1//EN\"\n \"http://www.w3.org/Graphics/SVG/1.1/DTD/svg11.dtd\">\n<!-- Generated by graphviz version 2.40.1 (20161225.0304)\n -->\n<!-- Title: %3 Pages: 1 -->\n<svg width=\"1209pt\" height=\"107pt\"\n viewBox=\"0.00 0.00 1208.59 107.10\" xmlns=\"http://www.w3.org/2000/svg\" xmlns:xlink=\"http://www.w3.org/1999/xlink\">\n<g id=\"graph0\" class=\"graph\" transform=\"scale(1 1) rotate(0) translate(4 103.0969)\">\n<title>%3</title>\n<polygon fill=\"#ffffff\" stroke=\"transparent\" points=\"-4,4 -4,-103.0969 1204.5871,-103.0969 1204.5871,4 -4,4\"/>\n<!-- EMPTY -->\n<g id=\"node1\" class=\"node\">\n<title>EMPTY</title>\n</g>\n<!-- Real_I -->\n<g id=\"node2\" class=\"node\">\n<title>Real_I</title>\n<ellipse fill=\"none\" stroke=\"#000000\" cx=\"126.0969\" cy=\"-35.0969\" rx=\"35.194\" ry=\"35.194\"/>\n<text text-anchor=\"middle\" x=\"126.0969\" y=\"-31.3969\" font-family=\"Times,serif\" font-size=\"14.00\" fill=\"#000000\">Real_I</text>\n</g>\n<!-- EMPTY&#45;&gt;Real_I -->\n<g id=\"edge1\" class=\"edge\">\n<title>EMPTY&#45;&gt;Real_I</title>\n<path fill=\"none\" stroke=\"#000000\" d=\"M54.0787,-35.0969C62.3227,-35.0969 71.6196,-35.0969 80.7269,-35.0969\"/>\n<polygon fill=\"#000000\" stroke=\"#000000\" points=\"80.8626,-38.597 90.8626,-35.0969 80.8625,-31.597 80.8626,-38.597\"/>\n</g>\n<!-- I4 -->\n<g id=\"node3\" class=\"node\">\n<title>I4</title>\n<ellipse fill=\"none\" stroke=\"#000000\" cx=\"494.1938\" cy=\"-71.0969\" rx=\"18.6979\" ry=\"18.6979\"/>\n<text text-anchor=\"middle\" x=\"494.1938\" y=\"-67.3969\" font-family=\"Times,serif\" font-size=\"14.00\" fill=\"#000000\">I4</text>\n</g>\n<!-- Real_I&#45;&gt;I4 -->\n<g id=\"edge5\" class=\"edge\">\n<title>Real_I&#45;&gt;I4</title>\n<path fill=\"none\" stroke=\"#000000\" d=\"M161.0584,-38.5161C233.3065,-45.582 397.9058,-61.6799 464.9548,-68.2373\"/>\n<polygon fill=\"#000000\" stroke=\"#000000\" points=\"464.9197,-71.7505 475.2129,-69.2406 465.6011,-64.7837 464.9197,-71.7505\"/>\n<text text-anchor=\"middle\" x=\"187.1938\" y=\"-45.8969\" font-family=\"Times,serif\" font-size=\"14.00\" fill=\"#000000\">&quot;&quot; </text>\n</g>\n<!-- Real_F -->\n<g id=\"node4\" class=\"node\">\n<title>Real_F</title>\n<ellipse fill=\"none\" stroke=\"#000000\" cx=\"1158.8904\" cy=\"-52.0969\" rx=\"37.8753\" ry=\"37.8753\"/>\n<ellipse fill=\"none\" stroke=\"#000000\" cx=\"1158.8904\" cy=\"-52.0969\" rx=\"41.8942\" ry=\"41.8942\"/>\n<text text-anchor=\"middle\" x=\"1158.8904\" y=\"-48.3969\" font-family=\"Times,serif\" font-size=\"14.00\" fill=\"#000000\">Real_F</text>\n</g>\n<!-- Real_I&#45;&gt;Real_F -->\n<g id=\"edge2\" class=\"edge\">\n<title>Real_I&#45;&gt;Real_F</title>\n<path fill=\"none\" stroke=\"#000000\" d=\"M161.2321,-31.6277C177.0886,-30.2285 196.0657,-28.7841 213.1938,-28.0969 462.7708,-18.0837 525.4742,-22.7042 775.1938,-28.0969 919.2945,-31.2087 955.8468,-27.0511 1099.1938,-42.0969 1102.0351,-42.3951 1104.9463,-42.7428 1107.8804,-43.126\"/>\n<polygon fill=\"#000000\" stroke=\"#000000\" points=\"1107.4834,-46.6047 1117.8763,-44.546 1108.4679,-39.6743 1107.4834,-46.6047\"/>\n<text text-anchor=\"middle\" x=\"494.1938\" y=\"-31.8969\" font-family=\"Times,serif\" font-size=\"14.00\" fill=\"#000000\">((((((((f ((s)* b)) + c) + c) a) + (f (s)*)) + (f (s)*)) + (((f ((s)* b)) + c) + c)) + (((f ((s)* b)) + c) + c)) </text>\n</g>\n<!-- I4&#45;&gt;Real_F -->\n<g id=\"edge3\" class=\"edge\">\n<title>I4&#45;&gt;Real_F</title>\n<path fill=\"none\" stroke=\"#000000\" d=\"M513.134,-72.7591C587.9724,-78.9574 870.168,-98.8345 1099.1938,-68.0969 1102.3841,-67.6687 1105.6465,-67.1212 1108.9203,-66.4881\"/>\n<polygon fill=\"#000000\" stroke=\"#000000\" points=\"1109.6828,-69.9042 1118.715,-64.3662 1108.2007,-63.0629 1109.6828,-69.9042\"/>\n<text text-anchor=\"middle\" x=\"946.1938\" y=\"-87.8969\" font-family=\"Times,serif\" font-size=\"14.00\" fill=\"#000000\">(((((d ((s)* b)) a) + (d (s)*)) + (d (s)*)) + (d ((s)* b))) </text>\n</g>\n<!-- I4&#45;&gt;Real_F -->\n<g id=\"edge4\" class=\"edge\">\n<title>I4&#45;&gt;Real_F</title>\n<path fill=\"none\" stroke=\"#000000\" d=\"M513.0577,-69.225C560.2185,-64.6509 687.0833,-52.9953 793.1938,-49.0969 929.1021,-44.1037 963.2366,-45.6828 1099.1938,-49.0969 1101.7354,-49.1607 1104.3372,-49.2398 1106.9646,-49.3306\"/>\n<polygon fill=\"#000000\" stroke=\"#000000\" points=\"1107.0209,-52.8355 1117.151,-49.7319 1107.2965,-45.8409 1107.0209,-52.8355\"/>\n<text text-anchor=\"middle\" x=\"946.1938\" y=\"-52.8969\" font-family=\"Times,serif\" font-size=\"14.00\" fill=\"#000000\">(d ((s)* b)) </text>\n</g>\n</g>\n</svg>\n"
          },
          "metadata": {
            "tags": []
          },
          "execution_count": 30
        }
      ]
    },
    {
      "cell_type": "code",
      "metadata": {
        "colab": {
          "base_uri": "https://localhost:8080/",
          "height": 203
        },
        "id": "QIYGljvUjxxb",
        "outputId": "eddc73cd-3d17-4d4d-ab7b-c1d6fff0c354"
      },
      "source": [
        "DO[5]"
      ],
      "execution_count": null,
      "outputs": [
        {
          "output_type": "execute_result",
          "data": {
            "text/plain": [
              "<graphviz.dot.Digraph at 0x7f71f26cae80>"
            ],
            "image/svg+xml": "<?xml version=\"1.0\" encoding=\"UTF-8\" standalone=\"no\"?>\n<!DOCTYPE svg PUBLIC \"-//W3C//DTD SVG 1.1//EN\"\n \"http://www.w3.org/Graphics/SVG/1.1/DTD/svg11.dtd\">\n<!-- Generated by graphviz version 2.40.1 (20161225.0304)\n -->\n<!-- Title: %3 Pages: 1 -->\n<svg width=\"1265pt\" height=\"122pt\"\n viewBox=\"0.00 0.00 1264.59 121.71\" xmlns=\"http://www.w3.org/2000/svg\" xmlns:xlink=\"http://www.w3.org/1999/xlink\">\n<g id=\"graph0\" class=\"graph\" transform=\"scale(1 1) rotate(0) translate(4 117.7089)\">\n<title>%3</title>\n<polygon fill=\"#ffffff\" stroke=\"transparent\" points=\"-4,4 -4,-117.7089 1260.5871,-117.7089 1260.5871,4 -4,4\"/>\n<!-- EMPTY -->\n<g id=\"node1\" class=\"node\">\n<title>EMPTY</title>\n</g>\n<!-- Real_I -->\n<g id=\"node2\" class=\"node\">\n<title>Real_I</title>\n<ellipse fill=\"none\" stroke=\"#000000\" cx=\"126.0969\" cy=\"-72.0123\" rx=\"35.194\" ry=\"35.194\"/>\n<text text-anchor=\"middle\" x=\"126.0969\" y=\"-68.3123\" font-family=\"Times,serif\" font-size=\"14.00\" fill=\"#000000\">Real_I</text>\n</g>\n<!-- EMPTY&#45;&gt;Real_I -->\n<g id=\"edge1\" class=\"edge\">\n<title>EMPTY&#45;&gt;Real_I</title>\n<path fill=\"none\" stroke=\"#000000\" d=\"M54.0787,-72.0123C62.3227,-72.0123 71.6196,-72.0123 80.7269,-72.0123\"/>\n<polygon fill=\"#000000\" stroke=\"#000000\" points=\"80.8626,-75.5124 90.8626,-72.0123 80.8625,-68.5124 80.8626,-75.5124\"/>\n</g>\n<!-- Real_F -->\n<g id=\"node3\" class=\"node\">\n<title>Real_F</title>\n<ellipse fill=\"none\" stroke=\"#000000\" cx=\"1214.8904\" cy=\"-72.0123\" rx=\"37.8753\" ry=\"37.8753\"/>\n<ellipse fill=\"none\" stroke=\"#000000\" cx=\"1214.8904\" cy=\"-72.0123\" rx=\"41.8942\" ry=\"41.8942\"/>\n<text text-anchor=\"middle\" x=\"1214.8904\" y=\"-68.3123\" font-family=\"Times,serif\" font-size=\"14.00\" fill=\"#000000\">Real_F</text>\n</g>\n<!-- Real_I&#45;&gt;Real_F -->\n<g id=\"edge2\" class=\"edge\">\n<title>Real_I&#45;&gt;Real_F</title>\n<path fill=\"none\" stroke=\"#000000\" d=\"M161.3963,-72.0123C320.646,-72.0123 972.6444,-72.0123 1162.6802,-72.0123\"/>\n<polygon fill=\"#000000\" stroke=\"#000000\" points=\"1162.9566,-75.5124 1172.9565,-72.0123 1162.9565,-68.5124 1162.9566,-75.5124\"/>\n<text text-anchor=\"middle\" x=\"667.1938\" y=\"-75.8123\" font-family=\"Times,serif\" font-size=\"14.00\" fill=\"#000000\">(((((((d ((s)* b)) a) + (d (s)*)) + (d (s)*)) + (d ((s)* b))) + (d ((s)* b))) + ((((((((f ((s)* b)) + c) + c) a) + (f (s)*)) + (f (s)*)) + (((f ((s)* b)) + c) + c)) + (((f ((s)* b)) + c) + c))) </text>\n</g>\n<!-- Real_I&#45;&gt;Real_F -->\n<g id=\"edge3\" class=\"edge\">\n<title>Real_I&#45;&gt;Real_F</title>\n<path fill=\"none\" stroke=\"#000000\" d=\"M158.4764,-58.4481C165.2107,-56.1915 172.3448,-54.2008 179.1938,-53.0123 606.5843,21.153 726.5542,13.5554 1155.1938,-53.0123 1158.6296,-53.5459 1162.1382,-54.2425 1165.6479,-55.0531\"/>\n<polygon fill=\"#000000\" stroke=\"#000000\" points=\"1164.9242,-58.481 1175.4822,-57.5986 1166.6783,-51.7044 1164.9242,-58.481\"/>\n<text text-anchor=\"middle\" x=\"667.1938\" y=\"-56.8123\" font-family=\"Times,serif\" font-size=\"14.00\" fill=\"#000000\">((((((((f ((s)* b)) + c) + c) a) + (f (s)*)) + (f (s)*)) + (((f ((s)* b)) + c) + c)) + (((f ((s)* b)) + c) + c)) </text>\n</g>\n</g>\n</svg>\n"
          },
          "metadata": {
            "tags": []
          },
          "execution_count": 31
        }
      ]
    },
    {
      "cell_type": "code",
      "metadata": {
        "id": "zvc3WnQb1Far",
        "colab": {
          "base_uri": "https://localhost:8080/",
          "height": 53
        },
        "outputId": "fe34e2ee-e020-46ad-c983-0b85f51b77fa"
      },
      "source": [
        "Rev_RE1"
      ],
      "execution_count": null,
      "outputs": [
        {
          "output_type": "execute_result",
          "data": {
            "application/vnd.google.colaboratory.intrinsic+json": {
              "type": "string"
            },
            "text/plain": [
              "'((((((((d ((s)* b)) a) + (d (s)*)) + (d (s)*)) + (d ((s)* b))) + (d ((s)* b))) + ((((((((f ((s)* b)) + c) + c) a) + (f (s)*)) + (f (s)*)) + (((f ((s)* b)) + c) + c)) + (((f ((s)* b)) + c) + c))) + ((((((((f ((s)* b)) + c) + c) a) + (f (s)*)) + (f (s)*)) + (((f ((s)* b)) + c) + c)) + (((f ((s)* b)) + c) + c)))'"
            ]
          },
          "metadata": {
            "tags": []
          },
          "execution_count": 32
        }
      ]
    },
    {
      "cell_type": "code",
      "metadata": {
        "id": "D0dEbHik1Far",
        "colab": {
          "base_uri": "https://localhost:8080/",
          "height": 225
        },
        "outputId": "ab321a6e-28b7-4aa7-9761-b9aa80f44002"
      },
      "source": [
        "dotObj_dfa(min_dfa(nfa2dfa(re2nfa(Rev_RE1))))"
      ],
      "execution_count": null,
      "outputs": [
        {
          "output_type": "stream",
          "text": [
            "Generating LALR tables\n"
          ],
          "name": "stderr"
        },
        {
          "output_type": "execute_result",
          "data": {
            "text/plain": [
              "<graphviz.dot.Digraph at 0x7f71f22fbb38>"
            ],
            "image/svg+xml": "<?xml version=\"1.0\" encoding=\"UTF-8\" standalone=\"no\"?>\n<!DOCTYPE svg PUBLIC \"-//W3C//DTD SVG 1.1//EN\"\n \"http://www.w3.org/Graphics/SVG/1.1/DTD/svg11.dtd\">\n<!-- Generated by graphviz version 2.40.1 (20161225.0304)\n -->\n<!-- Title: %3 Pages: 1 -->\n<svg width=\"452pt\" height=\"140pt\"\n viewBox=\"0.00 0.00 452.18 139.80\" xmlns=\"http://www.w3.org/2000/svg\" xmlns:xlink=\"http://www.w3.org/1999/xlink\">\n<g id=\"graph0\" class=\"graph\" transform=\"scale(1 1) rotate(0) translate(4 135.7958)\">\n<title>%3</title>\n<polygon fill=\"#ffffff\" stroke=\"transparent\" points=\"-4,4 -4,-135.7958 448.1834,-135.7958 448.1834,4 -4,4\"/>\n<!-- EMPTY -->\n<g id=\"node1\" class=\"node\">\n<title>EMPTY</title>\n</g>\n<!-- St1 -->\n<g id=\"node2\" class=\"node\">\n<title>St1</title>\n<ellipse fill=\"none\" stroke=\"#000000\" cx=\"114.3979\" cy=\"-44.3979\" rx=\"23.2963\" ry=\"23.2963\"/>\n<text text-anchor=\"middle\" x=\"114.3979\" y=\"-40.6979\" font-family=\"Times,serif\" font-size=\"14.00\" fill=\"#000000\">St1</text>\n</g>\n<!-- EMPTY&#45;&gt;St1 -->\n<g id=\"edge1\" class=\"edge\">\n<title>EMPTY&#45;&gt;St1</title>\n<path fill=\"none\" stroke=\"#000000\" d=\"M54.1742,-44.3979C62.5103,-44.3979 71.7873,-44.3979 80.5137,-44.3979\"/>\n<polygon fill=\"#000000\" stroke=\"#000000\" points=\"80.7846,-47.898 90.7846,-44.3979 80.7845,-40.898 80.7846,-47.898\"/>\n</g>\n<!-- St3 -->\n<g id=\"node4\" class=\"node\">\n<title>St3</title>\n<ellipse fill=\"none\" stroke=\"#000000\" cx=\"213.1938\" cy=\"-71.3979\" rx=\"23.3111\" ry=\"23.3111\"/>\n<ellipse fill=\"none\" stroke=\"#000000\" cx=\"213.1938\" cy=\"-71.3979\" rx=\"27.2962\" ry=\"27.2962\"/>\n<text text-anchor=\"middle\" x=\"213.1938\" y=\"-67.6979\" font-family=\"Times,serif\" font-size=\"14.00\" fill=\"#000000\">St3</text>\n</g>\n<!-- St1&#45;&gt;St3 -->\n<g id=\"edge3\" class=\"edge\">\n<title>St1&#45;&gt;St3</title>\n<path fill=\"none\" stroke=\"#000000\" d=\"M136.0621,-53.6126C142.3489,-56.0557 149.2776,-58.5301 155.7958,-60.3979 162.1967,-62.2321 169.0877,-63.8488 175.797,-65.2389\"/>\n<polygon fill=\"#000000\" stroke=\"#000000\" points=\"175.6105,-68.7679 186.0939,-67.2357 176.9431,-61.8959 175.6105,-68.7679\"/>\n<text text-anchor=\"middle\" x=\"161.7958\" y=\"-66.1979\" font-family=\"Times,serif\" font-size=\"14.00\" fill=\"#000000\">f </text>\n</g>\n<!-- St1&#45;&gt;St3 -->\n<g id=\"edge4\" class=\"edge\">\n<title>St1&#45;&gt;St3</title>\n<path fill=\"none\" stroke=\"#000000\" d=\"M137.4104,-39.6847C146.9842,-38.5962 158.1034,-38.4847 167.7958,-41.3979 173.1111,-42.9955 178.3777,-45.4398 183.338,-48.2581\"/>\n<polygon fill=\"#000000\" stroke=\"#000000\" points=\"181.5522,-51.2696 191.8802,-53.6327 185.2801,-45.3448 181.5522,-51.2696\"/>\n<text text-anchor=\"middle\" x=\"161.7958\" y=\"-45.1979\" font-family=\"Times,serif\" font-size=\"14.00\" fill=\"#000000\">d </text>\n</g>\n<!-- St8 -->\n<g id=\"node5\" class=\"node\">\n<title>St8</title>\n<ellipse fill=\"none\" stroke=\"#000000\" cx=\"315.9896\" cy=\"-27.3979\" rx=\"23.3111\" ry=\"23.3111\"/>\n<ellipse fill=\"none\" stroke=\"#000000\" cx=\"315.9896\" cy=\"-27.3979\" rx=\"27.2962\" ry=\"27.2962\"/>\n<text text-anchor=\"middle\" x=\"315.9896\" y=\"-23.6979\" font-family=\"Times,serif\" font-size=\"14.00\" fill=\"#000000\">St8</text>\n</g>\n<!-- St1&#45;&gt;St8 -->\n<g id=\"edge2\" class=\"edge\">\n<title>St1&#45;&gt;St8</title>\n<path fill=\"none\" stroke=\"#000000\" d=\"M136.119,-35.0451C150.0308,-29.5738 168.6315,-23.2056 185.7958,-20.3979 216.8172,-15.3236 252.4932,-17.8142 278.646,-21.1556\"/>\n<polygon fill=\"#000000\" stroke=\"#000000\" points=\"278.4918,-24.6674 288.8764,-22.5676 279.4489,-17.7332 278.4918,-24.6674\"/>\n<text text-anchor=\"middle\" x=\"213.1938\" y=\"-24.1979\" font-family=\"Times,serif\" font-size=\"14.00\" fill=\"#000000\">c </text>\n</g>\n<!-- St9 -->\n<g id=\"node3\" class=\"node\">\n<title>St9</title>\n<ellipse fill=\"none\" stroke=\"#000000\" cx=\"416.7855\" cy=\"-27.3979\" rx=\"23.3111\" ry=\"23.3111\"/>\n<ellipse fill=\"none\" stroke=\"#000000\" cx=\"416.7855\" cy=\"-27.3979\" rx=\"27.2962\" ry=\"27.2962\"/>\n<text text-anchor=\"middle\" x=\"416.7855\" y=\"-23.6979\" font-family=\"Times,serif\" font-size=\"14.00\" fill=\"#000000\">St9</text>\n</g>\n<!-- St3&#45;&gt;St3 -->\n<g id=\"edge6\" class=\"edge\">\n<title>St3&#45;&gt;St3</title>\n<path fill=\"none\" stroke=\"#000000\" d=\"M203.876,-97.523C203.3496,-108.0011 206.4555,-116.7958 213.1938,-116.7958 217.5105,-116.7958 220.3365,-113.1865 221.6717,-107.8374\"/>\n<polygon fill=\"#000000\" stroke=\"#000000\" points=\"225.1884,-107.7741 222.5116,-97.523 218.2115,-107.206 225.1884,-107.7741\"/>\n<text text-anchor=\"middle\" x=\"213.1938\" y=\"-120.5958\" font-family=\"Times,serif\" font-size=\"14.00\" fill=\"#000000\">s </text>\n</g>\n<!-- St3&#45;&gt;St8 -->\n<g id=\"edge7\" class=\"edge\">\n<title>St3&#45;&gt;St8</title>\n<path fill=\"none\" stroke=\"#000000\" d=\"M238.604,-60.5215C251.4536,-55.0214 267.244,-48.2626 281.2029,-42.2878\"/>\n<polygon fill=\"#000000\" stroke=\"#000000\" points=\"282.6995,-45.4544 290.5155,-38.3017 279.9449,-39.0191 282.6995,-45.4544\"/>\n<text text-anchor=\"middle\" x=\"264.5917\" y=\"-54.1979\" font-family=\"Times,serif\" font-size=\"14.00\" fill=\"#000000\">b </text>\n</g>\n<!-- St8&#45;&gt;St9 -->\n<g id=\"edge5\" class=\"edge\">\n<title>St8&#45;&gt;St9</title>\n<path fill=\"none\" stroke=\"#000000\" d=\"M343.5325,-27.3979C354.5327,-27.3979 367.3758,-27.3979 379.2089,-27.3979\"/>\n<polygon fill=\"#000000\" stroke=\"#000000\" points=\"379.2759,-30.898 389.2759,-27.3979 379.2758,-23.898 379.2759,-30.898\"/>\n<text text-anchor=\"middle\" x=\"366.3875\" y=\"-31.1979\" font-family=\"Times,serif\" font-size=\"14.00\" fill=\"#000000\">a </text>\n</g>\n</g>\n</svg>\n"
          },
          "metadata": {
            "tags": []
          },
          "execution_count": 33
        }
      ]
    },
    {
      "cell_type": "markdown",
      "metadata": {
        "id": "iQEHDBcy1Far"
      },
      "source": [
        "## 3.3: Apply the elimination order by supplying the second argument \n",
        " ['I3', 'I4', 'F1', 'B', 'F2' ]\n",
        "\n",
        "as you learned in the help"
      ]
    },
    {
      "cell_type": "code",
      "metadata": {
        "colab": {
          "base_uri": "https://localhost:8080/"
        },
        "id": "7jT5zXsArXcU",
        "outputId": "bb2ffdab-790d-403f-fef5-664227e57133"
      },
      "source": [
        "(Gfinal, DO, Rev_RE2) = del_gnfa_states(grnfa1, DelList=['I3', 'I4', 'F1', 'B', 'F2'])"
      ],
      "execution_count": null,
      "outputs": [
        {
          "output_type": "stream",
          "text": [
            "**** Eliminating state I3 ****\n",
            "**** Eliminating state I4 ****\n",
            "**** Eliminating state F1 ****\n",
            "**** Eliminating state B ****\n",
            "**** Eliminating state F2 ****\n"
          ],
          "name": "stdout"
        }
      ]
    },
    {
      "cell_type": "code",
      "metadata": {
        "colab": {
          "base_uri": "https://localhost:8080/",
          "height": 35
        },
        "id": "DhaGWHLzrknP",
        "outputId": "56b377c5-cd19-441e-a966-108d48af6d6e"
      },
      "source": [
        "Rev_RE2"
      ],
      "execution_count": null,
      "outputs": [
        {
          "output_type": "execute_result",
          "data": {
            "application/vnd.google.colaboratory.intrinsic+json": {
              "type": "string"
            },
            "text/plain": [
              "'((((((((d + f) + f) ((s)* b)) + c) + c) ((a + \"\") + \"\")) + (((d + f) + f) (s)*)) + (((d + f) + f) (s)*))'"
            ]
          },
          "metadata": {
            "tags": []
          },
          "execution_count": 35
        }
      ]
    },
    {
      "cell_type": "code",
      "metadata": {
        "colab": {
          "base_uri": "https://localhost:8080/",
          "height": 199
        },
        "id": "6xCTlN4aroNm",
        "outputId": "3d868c40-96aa-42d1-e577-7796fdf6d214"
      },
      "source": [
        "dotObj_dfa(min_dfa(nfa2dfa(re2nfa(Rev_RE2))))"
      ],
      "execution_count": null,
      "outputs": [
        {
          "output_type": "stream",
          "text": [
            "Generating LALR tables\n"
          ],
          "name": "stderr"
        },
        {
          "output_type": "execute_result",
          "data": {
            "text/plain": [
              "<graphviz.dot.Digraph at 0x7f71f26e7cf8>"
            ],
            "image/svg+xml": "<?xml version=\"1.0\" encoding=\"UTF-8\" standalone=\"no\"?>\n<!DOCTYPE svg PUBLIC \"-//W3C//DTD SVG 1.1//EN\"\n \"http://www.w3.org/Graphics/SVG/1.1/DTD/svg11.dtd\">\n<!-- Generated by graphviz version 2.40.1 (20161225.0304)\n -->\n<!-- Title: %3 Pages: 1 -->\n<svg width=\"452pt\" height=\"121pt\"\n viewBox=\"0.00 0.00 452.18 121.40\" xmlns=\"http://www.w3.org/2000/svg\" xmlns:xlink=\"http://www.w3.org/1999/xlink\">\n<g id=\"graph0\" class=\"graph\" transform=\"scale(1 1) rotate(0) translate(4 117.3979)\">\n<title>%3</title>\n<polygon fill=\"#ffffff\" stroke=\"transparent\" points=\"-4,4 -4,-117.3979 448.1834,-117.3979 448.1834,4 -4,4\"/>\n<!-- EMPTY -->\n<g id=\"node1\" class=\"node\">\n<title>EMPTY</title>\n</g>\n<!-- St1 -->\n<g id=\"node2\" class=\"node\">\n<title>St1</title>\n<ellipse fill=\"none\" stroke=\"#000000\" cx=\"114.3979\" cy=\"-65.3979\" rx=\"23.2963\" ry=\"23.2963\"/>\n<text text-anchor=\"middle\" x=\"114.3979\" y=\"-61.6979\" font-family=\"Times,serif\" font-size=\"14.00\" fill=\"#000000\">St1</text>\n</g>\n<!-- EMPTY&#45;&gt;St1 -->\n<g id=\"edge1\" class=\"edge\">\n<title>EMPTY&#45;&gt;St1</title>\n<path fill=\"none\" stroke=\"#000000\" d=\"M54.1742,-65.3979C62.5103,-65.3979 71.7873,-65.3979 80.5137,-65.3979\"/>\n<polygon fill=\"#000000\" stroke=\"#000000\" points=\"80.7846,-68.898 90.7846,-65.3979 80.7845,-61.898 80.7846,-68.898\"/>\n</g>\n<!-- St5 -->\n<g id=\"node3\" class=\"node\">\n<title>St5</title>\n<ellipse fill=\"none\" stroke=\"#000000\" cx=\"315.9896\" cy=\"-75.3979\" rx=\"23.3111\" ry=\"23.3111\"/>\n<ellipse fill=\"none\" stroke=\"#000000\" cx=\"315.9896\" cy=\"-75.3979\" rx=\"27.2962\" ry=\"27.2962\"/>\n<text text-anchor=\"middle\" x=\"315.9896\" y=\"-71.6979\" font-family=\"Times,serif\" font-size=\"14.00\" fill=\"#000000\">St5</text>\n</g>\n<!-- St1&#45;&gt;St5 -->\n<g id=\"edge4\" class=\"edge\">\n<title>St1&#45;&gt;St5</title>\n<path fill=\"none\" stroke=\"#000000\" d=\"M134.8931,-76.9828C148.7759,-84.1447 167.8017,-92.6601 185.7958,-96.3979 217.4594,-102.9753 253.8175,-95.9012 280.0501,-88.238\"/>\n<polygon fill=\"#000000\" stroke=\"#000000\" points=\"281.4061,-91.4823 289.9268,-85.1856 279.3392,-84.7944 281.4061,-91.4823\"/>\n<text text-anchor=\"middle\" x=\"213.1938\" y=\"-102.1979\" font-family=\"Times,serif\" font-size=\"14.00\" fill=\"#000000\">c </text>\n</g>\n<!-- St3 -->\n<g id=\"node4\" class=\"node\">\n<title>St3</title>\n<ellipse fill=\"none\" stroke=\"#000000\" cx=\"213.1938\" cy=\"-27.3979\" rx=\"23.3111\" ry=\"23.3111\"/>\n<ellipse fill=\"none\" stroke=\"#000000\" cx=\"213.1938\" cy=\"-27.3979\" rx=\"27.2962\" ry=\"27.2962\"/>\n<text text-anchor=\"middle\" x=\"213.1938\" y=\"-23.6979\" font-family=\"Times,serif\" font-size=\"14.00\" fill=\"#000000\">St3</text>\n</g>\n<!-- St1&#45;&gt;St3 -->\n<g id=\"edge2\" class=\"edge\">\n<title>St1&#45;&gt;St3</title>\n<path fill=\"none\" stroke=\"#000000\" d=\"M136.3239,-56.9645C148.492,-52.2843 163.921,-46.3498 177.7577,-41.0278\"/>\n<polygon fill=\"#000000\" stroke=\"#000000\" points=\"179.4052,-44.1441 187.4822,-37.2874 176.8923,-37.6107 179.4052,-44.1441\"/>\n<text text-anchor=\"middle\" x=\"161.7958\" y=\"-52.1979\" font-family=\"Times,serif\" font-size=\"14.00\" fill=\"#000000\">f </text>\n</g>\n<!-- St1&#45;&gt;St3 -->\n<g id=\"edge3\" class=\"edge\">\n<title>St1&#45;&gt;St3</title>\n<path fill=\"none\" stroke=\"#000000\" d=\"M128.3556,-46.4915C135.54,-38.3624 145.0476,-29.7423 155.7958,-25.3979 161.9838,-22.8968 168.86,-21.8404 175.6415,-21.6442\"/>\n<polygon fill=\"#000000\" stroke=\"#000000\" points=\"176.0066,-25.1567 186.1076,-21.9598 176.2177,-18.1599 176.0066,-25.1567\"/>\n<text text-anchor=\"middle\" x=\"161.7958\" y=\"-29.1979\" font-family=\"Times,serif\" font-size=\"14.00\" fill=\"#000000\">d </text>\n</g>\n<!-- St7 -->\n<g id=\"node5\" class=\"node\">\n<title>St7</title>\n<ellipse fill=\"none\" stroke=\"#000000\" cx=\"416.7855\" cy=\"-75.3979\" rx=\"23.3111\" ry=\"23.3111\"/>\n<ellipse fill=\"none\" stroke=\"#000000\" cx=\"416.7855\" cy=\"-75.3979\" rx=\"27.2962\" ry=\"27.2962\"/>\n<text text-anchor=\"middle\" x=\"416.7855\" y=\"-71.6979\" font-family=\"Times,serif\" font-size=\"14.00\" fill=\"#000000\">St7</text>\n</g>\n<!-- St5&#45;&gt;St7 -->\n<g id=\"edge7\" class=\"edge\">\n<title>St5&#45;&gt;St7</title>\n<path fill=\"none\" stroke=\"#000000\" d=\"M343.5325,-75.3979C354.5327,-75.3979 367.3758,-75.3979 379.2089,-75.3979\"/>\n<polygon fill=\"#000000\" stroke=\"#000000\" points=\"379.2759,-78.898 389.2759,-75.3979 379.2758,-71.898 379.2759,-78.898\"/>\n<text text-anchor=\"middle\" x=\"366.3875\" y=\"-79.1979\" font-family=\"Times,serif\" font-size=\"14.00\" fill=\"#000000\">a </text>\n</g>\n<!-- St3&#45;&gt;St5 -->\n<g id=\"edge6\" class=\"edge\">\n<title>St3&#45;&gt;St5</title>\n<path fill=\"none\" stroke=\"#000000\" d=\"M238.0778,-39.0174C251.2382,-45.1626 267.5924,-52.7991 281.9143,-59.4866\"/>\n<polygon fill=\"#000000\" stroke=\"#000000\" points=\"280.4368,-62.6594 290.9785,-63.7191 283.3984,-56.3168 280.4368,-62.6594\"/>\n<text text-anchor=\"middle\" x=\"264.5917\" y=\"-56.1979\" font-family=\"Times,serif\" font-size=\"14.00\" fill=\"#000000\">b </text>\n</g>\n<!-- St3&#45;&gt;St3 -->\n<g id=\"edge5\" class=\"edge\">\n<title>St3&#45;&gt;St3</title>\n<path fill=\"none\" stroke=\"#000000\" d=\"M203.876,-53.523C203.3496,-64.0011 206.4555,-72.7958 213.1938,-72.7958 217.5105,-72.7958 220.3365,-69.1865 221.6717,-63.8374\"/>\n<polygon fill=\"#000000\" stroke=\"#000000\" points=\"225.1884,-63.7741 222.5116,-53.523 218.2115,-63.206 225.1884,-63.7741\"/>\n<text text-anchor=\"middle\" x=\"213.1938\" y=\"-76.5958\" font-family=\"Times,serif\" font-size=\"14.00\" fill=\"#000000\">s </text>\n</g>\n</g>\n</svg>\n"
          },
          "metadata": {
            "tags": []
          },
          "execution_count": 36
        }
      ]
    },
    {
      "cell_type": "code",
      "metadata": {
        "colab": {
          "base_uri": "https://localhost:8080/",
          "height": 160
        },
        "id": "eebkVFHnlURr",
        "outputId": "46eec586-6461-4fea-eb6c-487e47f09c66"
      },
      "source": [
        "DO[0]"
      ],
      "execution_count": null,
      "outputs": [
        {
          "output_type": "execute_result",
          "data": {
            "text/plain": [
              "<graphviz.dot.Digraph at 0x7f71f26fc080>"
            ],
            "image/svg+xml": "<?xml version=\"1.0\" encoding=\"UTF-8\" standalone=\"no\"?>\n<!DOCTYPE svg PUBLIC \"-//W3C//DTD SVG 1.1//EN\"\n \"http://www.w3.org/Graphics/SVG/1.1/DTD/svg11.dtd\">\n<!-- Generated by graphviz version 2.40.1 (20161225.0304)\n -->\n<!-- Title: %3 Pages: 1 -->\n<svg width=\"641pt\" height=\"105pt\"\n viewBox=\"0.00 0.00 641.48 104.65\" xmlns=\"http://www.w3.org/2000/svg\" xmlns:xlink=\"http://www.w3.org/1999/xlink\">\n<g id=\"graph0\" class=\"graph\" transform=\"scale(1 1) rotate(0) translate(4 100.6465)\">\n<title>%3</title>\n<polygon fill=\"#ffffff\" stroke=\"transparent\" points=\"-4,4 -4,-100.6465 637.4764,-100.6465 637.4764,4 -4,4\"/>\n<!-- EMPTY -->\n<g id=\"node1\" class=\"node\">\n<title>EMPTY</title>\n</g>\n<!-- Real_I -->\n<g id=\"node2\" class=\"node\">\n<title>Real_I</title>\n<ellipse fill=\"none\" stroke=\"#000000\" cx=\"126.0969\" cy=\"-46.8483\" rx=\"35.194\" ry=\"35.194\"/>\n<text text-anchor=\"middle\" x=\"126.0969\" y=\"-43.1483\" font-family=\"Times,serif\" font-size=\"14.00\" fill=\"#000000\">Real_I</text>\n</g>\n<!-- EMPTY&#45;&gt;Real_I -->\n<g id=\"edge1\" class=\"edge\">\n<title>EMPTY&#45;&gt;Real_I</title>\n<path fill=\"none\" stroke=\"#000000\" d=\"M54.0787,-46.8483C62.3227,-46.8483 71.6196,-46.8483 80.7269,-46.8483\"/>\n<polygon fill=\"#000000\" stroke=\"#000000\" points=\"80.8626,-50.3484 90.8626,-46.8483 80.8625,-43.3484 80.8626,-50.3484\"/>\n</g>\n<!-- I3 -->\n<g id=\"node4\" class=\"node\">\n<title>I3</title>\n<ellipse fill=\"none\" stroke=\"#000000\" cx=\"225.0421\" cy=\"-74.8483\" rx=\"18.6979\" ry=\"18.6979\"/>\n<text text-anchor=\"middle\" x=\"225.0421\" y=\"-71.1483\" font-family=\"Times,serif\" font-size=\"14.00\" fill=\"#000000\">I3</text>\n</g>\n<!-- Real_I&#45;&gt;I3 -->\n<g id=\"edge9\" class=\"edge\">\n<title>Real_I&#45;&gt;I3</title>\n<path fill=\"none\" stroke=\"#000000\" d=\"M159.8715,-56.406C171.873,-59.8023 185.2495,-63.5876 196.7456,-66.8408\"/>\n<polygon fill=\"#000000\" stroke=\"#000000\" points=\"196.106,-70.2972 206.6812,-69.6525 198.0121,-63.5617 196.106,-70.2972\"/>\n<text text-anchor=\"middle\" x=\"183.6938\" y=\"-67.6483\" font-family=\"Times,serif\" font-size=\"14.00\" fill=\"#000000\">&#39;&#39; </text>\n</g>\n<!-- I4 -->\n<g id=\"node5\" class=\"node\">\n<title>I4</title>\n<ellipse fill=\"none\" stroke=\"#000000\" cx=\"225.0421\" cy=\"-18.8483\" rx=\"18.6979\" ry=\"18.6979\"/>\n<text text-anchor=\"middle\" x=\"225.0421\" y=\"-15.1483\" font-family=\"Times,serif\" font-size=\"14.00\" fill=\"#000000\">I4</text>\n</g>\n<!-- Real_I&#45;&gt;I4 -->\n<g id=\"edge10\" class=\"edge\">\n<title>Real_I&#45;&gt;I4</title>\n<path fill=\"none\" stroke=\"#000000\" d=\"M159.8715,-37.2906C171.873,-33.8944 185.2495,-30.109 196.7456,-26.8558\"/>\n<polygon fill=\"#000000\" stroke=\"#000000\" points=\"198.0121,-30.1349 206.6812,-24.0442 196.106,-23.3994 198.0121,-30.1349\"/>\n<text text-anchor=\"middle\" x=\"183.6938\" y=\"-35.6483\" font-family=\"Times,serif\" font-size=\"14.00\" fill=\"#000000\">&#39;&#39; </text>\n</g>\n<!-- F2 -->\n<g id=\"node3\" class=\"node\">\n<title>F2</title>\n<ellipse fill=\"none\" stroke=\"#000000\" cx=\"396.6886\" cy=\"-75.8483\" rx=\"20.5982\" ry=\"20.5982\"/>\n<text text-anchor=\"middle\" x=\"396.6886\" y=\"-72.1483\" font-family=\"Times,serif\" font-size=\"14.00\" fill=\"#000000\">F2</text>\n</g>\n<!-- F1 -->\n<g id=\"node7\" class=\"node\">\n<title>F1</title>\n<ellipse fill=\"none\" stroke=\"#000000\" cx=\"484.2849\" cy=\"-24.8483\" rx=\"20.5982\" ry=\"20.5982\"/>\n<text text-anchor=\"middle\" x=\"484.2849\" y=\"-21.1483\" font-family=\"Times,serif\" font-size=\"14.00\" fill=\"#000000\">F1</text>\n</g>\n<!-- F2&#45;&gt;F1 -->\n<g id=\"edge8\" class=\"edge\">\n<title>F2&#45;&gt;F1</title>\n<path fill=\"none\" stroke=\"#000000\" d=\"M414.8163,-65.03C421.323,-61.166 428.7228,-56.7935 435.4867,-52.8483 442.6056,-48.6961 450.3328,-44.2394 457.494,-40.1298\"/>\n<polygon fill=\"#000000\" stroke=\"#000000\" points=\"459.2353,-43.166 466.1737,-35.1592 455.7566,-37.0915 459.2353,-43.166\"/>\n<text text-anchor=\"middle\" x=\"440.4867\" y=\"-56.6483\" font-family=\"Times,serif\" font-size=\"14.00\" fill=\"#000000\">a </text>\n</g>\n<!-- Real_F -->\n<g id=\"node8\" class=\"node\">\n<title>Real_F</title>\n<ellipse fill=\"none\" stroke=\"#000000\" cx=\"591.7797\" cy=\"-53.8483\" rx=\"37.8753\" ry=\"37.8753\"/>\n<ellipse fill=\"none\" stroke=\"#000000\" cx=\"591.7797\" cy=\"-53.8483\" rx=\"41.8942\" ry=\"41.8942\"/>\n<text text-anchor=\"middle\" x=\"591.7797\" y=\"-50.1483\" font-family=\"Times,serif\" font-size=\"14.00\" fill=\"#000000\">Real_F</text>\n</g>\n<!-- F2&#45;&gt;Real_F -->\n<g id=\"edge11\" class=\"edge\">\n<title>F2&#45;&gt;Real_F</title>\n<path fill=\"none\" stroke=\"#000000\" d=\"M417.5667,-73.4939C446.5934,-70.2207 500.0878,-64.1882 540.1711,-59.6681\"/>\n<polygon fill=\"#000000\" stroke=\"#000000\" points=\"540.7641,-63.1235 550.3089,-58.5249 539.9797,-56.1676 540.7641,-63.1235\"/>\n<text text-anchor=\"middle\" x=\"484.2849\" y=\"-71.6483\" font-family=\"Times,serif\" font-size=\"14.00\" fill=\"#000000\">&#39;&#39; </text>\n</g>\n<!-- I3&#45;&gt;F2 -->\n<g id=\"edge3\" class=\"edge\">\n<title>I3&#45;&gt;F2</title>\n<path fill=\"none\" stroke=\"#000000\" d=\"M244.046,-76.2886C257.4173,-77.2277 275.737,-78.3655 291.8904,-78.8483 316.679,-79.5893 344.767,-78.6917 365.6205,-77.6899\"/>\n<polygon fill=\"#000000\" stroke=\"#000000\" points=\"366.0038,-81.1749 375.8104,-77.1646 365.6434,-74.1842 366.0038,-81.1749\"/>\n<text text-anchor=\"middle\" x=\"309.8904\" y=\"-82.6483\" font-family=\"Times,serif\" font-size=\"14.00\" fill=\"#000000\">c </text>\n</g>\n<!-- B -->\n<g id=\"node6\" class=\"node\">\n<title>B</title>\n<ellipse fill=\"none\" stroke=\"#000000\" cx=\"309.8904\" cy=\"-18.8483\" rx=\"18\" ry=\"18\"/>\n<text text-anchor=\"middle\" x=\"309.8904\" y=\"-15.1483\" font-family=\"Times,serif\" font-size=\"14.00\" fill=\"#000000\">B</text>\n</g>\n<!-- I3&#45;&gt;B -->\n<g id=\"edge2\" class=\"edge\">\n<title>I3&#45;&gt;B</title>\n<path fill=\"none\" stroke=\"#000000\" d=\"M241.0014,-64.3152C253.8022,-55.8666 271.9553,-43.8856 286.4133,-34.3432\"/>\n<polygon fill=\"#000000\" stroke=\"#000000\" points=\"288.439,-37.1999 294.8571,-28.7703 284.5831,-31.3576 288.439,-37.1999\"/>\n<text text-anchor=\"middle\" x=\"267.8904\" y=\"-54.6483\" font-family=\"Times,serif\" font-size=\"14.00\" fill=\"#000000\">f </text>\n</g>\n<!-- I4&#45;&gt;B -->\n<g id=\"edge4\" class=\"edge\">\n<title>I4&#45;&gt;B</title>\n<path fill=\"none\" stroke=\"#000000\" d=\"M244.2955,-18.8483C255.3379,-18.8483 269.4015,-18.8483 281.6725,-18.8483\"/>\n<polygon fill=\"#000000\" stroke=\"#000000\" points=\"281.8736,-22.3484 291.8736,-18.8483 281.8735,-15.3484 281.8736,-22.3484\"/>\n<text text-anchor=\"middle\" x=\"267.8904\" y=\"-22.6483\" font-family=\"Times,serif\" font-size=\"14.00\" fill=\"#000000\">d </text>\n</g>\n<!-- B&#45;&gt;F2 -->\n<g id=\"edge5\" class=\"edge\">\n<title>B&#45;&gt;F2</title>\n<path fill=\"none\" stroke=\"#000000\" d=\"M325.0095,-28.777C337.4785,-36.9653 355.4641,-48.7764 370.2993,-58.5186\"/>\n<polygon fill=\"#000000\" stroke=\"#000000\" points=\"368.7718,-61.7027 379.0518,-64.2663 372.6142,-55.8515 368.7718,-61.7027\"/>\n<text text-anchor=\"middle\" x=\"351.8904\" y=\"-53.6483\" font-family=\"Times,serif\" font-size=\"14.00\" fill=\"#000000\">b </text>\n</g>\n<!-- B&#45;&gt;B -->\n<g id=\"edge7\" class=\"edge\">\n<title>B&#45;&gt;B</title>\n<path fill=\"none\" stroke=\"#000000\" d=\"M302.5076,-35.5124C300.867,-45.4733 303.3279,-54.8483 309.8904,-54.8483 314.0945,-54.8483 316.6153,-51.0008 317.4529,-45.6166\"/>\n<polygon fill=\"#000000\" stroke=\"#000000\" points=\"320.9505,-45.4486 317.2732,-35.5124 313.9517,-45.5731 320.9505,-45.4486\"/>\n<text text-anchor=\"middle\" x=\"309.8904\" y=\"-58.6483\" font-family=\"Times,serif\" font-size=\"14.00\" fill=\"#000000\">s </text>\n</g>\n<!-- B&#45;&gt;F1 -->\n<g id=\"edge6\" class=\"edge\">\n<title>B&#45;&gt;F1</title>\n<path fill=\"none\" stroke=\"#000000\" d=\"M327.8968,-19.4678C357.5205,-20.487 416.8797,-22.5293 453.3416,-23.7837\"/>\n<polygon fill=\"#000000\" stroke=\"#000000\" points=\"453.3049,-27.2844 463.4194,-24.1305 453.5457,-20.2886 453.3049,-27.2844\"/>\n<text text-anchor=\"middle\" x=\"396.6886\" y=\"-26.6483\" font-family=\"Times,serif\" font-size=\"14.00\" fill=\"#000000\">&#39;&#39; </text>\n</g>\n<!-- F1&#45;&gt;Real_F -->\n<g id=\"edge12\" class=\"edge\">\n<title>F1&#45;&gt;Real_F</title>\n<path fill=\"none\" stroke=\"#000000\" d=\"M504.5038,-30.303C514.9721,-33.1271 528.2656,-36.7135 541.3017,-40.2304\"/>\n<polygon fill=\"#000000\" stroke=\"#000000\" points=\"540.6028,-43.6669 551.1692,-42.8924 542.4261,-36.9085 540.6028,-43.6669\"/>\n<text text-anchor=\"middle\" x=\"527.583\" y=\"-41.6483\" font-family=\"Times,serif\" font-size=\"14.00\" fill=\"#000000\">&#39;&#39; </text>\n</g>\n</g>\n</svg>\n"
          },
          "metadata": {
            "tags": []
          },
          "execution_count": 37
        }
      ]
    },
    {
      "cell_type": "code",
      "metadata": {
        "colab": {
          "base_uri": "https://localhost:8080/",
          "height": 160
        },
        "id": "esBvlsM_lcxL",
        "outputId": "ce558344-ed29-494c-9c39-c770c92e9551"
      },
      "source": [
        "DO[1]"
      ],
      "execution_count": null,
      "outputs": [
        {
          "output_type": "execute_result",
          "data": {
            "text/plain": [
              "<graphviz.dot.Digraph at 0x7f71f26fc0b8>"
            ],
            "image/svg+xml": "<?xml version=\"1.0\" encoding=\"UTF-8\" standalone=\"no\"?>\n<!DOCTYPE svg PUBLIC \"-//W3C//DTD SVG 1.1//EN\"\n \"http://www.w3.org/Graphics/SVG/1.1/DTD/svg11.dtd\">\n<!-- Generated by graphviz version 2.40.1 (20161225.0304)\n -->\n<!-- Title: %3 Pages: 1 -->\n<svg width=\"655pt\" height=\"105pt\"\n viewBox=\"0.00 0.00 655.48 104.80\" xmlns=\"http://www.w3.org/2000/svg\" xmlns:xlink=\"http://www.w3.org/1999/xlink\">\n<g id=\"graph0\" class=\"graph\" transform=\"scale(1 1) rotate(0) translate(4 100.7982)\">\n<title>%3</title>\n<polygon fill=\"#ffffff\" stroke=\"transparent\" points=\"-4,4 -4,-100.7982 651.4764,-100.7982 651.4764,4 -4,4\"/>\n<!-- EMPTY -->\n<g id=\"node1\" class=\"node\">\n<title>EMPTY</title>\n</g>\n<!-- Real_I -->\n<g id=\"node6\" class=\"node\">\n<title>Real_I</title>\n<ellipse fill=\"none\" stroke=\"#000000\" cx=\"126.0969\" cy=\"-50\" rx=\"35.194\" ry=\"35.194\"/>\n<text text-anchor=\"middle\" x=\"126.0969\" y=\"-46.3\" font-family=\"Times,serif\" font-size=\"14.00\" fill=\"#000000\">Real_I</text>\n</g>\n<!-- EMPTY&#45;&gt;Real_I -->\n<g id=\"edge1\" class=\"edge\">\n<title>EMPTY&#45;&gt;Real_I</title>\n<path fill=\"none\" stroke=\"#000000\" d=\"M54.0787,-50C62.3227,-50 71.6196,-50 80.7269,-50\"/>\n<polygon fill=\"#000000\" stroke=\"#000000\" points=\"80.8626,-53.5001 90.8626,-50 80.8625,-46.5001 80.8626,-53.5001\"/>\n</g>\n<!-- F1 -->\n<g id=\"node2\" class=\"node\">\n<title>F1</title>\n<ellipse fill=\"none\" stroke=\"#000000\" cx=\"491.2849\" cy=\"-24\" rx=\"20.5982\" ry=\"20.5982\"/>\n<text text-anchor=\"middle\" x=\"491.2849\" y=\"-20.3\" font-family=\"Times,serif\" font-size=\"14.00\" fill=\"#000000\">F1</text>\n</g>\n<!-- Real_F -->\n<g id=\"node7\" class=\"node\">\n<title>Real_F</title>\n<ellipse fill=\"none\" stroke=\"#000000\" cx=\"605.7797\" cy=\"-53\" rx=\"37.8753\" ry=\"37.8753\"/>\n<ellipse fill=\"none\" stroke=\"#000000\" cx=\"605.7797\" cy=\"-53\" rx=\"41.8942\" ry=\"41.8942\"/>\n<text text-anchor=\"middle\" x=\"605.7797\" y=\"-49.3\" font-family=\"Times,serif\" font-size=\"14.00\" fill=\"#000000\">Real_F</text>\n</g>\n<!-- F1&#45;&gt;Real_F -->\n<g id=\"edge11\" class=\"edge\">\n<title>F1&#45;&gt;Real_F</title>\n<path fill=\"none\" stroke=\"#000000\" d=\"M511.4907,-29.1179C523.603,-32.1857 539.5922,-36.2356 554.9564,-40.1271\"/>\n<polygon fill=\"#000000\" stroke=\"#000000\" points=\"554.3622,-43.5871 564.9155,-42.6496 556.081,-36.8014 554.3622,-43.5871\"/>\n<text text-anchor=\"middle\" x=\"538.083\" y=\"-40.8\" font-family=\"Times,serif\" font-size=\"14.00\" fill=\"#000000\">&quot;&quot; </text>\n</g>\n<!-- F2 -->\n<g id=\"node3\" class=\"node\">\n<title>F2</title>\n<ellipse fill=\"none\" stroke=\"#000000\" cx=\"403.6886\" cy=\"-76\" rx=\"20.5982\" ry=\"20.5982\"/>\n<text text-anchor=\"middle\" x=\"403.6886\" y=\"-72.3\" font-family=\"Times,serif\" font-size=\"14.00\" fill=\"#000000\">F2</text>\n</g>\n<!-- F2&#45;&gt;F1 -->\n<g id=\"edge8\" class=\"edge\">\n<title>F2&#45;&gt;F1</title>\n<path fill=\"none\" stroke=\"#000000\" d=\"M421.383,-64.8841C427.978,-60.7861 435.5469,-56.1359 442.4867,-52 449.5662,-47.7809 457.2799,-43.3013 464.4408,-39.1913\"/>\n<polygon fill=\"#000000\" stroke=\"#000000\" points=\"466.1788,-42.2293 473.1262,-34.2303 462.7069,-36.151 466.1788,-42.2293\"/>\n<text text-anchor=\"middle\" x=\"447.4867\" y=\"-55.8\" font-family=\"Times,serif\" font-size=\"14.00\" fill=\"#000000\">a </text>\n</g>\n<!-- F2&#45;&gt;Real_F -->\n<g id=\"edge10\" class=\"edge\">\n<title>F2&#45;&gt;Real_F</title>\n<path fill=\"none\" stroke=\"#000000\" d=\"M424.5547,-73.6252C454.8336,-70.1792 511.9205,-63.6821 553.9619,-58.8974\"/>\n<polygon fill=\"#000000\" stroke=\"#000000\" points=\"554.4907,-62.3599 564.0308,-57.7514 553.6991,-55.4048 554.4907,-62.3599\"/>\n<text text-anchor=\"middle\" x=\"491.2849\" y=\"-71.8\" font-family=\"Times,serif\" font-size=\"14.00\" fill=\"#000000\">&quot;&quot; </text>\n</g>\n<!-- I4 -->\n<g id=\"node4\" class=\"node\">\n<title>I4</title>\n<ellipse fill=\"none\" stroke=\"#000000\" cx=\"232.0421\" cy=\"-50\" rx=\"18.6979\" ry=\"18.6979\"/>\n<text text-anchor=\"middle\" x=\"232.0421\" y=\"-46.3\" font-family=\"Times,serif\" font-size=\"14.00\" fill=\"#000000\">I4</text>\n</g>\n<!-- B -->\n<g id=\"node5\" class=\"node\">\n<title>B</title>\n<ellipse fill=\"none\" stroke=\"#000000\" cx=\"316.8904\" cy=\"-18\" rx=\"18\" ry=\"18\"/>\n<text text-anchor=\"middle\" x=\"316.8904\" y=\"-14.3\" font-family=\"Times,serif\" font-size=\"14.00\" fill=\"#000000\">B</text>\n</g>\n<!-- I4&#45;&gt;B -->\n<g id=\"edge4\" class=\"edge\">\n<title>I4&#45;&gt;B</title>\n<path fill=\"none\" stroke=\"#000000\" d=\"M250.0362,-43.2136C261.7431,-38.7985 277.2148,-32.9634 290.3258,-28.0187\"/>\n<polygon fill=\"#000000\" stroke=\"#000000\" points=\"291.6687,-31.2529 299.7903,-24.4492 289.1985,-24.7032 291.6687,-31.2529\"/>\n<text text-anchor=\"middle\" x=\"274.8904\" y=\"-38.8\" font-family=\"Times,serif\" font-size=\"14.00\" fill=\"#000000\">d </text>\n</g>\n<!-- B&#45;&gt;F1 -->\n<g id=\"edge6\" class=\"edge\">\n<title>B&#45;&gt;F1</title>\n<path fill=\"none\" stroke=\"#000000\" d=\"M334.8968,-18.6195C364.5205,-19.6387 423.8797,-21.6809 460.3416,-22.9354\"/>\n<polygon fill=\"#000000\" stroke=\"#000000\" points=\"460.3049,-26.4361 470.4194,-23.2821 460.5457,-19.4403 460.3049,-26.4361\"/>\n<text text-anchor=\"middle\" x=\"403.6886\" y=\"-25.8\" font-family=\"Times,serif\" font-size=\"14.00\" fill=\"#000000\">&quot;&quot; </text>\n</g>\n<!-- B&#45;&gt;F2 -->\n<g id=\"edge5\" class=\"edge\">\n<title>B&#45;&gt;F2</title>\n<path fill=\"none\" stroke=\"#000000\" d=\"M332.0095,-28.1028C344.6774,-36.5677 363.0391,-48.8373 378.0066,-58.8389\"/>\n<polygon fill=\"#000000\" stroke=\"#000000\" points=\"376.0992,-61.7737 386.3583,-64.4196 379.9883,-55.9536 376.0992,-61.7737\"/>\n<text text-anchor=\"middle\" x=\"358.8904\" y=\"-51.8\" font-family=\"Times,serif\" font-size=\"14.00\" fill=\"#000000\">b </text>\n</g>\n<!-- B&#45;&gt;B -->\n<g id=\"edge7\" class=\"edge\">\n<title>B&#45;&gt;B</title>\n<path fill=\"none\" stroke=\"#000000\" d=\"M309.5076,-34.6641C307.867,-44.625 310.3279,-54 316.8904,-54 321.0945,-54 323.6153,-50.1525 324.4529,-44.7682\"/>\n<polygon fill=\"#000000\" stroke=\"#000000\" points=\"327.9505,-44.6002 324.2732,-34.6641 320.9517,-44.7247 327.9505,-44.6002\"/>\n<text text-anchor=\"middle\" x=\"316.8904\" y=\"-57.8\" font-family=\"Times,serif\" font-size=\"14.00\" fill=\"#000000\">s </text>\n</g>\n<!-- Real_I&#45;&gt;F2 -->\n<g id=\"edge3\" class=\"edge\">\n<title>Real_I&#45;&gt;F2</title>\n<path fill=\"none\" stroke=\"#000000\" d=\"M159.09,-62.2951C165.7133,-64.6249 172.6489,-66.9668 179.1938,-69 194.1216,-73.6374 197.6929,-75.9831 213.1938,-78 266.8291,-84.9786 280.8087,-78.7859 334.8904,-78 347.1482,-77.8219 360.6306,-77.4653 372.3874,-77.1019\"/>\n<polygon fill=\"#000000\" stroke=\"#000000\" points=\"372.7331,-80.5927 382.6147,-76.7712 372.5068,-73.5963 372.7331,-80.5927\"/>\n<text text-anchor=\"middle\" x=\"274.8904\" y=\"-84.8\" font-family=\"Times,serif\" font-size=\"14.00\" fill=\"#000000\">c </text>\n</g>\n<!-- Real_I&#45;&gt;I4 -->\n<g id=\"edge9\" class=\"edge\">\n<title>Real_I&#45;&gt;I4</title>\n<path fill=\"none\" stroke=\"#000000\" d=\"M161.3751,-50C174.8248,-50 189.9938,-50 202.8201,-50\"/>\n<polygon fill=\"#000000\" stroke=\"#000000\" points=\"202.954,-53.5001 212.954,-50 202.9539,-46.5001 202.954,-53.5001\"/>\n<text text-anchor=\"middle\" x=\"187.1938\" y=\"-53.8\" font-family=\"Times,serif\" font-size=\"14.00\" fill=\"#000000\">&quot;&quot; </text>\n</g>\n<!-- Real_I&#45;&gt;B -->\n<g id=\"edge2\" class=\"edge\">\n<title>Real_I&#45;&gt;B</title>\n<path fill=\"none\" stroke=\"#000000\" d=\"M155.8397,-31.0584C172.0993,-21.8253 192.9947,-11.7145 213.1938,-7 238.6823,-1.0509 268.4543,-5.3295 289.5426,-10.1811\"/>\n<polygon fill=\"#000000\" stroke=\"#000000\" points=\"288.8755,-13.6219 299.425,-12.6427 290.5674,-6.8294 288.8755,-13.6219\"/>\n<text text-anchor=\"middle\" x=\"232.0421\" y=\"-10.8\" font-family=\"Times,serif\" font-size=\"14.00\" fill=\"#000000\">f </text>\n</g>\n</g>\n</svg>\n"
          },
          "metadata": {
            "tags": []
          },
          "execution_count": 38
        }
      ]
    },
    {
      "cell_type": "code",
      "metadata": {
        "colab": {
          "base_uri": "https://localhost:8080/",
          "height": 159
        },
        "id": "K1aUg4wDlfBJ",
        "outputId": "3027fa71-cc04-4c5f-8b14-2ce4815fb3c8"
      },
      "source": [
        "DO[2]"
      ],
      "execution_count": null,
      "outputs": [
        {
          "output_type": "execute_result",
          "data": {
            "text/plain": [
              "<graphviz.dot.Digraph at 0x7f71f26fc4e0>"
            ],
            "image/svg+xml": "<?xml version=\"1.0\" encoding=\"UTF-8\" standalone=\"no\"?>\n<!DOCTYPE svg PUBLIC \"-//W3C//DTD SVG 1.1//EN\"\n \"http://www.w3.org/Graphics/SVG/1.1/DTD/svg11.dtd\">\n<!-- Generated by graphviz version 2.40.1 (20161225.0304)\n -->\n<!-- Title: %3 Pages: 1 -->\n<svg width=\"595pt\" height=\"104pt\"\n viewBox=\"0.00 0.00 594.78 103.80\" xmlns=\"http://www.w3.org/2000/svg\" xmlns:xlink=\"http://www.w3.org/1999/xlink\">\n<g id=\"graph0\" class=\"graph\" transform=\"scale(1 1) rotate(0) translate(4 99.7982)\">\n<title>%3</title>\n<polygon fill=\"#ffffff\" stroke=\"transparent\" points=\"-4,4 -4,-99.7982 590.7797,-99.7982 590.7797,4 -4,4\"/>\n<!-- EMPTY -->\n<g id=\"node1\" class=\"node\">\n<title>EMPTY</title>\n</g>\n<!-- Real_I -->\n<g id=\"node2\" class=\"node\">\n<title>Real_I</title>\n<ellipse fill=\"none\" stroke=\"#000000\" cx=\"126.0969\" cy=\"-56\" rx=\"35.194\" ry=\"35.194\"/>\n<text text-anchor=\"middle\" x=\"126.0969\" y=\"-52.3\" font-family=\"Times,serif\" font-size=\"14.00\" fill=\"#000000\">Real_I</text>\n</g>\n<!-- EMPTY&#45;&gt;Real_I -->\n<g id=\"edge1\" class=\"edge\">\n<title>EMPTY&#45;&gt;Real_I</title>\n<path fill=\"none\" stroke=\"#000000\" d=\"M54.0787,-56C62.3227,-56 71.6196,-56 80.7269,-56\"/>\n<polygon fill=\"#000000\" stroke=\"#000000\" points=\"80.8626,-59.5001 90.8626,-56 80.8625,-52.5001 80.8626,-59.5001\"/>\n</g>\n<!-- F2 -->\n<g id=\"node3\" class=\"node\">\n<title>F2</title>\n<ellipse fill=\"none\" stroke=\"#000000\" cx=\"342.9919\" cy=\"-75\" rx=\"20.5982\" ry=\"20.5982\"/>\n<text text-anchor=\"middle\" x=\"342.9919\" y=\"-71.3\" font-family=\"Times,serif\" font-size=\"14.00\" fill=\"#000000\">F2</text>\n</g>\n<!-- Real_I&#45;&gt;F2 -->\n<g id=\"edge4\" class=\"edge\">\n<title>Real_I&#45;&gt;F2</title>\n<path fill=\"none\" stroke=\"#000000\" d=\"M160.1854,-64.4754C182.2697,-69.5217 211.7429,-75.4289 238.1938,-78 254.1187,-79.5479 258.1976,-78.3486 274.1938,-78 286.4564,-77.7328 299.9398,-77.1979 311.696,-76.6528\"/>\n<polygon fill=\"#000000\" stroke=\"#000000\" points=\"312.1037,-80.1373 321.9224,-76.1568 311.7645,-73.1455 312.1037,-80.1373\"/>\n<text text-anchor=\"middle\" x=\"256.1938\" y=\"-81.8\" font-family=\"Times,serif\" font-size=\"14.00\" fill=\"#000000\">c </text>\n</g>\n<!-- B -->\n<g id=\"node4\" class=\"node\">\n<title>B</title>\n<ellipse fill=\"none\" stroke=\"#000000\" cx=\"256.1938\" cy=\"-18\" rx=\"18\" ry=\"18\"/>\n<text text-anchor=\"middle\" x=\"256.1938\" y=\"-14.3\" font-family=\"Times,serif\" font-size=\"14.00\" fill=\"#000000\">B</text>\n</g>\n<!-- Real_I&#45;&gt;B -->\n<g id=\"edge2\" class=\"edge\">\n<title>Real_I&#45;&gt;B</title>\n<path fill=\"none\" stroke=\"#000000\" d=\"M160.9461,-49.4894C178.8757,-45.73 200.9497,-40.4618 220.1938,-34 223.6038,-32.855 227.1322,-31.5051 230.5863,-30.0829\"/>\n<polygon fill=\"#000000\" stroke=\"#000000\" points=\"232.1973,-33.1988 239.9646,-25.9932 229.3991,-26.7823 232.1973,-33.1988\"/>\n<text text-anchor=\"middle\" x=\"199.6938\" y=\"-49.8\" font-family=\"Times,serif\" font-size=\"14.00\" fill=\"#000000\">(d + f) </text>\n</g>\n<!-- Real_I&#45;&gt;B -->\n<g id=\"edge3\" class=\"edge\">\n<title>Real_I&#45;&gt;B</title>\n<path fill=\"none\" stroke=\"#000000\" d=\"M151.3351,-31.1236C159.5543,-24.5918 169.1631,-18.422 179.1938,-15 194.8843,-9.6471 213.4272,-10.1796 228.3842,-12.1538\"/>\n<polygon fill=\"#000000\" stroke=\"#000000\" points=\"228.1216,-15.6563 238.5494,-13.7826 229.2292,-8.7445 228.1216,-15.6563\"/>\n<text text-anchor=\"middle\" x=\"199.6938\" y=\"-18.8\" font-family=\"Times,serif\" font-size=\"14.00\" fill=\"#000000\">f </text>\n</g>\n<!-- F1 -->\n<g id=\"node5\" class=\"node\">\n<title>F1</title>\n<ellipse fill=\"none\" stroke=\"#000000\" cx=\"430.5882\" cy=\"-24\" rx=\"20.5982\" ry=\"20.5982\"/>\n<text text-anchor=\"middle\" x=\"430.5882\" y=\"-20.3\" font-family=\"Times,serif\" font-size=\"14.00\" fill=\"#000000\">F1</text>\n</g>\n<!-- F2&#45;&gt;F1 -->\n<g id=\"edge8\" class=\"edge\">\n<title>F2&#45;&gt;F1</title>\n<path fill=\"none\" stroke=\"#000000\" d=\"M361.1197,-64.1817C367.6264,-60.3177 375.0261,-55.9452 381.7901,-52 388.909,-47.8478 396.6361,-43.391 403.7973,-39.2815\"/>\n<polygon fill=\"#000000\" stroke=\"#000000\" points=\"405.5386,-42.3177 412.477,-34.3109 402.0599,-36.2432 405.5386,-42.3177\"/>\n<text text-anchor=\"middle\" x=\"386.7901\" y=\"-55.8\" font-family=\"Times,serif\" font-size=\"14.00\" fill=\"#000000\">a </text>\n</g>\n<!-- Real_F -->\n<g id=\"node6\" class=\"node\">\n<title>Real_F</title>\n<ellipse fill=\"none\" stroke=\"#000000\" cx=\"545.083\" cy=\"-53\" rx=\"37.8753\" ry=\"37.8753\"/>\n<ellipse fill=\"none\" stroke=\"#000000\" cx=\"545.083\" cy=\"-53\" rx=\"41.8942\" ry=\"41.8942\"/>\n<text text-anchor=\"middle\" x=\"545.083\" y=\"-49.3\" font-family=\"Times,serif\" font-size=\"14.00\" fill=\"#000000\">Real_F</text>\n</g>\n<!-- F2&#45;&gt;Real_F -->\n<g id=\"edge9\" class=\"edge\">\n<title>F2&#45;&gt;Real_F</title>\n<path fill=\"none\" stroke=\"#000000\" d=\"M363.8581,-72.7285C394.1369,-69.4323 451.2238,-63.2177 493.2652,-58.641\"/>\n<polygon fill=\"#000000\" stroke=\"#000000\" points=\"493.7717,-62.1066 503.3341,-57.5449 493.0141,-55.1477 493.7717,-62.1066\"/>\n<text text-anchor=\"middle\" x=\"430.5882\" y=\"-70.8\" font-family=\"Times,serif\" font-size=\"14.00\" fill=\"#000000\">&quot;&quot; </text>\n</g>\n<!-- B&#45;&gt;F2 -->\n<g id=\"edge5\" class=\"edge\">\n<title>B&#45;&gt;F2</title>\n<path fill=\"none\" stroke=\"#000000\" d=\"M271.3129,-27.9286C283.7819,-36.117 301.7674,-47.928 316.6027,-57.6703\"/>\n<polygon fill=\"#000000\" stroke=\"#000000\" points=\"315.0751,-60.8543 325.3551,-63.418 318.9176,-55.0032 315.0751,-60.8543\"/>\n<text text-anchor=\"middle\" x=\"298.1938\" y=\"-52.8\" font-family=\"Times,serif\" font-size=\"14.00\" fill=\"#000000\">b </text>\n</g>\n<!-- B&#45;&gt;B -->\n<g id=\"edge7\" class=\"edge\">\n<title>B&#45;&gt;B</title>\n<path fill=\"none\" stroke=\"#000000\" d=\"M248.811,-34.6641C247.1703,-44.625 249.6313,-54 256.1938,-54 260.3979,-54 262.9187,-50.1525 263.7562,-44.7682\"/>\n<polygon fill=\"#000000\" stroke=\"#000000\" points=\"267.2539,-44.6002 263.5766,-34.6641 260.255,-44.7247 267.2539,-44.6002\"/>\n<text text-anchor=\"middle\" x=\"256.1938\" y=\"-57.8\" font-family=\"Times,serif\" font-size=\"14.00\" fill=\"#000000\">s </text>\n</g>\n<!-- B&#45;&gt;F1 -->\n<g id=\"edge6\" class=\"edge\">\n<title>B&#45;&gt;F1</title>\n<path fill=\"none\" stroke=\"#000000\" d=\"M274.2002,-18.6195C303.8238,-19.6387 363.183,-21.6809 399.6449,-22.9354\"/>\n<polygon fill=\"#000000\" stroke=\"#000000\" points=\"399.6082,-26.4361 409.7227,-23.2821 399.849,-19.4403 399.6082,-26.4361\"/>\n<text text-anchor=\"middle\" x=\"342.9919\" y=\"-25.8\" font-family=\"Times,serif\" font-size=\"14.00\" fill=\"#000000\">&quot;&quot; </text>\n</g>\n<!-- F1&#45;&gt;Real_F -->\n<g id=\"edge10\" class=\"edge\">\n<title>F1&#45;&gt;Real_F</title>\n<path fill=\"none\" stroke=\"#000000\" d=\"M450.7941,-29.1179C462.9063,-32.1857 478.8956,-36.2356 494.2597,-40.1271\"/>\n<polygon fill=\"#000000\" stroke=\"#000000\" points=\"493.6655,-43.5871 504.2188,-42.6496 495.3843,-36.8014 493.6655,-43.5871\"/>\n<text text-anchor=\"middle\" x=\"477.3864\" y=\"-41.8\" font-family=\"Times,serif\" font-size=\"14.00\" fill=\"#000000\">&quot;&quot; </text>\n</g>\n</g>\n</svg>\n"
          },
          "metadata": {
            "tags": []
          },
          "execution_count": 39
        }
      ]
    },
    {
      "cell_type": "code",
      "metadata": {
        "colab": {
          "base_uri": "https://localhost:8080/",
          "height": 161
        },
        "id": "nrqw4wRolgcM",
        "outputId": "27019421-ede6-45d9-ff0b-82c17570e85a"
      },
      "source": [
        "DO[3]"
      ],
      "execution_count": null,
      "outputs": [
        {
          "output_type": "execute_result",
          "data": {
            "text/plain": [
              "<graphviz.dot.Digraph at 0x7f71f26fcbe0>"
            ],
            "image/svg+xml": "<?xml version=\"1.0\" encoding=\"UTF-8\" standalone=\"no\"?>\n<!DOCTYPE svg PUBLIC \"-//W3C//DTD SVG 1.1//EN\"\n \"http://www.w3.org/Graphics/SVG/1.1/DTD/svg11.dtd\">\n<!-- Generated by graphviz version 2.40.1 (20161225.0304)\n -->\n<!-- Title: %3 Pages: 1 -->\n<svg width=\"538pt\" height=\"106pt\"\n viewBox=\"0.00 0.00 538.18 105.80\" xmlns=\"http://www.w3.org/2000/svg\" xmlns:xlink=\"http://www.w3.org/1999/xlink\">\n<g id=\"graph0\" class=\"graph\" transform=\"scale(1 1) rotate(0) translate(4 101.7982)\">\n<title>%3</title>\n<polygon fill=\"#ffffff\" stroke=\"transparent\" points=\"-4,4 -4,-101.7982 534.1834,-101.7982 534.1834,4 -4,4\"/>\n<!-- EMPTY -->\n<g id=\"node1\" class=\"node\">\n<title>EMPTY</title>\n</g>\n<!-- Real_I -->\n<g id=\"node4\" class=\"node\">\n<title>Real_I</title>\n<ellipse fill=\"none\" stroke=\"#000000\" cx=\"126.0969\" cy=\"-56\" rx=\"35.194\" ry=\"35.194\"/>\n<text text-anchor=\"middle\" x=\"126.0969\" y=\"-52.3\" font-family=\"Times,serif\" font-size=\"14.00\" fill=\"#000000\">Real_I</text>\n</g>\n<!-- EMPTY&#45;&gt;Real_I -->\n<g id=\"edge1\" class=\"edge\">\n<title>EMPTY&#45;&gt;Real_I</title>\n<path fill=\"none\" stroke=\"#000000\" d=\"M54.0787,-56C62.3227,-56 71.6196,-56 80.7269,-56\"/>\n<polygon fill=\"#000000\" stroke=\"#000000\" points=\"80.8626,-59.5001 90.8626,-56 80.8625,-52.5001 80.8626,-59.5001\"/>\n</g>\n<!-- F2 -->\n<g id=\"node2\" class=\"node\">\n<title>F2</title>\n<ellipse fill=\"none\" stroke=\"#000000\" cx=\"342.9919\" cy=\"-77\" rx=\"20.5982\" ry=\"20.5982\"/>\n<text text-anchor=\"middle\" x=\"342.9919\" y=\"-73.3\" font-family=\"Times,serif\" font-size=\"14.00\" fill=\"#000000\">F2</text>\n</g>\n<!-- Real_F -->\n<g id=\"node5\" class=\"node\">\n<title>Real_F</title>\n<ellipse fill=\"none\" stroke=\"#000000\" cx=\"488.4867\" cy=\"-51\" rx=\"37.8753\" ry=\"37.8753\"/>\n<ellipse fill=\"none\" stroke=\"#000000\" cx=\"488.4867\" cy=\"-51\" rx=\"41.8942\" ry=\"41.8942\"/>\n<text text-anchor=\"middle\" x=\"488.4867\" y=\"-47.3\" font-family=\"Times,serif\" font-size=\"14.00\" fill=\"#000000\">Real_F</text>\n</g>\n<!-- F2&#45;&gt;Real_F -->\n<g id=\"edge3\" class=\"edge\">\n<title>F2&#45;&gt;Real_F</title>\n<path fill=\"none\" stroke=\"#000000\" d=\"M363.9263,-75.419C381.3789,-73.8959 406.8432,-71.1969 428.7901,-67 431.9517,-66.3954 435.1922,-65.7128 438.4495,-64.9787\"/>\n<polygon fill=\"#000000\" stroke=\"#000000\" points=\"439.2963,-68.375 448.2105,-62.6488 437.6711,-61.5663 439.2963,-68.375\"/>\n<text text-anchor=\"middle\" x=\"405.2901\" y=\"-76.8\" font-family=\"Times,serif\" font-size=\"14.00\" fill=\"#000000\">(a + &quot;&quot;) </text>\n</g>\n<!-- F2&#45;&gt;Real_F -->\n<g id=\"edge9\" class=\"edge\">\n<title>F2&#45;&gt;Real_F</title>\n<path fill=\"none\" stroke=\"#000000\" d=\"M357.8906,-62.309C364.6142,-56.6828 373.012,-50.9181 381.7901,-48 399.2908,-42.1823 419.3097,-41.3413 437.2439,-42.4868\"/>\n<polygon fill=\"#000000\" stroke=\"#000000\" points=\"436.9838,-45.9772 447.2446,-43.3381 437.5776,-39.0024 436.9838,-45.9772\"/>\n<text text-anchor=\"middle\" x=\"405.2901\" y=\"-51.8\" font-family=\"Times,serif\" font-size=\"14.00\" fill=\"#000000\">&quot;&quot; </text>\n</g>\n<!-- B -->\n<g id=\"node3\" class=\"node\">\n<title>B</title>\n<ellipse fill=\"none\" stroke=\"#000000\" cx=\"256.1938\" cy=\"-18\" rx=\"18\" ry=\"18\"/>\n<text text-anchor=\"middle\" x=\"256.1938\" y=\"-14.3\" font-family=\"Times,serif\" font-size=\"14.00\" fill=\"#000000\">B</text>\n</g>\n<!-- B&#45;&gt;F2 -->\n<g id=\"edge7\" class=\"edge\">\n<title>B&#45;&gt;F2</title>\n<path fill=\"none\" stroke=\"#000000\" d=\"M271.3129,-28.277C283.9807,-36.8878 302.3424,-49.369 317.3099,-59.543\"/>\n<polygon fill=\"#000000\" stroke=\"#000000\" points=\"315.4238,-62.4929 325.6617,-65.22 319.3589,-56.7037 315.4238,-62.4929\"/>\n<text text-anchor=\"middle\" x=\"298.1938\" y=\"-53.8\" font-family=\"Times,serif\" font-size=\"14.00\" fill=\"#000000\">b </text>\n</g>\n<!-- B&#45;&gt;B -->\n<g id=\"edge8\" class=\"edge\">\n<title>B&#45;&gt;B</title>\n<path fill=\"none\" stroke=\"#000000\" d=\"M248.811,-34.6641C247.1703,-44.625 249.6313,-54 256.1938,-54 260.3979,-54 262.9187,-50.1525 263.7562,-44.7682\"/>\n<polygon fill=\"#000000\" stroke=\"#000000\" points=\"267.2539,-44.6002 263.5766,-34.6641 260.255,-44.7247 267.2539,-44.6002\"/>\n<text text-anchor=\"middle\" x=\"256.1938\" y=\"-57.8\" font-family=\"Times,serif\" font-size=\"14.00\" fill=\"#000000\">s </text>\n</g>\n<!-- B&#45;&gt;Real_F -->\n<g id=\"edge2\" class=\"edge\">\n<title>B&#45;&gt;Real_F</title>\n<path fill=\"none\" stroke=\"#000000\" d=\"M274.3986,-19.7475C305.9436,-22.8797 372.7635,-29.9743 428.7901,-39 431.6276,-39.4571 434.5357,-39.9525 437.4674,-40.4728\"/>\n<polygon fill=\"#000000\" stroke=\"#000000\" points=\"436.9882,-43.9434 447.4578,-42.3188 438.2602,-37.06 436.9882,-43.9434\"/>\n<text text-anchor=\"middle\" x=\"342.9919\" y=\"-33.8\" font-family=\"Times,serif\" font-size=\"14.00\" fill=\"#000000\">&quot;&quot; </text>\n</g>\n<!-- Real_I&#45;&gt;F2 -->\n<g id=\"edge6\" class=\"edge\">\n<title>Real_I&#45;&gt;F2</title>\n<path fill=\"none\" stroke=\"#000000\" d=\"M160.1854,-64.4754C182.2697,-69.5217 211.7429,-75.4289 238.1938,-78 254.1187,-79.5479 258.1942,-78.1163 274.1938,-78 286.4487,-77.9109 299.9305,-77.7327 311.6876,-77.551\"/>\n<polygon fill=\"#000000\" stroke=\"#000000\" points=\"311.9734,-81.0469 321.9155,-77.3856 311.8602,-74.0478 311.9734,-81.0469\"/>\n<text text-anchor=\"middle\" x=\"256.1938\" y=\"-81.8\" font-family=\"Times,serif\" font-size=\"14.00\" fill=\"#000000\">c </text>\n</g>\n<!-- Real_I&#45;&gt;B -->\n<g id=\"edge4\" class=\"edge\">\n<title>Real_I&#45;&gt;B</title>\n<path fill=\"none\" stroke=\"#000000\" d=\"M160.9461,-49.4894C178.8757,-45.73 200.9497,-40.4618 220.1938,-34 223.6038,-32.855 227.1322,-31.5051 230.5863,-30.0829\"/>\n<polygon fill=\"#000000\" stroke=\"#000000\" points=\"232.1973,-33.1988 239.9646,-25.9932 229.3991,-26.7823 232.1973,-33.1988\"/>\n<text text-anchor=\"middle\" x=\"199.6938\" y=\"-49.8\" font-family=\"Times,serif\" font-size=\"14.00\" fill=\"#000000\">(d + f) </text>\n</g>\n<!-- Real_I&#45;&gt;B -->\n<g id=\"edge5\" class=\"edge\">\n<title>Real_I&#45;&gt;B</title>\n<path fill=\"none\" stroke=\"#000000\" d=\"M151.3351,-31.1236C159.5543,-24.5918 169.1631,-18.422 179.1938,-15 194.8843,-9.6471 213.4272,-10.1796 228.3842,-12.1538\"/>\n<polygon fill=\"#000000\" stroke=\"#000000\" points=\"228.1216,-15.6563 238.5494,-13.7826 229.2292,-8.7445 228.1216,-15.6563\"/>\n<text text-anchor=\"middle\" x=\"199.6938\" y=\"-18.8\" font-family=\"Times,serif\" font-size=\"14.00\" fill=\"#000000\">f </text>\n</g>\n</g>\n</svg>\n"
          },
          "metadata": {
            "tags": []
          },
          "execution_count": 40
        }
      ]
    },
    {
      "cell_type": "code",
      "metadata": {
        "colab": {
          "base_uri": "https://localhost:8080/",
          "height": 152
        },
        "id": "W2yJrZr5lhvw",
        "outputId": "ae851d1b-3958-43a7-9c51-854a7d6abdf2"
      },
      "source": [
        "DO[4]"
      ],
      "execution_count": null,
      "outputs": [
        {
          "output_type": "execute_result",
          "data": {
            "text/plain": [
              "<graphviz.dot.Digraph at 0x7f71f26fcf60>"
            ],
            "image/svg+xml": "<?xml version=\"1.0\" encoding=\"UTF-8\" standalone=\"no\"?>\n<!DOCTYPE svg PUBLIC \"-//W3C//DTD SVG 1.1//EN\"\n \"http://www.w3.org/Graphics/SVG/1.1/DTD/svg11.dtd\">\n<!-- Generated by graphviz version 2.40.1 (20161225.0304)\n -->\n<!-- Title: %3 Pages: 1 -->\n<svg width=\"633pt\" height=\"99pt\"\n viewBox=\"0.00 0.00 632.59 99.49\" xmlns=\"http://www.w3.org/2000/svg\" xmlns:xlink=\"http://www.w3.org/1999/xlink\">\n<g id=\"graph0\" class=\"graph\" transform=\"scale(1 1) rotate(0) translate(4 95.4948)\">\n<title>%3</title>\n<polygon fill=\"#ffffff\" stroke=\"transparent\" points=\"-4,4 -4,-95.4948 628.5871,-95.4948 628.5871,4 -4,4\"/>\n<!-- EMPTY -->\n<g id=\"node1\" class=\"node\">\n<title>EMPTY</title>\n</g>\n<!-- Real_I -->\n<g id=\"node3\" class=\"node\">\n<title>Real_I</title>\n<ellipse fill=\"none\" stroke=\"#000000\" cx=\"126.0969\" cy=\"-41.6967\" rx=\"35.194\" ry=\"35.194\"/>\n<text text-anchor=\"middle\" x=\"126.0969\" y=\"-37.9967\" font-family=\"Times,serif\" font-size=\"14.00\" fill=\"#000000\">Real_I</text>\n</g>\n<!-- EMPTY&#45;&gt;Real_I -->\n<g id=\"edge1\" class=\"edge\">\n<title>EMPTY&#45;&gt;Real_I</title>\n<path fill=\"none\" stroke=\"#000000\" d=\"M54.0787,-41.6967C62.3227,-41.6967 71.6196,-41.6967 80.7269,-41.6967\"/>\n<polygon fill=\"#000000\" stroke=\"#000000\" points=\"80.8626,-45.1968 90.8626,-41.6967 80.8625,-38.1968 80.8626,-45.1968\"/>\n</g>\n<!-- F2 -->\n<g id=\"node2\" class=\"node\">\n<title>F2</title>\n<ellipse fill=\"none\" stroke=\"#000000\" cx=\"405.6938\" cy=\"-70.6967\" rx=\"20.5982\" ry=\"20.5982\"/>\n<text text-anchor=\"middle\" x=\"405.6938\" y=\"-66.9967\" font-family=\"Times,serif\" font-size=\"14.00\" fill=\"#000000\">F2</text>\n</g>\n<!-- Real_F -->\n<g id=\"node4\" class=\"node\">\n<title>Real_F</title>\n<ellipse fill=\"none\" stroke=\"#000000\" cx=\"582.8904\" cy=\"-41.6967\" rx=\"37.8753\" ry=\"37.8753\"/>\n<ellipse fill=\"none\" stroke=\"#000000\" cx=\"582.8904\" cy=\"-41.6967\" rx=\"41.8942\" ry=\"41.8942\"/>\n<text text-anchor=\"middle\" x=\"582.8904\" y=\"-37.9967\" font-family=\"Times,serif\" font-size=\"14.00\" fill=\"#000000\">Real_F</text>\n</g>\n<!-- F2&#45;&gt;Real_F -->\n<g id=\"edge4\" class=\"edge\">\n<title>F2&#45;&gt;Real_F</title>\n<path fill=\"none\" stroke=\"#000000\" d=\"M426.6356,-69.3426C450.2466,-67.5935 489.7121,-63.9981 523.1938,-57.6967 526.3572,-57.1013 529.599,-56.4257 532.8573,-55.697\"/>\n<polygon fill=\"#000000\" stroke=\"#000000\" points=\"533.6999,-59.0943 542.6203,-53.378 532.0821,-52.2838 533.6999,-59.0943\"/>\n<text text-anchor=\"middle\" x=\"499.6938\" y=\"-67.4967\" font-family=\"Times,serif\" font-size=\"14.00\" fill=\"#000000\">(a + &quot;&quot;) </text>\n</g>\n<!-- F2&#45;&gt;Real_F -->\n<g id=\"edge6\" class=\"edge\">\n<title>F2&#45;&gt;Real_F</title>\n<path fill=\"none\" stroke=\"#000000\" d=\"M423.7947,-59.8718C437.6108,-52.2694 457.4071,-42.7608 476.1938,-38.6967 493.9082,-34.8645 513.6607,-34.3984 531.3084,-35.2856\"/>\n<polygon fill=\"#000000\" stroke=\"#000000\" points=\"531.2168,-38.7871 541.4245,-35.9492 531.6751,-31.8021 531.2168,-38.7871\"/>\n<text text-anchor=\"middle\" x=\"499.6938\" y=\"-42.4967\" font-family=\"Times,serif\" font-size=\"14.00\" fill=\"#000000\">&quot;&quot; </text>\n</g>\n<!-- Real_I&#45;&gt;F2 -->\n<g id=\"edge2\" class=\"edge\">\n<title>Real_I&#45;&gt;F2</title>\n<path fill=\"none\" stroke=\"#000000\" d=\"M159.5146,-53.0654C165.9787,-54.8935 172.747,-56.5568 179.1938,-57.6967 248.3488,-69.9244 331.0452,-71.4255 374.8744,-71.2102\"/>\n<polygon fill=\"#000000\" stroke=\"#000000\" points=\"374.9232,-74.71 384.8938,-71.127 374.865,-67.7103 374.9232,-74.71\"/>\n<text text-anchor=\"middle\" x=\"257.1938\" y=\"-74.4967\" font-family=\"Times,serif\" font-size=\"14.00\" fill=\"#000000\">((((d + f) + f) ((s)* b)) + c) </text>\n</g>\n<!-- Real_I&#45;&gt;F2 -->\n<g id=\"edge5\" class=\"edge\">\n<title>Real_I&#45;&gt;F2</title>\n<path fill=\"none\" stroke=\"#000000\" d=\"M160.9814,-36.4441C202.8824,-31.219 275.0476,-25.6853 335.1938,-38.6967 350.1644,-41.9352 365.7762,-48.6311 378.492,-55.0647\"/>\n<polygon fill=\"#000000\" stroke=\"#000000\" points=\"377.1158,-58.296 387.5928,-59.8718 380.3852,-52.1064 377.1158,-58.296\"/>\n<text text-anchor=\"middle\" x=\"257.1938\" y=\"-42.4967\" font-family=\"Times,serif\" font-size=\"14.00\" fill=\"#000000\">c </text>\n</g>\n<!-- Real_I&#45;&gt;Real_F -->\n<g id=\"edge3\" class=\"edge\">\n<title>Real_I&#45;&gt;Real_F</title>\n<path fill=\"none\" stroke=\"#000000\" d=\"M159.466,-30.0282C165.9346,-28.2277 172.717,-26.6513 179.1938,-25.6967 301.8684,-7.6151 334.2851,-20.938 458.1938,-25.6967 487.1467,-26.8086 494.4621,-26.9551 523.1938,-30.6967 526.0349,-31.0666 528.9459,-31.4821 531.8799,-31.9292\"/>\n<polygon fill=\"#000000\" stroke=\"#000000\" points=\"531.444,-35.4042 541.8755,-33.5512 532.5652,-28.4946 531.444,-35.4042\"/>\n<text text-anchor=\"middle\" x=\"405.6938\" y=\"-29.4967\" font-family=\"Times,serif\" font-size=\"14.00\" fill=\"#000000\">(((d + f) + f) (s)*) </text>\n</g>\n</g>\n</svg>\n"
          },
          "metadata": {
            "tags": []
          },
          "execution_count": 41
        }
      ]
    },
    {
      "cell_type": "code",
      "metadata": {
        "colab": {
          "base_uri": "https://localhost:8080/",
          "height": 141
        },
        "id": "hkM1wmcTljLd",
        "outputId": "9df1e1c3-f77e-41a0-c6d7-e99f59f36a2e"
      },
      "source": [
        "DO[5]"
      ],
      "execution_count": null,
      "outputs": [
        {
          "output_type": "execute_result",
          "data": {
            "text/plain": [
              "<graphviz.dot.Digraph at 0x7f71f23012b0>"
            ],
            "image/svg+xml": "<?xml version=\"1.0\" encoding=\"UTF-8\" standalone=\"no\"?>\n<!DOCTYPE svg PUBLIC \"-//W3C//DTD SVG 1.1//EN\"\n \"http://www.w3.org/Graphics/SVG/1.1/DTD/svg11.dtd\">\n<!-- Generated by graphviz version 2.40.1 (20161225.0304)\n -->\n<!-- Title: %3 Pages: 1 -->\n<svg width=\"693pt\" height=\"91pt\"\n viewBox=\"0.00 0.00 692.59 91.39\" xmlns=\"http://www.w3.org/2000/svg\" xmlns:xlink=\"http://www.w3.org/1999/xlink\">\n<g id=\"graph0\" class=\"graph\" transform=\"scale(1 1) rotate(0) translate(4 87.3933)\">\n<title>%3</title>\n<polygon fill=\"#ffffff\" stroke=\"transparent\" points=\"-4,4 -4,-87.3933 688.5871,-87.3933 688.5871,4 -4,4\"/>\n<!-- EMPTY -->\n<g id=\"node1\" class=\"node\">\n<title>EMPTY</title>\n</g>\n<!-- Real_I -->\n<g id=\"node2\" class=\"node\">\n<title>Real_I</title>\n<ellipse fill=\"none\" stroke=\"#000000\" cx=\"126.0969\" cy=\"-41.6967\" rx=\"35.194\" ry=\"35.194\"/>\n<text text-anchor=\"middle\" x=\"126.0969\" y=\"-37.9967\" font-family=\"Times,serif\" font-size=\"14.00\" fill=\"#000000\">Real_I</text>\n</g>\n<!-- EMPTY&#45;&gt;Real_I -->\n<g id=\"edge1\" class=\"edge\">\n<title>EMPTY&#45;&gt;Real_I</title>\n<path fill=\"none\" stroke=\"#000000\" d=\"M54.0787,-41.6967C62.3227,-41.6967 71.6196,-41.6967 80.7269,-41.6967\"/>\n<polygon fill=\"#000000\" stroke=\"#000000\" points=\"80.8626,-45.1968 90.8626,-41.6967 80.8625,-38.1968 80.8626,-45.1968\"/>\n</g>\n<!-- Real_F -->\n<g id=\"node3\" class=\"node\">\n<title>Real_F</title>\n<ellipse fill=\"none\" stroke=\"#000000\" cx=\"642.8904\" cy=\"-41.6967\" rx=\"37.8753\" ry=\"37.8753\"/>\n<ellipse fill=\"none\" stroke=\"#000000\" cx=\"642.8904\" cy=\"-41.6967\" rx=\"41.8942\" ry=\"41.8942\"/>\n<text text-anchor=\"middle\" x=\"642.8904\" y=\"-37.9967\" font-family=\"Times,serif\" font-size=\"14.00\" fill=\"#000000\">Real_F</text>\n</g>\n<!-- Real_I&#45;&gt;Real_F -->\n<g id=\"edge2\" class=\"edge\">\n<title>Real_I&#45;&gt;Real_F</title>\n<path fill=\"none\" stroke=\"#000000\" d=\"M161.2119,-41.6967C250.3649,-41.6967 485.8258,-41.6967 590.9386,-41.6967\"/>\n<polygon fill=\"#000000\" stroke=\"#000000\" points=\"590.9954,-45.1968 600.9954,-41.6967 590.9954,-38.1968 590.9954,-45.1968\"/>\n<text text-anchor=\"middle\" x=\"381.1938\" y=\"-45.4967\" font-family=\"Times,serif\" font-size=\"14.00\" fill=\"#000000\">(((((((d + f) + f) ((s)* b)) + c) + c) ((a + &quot;&quot;) + &quot;&quot;)) + (((d + f) + f) (s)*)) </text>\n</g>\n<!-- Real_I&#45;&gt;Real_F -->\n<g id=\"edge3\" class=\"edge\">\n<title>Real_I&#45;&gt;Real_F</title>\n<path fill=\"none\" stroke=\"#000000\" d=\"M158.4764,-28.1324C165.2107,-25.8759 172.3448,-23.8852 179.1938,-22.6967 356.1054,8.0029 405.7651,4.858 583.1938,-22.6967 586.6296,-23.2302 590.1382,-23.9269 593.6479,-24.7375\"/>\n<polygon fill=\"#000000\" stroke=\"#000000\" points=\"592.9242,-28.1654 603.4822,-27.283 594.6783,-21.3887 592.9242,-28.1654\"/>\n<text text-anchor=\"middle\" x=\"381.1938\" y=\"-26.4967\" font-family=\"Times,serif\" font-size=\"14.00\" fill=\"#000000\">(((d + f) + f) (s)*) </text>\n</g>\n</g>\n</svg>\n"
          },
          "metadata": {
            "tags": []
          },
          "execution_count": 42
        }
      ]
    },
    {
      "cell_type": "markdown",
      "metadata": {
        "id": "RdLm-Pc-1Fas"
      },
      "source": [
        "## Examine DO[0] through DO[Last_Legal_Item] (find out how long DO is)\n",
        "\n",
        "DO[0] is the initial GNFA machine, DO[1] is the next one, and so on. You will see each step getting\n",
        "rid of one state.\n",
        "\n",
        "### Summarize your observation of the state elimination and which REs were introduced as a result. Use one bullet per question answered below.\n",
        "\n",
        "* DO[0]: The states {Real_I, Real_F} are added with epsilon transitions from {Real_I} to {I3, I4} and from {F1, F2} to {Real_F}\n",
        "\n",
        "* DO[1]: The state {I3} is removed and {Real_I} gains the trainsitions {f -> B, c -> F2}\n",
        "\n",
        "* DO[2]: The state {I4} is removed and {Real_I} replaces the transition {f -> B} with the transition {(d + f) -> B}\n",
        "\n",
        "* DO[3]: The state {F1} is removed and {F2} gains the trainsition {(a + \"\") -> Real_F}. The state {B} loses the transition {\"\" -> F1} and gains the transition {\"\" -> Real_F}\n",
        "\n",
        "* DO[4]: The state {B} is removed. {Real_I} gains the transition {(((d + f) + f) (s)*) -> Real_F, c -> F2, ((((d+f)+f)((s)*b))+c)\n",
        "\n",
        "* DO[5]: The state {F2} is removed. {Real_I} gains the transition {((((((((d + f) + f) ((s)* b)) + c) + c) ((a + \"\") + \"\")) + (((d + f) + f) (s)*)) + (((d + f) + f) (s)*)) -> Real_F}\n"
      ]
    },
    {
      "cell_type": "code",
      "metadata": {
        "id": "AaJuAMRJ1Fas",
        "scrolled": true,
        "colab": {
          "base_uri": "https://localhost:8080/"
        },
        "outputId": "272efbaa-e5ad-45d2-89d3-1a7a43088b58"
      },
      "source": [
        "(Gfinal, DO, Rev_RE1) = del_gnfa_states(grnfa1, ['B', 'F2', 'F1', 'I3', 'I4'])"
      ],
      "execution_count": null,
      "outputs": [
        {
          "output_type": "stream",
          "text": [
            "**** Eliminating state B ****\n",
            "**** Eliminating state F2 ****\n",
            "**** Eliminating state F1 ****\n",
            "**** Eliminating state I3 ****\n",
            "**** Eliminating state I4 ****\n"
          ],
          "name": "stdout"
        }
      ]
    },
    {
      "cell_type": "code",
      "metadata": {
        "id": "_1zdEmFo1Fas",
        "colab": {
          "base_uri": "https://localhost:8080/",
          "height": 53
        },
        "outputId": "f8128c6c-f397-4b1c-e6cc-6c1b512415e0"
      },
      "source": [
        "Rev_RE1"
      ],
      "execution_count": null,
      "outputs": [
        {
          "output_type": "execute_result",
          "data": {
            "application/vnd.google.colaboratory.intrinsic+json": {
              "type": "string"
            },
            "text/plain": [
              "'((((((((d ((s)* b)) a) + (d (s)*)) + (d (s)*)) + (d ((s)* b))) + (d ((s)* b))) + ((((((((f ((s)* b)) + c) + c) a) + (f (s)*)) + (f (s)*)) + (((f ((s)* b)) + c) + c)) + (((f ((s)* b)) + c) + c))) + ((((((((f ((s)* b)) + c) + c) a) + (f (s)*)) + (f (s)*)) + (((f ((s)* b)) + c) + c)) + (((f ((s)* b)) + c) + c)))'"
            ]
          },
          "metadata": {
            "tags": []
          },
          "execution_count": 44
        }
      ]
    },
    {
      "cell_type": "markdown",
      "metadata": {
        "id": "xbzVZEQY1Fat"
      },
      "source": [
        "## Examine DO[0] through DO[Last_Legal_Item] (find out how long DO is)\n",
        "\n",
        "### Summarize your observation of the state elimination and which REs were introduced as a result\n",
        "NOTE: any time a state is removed, all of its associated transitions are also removed.\n",
        "\n",
        "* DO[0]: The states {Real_I} and {Real_F} are introduced. Epsilon transitions between {Real_I -> I3, I4} and {F1, F2 -> Real_F} are created.\n",
        "\n",
        "* DO[1]: The state {B} is removed. {I4} gains the transitions {(d(s)*) -> F1, (d ((s)*b)) -> F2}. {I3} gains the transition {((f((s)*b))+c) -> F2, (f(s)*) -> F1}.\n",
        "\n",
        "* DO[2]: The state {F2} is removed. {I3} gains the transitions {(((f((s)*b)) + c) + c) -> Real_F, (((((f ((s)* b)) + c) + c) a) + (f (s)*)) -> F1} and keeps the transition {(f(s)*) to F1}. {I4} gains the transition {(((d ((s)* b)) a) + (d (s)*)) -> F1, (d((s)*b) -> Real_F}.\n",
        "\n",
        "* DO[3]: The state {F1} is removed. {I3} gains the transition {(((((((f ((s)* b)) + c) + c) a) + (f (s)*)) + (f (s)*)) + (((f ((s)* b)) + c) + c)) -> Real_F}. {I4} gains the transition {(((((d ((s)* b)) a) + (d (s)*)) + (d (s)*)) + (d ((s)* b))) -> Real_F}.\n",
        "\n",
        "* DO[4]: The state {I3} is removed. {Real_I} gains the transition {((((((((f ((s)* b)) + c) + c) a) + (f (s)*)) + (f (s)*)) + (((f ((s)* b)) + c) + c)) + (((f ((s)* b)) + c) + c)) -> Real_F}.\n",
        "\n",
        "* DO[5]: The state {I4} is removed. {Real_I} gains the transition {(((((((d ((s)* b)) a) + (d (s)*)) + (d (s)*)) + (d ((s)* b))) + (d ((s)* b))) + ((((((((f ((s)* b)) + c) + c) a) + (f (s)*)) + (f (s)*)) + (((f ((s)* b)) + c) + c)) + (((f ((s)* b)) + c) + c))) -> Real_F}.\n",
        "\n",
        "*"
      ]
    },
    {
      "cell_type": "markdown",
      "metadata": {
        "id": "1QaSXKIu1Fat"
      },
      "source": [
        "## 3.4: Check for isomorphism as requested between Rev_RE1 and Rev_RE2\n",
        "\n",
        "Apply a Jove call that is compact (and will be given in class) that checks that Rev_RE1 and Rev_RE2 are equivalent. It has to involve iso_dfa and min_dfa and other calls."
      ]
    },
    {
      "cell_type": "code",
      "metadata": {
        "id": "ft9RVqT71Fat",
        "colab": {
          "base_uri": "https://localhost:8080/"
        },
        "outputId": "6d5206e3-9665-4636-eff2-93c574dcb19b"
      },
      "source": [
        "iso_dfa(min_dfa(nfa2dfa(re2nfa(Rev_RE1))), min_dfa(nfa2dfa(re2nfa(Rev_RE2))))"
      ],
      "execution_count": null,
      "outputs": [
        {
          "output_type": "stream",
          "text": [
            "Generating LALR tables\n",
            "Generating LALR tables\n"
          ],
          "name": "stderr"
        },
        {
          "output_type": "execute_result",
          "data": {
            "text/plain": [
              "True"
            ]
          },
          "metadata": {
            "tags": []
          },
          "execution_count": 45
        }
      ]
    },
    {
      "cell_type": "markdown",
      "metadata": {
        "id": "7YPYmZWU1Fau"
      },
      "source": [
        ""
      ]
    },
    {
      "cell_type": "code",
      "metadata": {
        "id": "y8DyxZvA1Fau",
        "colab": {
          "base_uri": "https://localhost:8080/",
          "height": 35
        },
        "outputId": "f00d6713-555a-44c3-f776-5f65bbd5e28c"
      },
      "source": [
        "# Just look at it again for comparison\n",
        "Rev_RE1_hand"
      ],
      "execution_count": null,
      "outputs": [
        {
          "output_type": "execute_result",
          "data": {
            "application/vnd.google.colaboratory.intrinsic+json": {
              "type": "string"
            },
            "text/plain": [
              "\"(f (((s*) (( b + (b a) ) + '')) )) + (c + c a) + (d ((s*) (b + (b a) + '')))\""
            ]
          },
          "metadata": {
            "tags": []
          },
          "execution_count": 46
        }
      ]
    },
    {
      "cell_type": "markdown",
      "metadata": {
        "id": "SrFKBgbl1Fau"
      },
      "source": [
        "## 3.5: Check for isomorphism as requested between Rev_RE1 and Rev_RE1_hand\n",
        "\n",
        "Same methods as above."
      ]
    },
    {
      "cell_type": "code",
      "metadata": {
        "id": "ITE6hltC1Fau",
        "colab": {
          "base_uri": "https://localhost:8080/"
        },
        "outputId": "4918830c-6c8c-4476-9634-f097fc0ee923"
      },
      "source": [
        "iso_dfa(min_dfa(nfa2dfa(re2nfa(Rev_RE1))), min_dfa(nfa2dfa(re2nfa(Rev_RE1_hand))))"
      ],
      "execution_count": null,
      "outputs": [
        {
          "output_type": "stream",
          "text": [
            "Generating LALR tables\n",
            "Generating LALR tables\n"
          ],
          "name": "stderr"
        },
        {
          "output_type": "execute_result",
          "data": {
            "text/plain": [
              "True"
            ]
          },
          "metadata": {
            "tags": []
          },
          "execution_count": 47
        }
      ]
    },
    {
      "cell_type": "markdown",
      "metadata": {
        "id": "gAGEONPJ1Fav"
      },
      "source": [
        "# Problem 4: Chasing down the RE2NFA components\n",
        "\n",
        "Find out where the s* components are and explain the set of all strings that precede s* in Rev_RE2 and the NFA of Rev_RE2\n",
        "\n",
        "Find out where the ending \"a\" is, and find out the set of all the symbols that precede a\n",
        "\n",
        "Let's first look at the NFA and then see where the RE \"parts\" are in it."
      ]
    },
    {
      "cell_type": "code",
      "metadata": {
        "id": "reKK6EvN1Fav",
        "scrolled": true,
        "colab": {
          "base_uri": "https://localhost:8080/",
          "height": 991
        },
        "outputId": "dc329bf6-9bad-49be-85b9-206f7221f992"
      },
      "source": [
        "dotObj_nfa(re2nfa(Rev_RE2))"
      ],
      "execution_count": null,
      "outputs": [
        {
          "output_type": "stream",
          "text": [
            "Generating LALR tables\n"
          ],
          "name": "stderr"
        },
        {
          "output_type": "execute_result",
          "data": {
            "text/plain": [
              "<graphviz.dot.Digraph at 0x7f71f26d5400>"
            ],
            "image/svg+xml": "<?xml version=\"1.0\" encoding=\"UTF-8\" standalone=\"no\"?>\n<!DOCTYPE svg PUBLIC \"-//W3C//DTD SVG 1.1//EN\"\n \"http://www.w3.org/Graphics/SVG/1.1/DTD/svg11.dtd\">\n<!-- Generated by graphviz version 2.40.1 (20161225.0304)\n -->\n<!-- Title: %3 Pages: 1 -->\n<svg width=\"895pt\" height=\"715pt\"\n viewBox=\"0.00 0.00 894.75 715.19\" xmlns=\"http://www.w3.org/2000/svg\" xmlns:xlink=\"http://www.w3.org/1999/xlink\">\n<g id=\"graph0\" class=\"graph\" transform=\"scale(1 1) rotate(0) translate(4 711.1949)\">\n<title>%3</title>\n<polygon fill=\"#ffffff\" stroke=\"transparent\" points=\"-4,4 -4,-711.1949 890.7543,-711.1949 890.7543,4 -4,4\"/>\n<!-- EMPTY -->\n<g id=\"node1\" class=\"node\">\n<title>EMPTY</title>\n</g>\n<!-- St33 -->\n<g id=\"node3\" class=\"node\">\n<title>St33</title>\n<ellipse fill=\"none\" stroke=\"#000000\" cx=\"119.5975\" cy=\"-678.5975\" rx=\"28.6953\" ry=\"28.6953\"/>\n<text text-anchor=\"middle\" x=\"119.5975\" y=\"-674.8975\" font-family=\"Times,serif\" font-size=\"14.00\" fill=\"#000000\">St33</text>\n</g>\n<!-- EMPTY&#45;&gt;St33 -->\n<g id=\"edge1\" class=\"edge\">\n<title>EMPTY&#45;&gt;St33</title>\n<path fill=\"none\" stroke=\"#000000\" d=\"M28.7764,-396.694C33.6347,-440.6281 49.6484,-555.6318 91,-641.5975 92.1086,-643.9021 93.3773,-646.1997 94.75,-648.4573\"/>\n<polygon fill=\"#000000\" stroke=\"#000000\" points=\"91.9476,-650.5616 100.4409,-656.8953 97.7511,-646.6476 91.9476,-650.5616\"/>\n</g>\n<!-- St14 -->\n<g id=\"node8\" class=\"node\">\n<title>St14</title>\n<ellipse fill=\"none\" stroke=\"#000000\" cx=\"194.7924\" cy=\"-427.5975\" rx=\"28.6953\" ry=\"28.6953\"/>\n<text text-anchor=\"middle\" x=\"194.7924\" y=\"-423.8975\" font-family=\"Times,serif\" font-size=\"14.00\" fill=\"#000000\">St14</text>\n</g>\n<!-- EMPTY&#45;&gt;St14 -->\n<g id=\"edge5\" class=\"edge\">\n<title>EMPTY&#45;&gt;St14</title>\n<path fill=\"none\" stroke=\"#000000\" d=\"M54.2651,-394.5058C65.3459,-400.3597 78.4718,-406.5429 91,-410.5975 111.9108,-417.3649 136.1034,-421.5267 155.869,-424.037\"/>\n<polygon fill=\"#000000\" stroke=\"#000000\" points=\"155.7115,-427.5426 166.0522,-425.236 156.5301,-420.5906 155.7115,-427.5426\"/>\n</g>\n<!-- St20 -->\n<g id=\"node11\" class=\"node\">\n<title>St20</title>\n<ellipse fill=\"none\" stroke=\"#000000\" cx=\"119.5975\" cy=\"-103.5975\" rx=\"28.6953\" ry=\"28.6953\"/>\n<text text-anchor=\"middle\" x=\"119.5975\" y=\"-99.8975\" font-family=\"Times,serif\" font-size=\"14.00\" fill=\"#000000\">St20</text>\n</g>\n<!-- EMPTY&#45;&gt;St20 -->\n<g id=\"edge8\" class=\"edge\">\n<title>EMPTY&#45;&gt;St20</title>\n<path fill=\"none\" stroke=\"#000000\" d=\"M29.3901,-360.4198C35.305,-319.4026 52.9828,-217.2636 91,-140.5975 92.1361,-138.3063 93.4257,-136.0188 94.8136,-133.7687\"/>\n<polygon fill=\"#000000\" stroke=\"#000000\" points=\"97.811,-135.5851 100.5385,-125.3473 92.022,-131.6496 97.811,-135.5851\"/>\n</g>\n<!-- St31 -->\n<g id=\"node21\" class=\"node\">\n<title>St31</title>\n<ellipse fill=\"none\" stroke=\"#000000\" cx=\"119.5975\" cy=\"-603.5975\" rx=\"28.6953\" ry=\"28.6953\"/>\n<text text-anchor=\"middle\" x=\"119.5975\" y=\"-599.8975\" font-family=\"Times,serif\" font-size=\"14.00\" fill=\"#000000\">St31</text>\n</g>\n<!-- EMPTY&#45;&gt;St31 -->\n<g id=\"edge4\" class=\"edge\">\n<title>EMPTY&#45;&gt;St31</title>\n<path fill=\"none\" stroke=\"#000000\" d=\"M31.0611,-396.7688C39.2276,-431.2917 59.5852,-508.1322 91,-566.5975 92.2105,-568.8502 93.556,-571.1088 94.9851,-573.3376\"/>\n<polygon fill=\"#000000\" stroke=\"#000000\" points=\"92.2223,-575.4953 100.8018,-581.7116 97.9714,-571.5019 92.2223,-575.4953\"/>\n</g>\n<!-- St12 -->\n<g id=\"node22\" class=\"node\">\n<title>St12</title>\n<ellipse fill=\"none\" stroke=\"#000000\" cx=\"345.1822\" cy=\"-484.5975\" rx=\"28.6953\" ry=\"28.6953\"/>\n<text text-anchor=\"middle\" x=\"345.1822\" y=\"-480.8975\" font-family=\"Times,serif\" font-size=\"14.00\" fill=\"#000000\">St12</text>\n</g>\n<!-- EMPTY&#45;&gt;St12 -->\n<g id=\"edge3\" class=\"edge\">\n<title>EMPTY&#45;&gt;St12</title>\n<path fill=\"none\" stroke=\"#000000\" d=\"M45.2182,-396.6207C57.3306,-407.7469 74.0723,-421.5711 91,-430.5975 160.829,-467.8325 254.3058,-479.3936 306.2366,-482.9825\"/>\n<polygon fill=\"#000000\" stroke=\"#000000\" points=\"306.1575,-486.4843 316.3569,-483.6165 306.5953,-479.498 306.1575,-486.4843\"/>\n</g>\n<!-- St24 -->\n<g id=\"node25\" class=\"node\">\n<title>St24</title>\n<ellipse fill=\"none\" stroke=\"#000000\" cx=\"119.5975\" cy=\"-178.5975\" rx=\"28.6953\" ry=\"28.6953\"/>\n<text text-anchor=\"middle\" x=\"119.5975\" y=\"-174.8975\" font-family=\"Times,serif\" font-size=\"14.00\" fill=\"#000000\">St24</text>\n</g>\n<!-- EMPTY&#45;&gt;St24 -->\n<g id=\"edge9\" class=\"edge\">\n<title>EMPTY&#45;&gt;St24</title>\n<path fill=\"none\" stroke=\"#000000\" d=\"M32.418,-360.387C41.9508,-329.6323 63.3598,-265.9314 91,-216.5975 92.3999,-214.0989 93.9455,-211.5797 95.5715,-209.0914\"/>\n<polygon fill=\"#000000\" stroke=\"#000000\" points=\"98.4833,-211.0345 101.3154,-200.8252 92.7349,-207.0401 98.4833,-211.0345\"/>\n</g>\n<!-- St5 -->\n<g id=\"node26\" class=\"node\">\n<title>St5</title>\n<ellipse fill=\"none\" stroke=\"#000000\" cx=\"119.5975\" cy=\"-248.5975\" rx=\"23.2963\" ry=\"23.2963\"/>\n<text text-anchor=\"middle\" x=\"119.5975\" y=\"-244.8975\" font-family=\"Times,serif\" font-size=\"14.00\" fill=\"#000000\">St5</text>\n</g>\n<!-- EMPTY&#45;&gt;St5 -->\n<g id=\"edge10\" class=\"edge\">\n<title>EMPTY&#45;&gt;St5</title>\n<path fill=\"none\" stroke=\"#000000\" d=\"M37.8882,-360.5974C50.1159,-340.7535 70.8897,-308.1262 91,-281.5975 92.9693,-278.9996 95.0839,-276.3435 97.2393,-273.7219\"/>\n<polygon fill=\"#000000\" stroke=\"#000000\" points=\"99.9394,-275.9494 103.7241,-266.0536 94.5944,-271.4293 99.9394,-275.9494\"/>\n</g>\n<!-- St3 -->\n<g id=\"node27\" class=\"node\">\n<title>St3</title>\n<ellipse fill=\"none\" stroke=\"#000000\" cx=\"119.5975\" cy=\"-378.5975\" rx=\"23.2963\" ry=\"23.2963\"/>\n<text text-anchor=\"middle\" x=\"119.5975\" y=\"-374.8975\" font-family=\"Times,serif\" font-size=\"14.00\" fill=\"#000000\">St3</text>\n</g>\n<!-- EMPTY&#45;&gt;St3 -->\n<g id=\"edge2\" class=\"edge\">\n<title>EMPTY&#45;&gt;St3</title>\n<path fill=\"none\" stroke=\"#000000\" d=\"M54.2815,-378.5975C64.2041,-378.5975 75.5373,-378.5975 85.9467,-378.5975\"/>\n<polygon fill=\"#000000\" stroke=\"#000000\" points=\"85.9617,-382.0976 95.9616,-378.5975 85.9616,-375.0976 85.9617,-382.0976\"/>\n</g>\n<!-- St1 -->\n<g id=\"node28\" class=\"node\">\n<title>St1</title>\n<ellipse fill=\"none\" stroke=\"#000000\" cx=\"119.5975\" cy=\"-313.5975\" rx=\"23.2963\" ry=\"23.2963\"/>\n<text text-anchor=\"middle\" x=\"119.5975\" y=\"-309.8975\" font-family=\"Times,serif\" font-size=\"14.00\" fill=\"#000000\">St1</text>\n</g>\n<!-- EMPTY&#45;&gt;St1 -->\n<g id=\"edge11\" class=\"edge\">\n<title>EMPTY&#45;&gt;St1</title>\n<path fill=\"none\" stroke=\"#000000\" d=\"M52.7936,-360.4913C65.0548,-351.8844 79.7205,-341.5896 92.1831,-332.8414\"/>\n<polygon fill=\"#000000\" stroke=\"#000000\" points=\"94.2286,-335.6818 100.4024,-327.0717 90.2067,-329.9524 94.2286,-335.6818\"/>\n</g>\n<!-- St22 -->\n<g id=\"node31\" class=\"node\">\n<title>St22</title>\n<ellipse fill=\"none\" stroke=\"#000000\" cx=\"119.5975\" cy=\"-28.5975\" rx=\"28.6953\" ry=\"28.6953\"/>\n<text text-anchor=\"middle\" x=\"119.5975\" y=\"-24.8975\" font-family=\"Times,serif\" font-size=\"14.00\" fill=\"#000000\">St22</text>\n</g>\n<!-- EMPTY&#45;&gt;St22 -->\n<g id=\"edge6\" class=\"edge\">\n<title>EMPTY&#45;&gt;St22</title>\n<path fill=\"none\" stroke=\"#000000\" d=\"M27.8566,-360.4163C30.7801,-310.8751 43.0388,-170.2169 91,-65.5975 92.0657,-63.2727 93.3022,-60.9599 94.6512,-58.6912\"/>\n<polygon fill=\"#000000\" stroke=\"#000000\" points=\"97.6576,-60.4912 100.2892,-50.2283 91.832,-56.6102 97.6576,-60.4912\"/>\n</g>\n<!-- St29 -->\n<g id=\"node33\" class=\"node\">\n<title>St29</title>\n<ellipse fill=\"none\" stroke=\"#000000\" cx=\"119.5975\" cy=\"-528.5975\" rx=\"28.6953\" ry=\"28.6953\"/>\n<text text-anchor=\"middle\" x=\"119.5975\" y=\"-524.8975\" font-family=\"Times,serif\" font-size=\"14.00\" fill=\"#000000\">St29</text>\n</g>\n<!-- EMPTY&#45;&gt;St29 -->\n<g id=\"edge7\" class=\"edge\">\n<title>EMPTY&#45;&gt;St29</title>\n<path fill=\"none\" stroke=\"#000000\" d=\"M31.9933,-396.8575C38.6794,-419.1928 52.0586,-457.4929 72,-485.5975 76.7123,-492.2388 82.6162,-498.5946 88.6464,-504.2859\"/>\n<polygon fill=\"#000000\" stroke=\"#000000\" points=\"86.4864,-507.0499 96.2719,-511.1112 91.1549,-501.834 86.4864,-507.0499\"/>\n</g>\n<!-- St15 -->\n<g id=\"node2\" class=\"node\">\n<title>St15</title>\n<ellipse fill=\"none\" stroke=\"#000000\" cx=\"636.767\" cy=\"-429.5975\" rx=\"28.6953\" ry=\"28.6953\"/>\n<text text-anchor=\"middle\" x=\"636.767\" y=\"-425.8975\" font-family=\"Times,serif\" font-size=\"14.00\" fill=\"#000000\">St15</text>\n</g>\n<!-- St16 -->\n<g id=\"node13\" class=\"node\">\n<title>St16</title>\n<ellipse fill=\"none\" stroke=\"#000000\" cx=\"742.9619\" cy=\"-506.5975\" rx=\"28.6953\" ry=\"28.6953\"/>\n<text text-anchor=\"middle\" x=\"742.9619\" y=\"-502.8975\" font-family=\"Times,serif\" font-size=\"14.00\" fill=\"#000000\">St16</text>\n</g>\n<!-- St15&#45;&gt;St16 -->\n<g id=\"edge27\" class=\"edge\">\n<title>St15&#45;&gt;St16</title>\n<path fill=\"none\" stroke=\"#000000\" d=\"M652.6623,-453.4834C660.7894,-464.1986 671.4719,-476.2719 683.3645,-484.5975 690.035,-489.2673 697.8148,-493.0734 705.5092,-496.1255\"/>\n<polygon fill=\"#000000\" stroke=\"#000000\" points=\"704.5257,-499.4915 715.12,-499.5966 706.9035,-492.9077 704.5257,-499.4915\"/>\n<text text-anchor=\"middle\" x=\"687.8645\" y=\"-493.3975\" font-family=\"Times,serif\" font-size=\"14.00\" fill=\"#000000\">&#39;&#39; </text>\n</g>\n<!-- St19 -->\n<g id=\"node35\" class=\"node\">\n<title>St19</title>\n<ellipse fill=\"none\" stroke=\"#000000\" cx=\"742.9619\" cy=\"-312.5975\" rx=\"28.6832\" ry=\"28.6832\"/>\n<ellipse fill=\"none\" stroke=\"#000000\" cx=\"742.9619\" cy=\"-312.5975\" rx=\"32.6952\" ry=\"32.6952\"/>\n<text text-anchor=\"middle\" x=\"742.9619\" y=\"-308.8975\" font-family=\"Times,serif\" font-size=\"14.00\" fill=\"#000000\">St19</text>\n</g>\n<!-- St15&#45;&gt;St19 -->\n<g id=\"edge26\" class=\"edge\">\n<title>St15&#45;&gt;St19</title>\n<path fill=\"none\" stroke=\"#000000\" d=\"M654.9676,-407.3236C658.6523,-402.3085 662.3244,-396.8974 665.3645,-391.5975 675.673,-373.6262 669.8296,-364.2832 683.3645,-348.5975 689.1539,-341.888 696.5151,-336.069 704.0731,-331.1807\"/>\n<polygon fill=\"#000000\" stroke=\"#000000\" points=\"706.1659,-334.0073 712.9534,-325.8721 702.5742,-327.999 706.1659,-334.0073\"/>\n<text text-anchor=\"middle\" x=\"687.8645\" y=\"-352.3975\" font-family=\"Times,serif\" font-size=\"14.00\" fill=\"#000000\">&#39;&#39; </text>\n</g>\n<!-- St18 -->\n<g id=\"node38\" class=\"node\">\n<title>St18</title>\n<ellipse fill=\"none\" stroke=\"#000000\" cx=\"742.9619\" cy=\"-395.5975\" rx=\"28.6832\" ry=\"28.6832\"/>\n<ellipse fill=\"none\" stroke=\"#000000\" cx=\"742.9619\" cy=\"-395.5975\" rx=\"32.6952\" ry=\"32.6952\"/>\n<text text-anchor=\"middle\" x=\"742.9619\" y=\"-391.8975\" font-family=\"Times,serif\" font-size=\"14.00\" fill=\"#000000\">St18</text>\n</g>\n<!-- St15&#45;&gt;St18 -->\n<g id=\"edge28\" class=\"edge\">\n<title>St15&#45;&gt;St18</title>\n<path fill=\"none\" stroke=\"#000000\" d=\"M657.2717,-409.0831C664.8322,-402.8675 673.883,-396.8334 683.3645,-393.5975 688.7532,-391.7583 694.5774,-390.8018 700.4011,-390.4334\"/>\n<polygon fill=\"#000000\" stroke=\"#000000\" points=\"700.8204,-393.93 710.7893,-390.3421 700.7589,-386.9302 700.8204,-393.93\"/>\n<text text-anchor=\"middle\" x=\"687.8645\" y=\"-397.3975\" font-family=\"Times,serif\" font-size=\"14.00\" fill=\"#000000\">&#39;&#39; </text>\n</g>\n<!-- St34 -->\n<g id=\"node19\" class=\"node\">\n<title>St34</title>\n<ellipse fill=\"none\" stroke=\"#000000\" cx=\"269.9873\" cy=\"-678.5975\" rx=\"28.6953\" ry=\"28.6953\"/>\n<text text-anchor=\"middle\" x=\"269.9873\" y=\"-674.8975\" font-family=\"Times,serif\" font-size=\"14.00\" fill=\"#000000\">St34</text>\n</g>\n<!-- St33&#45;&gt;St34 -->\n<g id=\"edge46\" class=\"edge\">\n<title>St33&#45;&gt;St34</title>\n<path fill=\"none\" stroke=\"#000000\" d=\"M148.2386,-678.5975C171.6833,-678.5975 205.0821,-678.5975 230.9701,-678.5975\"/>\n<polygon fill=\"#000000\" stroke=\"#000000\" points=\"231.1971,-682.0976 241.197,-678.5975 231.197,-675.0976 231.1971,-682.0976\"/>\n<text text-anchor=\"middle\" x=\"194.7924\" y=\"-682.3975\" font-family=\"Times,serif\" font-size=\"14.00\" fill=\"#000000\">f </text>\n</g>\n<!-- St13 -->\n<g id=\"node4\" class=\"node\">\n<title>St13</title>\n<ellipse fill=\"none\" stroke=\"#000000\" cx=\"636.767\" cy=\"-528.5975\" rx=\"28.6953\" ry=\"28.6953\"/>\n<text text-anchor=\"middle\" x=\"636.767\" y=\"-524.8975\" font-family=\"Times,serif\" font-size=\"14.00\" fill=\"#000000\">St13</text>\n</g>\n<!-- St13&#45;&gt;St16 -->\n<g id=\"edge33\" class=\"edge\">\n<title>St13&#45;&gt;St16</title>\n<path fill=\"none\" stroke=\"#000000\" d=\"M656.0163,-549.9453C666.47,-558.8703 679.7957,-566.0447 692.3645,-560.5975 703.3963,-555.8163 713.1242,-547.3143 721.0273,-538.4507\"/>\n<polygon fill=\"#000000\" stroke=\"#000000\" points=\"723.8035,-540.5859 727.4895,-530.6529 718.4137,-536.1192 723.8035,-540.5859\"/>\n<text text-anchor=\"middle\" x=\"687.8645\" y=\"-565.3975\" font-family=\"Times,serif\" font-size=\"14.00\" fill=\"#000000\">&#39;&#39; </text>\n</g>\n<!-- St13&#45;&gt;St19 -->\n<g id=\"edge32\" class=\"edge\">\n<title>St13&#45;&gt;St19</title>\n<path fill=\"none\" stroke=\"#000000\" d=\"M649.1025,-502.5168C654.1778,-491.7265 660.0914,-479.0763 665.3645,-467.5975 673.5023,-449.8824 675.1913,-445.2963 683.3645,-427.5975 687.2819,-419.1144 688.9044,-417.2771 692.3645,-408.5975 701.8886,-384.7056 698.1691,-376.2426 710.3645,-353.5975 711.8264,-350.8828 713.473,-348.168 715.2295,-345.5007\"/>\n<polygon fill=\"#000000\" stroke=\"#000000\" points=\"718.1867,-347.3815 721.1233,-337.2017 712.4795,-343.3283 718.1867,-347.3815\"/>\n<text text-anchor=\"middle\" x=\"687.8645\" y=\"-431.3975\" font-family=\"Times,serif\" font-size=\"14.00\" fill=\"#000000\">&#39;&#39; </text>\n</g>\n<!-- St13&#45;&gt;St18 -->\n<g id=\"edge34\" class=\"edge\">\n<title>St13&#45;&gt;St18</title>\n<path fill=\"none\" stroke=\"#000000\" d=\"M664.875,-523.2267C674.5099,-520.2399 684.7666,-515.641 692.3645,-508.5975 692.5545,-508.4213 710.8902,-467.421 725.4325,-434.8637\"/>\n<polygon fill=\"#000000\" stroke=\"#000000\" points=\"728.7249,-436.0745 729.6071,-425.5164 722.3334,-433.2199 728.7249,-436.0745\"/>\n<text text-anchor=\"middle\" x=\"687.8645\" y=\"-518.3975\" font-family=\"Times,serif\" font-size=\"14.00\" fill=\"#000000\">&#39;&#39; </text>\n</g>\n<!-- St4 -->\n<g id=\"node5\" class=\"node\">\n<title>St4</title>\n<ellipse fill=\"none\" stroke=\"#000000\" cx=\"269.9873\" cy=\"-378.5975\" rx=\"23.2963\" ry=\"23.2963\"/>\n<text text-anchor=\"middle\" x=\"269.9873\" y=\"-374.8975\" font-family=\"Times,serif\" font-size=\"14.00\" fill=\"#000000\">St4</text>\n</g>\n<!-- St9 -->\n<g id=\"node6\" class=\"node\">\n<title>St9</title>\n<ellipse fill=\"none\" stroke=\"#000000\" cx=\"424.3772\" cy=\"-302.5975\" rx=\"23.2963\" ry=\"23.2963\"/>\n<text text-anchor=\"middle\" x=\"424.3772\" y=\"-298.8975\" font-family=\"Times,serif\" font-size=\"14.00\" fill=\"#000000\">St9</text>\n</g>\n<!-- St4&#45;&gt;St9 -->\n<g id=\"edge21\" class=\"edge\">\n<title>St4&#45;&gt;St9</title>\n<path fill=\"none\" stroke=\"#000000\" d=\"M291.5347,-368.416C312.5821,-358.424 345.4878,-342.6781 373.7797,-328.5975 380.4662,-325.2696 387.6177,-321.639 394.3759,-318.1749\"/>\n<polygon fill=\"#000000\" stroke=\"#000000\" points=\"395.9778,-321.2869 403.2673,-313.5984 392.7742,-315.0629 395.9778,-321.2869\"/>\n<text text-anchor=\"middle\" x=\"345.1822\" y=\"-359.3975\" font-family=\"Times,serif\" font-size=\"14.00\" fill=\"#000000\">&#39;&#39; </text>\n</g>\n<!-- St10 -->\n<g id=\"node7\" class=\"node\">\n<title>St10</title>\n<ellipse fill=\"none\" stroke=\"#000000\" cx=\"531.5721\" cy=\"-360.5975\" rx=\"28.6953\" ry=\"28.6953\"/>\n<text text-anchor=\"middle\" x=\"531.5721\" y=\"-356.8975\" font-family=\"Times,serif\" font-size=\"14.00\" fill=\"#000000\">St10</text>\n</g>\n<!-- St9&#45;&gt;St10 -->\n<g id=\"edge15\" class=\"edge\">\n<title>St9&#45;&gt;St10</title>\n<path fill=\"none\" stroke=\"#000000\" d=\"M445.0454,-313.7804C459.7266,-321.724 479.7897,-332.5795 496.9002,-341.8376\"/>\n<polygon fill=\"#000000\" stroke=\"#000000\" points=\"495.5887,-345.1074 506.0494,-346.7879 498.9199,-338.9508 495.5887,-345.1074\"/>\n<text text-anchor=\"middle\" x=\"479.9746\" y=\"-338.3975\" font-family=\"Times,serif\" font-size=\"14.00\" fill=\"#000000\">&#39;&#39; </text>\n</g>\n<!-- St7 -->\n<g id=\"node24\" class=\"node\">\n<title>St7</title>\n<ellipse fill=\"none\" stroke=\"#000000\" cx=\"531.5721\" cy=\"-239.5975\" rx=\"23.2963\" ry=\"23.2963\"/>\n<text text-anchor=\"middle\" x=\"531.5721\" y=\"-235.8975\" font-family=\"Times,serif\" font-size=\"14.00\" fill=\"#000000\">St7</text>\n</g>\n<!-- St9&#45;&gt;St7 -->\n<g id=\"edge16\" class=\"edge\">\n<title>St9&#45;&gt;St7</title>\n<path fill=\"none\" stroke=\"#000000\" d=\"M443.8203,-289.3269C453.1233,-283.1303 464.4946,-275.7755 474.9746,-269.5975 483.4876,-264.5791 492.9097,-259.43 501.5843,-254.8456\"/>\n<polygon fill=\"#000000\" stroke=\"#000000\" points=\"503.3804,-257.8563 510.6253,-250.1256 500.1408,-251.651 503.3804,-257.8563\"/>\n<text text-anchor=\"middle\" x=\"479.9746\" y=\"-273.3975\" font-family=\"Times,serif\" font-size=\"14.00\" fill=\"#000000\">&#39;&#39; </text>\n</g>\n<!-- St11 -->\n<g id=\"node9\" class=\"node\">\n<title>St11</title>\n<ellipse fill=\"none\" stroke=\"#000000\" cx=\"636.767\" cy=\"-354.5975\" rx=\"27.8951\" ry=\"27.8951\"/>\n<text text-anchor=\"middle\" x=\"636.767\" y=\"-350.8975\" font-family=\"Times,serif\" font-size=\"14.00\" fill=\"#000000\">St11</text>\n</g>\n<!-- St10&#45;&gt;St11 -->\n<g id=\"edge19\" class=\"edge\">\n<title>St10&#45;&gt;St11</title>\n<path fill=\"none\" stroke=\"#000000\" d=\"M560.3171,-358.9579C572.1034,-358.2857 585.917,-357.4978 598.5359,-356.7781\"/>\n<polygon fill=\"#000000\" stroke=\"#000000\" points=\"598.9995,-360.2574 608.7839,-356.1935 598.6008,-353.2687 598.9995,-360.2574\"/>\n<text text-anchor=\"middle\" x=\"584.1696\" y=\"-361.3975\" font-family=\"Times,serif\" font-size=\"14.00\" fill=\"#000000\">b </text>\n</g>\n<!-- St14&#45;&gt;St15 -->\n<g id=\"edge24\" class=\"edge\">\n<title>St14&#45;&gt;St15</title>\n<path fill=\"none\" stroke=\"#000000\" d=\"M223.6216,-428.2084C253.8937,-428.7966 302.8814,-429.5975 345.1822,-429.5975 345.1822,-429.5975 345.1822,-429.5975 531.5721,-429.5975 553.3999,-429.5975 577.7755,-429.5975 597.5621,-429.5975\"/>\n<polygon fill=\"#000000\" stroke=\"#000000\" points=\"597.7443,-433.0976 607.7443,-429.5975 597.7442,-426.0976 597.7443,-433.0976\"/>\n<text text-anchor=\"middle\" x=\"424.3772\" y=\"-433.3975\" font-family=\"Times,serif\" font-size=\"14.00\" fill=\"#000000\">c </text>\n</g>\n<!-- St11&#45;&gt;St16 -->\n<g id=\"edge30\" class=\"edge\">\n<title>St11&#45;&gt;St16</title>\n<path fill=\"none\" stroke=\"#000000\" d=\"M655.3131,-376.06C658.9763,-380.9572 662.5522,-386.2885 665.3645,-391.5975 677.4042,-414.3258 669.9393,-424.659 683.3645,-446.5975 691.258,-459.4964 702.4473,-471.7286 713.0026,-481.7424\"/>\n<polygon fill=\"#000000\" stroke=\"#000000\" points=\"710.7795,-484.4523 720.5203,-488.6198 715.5044,-479.2875 710.7795,-484.4523\"/>\n<text text-anchor=\"middle\" x=\"687.8645\" y=\"-461.3975\" font-family=\"Times,serif\" font-size=\"14.00\" fill=\"#000000\">&#39;&#39; </text>\n</g>\n<!-- St11&#45;&gt;St19 -->\n<g id=\"edge29\" class=\"edge\">\n<title>St11&#45;&gt;St19</title>\n<path fill=\"none\" stroke=\"#000000\" d=\"M651.1036,-330.2794C663.8049,-308.9367 680.7352,-281.0593 683.3645,-279.5975 692.7823,-274.3613 703.0453,-277.032 712.359,-282.6448\"/>\n<polygon fill=\"#000000\" stroke=\"#000000\" points=\"710.4122,-285.5549 720.5941,-288.4841 714.4612,-279.8447 710.4122,-285.5549\"/>\n<text text-anchor=\"middle\" x=\"687.8645\" y=\"-283.3975\" font-family=\"Times,serif\" font-size=\"14.00\" fill=\"#000000\">&#39;&#39; </text>\n</g>\n<!-- St11&#45;&gt;St18 -->\n<g id=\"edge31\" class=\"edge\">\n<title>St11&#45;&gt;St18</title>\n<path fill=\"none\" stroke=\"#000000\" d=\"M663.9026,-362.0296C673.0427,-364.7609 683.2357,-368.0586 692.3645,-371.5975 696.3418,-373.1393 700.442,-374.8576 704.5061,-376.6466\"/>\n<polygon fill=\"#000000\" stroke=\"#000000\" points=\"703.2975,-379.9419 713.849,-380.8994 706.1976,-373.5709 703.2975,-379.9419\"/>\n<text text-anchor=\"middle\" x=\"687.8645\" y=\"-375.3975\" font-family=\"Times,serif\" font-size=\"14.00\" fill=\"#000000\">&#39;&#39; </text>\n</g>\n<!-- St35 -->\n<g id=\"node10\" class=\"node\">\n<title>St35</title>\n<ellipse fill=\"none\" stroke=\"#000000\" cx=\"531.5721\" cy=\"-634.5975\" rx=\"28.6953\" ry=\"28.6953\"/>\n<text text-anchor=\"middle\" x=\"531.5721\" y=\"-630.8975\" font-family=\"Times,serif\" font-size=\"14.00\" fill=\"#000000\">St35</text>\n</g>\n<!-- St36 -->\n<g id=\"node29\" class=\"node\">\n<title>St36</title>\n<ellipse fill=\"none\" stroke=\"#000000\" cx=\"636.767\" cy=\"-604.5975\" rx=\"28.6953\" ry=\"28.6953\"/>\n<text text-anchor=\"middle\" x=\"636.767\" y=\"-600.8975\" font-family=\"Times,serif\" font-size=\"14.00\" fill=\"#000000\">St36</text>\n</g>\n<!-- St35&#45;&gt;St36 -->\n<g id=\"edge48\" class=\"edge\">\n<title>St35&#45;&gt;St36</title>\n<path fill=\"none\" stroke=\"#000000\" d=\"M559.2108,-626.7153C571.4351,-623.2291 586.0008,-619.0752 599.1909,-615.3136\"/>\n<polygon fill=\"#000000\" stroke=\"#000000\" points=\"600.291,-618.6395 608.9476,-612.5311 598.3712,-611.9079 600.291,-618.6395\"/>\n<text text-anchor=\"middle\" x=\"584.1696\" y=\"-623.3975\" font-family=\"Times,serif\" font-size=\"14.00\" fill=\"#000000\">s </text>\n</g>\n<!-- St21 -->\n<g id=\"node17\" class=\"node\">\n<title>St21</title>\n<ellipse fill=\"none\" stroke=\"#000000\" cx=\"269.9873\" cy=\"-103.5975\" rx=\"28.6953\" ry=\"28.6953\"/>\n<text text-anchor=\"middle\" x=\"269.9873\" y=\"-99.8975\" font-family=\"Times,serif\" font-size=\"14.00\" fill=\"#000000\">St21</text>\n</g>\n<!-- St20&#45;&gt;St21 -->\n<g id=\"edge35\" class=\"edge\">\n<title>St20&#45;&gt;St21</title>\n<path fill=\"none\" stroke=\"#000000\" d=\"M148.2386,-103.5975C171.6833,-103.5975 205.0821,-103.5975 230.9701,-103.5975\"/>\n<polygon fill=\"#000000\" stroke=\"#000000\" points=\"231.1971,-107.0976 241.197,-103.5975 231.197,-100.0976 231.1971,-107.0976\"/>\n<text text-anchor=\"middle\" x=\"194.7924\" y=\"-107.3975\" font-family=\"Times,serif\" font-size=\"14.00\" fill=\"#000000\">d </text>\n</g>\n<!-- St26 -->\n<g id=\"node12\" class=\"node\">\n<title>St26</title>\n<ellipse fill=\"none\" stroke=\"#000000\" cx=\"531.5721\" cy=\"-164.5975\" rx=\"28.6953\" ry=\"28.6953\"/>\n<text text-anchor=\"middle\" x=\"531.5721\" y=\"-160.8975\" font-family=\"Times,serif\" font-size=\"14.00\" fill=\"#000000\">St26</text>\n</g>\n<!-- St27 -->\n<g id=\"node14\" class=\"node\">\n<title>St27</title>\n<ellipse fill=\"none\" stroke=\"#000000\" cx=\"636.767\" cy=\"-119.5975\" rx=\"28.6953\" ry=\"28.6953\"/>\n<text text-anchor=\"middle\" x=\"636.767\" y=\"-115.8975\" font-family=\"Times,serif\" font-size=\"14.00\" fill=\"#000000\">St27</text>\n</g>\n<!-- St26&#45;&gt;St27 -->\n<g id=\"edge39\" class=\"edge\">\n<title>St26&#45;&gt;St27</title>\n<path fill=\"none\" stroke=\"#000000\" d=\"M558.1172,-153.2421C571.0739,-147.6995 586.8525,-140.9498 600.8666,-134.9549\"/>\n<polygon fill=\"#000000\" stroke=\"#000000\" points=\"602.4129,-138.1002 610.2304,-130.9492 599.6597,-131.6644 602.4129,-138.1002\"/>\n<text text-anchor=\"middle\" x=\"584.1696\" y=\"-146.3975\" font-family=\"Times,serif\" font-size=\"14.00\" fill=\"#000000\">s </text>\n</g>\n<!-- St17 -->\n<g id=\"node34\" class=\"node\">\n<title>St17</title>\n<ellipse fill=\"none\" stroke=\"#000000\" cx=\"854.1569\" cy=\"-506.5975\" rx=\"28.6832\" ry=\"28.6832\"/>\n<ellipse fill=\"none\" stroke=\"#000000\" cx=\"854.1569\" cy=\"-506.5975\" rx=\"32.6952\" ry=\"32.6952\"/>\n<text text-anchor=\"middle\" x=\"854.1569\" y=\"-502.8975\" font-family=\"Times,serif\" font-size=\"14.00\" fill=\"#000000\">St17</text>\n</g>\n<!-- St16&#45;&gt;St17 -->\n<g id=\"edge25\" class=\"edge\">\n<title>St16&#45;&gt;St17</title>\n<path fill=\"none\" stroke=\"#000000\" d=\"M771.5974,-506.5975C783.5802,-506.5975 797.7678,-506.5975 810.9713,-506.5975\"/>\n<polygon fill=\"#000000\" stroke=\"#000000\" points=\"811.2883,-510.0976 821.2883,-506.5975 811.2882,-503.0976 811.2883,-510.0976\"/>\n<text text-anchor=\"middle\" x=\"798.5594\" y=\"-510.3975\" font-family=\"Times,serif\" font-size=\"14.00\" fill=\"#000000\">a </text>\n</g>\n<!-- St28 -->\n<g id=\"node36\" class=\"node\">\n<title>St28</title>\n<ellipse fill=\"none\" stroke=\"#000000\" cx=\"424.3772\" cy=\"-103.5975\" rx=\"28.6832\" ry=\"28.6832\"/>\n<ellipse fill=\"none\" stroke=\"#000000\" cx=\"424.3772\" cy=\"-103.5975\" rx=\"32.6952\" ry=\"32.6952\"/>\n<text text-anchor=\"middle\" x=\"424.3772\" y=\"-99.8975\" font-family=\"Times,serif\" font-size=\"14.00\" fill=\"#000000\">St28</text>\n</g>\n<!-- St27&#45;&gt;St28 -->\n<g id=\"edge40\" class=\"edge\">\n<title>St27&#45;&gt;St28</title>\n<path fill=\"none\" stroke=\"#000000\" d=\"M608.0606,-116.2886C593.6939,-114.7117 576.0277,-112.8921 560.1696,-111.5975 529.1045,-109.0614 493.9782,-107.014 467.235,-105.6254\"/>\n<polygon fill=\"#000000\" stroke=\"#000000\" points=\"467.2223,-102.1203 457.0573,-105.1076 466.8666,-109.1113 467.2223,-102.1203\"/>\n<text text-anchor=\"middle\" x=\"531.5721\" y=\"-115.3975\" font-family=\"Times,serif\" font-size=\"14.00\" fill=\"#000000\">&#39;&#39; </text>\n</g>\n<!-- St2 -->\n<g id=\"node15\" class=\"node\">\n<title>St2</title>\n<ellipse fill=\"none\" stroke=\"#000000\" cx=\"269.9873\" cy=\"-313.5975\" rx=\"23.2963\" ry=\"23.2963\"/>\n<text text-anchor=\"middle\" x=\"269.9873\" y=\"-309.8975\" font-family=\"Times,serif\" font-size=\"14.00\" fill=\"#000000\">St2</text>\n</g>\n<!-- St2&#45;&gt;St9 -->\n<g id=\"edge20\" class=\"edge\">\n<title>St2&#45;&gt;St9</title>\n<path fill=\"none\" stroke=\"#000000\" d=\"M293.4358,-311.9268C319.3554,-310.0801 361.3239,-307.0899 390.7434,-304.9938\"/>\n<polygon fill=\"#000000\" stroke=\"#000000\" points=\"391.2355,-308.4677 400.9614,-304.2658 390.738,-301.4854 391.2355,-308.4677\"/>\n<text text-anchor=\"middle\" x=\"345.1822\" y=\"-313.3975\" font-family=\"Times,serif\" font-size=\"14.00\" fill=\"#000000\">&#39;&#39; </text>\n</g>\n<!-- St25 -->\n<g id=\"node16\" class=\"node\">\n<title>St25</title>\n<ellipse fill=\"none\" stroke=\"#000000\" cx=\"269.9873\" cy=\"-178.5975\" rx=\"28.6953\" ry=\"28.6953\"/>\n<text text-anchor=\"middle\" x=\"269.9873\" y=\"-174.8975\" font-family=\"Times,serif\" font-size=\"14.00\" fill=\"#000000\">St25</text>\n</g>\n<!-- St25&#45;&gt;St28 -->\n<g id=\"edge43\" class=\"edge\">\n<title>St25&#45;&gt;St28</title>\n<path fill=\"none\" stroke=\"#000000\" d=\"M295.8287,-166.0441C320.4311,-154.0927 357.7697,-135.9543 385.8769,-122.3002\"/>\n<polygon fill=\"#000000\" stroke=\"#000000\" points=\"387.5578,-125.3749 395.0233,-117.8571 384.4991,-119.0785 387.5578,-125.3749\"/>\n<text text-anchor=\"middle\" x=\"345.1822\" y=\"-157.3975\" font-family=\"Times,serif\" font-size=\"14.00\" fill=\"#000000\">&#39;&#39; </text>\n</g>\n<!-- St21&#45;&gt;St28 -->\n<g id=\"edge42\" class=\"edge\">\n<title>St21&#45;&gt;St28</title>\n<path fill=\"none\" stroke=\"#000000\" d=\"M298.665,-103.5975C321.9144,-103.5975 355.0378,-103.5975 381.448,-103.5975\"/>\n<polygon fill=\"#000000\" stroke=\"#000000\" points=\"381.5716,-107.0976 391.5716,-103.5975 381.5716,-100.0976 381.5716,-107.0976\"/>\n<text text-anchor=\"middle\" x=\"345.1822\" y=\"-107.3975\" font-family=\"Times,serif\" font-size=\"14.00\" fill=\"#000000\">&#39;&#39; </text>\n</g>\n<!-- St6 -->\n<g id=\"node18\" class=\"node\">\n<title>St6</title>\n<ellipse fill=\"none\" stroke=\"#000000\" cx=\"269.9873\" cy=\"-248.5975\" rx=\"23.2963\" ry=\"23.2963\"/>\n<text text-anchor=\"middle\" x=\"269.9873\" y=\"-244.8975\" font-family=\"Times,serif\" font-size=\"14.00\" fill=\"#000000\">St6</text>\n</g>\n<!-- St6&#45;&gt;St9 -->\n<g id=\"edge22\" class=\"edge\">\n<title>St6&#45;&gt;St9</title>\n<path fill=\"none\" stroke=\"#000000\" d=\"M292.1076,-256.3343C318.4014,-265.531 362.483,-280.9491 392.4659,-291.436\"/>\n<polygon fill=\"#000000\" stroke=\"#000000\" points=\"391.4526,-294.7895 402.0474,-294.7873 393.7637,-288.182 391.4526,-294.7895\"/>\n<text text-anchor=\"middle\" x=\"345.1822\" y=\"-286.3975\" font-family=\"Times,serif\" font-size=\"14.00\" fill=\"#000000\">&#39;&#39; </text>\n</g>\n<!-- St37 -->\n<g id=\"node37\" class=\"node\">\n<title>St37</title>\n<ellipse fill=\"none\" stroke=\"#000000\" cx=\"424.3772\" cy=\"-603.5975\" rx=\"28.6832\" ry=\"28.6832\"/>\n<ellipse fill=\"none\" stroke=\"#000000\" cx=\"424.3772\" cy=\"-603.5975\" rx=\"32.6952\" ry=\"32.6952\"/>\n<text text-anchor=\"middle\" x=\"424.3772\" y=\"-599.8975\" font-family=\"Times,serif\" font-size=\"14.00\" fill=\"#000000\">St37</text>\n</g>\n<!-- St34&#45;&gt;St37 -->\n<g id=\"edge50\" class=\"edge\">\n<title>St34&#45;&gt;St37</title>\n<path fill=\"none\" stroke=\"#000000\" d=\"M295.8287,-666.0441C320.4311,-654.0927 357.7697,-635.9543 385.8769,-622.3002\"/>\n<polygon fill=\"#000000\" stroke=\"#000000\" points=\"387.5578,-625.3749 395.0233,-617.8571 384.4991,-619.0785 387.5578,-625.3749\"/>\n<text text-anchor=\"middle\" x=\"345.1822\" y=\"-657.3975\" font-family=\"Times,serif\" font-size=\"14.00\" fill=\"#000000\">&#39;&#39; </text>\n</g>\n<!-- St32 -->\n<g id=\"node20\" class=\"node\">\n<title>St32</title>\n<ellipse fill=\"none\" stroke=\"#000000\" cx=\"269.9873\" cy=\"-603.5975\" rx=\"28.6953\" ry=\"28.6953\"/>\n<text text-anchor=\"middle\" x=\"269.9873\" y=\"-599.8975\" font-family=\"Times,serif\" font-size=\"14.00\" fill=\"#000000\">St32</text>\n</g>\n<!-- St32&#45;&gt;St37 -->\n<g id=\"edge52\" class=\"edge\">\n<title>St32&#45;&gt;St37</title>\n<path fill=\"none\" stroke=\"#000000\" d=\"M298.665,-603.5975C321.9144,-603.5975 355.0378,-603.5975 381.448,-603.5975\"/>\n<polygon fill=\"#000000\" stroke=\"#000000\" points=\"381.5716,-607.0976 391.5716,-603.5975 381.5716,-600.0976 381.5716,-607.0976\"/>\n<text text-anchor=\"middle\" x=\"345.1822\" y=\"-607.3975\" font-family=\"Times,serif\" font-size=\"14.00\" fill=\"#000000\">&#39;&#39; </text>\n</g>\n<!-- St31&#45;&gt;St32 -->\n<g id=\"edge45\" class=\"edge\">\n<title>St31&#45;&gt;St32</title>\n<path fill=\"none\" stroke=\"#000000\" d=\"M148.2386,-603.5975C171.6833,-603.5975 205.0821,-603.5975 230.9701,-603.5975\"/>\n<polygon fill=\"#000000\" stroke=\"#000000\" points=\"231.1971,-607.0976 241.197,-603.5975 231.197,-600.0976 231.1971,-607.0976\"/>\n<text text-anchor=\"middle\" x=\"194.7924\" y=\"-607.3975\" font-family=\"Times,serif\" font-size=\"14.00\" fill=\"#000000\">f </text>\n</g>\n<!-- St12&#45;&gt;St13 -->\n<g id=\"edge23\" class=\"edge\">\n<title>St12&#45;&gt;St13</title>\n<path fill=\"none\" stroke=\"#000000\" d=\"M373.6715,-488.8965C426.2584,-496.8318 538.6173,-513.7867 598.053,-522.7555\"/>\n<polygon fill=\"#000000\" stroke=\"#000000\" points=\"597.7518,-526.2496 608.1621,-524.281 598.7963,-519.328 597.7518,-526.2496\"/>\n<text text-anchor=\"middle\" x=\"479.9746\" y=\"-508.3975\" font-family=\"Times,serif\" font-size=\"14.00\" fill=\"#000000\">c </text>\n</g>\n<!-- St23 -->\n<g id=\"node23\" class=\"node\">\n<title>St23</title>\n<ellipse fill=\"none\" stroke=\"#000000\" cx=\"269.9873\" cy=\"-28.5975\" rx=\"28.6953\" ry=\"28.6953\"/>\n<text text-anchor=\"middle\" x=\"269.9873\" y=\"-24.8975\" font-family=\"Times,serif\" font-size=\"14.00\" fill=\"#000000\">St23</text>\n</g>\n<!-- St23&#45;&gt;St28 -->\n<g id=\"edge41\" class=\"edge\">\n<title>St23&#45;&gt;St28</title>\n<path fill=\"none\" stroke=\"#000000\" d=\"M295.8287,-41.1508C320.4311,-53.1022 357.7697,-71.2407 385.8769,-84.8947\"/>\n<polygon fill=\"#000000\" stroke=\"#000000\" points=\"384.4991,-88.1164 395.0233,-89.3378 387.5578,-81.82 384.4991,-88.1164\"/>\n<text text-anchor=\"middle\" x=\"345.1822\" y=\"-81.3975\" font-family=\"Times,serif\" font-size=\"14.00\" fill=\"#000000\">&#39;&#39; </text>\n</g>\n<!-- St8 -->\n<g id=\"node30\" class=\"node\">\n<title>St8</title>\n<ellipse fill=\"none\" stroke=\"#000000\" cx=\"636.767\" cy=\"-274.5975\" rx=\"23.2963\" ry=\"23.2963\"/>\n<text text-anchor=\"middle\" x=\"636.767\" y=\"-270.8975\" font-family=\"Times,serif\" font-size=\"14.00\" fill=\"#000000\">St8</text>\n</g>\n<!-- St7&#45;&gt;St8 -->\n<g id=\"edge17\" class=\"edge\">\n<title>St7&#45;&gt;St8</title>\n<path fill=\"none\" stroke=\"#000000\" d=\"M553.8812,-247.0201C568.6649,-251.9388 588.2912,-258.4688 604.7347,-263.9398\"/>\n<polygon fill=\"#000000\" stroke=\"#000000\" points=\"603.8965,-267.3495 614.49,-267.1856 606.1064,-260.7075 603.8965,-267.3495\"/>\n<text text-anchor=\"middle\" x=\"584.1696\" y=\"-261.3975\" font-family=\"Times,serif\" font-size=\"14.00\" fill=\"#000000\">s </text>\n</g>\n<!-- St24&#45;&gt;St25 -->\n<g id=\"edge37\" class=\"edge\">\n<title>St24&#45;&gt;St25</title>\n<path fill=\"none\" stroke=\"#000000\" d=\"M148.2386,-178.5975C171.6833,-178.5975 205.0821,-178.5975 230.9701,-178.5975\"/>\n<polygon fill=\"#000000\" stroke=\"#000000\" points=\"231.1971,-182.0976 241.197,-178.5975 231.197,-175.0976 231.1971,-182.0976\"/>\n<text text-anchor=\"middle\" x=\"194.7924\" y=\"-182.3975\" font-family=\"Times,serif\" font-size=\"14.00\" fill=\"#000000\">f </text>\n</g>\n<!-- St5&#45;&gt;St6 -->\n<g id=\"edge14\" class=\"edge\">\n<title>St5&#45;&gt;St6</title>\n<path fill=\"none\" stroke=\"#000000\" d=\"M143.0959,-248.5975C168.002,-248.5975 207.5737,-248.5975 235.9041,-248.5975\"/>\n<polygon fill=\"#000000\" stroke=\"#000000\" points=\"236.1576,-252.0976 246.1576,-248.5975 236.1576,-245.0976 236.1576,-252.0976\"/>\n<text text-anchor=\"middle\" x=\"194.7924\" y=\"-252.3975\" font-family=\"Times,serif\" font-size=\"14.00\" fill=\"#000000\">f </text>\n</g>\n<!-- St3&#45;&gt;St4 -->\n<g id=\"edge13\" class=\"edge\">\n<title>St3&#45;&gt;St4</title>\n<path fill=\"none\" stroke=\"#000000\" d=\"M143.2775,-376.1696C150.6147,-375.5237 158.7317,-374.9172 166.1949,-374.5975 191.5916,-373.5094 197.9932,-373.5094 223.3899,-374.5975 227.4713,-374.7723 231.7483,-375.0329 235.9863,-375.3389\"/>\n<polygon fill=\"#000000\" stroke=\"#000000\" points=\"236.0587,-378.8559 246.3073,-376.1696 236.6203,-371.8785 236.0587,-378.8559\"/>\n<text text-anchor=\"middle\" x=\"194.7924\" y=\"-378.3975\" font-family=\"Times,serif\" font-size=\"14.00\" fill=\"#000000\">f </text>\n</g>\n<!-- St1&#45;&gt;St2 -->\n<g id=\"edge12\" class=\"edge\">\n<title>St1&#45;&gt;St2</title>\n<path fill=\"none\" stroke=\"#000000\" d=\"M143.0959,-313.5975C168.002,-313.5975 207.5737,-313.5975 235.9041,-313.5975\"/>\n<polygon fill=\"#000000\" stroke=\"#000000\" points=\"236.1576,-317.0976 246.1576,-313.5975 236.1576,-310.0976 236.1576,-317.0976\"/>\n<text text-anchor=\"middle\" x=\"194.7924\" y=\"-317.3975\" font-family=\"Times,serif\" font-size=\"14.00\" fill=\"#000000\">d </text>\n</g>\n<!-- St36&#45;&gt;St37 -->\n<g id=\"edge49\" class=\"edge\">\n<title>St36&#45;&gt;St37</title>\n<path fill=\"none\" stroke=\"#000000\" d=\"M609.9074,-594.4338C595.409,-589.4861 577.0664,-584.0795 560.1696,-581.5975 535.0195,-577.903 528.1583,-578.1394 502.9746,-581.5975 490.4719,-583.3143 477.1556,-586.4993 465.105,-589.9231\"/>\n<polygon fill=\"#000000\" stroke=\"#000000\" points=\"463.915,-586.6254 455.3259,-592.8284 465.9086,-593.3355 463.915,-586.6254\"/>\n<text text-anchor=\"middle\" x=\"531.5721\" y=\"-585.3975\" font-family=\"Times,serif\" font-size=\"14.00\" fill=\"#000000\">&#39;&#39; </text>\n</g>\n<!-- St8&#45;&gt;St9 -->\n<g id=\"edge18\" class=\"edge\">\n<title>St8&#45;&gt;St9</title>\n<path fill=\"none\" stroke=\"#000000\" d=\"M613.4443,-277.6722C575.77,-282.6389 501.3703,-292.4472 457.9805,-298.1674\"/>\n<polygon fill=\"#000000\" stroke=\"#000000\" points=\"457.3748,-294.7169 447.9181,-299.494 458.2898,-301.6569 457.3748,-294.7169\"/>\n<text text-anchor=\"middle\" x=\"531.5721\" y=\"-295.3975\" font-family=\"Times,serif\" font-size=\"14.00\" fill=\"#000000\">&#39;&#39; </text>\n</g>\n<!-- St22&#45;&gt;St23 -->\n<g id=\"edge36\" class=\"edge\">\n<title>St22&#45;&gt;St23</title>\n<path fill=\"none\" stroke=\"#000000\" d=\"M148.2386,-28.5975C171.6833,-28.5975 205.0821,-28.5975 230.9701,-28.5975\"/>\n<polygon fill=\"#000000\" stroke=\"#000000\" points=\"231.1971,-32.0976 241.197,-28.5975 231.197,-25.0976 231.1971,-32.0976\"/>\n<text text-anchor=\"middle\" x=\"194.7924\" y=\"-32.3975\" font-family=\"Times,serif\" font-size=\"14.00\" fill=\"#000000\">f </text>\n</g>\n<!-- St30 -->\n<g id=\"node32\" class=\"node\">\n<title>St30</title>\n<ellipse fill=\"none\" stroke=\"#000000\" cx=\"269.9873\" cy=\"-528.5975\" rx=\"28.6953\" ry=\"28.6953\"/>\n<text text-anchor=\"middle\" x=\"269.9873\" y=\"-524.8975\" font-family=\"Times,serif\" font-size=\"14.00\" fill=\"#000000\">St30</text>\n</g>\n<!-- St30&#45;&gt;St37 -->\n<g id=\"edge51\" class=\"edge\">\n<title>St30&#45;&gt;St37</title>\n<path fill=\"none\" stroke=\"#000000\" d=\"M295.8287,-541.1508C320.4311,-553.1022 357.7697,-571.2407 385.8769,-584.8947\"/>\n<polygon fill=\"#000000\" stroke=\"#000000\" points=\"384.4991,-588.1164 395.0233,-589.3378 387.5578,-581.82 384.4991,-588.1164\"/>\n<text text-anchor=\"middle\" x=\"345.1822\" y=\"-580.3975\" font-family=\"Times,serif\" font-size=\"14.00\" fill=\"#000000\">&#39;&#39; </text>\n</g>\n<!-- St29&#45;&gt;St30 -->\n<g id=\"edge44\" class=\"edge\">\n<title>St29&#45;&gt;St30</title>\n<path fill=\"none\" stroke=\"#000000\" d=\"M148.2386,-528.5975C171.6833,-528.5975 205.0821,-528.5975 230.9701,-528.5975\"/>\n<polygon fill=\"#000000\" stroke=\"#000000\" points=\"231.1971,-532.0976 241.197,-528.5975 231.197,-525.0976 231.1971,-532.0976\"/>\n<text text-anchor=\"middle\" x=\"194.7924\" y=\"-532.3975\" font-family=\"Times,serif\" font-size=\"14.00\" fill=\"#000000\">d </text>\n</g>\n<!-- St28&#45;&gt;St26 -->\n<g id=\"edge38\" class=\"edge\">\n<title>St28&#45;&gt;St26</title>\n<path fill=\"none\" stroke=\"#000000\" d=\"M452.822,-119.7842C466.5597,-127.6017 483.1485,-137.0417 497.5509,-145.2375\"/>\n<polygon fill=\"#000000\" stroke=\"#000000\" points=\"496.2254,-148.5102 506.6478,-150.4141 499.6875,-142.4263 496.2254,-148.5102\"/>\n<text text-anchor=\"middle\" x=\"479.9746\" y=\"-141.3975\" font-family=\"Times,serif\" font-size=\"14.00\" fill=\"#000000\">&#39;&#39; </text>\n</g>\n<!-- St37&#45;&gt;St35 -->\n<g id=\"edge47\" class=\"edge\">\n<title>St37&#45;&gt;St35</title>\n<path fill=\"none\" stroke=\"#000000\" d=\"M455.9594,-612.7308C467.9471,-616.1976 481.7132,-620.1786 494.1863,-623.7857\"/>\n<polygon fill=\"#000000\" stroke=\"#000000\" points=\"493.2748,-627.1655 503.8535,-626.5814 495.2195,-620.441 493.2748,-627.1655\"/>\n<text text-anchor=\"middle\" x=\"479.9746\" y=\"-624.3975\" font-family=\"Times,serif\" font-size=\"14.00\" fill=\"#000000\">&#39;&#39; </text>\n</g>\n</g>\n</svg>\n"
          },
          "metadata": {
            "tags": []
          },
          "execution_count": 48
        }
      ]
    },
    {
      "cell_type": "markdown",
      "metadata": {
        "id": "rViHZD9k1Fav"
      },
      "source": [
        "\n",
        "This is an exercise in explaining how Rev_RE2 got translated to an NFA. You are to pick these cases and find an example of each, and explain below. What you pick does not matter.\n",
        "\n",
        "* Find a case where a Star is used, and explain the construction, pointing to the states involved. Use up to 6 bullets below. More or less based on how you explain (clarity not length emphasized).\n",
        "  - (d + f(s)*) is the case where Star is used.\n",
        "  - States {St29, St30, St37, St35, St36} are used.\n",
        "  - {St29} is an initial state, with one transition on {d -> St30}.\n",
        "  - {St30} has one transition of {'' -> St37}.\n",
        "  - {St37} has one transition of {'' -> St35}.\n",
        "  - {St35} has one transition of {s -> St36}.\n",
        "  - {St36} has one transition of {'' -> St37}.\n",
        "  - The path {St37, St35, St36} forms a lasso, allowing the \"s\" Star operation.\n",
        "\n",
        "* Find a case where the Star follows something (I.e. a concatenation of the form \"X\" followed by \"Star\" is used). Show how that concatenation construction is accomplished in the same manner (up to 6 bullets roughly) as above. More or less based on how you explain.\n",
        "  - (d + f(s)*) is the case where Star is used.\n",
        "  - States {St28, St26, St27, St20, St21} are used.\n",
        "  - {St20} is an initial state, with one transition on {d -> St21}.\n",
        "  - {St21} has one transition of {'' -> St28}.\n",
        "  - {St28} has one transition of {'' -> St26}.\n",
        "  - {St26} has one transition of {s -> St27}.\n",
        "  - {St27} has one transition of {'' -> St28}.\n",
        "  - The path {St28, St26, St27} forms a lasso, allowing the \"s\" Star operation.\n",
        "  \n",
        "* Find a case where something follows Star (I.e. a concatenation of the form \"Star\" followed by \"X\"). Explain how the concatenation is accomplished.\n",
        "  - ((d ((s)* b)) a) is the case where something follows the Star operation.\n",
        "  - States {St1, St2, St9, St7, St8, St10} are used.\n",
        "  - {St1} is an initial state, with one transition on {d -> St2}.\n",
        "  - {St2} has one transition of {'' -> St9}.\n",
        "  - {St9} has two transitions of {'' -> St7, '' -> St10}.\n",
        "  - {St7} has one transition of {s -> St8}.\n",
        "  - {St8} has one transition of {'' -> St9}.\n",
        "  - The path {St9, St8, St7} forms a lasso, allowing part the \"s\" Star operation.\n",
        "  - The transition from {St9 -> St10} allows completion of the \"s\" Star operation by allowing strings with no \"s\" symbols to be accepted."
      ]
    },
    {
      "cell_type": "code",
      "metadata": {
        "colab": {
          "base_uri": "https://localhost:8080/",
          "height": 1000
        },
        "id": "ejZsCz9Buyzf",
        "outputId": "772857d1-a394-4289-af3b-38e84eab1f92"
      },
      "source": [
        "dotObj_nfa(re2nfa(Rev_RE1_hand))"
      ],
      "execution_count": null,
      "outputs": [
        {
          "output_type": "stream",
          "text": [
            "Generating LALR tables\n"
          ],
          "name": "stderr"
        },
        {
          "output_type": "execute_result",
          "data": {
            "text/plain": [
              "<graphviz.dot.Digraph at 0x7f71f26d40b8>"
            ],
            "image/svg+xml": "<?xml version=\"1.0\" encoding=\"UTF-8\" standalone=\"no\"?>\n<!DOCTYPE svg PUBLIC \"-//W3C//DTD SVG 1.1//EN\"\n \"http://www.w3.org/Graphics/SVG/1.1/DTD/svg11.dtd\">\n<!-- Generated by graphviz version 2.40.1 (20161225.0304)\n -->\n<!-- Title: %3 Pages: 1 -->\n<svg width=\"809pt\" height=\"774pt\"\n viewBox=\"0.00 0.00 809.36 773.54\" xmlns=\"http://www.w3.org/2000/svg\" xmlns:xlink=\"http://www.w3.org/1999/xlink\">\n<g id=\"graph0\" class=\"graph\" transform=\"scale(1 1) rotate(0) translate(4 769.545)\">\n<title>%3</title>\n<polygon fill=\"#ffffff\" stroke=\"transparent\" points=\"-4,4 -4,-769.545 805.3645,-769.545 805.3645,4 -4,4\"/>\n<!-- EMPTY -->\n<g id=\"node1\" class=\"node\">\n<title>EMPTY</title>\n</g>\n<!-- St15 -->\n<g id=\"node2\" class=\"node\">\n<title>St15</title>\n<ellipse fill=\"none\" stroke=\"#000000\" cx=\"119.5975\" cy=\"-672.9475\" rx=\"28.6953\" ry=\"28.6953\"/>\n<text text-anchor=\"middle\" x=\"119.5975\" y=\"-669.2475\" font-family=\"Times,serif\" font-size=\"14.00\" fill=\"#000000\">St15</text>\n</g>\n<!-- EMPTY&#45;&gt;St15 -->\n<g id=\"edge1\" class=\"edge\">\n<title>EMPTY&#45;&gt;St15</title>\n<path fill=\"none\" stroke=\"#000000\" d=\"M39.9795,-561.2287C52.8996,-579.4194 73.3018,-608.1262 91,-632.9475 92.9329,-635.6583 94.9405,-638.4715 96.9553,-641.293\"/>\n<polygon fill=\"#000000\" stroke=\"#000000\" points=\"94.2922,-643.5862 102.9534,-649.6881 99.9878,-639.5168 94.2922,-643.5862\"/>\n</g>\n<!-- St13 -->\n<g id=\"node4\" class=\"node\">\n<title>St13</title>\n<ellipse fill=\"none\" stroke=\"#000000\" cx=\"119.5975\" cy=\"-594.9475\" rx=\"28.6953\" ry=\"28.6953\"/>\n<text text-anchor=\"middle\" x=\"119.5975\" y=\"-591.2475\" font-family=\"Times,serif\" font-size=\"14.00\" fill=\"#000000\">St13</text>\n</g>\n<!-- EMPTY&#45;&gt;St13 -->\n<g id=\"edge3\" class=\"edge\">\n<title>EMPTY&#45;&gt;St13</title>\n<path fill=\"none\" stroke=\"#000000\" d=\"M54.2815,-558.268C64.1016,-563.7827 75.3033,-570.0732 85.6237,-575.8689\"/>\n<polygon fill=\"#000000\" stroke=\"#000000\" points=\"83.9765,-578.9579 94.4095,-580.8027 87.404,-572.8545 83.9765,-578.9579\"/>\n</g>\n<!-- St19 -->\n<g id=\"node8\" class=\"node\">\n<title>St19</title>\n<ellipse fill=\"none\" stroke=\"#000000\" cx=\"119.5975\" cy=\"-517.9475\" rx=\"28.6953\" ry=\"28.6953\"/>\n<text text-anchor=\"middle\" x=\"119.5975\" y=\"-514.2475\" font-family=\"Times,serif\" font-size=\"14.00\" fill=\"#000000\">St19</text>\n</g>\n<!-- EMPTY&#45;&gt;St19 -->\n<g id=\"edge2\" class=\"edge\">\n<title>EMPTY&#45;&gt;St19</title>\n<path fill=\"none\" stroke=\"#000000\" d=\"M54.2815,-535.5819C62.9788,-533.2338 72.7598,-530.593 82.0525,-528.0841\"/>\n<polygon fill=\"#000000\" stroke=\"#000000\" points=\"83.128,-531.4191 91.8701,-525.4335 81.3034,-524.6611 83.128,-531.4191\"/>\n</g>\n<!-- St1 -->\n<g id=\"node19\" class=\"node\">\n<title>St1</title>\n<ellipse fill=\"none\" stroke=\"#000000\" cx=\"119.5975\" cy=\"-433.9475\" rx=\"23.2963\" ry=\"23.2963\"/>\n<text text-anchor=\"middle\" x=\"119.5975\" y=\"-430.2475\" font-family=\"Times,serif\" font-size=\"14.00\" fill=\"#000000\">St1</text>\n</g>\n<!-- EMPTY&#45;&gt;St1 -->\n<g id=\"edge4\" class=\"edge\">\n<title>EMPTY&#45;&gt;St1</title>\n<path fill=\"none\" stroke=\"#000000\" d=\"M42.7079,-524.4572C57.8549,-506.627 80.9087,-479.4895 97.8233,-459.5787\"/>\n<polygon fill=\"#000000\" stroke=\"#000000\" points=\"100.6214,-461.6909 104.4284,-451.8036 95.2865,-457.1588 100.6214,-461.6909\"/>\n</g>\n<!-- St16 -->\n<g id=\"node11\" class=\"node\">\n<title>St16</title>\n<ellipse fill=\"none\" stroke=\"#000000\" cx=\"228.7924\" cy=\"-688.9475\" rx=\"28.6953\" ry=\"28.6953\"/>\n<text text-anchor=\"middle\" x=\"228.7924\" y=\"-685.2475\" font-family=\"Times,serif\" font-size=\"14.00\" fill=\"#000000\">St16</text>\n</g>\n<!-- St15&#45;&gt;St16 -->\n<g id=\"edge18\" class=\"edge\">\n<title>St15&#45;&gt;St16</title>\n<path fill=\"none\" stroke=\"#000000\" d=\"M148.0021,-677.1096C160.7924,-678.9837 176.0961,-681.2261 189.9271,-683.2527\"/>\n<polygon fill=\"#000000\" stroke=\"#000000\" points=\"189.7488,-686.7639 200.1506,-684.7507 190.7638,-679.8378 189.7488,-686.7639\"/>\n<text text-anchor=\"middle\" x=\"172.1949\" y=\"-684.7475\" font-family=\"Times,serif\" font-size=\"14.00\" fill=\"#000000\">c </text>\n</g>\n<!-- St17 -->\n<g id=\"node3\" class=\"node\">\n<title>St17</title>\n<ellipse fill=\"none\" stroke=\"#000000\" cx=\"334.9873\" cy=\"-724.9475\" rx=\"28.6953\" ry=\"28.6953\"/>\n<text text-anchor=\"middle\" x=\"334.9873\" y=\"-721.2475\" font-family=\"Times,serif\" font-size=\"14.00\" fill=\"#000000\">St17</text>\n</g>\n<!-- St18 -->\n<g id=\"node31\" class=\"node\">\n<title>St18</title>\n<ellipse fill=\"none\" stroke=\"#000000\" cx=\"442.1822\" cy=\"-732.9475\" rx=\"28.6832\" ry=\"28.6832\"/>\n<ellipse fill=\"none\" stroke=\"#000000\" cx=\"442.1822\" cy=\"-732.9475\" rx=\"32.6952\" ry=\"32.6952\"/>\n<text text-anchor=\"middle\" x=\"442.1822\" y=\"-729.2475\" font-family=\"Times,serif\" font-size=\"14.00\" fill=\"#000000\">St18</text>\n</g>\n<!-- St17&#45;&gt;St18 -->\n<g id=\"edge19\" class=\"edge\">\n<title>St17&#45;&gt;St18</title>\n<path fill=\"none\" stroke=\"#000000\" d=\"M363.7136,-727.0914C374.6498,-727.9075 387.3611,-728.8562 399.3274,-729.7492\"/>\n<polygon fill=\"#000000\" stroke=\"#000000\" points=\"399.3554,-733.261 409.5882,-730.515 399.8764,-726.2804 399.3554,-733.261\"/>\n<text text-anchor=\"middle\" x=\"386.5848\" y=\"-732.7475\" font-family=\"Times,serif\" font-size=\"14.00\" fill=\"#000000\">a </text>\n</g>\n<!-- St14 -->\n<g id=\"node30\" class=\"node\">\n<title>St14</title>\n<ellipse fill=\"none\" stroke=\"#000000\" cx=\"228.7924\" cy=\"-595.9475\" rx=\"28.6832\" ry=\"28.6832\"/>\n<ellipse fill=\"none\" stroke=\"#000000\" cx=\"228.7924\" cy=\"-595.9475\" rx=\"32.6952\" ry=\"32.6952\"/>\n<text text-anchor=\"middle\" x=\"228.7924\" y=\"-592.2475\" font-family=\"Times,serif\" font-size=\"14.00\" fill=\"#000000\">St14</text>\n</g>\n<!-- St13&#45;&gt;St14 -->\n<g id=\"edge17\" class=\"edge\">\n<title>St13&#45;&gt;St14</title>\n<path fill=\"none\" stroke=\"#000000\" d=\"M148.2871,-595.2103C159.7401,-595.3151 173.1731,-595.4382 185.7489,-595.5533\"/>\n<polygon fill=\"#000000\" stroke=\"#000000\" points=\"186.0171,-599.0558 196.0488,-595.6477 186.0813,-592.0561 186.0171,-599.0558\"/>\n<text text-anchor=\"middle\" x=\"172.1949\" y=\"-598.7475\" font-family=\"Times,serif\" font-size=\"14.00\" fill=\"#000000\">c </text>\n</g>\n<!-- St4 -->\n<g id=\"node5\" class=\"node\">\n<title>St4</title>\n<ellipse fill=\"none\" stroke=\"#000000\" cx=\"555.3772\" cy=\"-196.9475\" rx=\"23.2963\" ry=\"23.2963\"/>\n<text text-anchor=\"middle\" x=\"555.3772\" y=\"-193.2475\" font-family=\"Times,serif\" font-size=\"14.00\" fill=\"#000000\">St4</text>\n</g>\n<!-- St5 -->\n<g id=\"node18\" class=\"node\">\n<title>St5</title>\n<ellipse fill=\"none\" stroke=\"#000000\" cx=\"334.9873\" cy=\"-208.9475\" rx=\"23.2963\" ry=\"23.2963\"/>\n<text text-anchor=\"middle\" x=\"334.9873\" y=\"-205.2475\" font-family=\"Times,serif\" font-size=\"14.00\" fill=\"#000000\">St5</text>\n</g>\n<!-- St4&#45;&gt;St5 -->\n<g id=\"edge11\" class=\"edge\">\n<title>St4&#45;&gt;St5</title>\n<path fill=\"none\" stroke=\"#000000\" d=\"M531.7992,-198.8982C499.9914,-201.4456 441.5578,-205.8293 391.5848,-207.9475 384.0919,-208.2651 376.0369,-208.4822 368.4207,-208.6305\"/>\n<polygon fill=\"#000000\" stroke=\"#000000\" points=\"368.343,-205.1312 358.4011,-208.7931 368.4566,-212.1303 368.343,-205.1312\"/>\n<text text-anchor=\"middle\" x=\"442.1822\" y=\"-210.7475\" font-family=\"Times,serif\" font-size=\"14.00\" fill=\"#000000\">&#39;&#39; </text>\n</g>\n<!-- St9 -->\n<g id=\"node6\" class=\"node\">\n<title>St9</title>\n<ellipse fill=\"none\" stroke=\"#000000\" cx=\"555.3772\" cy=\"-31.9475\" rx=\"23.2963\" ry=\"23.2963\"/>\n<text text-anchor=\"middle\" x=\"555.3772\" y=\"-28.2475\" font-family=\"Times,serif\" font-size=\"14.00\" fill=\"#000000\">St9</text>\n</g>\n<!-- St10 -->\n<g id=\"node7\" class=\"node\">\n<title>St10</title>\n<ellipse fill=\"none\" stroke=\"#000000\" cx=\"661.5721\" cy=\"-31.9475\" rx=\"28.6953\" ry=\"28.6953\"/>\n<text text-anchor=\"middle\" x=\"661.5721\" y=\"-28.2475\" font-family=\"Times,serif\" font-size=\"14.00\" fill=\"#000000\">St10</text>\n</g>\n<!-- St9&#45;&gt;St10 -->\n<g id=\"edge15\" class=\"edge\">\n<title>St9&#45;&gt;St10</title>\n<path fill=\"none\" stroke=\"#000000\" d=\"M578.9453,-31.9475C591.7296,-31.9475 607.8628,-31.9475 622.4731,-31.9475\"/>\n<polygon fill=\"#000000\" stroke=\"#000000\" points=\"622.773,-35.4476 632.7729,-31.9475 622.7729,-28.4476 622.773,-35.4476\"/>\n<text text-anchor=\"middle\" x=\"610.4746\" y=\"-35.7475\" font-family=\"Times,serif\" font-size=\"14.00\" fill=\"#000000\">&#39;&#39; </text>\n</g>\n<!-- St11 -->\n<g id=\"node25\" class=\"node\">\n<title>St11</title>\n<ellipse fill=\"none\" stroke=\"#000000\" cx=\"768.767\" cy=\"-31.9475\" rx=\"27.9017\" ry=\"27.9017\"/>\n<ellipse fill=\"none\" stroke=\"#000000\" cx=\"768.767\" cy=\"-31.9475\" rx=\"31.8951\" ry=\"31.8951\"/>\n<text text-anchor=\"middle\" x=\"768.767\" y=\"-28.2475\" font-family=\"Times,serif\" font-size=\"14.00\" fill=\"#000000\">St11</text>\n</g>\n<!-- St10&#45;&gt;St11 -->\n<g id=\"edge14\" class=\"edge\">\n<title>St10&#45;&gt;St11</title>\n<path fill=\"none\" stroke=\"#000000\" d=\"M690.2984,-31.9475C701.3305,-31.9475 714.169,-31.9475 726.2269,-31.9475\"/>\n<polygon fill=\"#000000\" stroke=\"#000000\" points=\"726.5574,-35.4476 736.5573,-31.9475 726.5573,-28.4476 726.5574,-35.4476\"/>\n<text text-anchor=\"middle\" x=\"713.1696\" y=\"-35.7475\" font-family=\"Times,serif\" font-size=\"14.00\" fill=\"#000000\">a </text>\n</g>\n<!-- St20 -->\n<g id=\"node9\" class=\"node\">\n<title>St20</title>\n<ellipse fill=\"none\" stroke=\"#000000\" cx=\"228.7924\" cy=\"-516.9475\" rx=\"28.6953\" ry=\"28.6953\"/>\n<text text-anchor=\"middle\" x=\"228.7924\" y=\"-513.2475\" font-family=\"Times,serif\" font-size=\"14.00\" fill=\"#000000\">St20</text>\n</g>\n<!-- St19&#45;&gt;St20 -->\n<g id=\"edge21\" class=\"edge\">\n<title>St19&#45;&gt;St20</title>\n<path fill=\"none\" stroke=\"#000000\" d=\"M148.2871,-517.6848C160.9762,-517.5686 176.0958,-517.4301 189.7874,-517.3047\"/>\n<polygon fill=\"#000000\" stroke=\"#000000\" points=\"189.9477,-520.8035 199.9152,-517.212 189.8835,-513.8038 189.9477,-520.8035\"/>\n<text text-anchor=\"middle\" x=\"172.1949\" y=\"-520.7475\" font-family=\"Times,serif\" font-size=\"14.00\" fill=\"#000000\">d </text>\n</g>\n<!-- St23 -->\n<g id=\"node16\" class=\"node\">\n<title>St23</title>\n<ellipse fill=\"none\" stroke=\"#000000\" cx=\"334.9873\" cy=\"-516.9475\" rx=\"28.6953\" ry=\"28.6953\"/>\n<text text-anchor=\"middle\" x=\"334.9873\" y=\"-513.2475\" font-family=\"Times,serif\" font-size=\"14.00\" fill=\"#000000\">St23</text>\n</g>\n<!-- St20&#45;&gt;St23 -->\n<g id=\"edge32\" class=\"edge\">\n<title>St20&#45;&gt;St23</title>\n<path fill=\"none\" stroke=\"#000000\" d=\"M257.5303,-516.9475C269.3356,-516.9475 283.1919,-516.9475 295.8962,-516.9475\"/>\n<polygon fill=\"#000000\" stroke=\"#000000\" points=\"296.2265,-520.4476 306.2265,-516.9475 296.2264,-513.4476 296.2265,-520.4476\"/>\n<text text-anchor=\"middle\" x=\"283.8899\" y=\"-520.7475\" font-family=\"Times,serif\" font-size=\"14.00\" fill=\"#000000\">&#39;&#39; </text>\n</g>\n<!-- St26 -->\n<g id=\"node10\" class=\"node\">\n<title>St26</title>\n<ellipse fill=\"none\" stroke=\"#000000\" cx=\"442.1822\" cy=\"-653.9475\" rx=\"28.6953\" ry=\"28.6953\"/>\n<text text-anchor=\"middle\" x=\"442.1822\" y=\"-650.2475\" font-family=\"Times,serif\" font-size=\"14.00\" fill=\"#000000\">St26</text>\n</g>\n<!-- St27 -->\n<g id=\"node12\" class=\"node\">\n<title>St27</title>\n<ellipse fill=\"none\" stroke=\"#000000\" cx=\"555.3772\" cy=\"-653.9475\" rx=\"28.6953\" ry=\"28.6953\"/>\n<text text-anchor=\"middle\" x=\"555.3772\" y=\"-650.2475\" font-family=\"Times,serif\" font-size=\"14.00\" fill=\"#000000\">St27</text>\n</g>\n<!-- St26&#45;&gt;St27 -->\n<g id=\"edge29\" class=\"edge\">\n<title>St26&#45;&gt;St27</title>\n<path fill=\"none\" stroke=\"#000000\" d=\"M471.039,-653.9475C484.7431,-653.9475 501.3301,-653.9475 516.1556,-653.9475\"/>\n<polygon fill=\"#000000\" stroke=\"#000000\" points=\"516.5731,-657.4476 526.5731,-653.9475 516.5731,-650.4476 516.5731,-657.4476\"/>\n<text text-anchor=\"middle\" x=\"498.7797\" y=\"-657.7475\" font-family=\"Times,serif\" font-size=\"14.00\" fill=\"#000000\">b </text>\n</g>\n<!-- St16&#45;&gt;St17 -->\n<g id=\"edge20\" class=\"edge\">\n<title>St16&#45;&gt;St17</title>\n<path fill=\"none\" stroke=\"#000000\" d=\"M256.1402,-698.2184C268.8988,-702.5436 284.2745,-707.7559 298.0472,-712.4248\"/>\n<polygon fill=\"#000000\" stroke=\"#000000\" points=\"297.1378,-715.8122 307.7322,-715.708 299.3852,-709.1827 297.1378,-715.8122\"/>\n<text text-anchor=\"middle\" x=\"283.8899\" y=\"-712.7475\" font-family=\"Times,serif\" font-size=\"14.00\" fill=\"#000000\">&#39;&#39; </text>\n</g>\n<!-- St28 -->\n<g id=\"node21\" class=\"node\">\n<title>St28</title>\n<ellipse fill=\"none\" stroke=\"#000000\" cx=\"661.5721\" cy=\"-653.9475\" rx=\"28.6953\" ry=\"28.6953\"/>\n<text text-anchor=\"middle\" x=\"661.5721\" y=\"-650.2475\" font-family=\"Times,serif\" font-size=\"14.00\" fill=\"#000000\">St28</text>\n</g>\n<!-- St27&#45;&gt;St28 -->\n<g id=\"edge31\" class=\"edge\">\n<title>St27&#45;&gt;St28</title>\n<path fill=\"none\" stroke=\"#000000\" d=\"M584.115,-653.9475C595.9203,-653.9475 609.7767,-653.9475 622.481,-653.9475\"/>\n<polygon fill=\"#000000\" stroke=\"#000000\" points=\"622.8113,-657.4476 632.8112,-653.9475 622.8112,-650.4476 622.8113,-657.4476\"/>\n<text text-anchor=\"middle\" x=\"610.4746\" y=\"-657.7475\" font-family=\"Times,serif\" font-size=\"14.00\" fill=\"#000000\">&#39;&#39; </text>\n</g>\n<!-- St2 -->\n<g id=\"node13\" class=\"node\">\n<title>St2</title>\n<ellipse fill=\"none\" stroke=\"#000000\" cx=\"228.7924\" cy=\"-375.9475\" rx=\"23.2963\" ry=\"23.2963\"/>\n<text text-anchor=\"middle\" x=\"228.7924\" y=\"-372.2475\" font-family=\"Times,serif\" font-size=\"14.00\" fill=\"#000000\">St2</text>\n</g>\n<!-- St2&#45;&gt;St5 -->\n<g id=\"edge16\" class=\"edge\">\n<title>St2&#45;&gt;St5</title>\n<path fill=\"none\" stroke=\"#000000\" d=\"M241.3914,-356.1346C260.1529,-326.6305 295.523,-271.0082 317.0013,-237.232\"/>\n<polygon fill=\"#000000\" stroke=\"#000000\" points=\"319.9922,-239.0511 322.4047,-228.7346 314.0853,-235.2949 319.9922,-239.0511\"/>\n<text text-anchor=\"middle\" x=\"283.8899\" y=\"-295.7475\" font-family=\"Times,serif\" font-size=\"14.00\" fill=\"#000000\">&#39;&#39; </text>\n</g>\n<!-- St21 -->\n<g id=\"node14\" class=\"node\">\n<title>St21</title>\n<ellipse fill=\"none\" stroke=\"#000000\" cx=\"442.1822\" cy=\"-578.9475\" rx=\"28.6953\" ry=\"28.6953\"/>\n<text text-anchor=\"middle\" x=\"442.1822\" y=\"-575.2475\" font-family=\"Times,serif\" font-size=\"14.00\" fill=\"#000000\">St21</text>\n</g>\n<!-- St22 -->\n<g id=\"node23\" class=\"node\">\n<title>St22</title>\n<ellipse fill=\"none\" stroke=\"#000000\" cx=\"555.3772\" cy=\"-554.9475\" rx=\"28.6953\" ry=\"28.6953\"/>\n<text text-anchor=\"middle\" x=\"555.3772\" y=\"-551.2475\" font-family=\"Times,serif\" font-size=\"14.00\" fill=\"#000000\">St22</text>\n</g>\n<!-- St21&#45;&gt;St22 -->\n<g id=\"edge26\" class=\"edge\">\n<title>St21&#45;&gt;St22</title>\n<path fill=\"none\" stroke=\"#000000\" d=\"M470.163,-573.0149C484.4486,-569.9861 502.035,-566.2573 517.5142,-562.9754\"/>\n<polygon fill=\"#000000\" stroke=\"#000000\" points=\"518.2694,-566.3931 527.326,-560.895 516.8175,-559.5454 518.2694,-566.3931\"/>\n<text text-anchor=\"middle\" x=\"498.7797\" y=\"-570.7475\" font-family=\"Times,serif\" font-size=\"14.00\" fill=\"#000000\">s </text>\n</g>\n<!-- St6 -->\n<g id=\"node15\" class=\"node\">\n<title>St6</title>\n<ellipse fill=\"none\" stroke=\"#000000\" cx=\"442.1822\" cy=\"-99.9475\" rx=\"23.2963\" ry=\"23.2963\"/>\n<text text-anchor=\"middle\" x=\"442.1822\" y=\"-96.2475\" font-family=\"Times,serif\" font-size=\"14.00\" fill=\"#000000\">St6</text>\n</g>\n<!-- St7 -->\n<g id=\"node27\" class=\"node\">\n<title>St7</title>\n<ellipse fill=\"none\" stroke=\"#000000\" cx=\"555.3772\" cy=\"-100.9475\" rx=\"23.3111\" ry=\"23.3111\"/>\n<ellipse fill=\"none\" stroke=\"#000000\" cx=\"555.3772\" cy=\"-100.9475\" rx=\"27.2962\" ry=\"27.2962\"/>\n<text text-anchor=\"middle\" x=\"555.3772\" y=\"-97.2475\" font-family=\"Times,serif\" font-size=\"14.00\" fill=\"#000000\">St7</text>\n</g>\n<!-- St6&#45;&gt;St7 -->\n<g id=\"edge12\" class=\"edge\">\n<title>St6&#45;&gt;St7</title>\n<path fill=\"none\" stroke=\"#000000\" d=\"M465.6363,-100.1547C480.6518,-100.2874 500.4728,-100.4625 517.6669,-100.6144\"/>\n<polygon fill=\"#000000\" stroke=\"#000000\" points=\"517.9362,-104.1168 527.9668,-100.7054 517.9981,-97.1171 517.9362,-104.1168\"/>\n<text text-anchor=\"middle\" x=\"498.7797\" y=\"-104.7475\" font-family=\"Times,serif\" font-size=\"14.00\" fill=\"#000000\">b </text>\n</g>\n<!-- St23&#45;&gt;St26 -->\n<g id=\"edge25\" class=\"edge\">\n<title>St23&#45;&gt;St26</title>\n<path fill=\"none\" stroke=\"#000000\" d=\"M351.6492,-540.3911C366.4337,-560.9204 388.8431,-591.3805 409.5848,-616.9475 411.6883,-619.5404 413.9074,-622.2019 416.1581,-624.8511\"/>\n<polygon fill=\"#000000\" stroke=\"#000000\" points=\"413.7353,-627.4005 422.9209,-632.6802 419.0326,-622.8246 413.7353,-627.4005\"/>\n<text text-anchor=\"middle\" x=\"386.5848\" y=\"-595.7475\" font-family=\"Times,serif\" font-size=\"14.00\" fill=\"#000000\">&#39;&#39; </text>\n</g>\n<!-- St23&#45;&gt;St21 -->\n<g id=\"edge22\" class=\"edge\">\n<title>St23&#45;&gt;St21</title>\n<path fill=\"none\" stroke=\"#000000\" d=\"M359.8494,-531.3274C374.2224,-539.6406 392.5097,-550.2177 408.1969,-559.2909\"/>\n<polygon fill=\"#000000\" stroke=\"#000000\" points=\"406.6749,-562.4538 417.0836,-564.4308 410.1796,-556.3943 406.6749,-562.4538\"/>\n<text text-anchor=\"middle\" x=\"386.5848\" y=\"-551.7475\" font-family=\"Times,serif\" font-size=\"14.00\" fill=\"#000000\">&#39;&#39; </text>\n</g>\n<!-- St24 -->\n<g id=\"node17\" class=\"node\">\n<title>St24</title>\n<ellipse fill=\"none\" stroke=\"#000000\" cx=\"442.1822\" cy=\"-451.9475\" rx=\"28.6953\" ry=\"28.6953\"/>\n<text text-anchor=\"middle\" x=\"442.1822\" y=\"-448.2475\" font-family=\"Times,serif\" font-size=\"14.00\" fill=\"#000000\">St24</text>\n</g>\n<!-- St23&#45;&gt;St24 -->\n<g id=\"edge23\" class=\"edge\">\n<title>St23&#45;&gt;St24</title>\n<path fill=\"none\" stroke=\"#000000\" d=\"M359.5955,-501.5009C366.6754,-497.0927 374.4204,-492.3044 381.5848,-487.9475 390.2758,-482.6623 399.7118,-477.0137 408.4927,-471.795\"/>\n<polygon fill=\"#000000\" stroke=\"#000000\" points=\"410.5304,-474.6558 417.3474,-466.5454 406.9606,-468.6344 410.5304,-474.6558\"/>\n<text text-anchor=\"middle\" x=\"386.5848\" y=\"-491.7475\" font-family=\"Times,serif\" font-size=\"14.00\" fill=\"#000000\">&#39;&#39; </text>\n</g>\n<!-- St30 -->\n<g id=\"node24\" class=\"node\">\n<title>St30</title>\n<ellipse fill=\"none\" stroke=\"#000000\" cx=\"442.1822\" cy=\"-372.9475\" rx=\"28.6832\" ry=\"28.6832\"/>\n<ellipse fill=\"none\" stroke=\"#000000\" cx=\"442.1822\" cy=\"-372.9475\" rx=\"32.6952\" ry=\"32.6952\"/>\n<text text-anchor=\"middle\" x=\"442.1822\" y=\"-369.2475\" font-family=\"Times,serif\" font-size=\"14.00\" fill=\"#000000\">St30</text>\n</g>\n<!-- St23&#45;&gt;St30 -->\n<g id=\"edge24\" class=\"edge\">\n<title>St23&#45;&gt;St30</title>\n<path fill=\"none\" stroke=\"#000000\" d=\"M351.5788,-493.411C366.504,-472.3906 389.1606,-440.8551 409.5848,-413.9475 411.3888,-411.5708 413.2659,-409.1298 415.1677,-406.68\"/>\n<polygon fill=\"#000000\" stroke=\"#000000\" points=\"418.245,-408.4276 421.6586,-398.3977 412.7354,-404.1096 418.245,-408.4276\"/>\n<text text-anchor=\"middle\" x=\"386.5848\" y=\"-453.7475\" font-family=\"Times,serif\" font-size=\"14.00\" fill=\"#000000\">&#39;&#39; </text>\n</g>\n<!-- St25 -->\n<g id=\"node29\" class=\"node\">\n<title>St25</title>\n<ellipse fill=\"none\" stroke=\"#000000\" cx=\"555.3772\" cy=\"-451.9475\" rx=\"28.6832\" ry=\"28.6832\"/>\n<ellipse fill=\"none\" stroke=\"#000000\" cx=\"555.3772\" cy=\"-451.9475\" rx=\"32.6952\" ry=\"32.6952\"/>\n<text text-anchor=\"middle\" x=\"555.3772\" y=\"-448.2475\" font-family=\"Times,serif\" font-size=\"14.00\" fill=\"#000000\">St25</text>\n</g>\n<!-- St24&#45;&gt;St25 -->\n<g id=\"edge28\" class=\"edge\">\n<title>St24&#45;&gt;St25</title>\n<path fill=\"none\" stroke=\"#000000\" d=\"M471.039,-451.9475C483.5662,-451.9475 498.5022,-451.9475 512.2997,-451.9475\"/>\n<polygon fill=\"#000000\" stroke=\"#000000\" points=\"512.57,-455.4476 522.57,-451.9475 512.57,-448.4476 512.57,-455.4476\"/>\n<text text-anchor=\"middle\" x=\"498.7797\" y=\"-455.7475\" font-family=\"Times,serif\" font-size=\"14.00\" fill=\"#000000\">b </text>\n</g>\n<!-- St5&#45;&gt;St6 -->\n<g id=\"edge9\" class=\"edge\">\n<title>St5&#45;&gt;St6</title>\n<path fill=\"none\" stroke=\"#000000\" d=\"M351.5638,-192.0286C366.6707,-176.617 389.6081,-153.2353 409.5848,-132.9475 412.4275,-130.0605 415.412,-127.0337 418.3726,-124.0334\"/>\n<polygon fill=\"#000000\" stroke=\"#000000\" points=\"421.0531,-126.3002 425.5888,-116.7253 416.0721,-121.3819 421.0531,-126.3002\"/>\n<text text-anchor=\"middle\" x=\"386.5848\" y=\"-163.7475\" font-family=\"Times,serif\" font-size=\"14.00\" fill=\"#000000\">&#39;&#39; </text>\n</g>\n<!-- St3 -->\n<g id=\"node20\" class=\"node\">\n<title>St3</title>\n<ellipse fill=\"none\" stroke=\"#000000\" cx=\"442.1822\" cy=\"-164.9475\" rx=\"23.2963\" ry=\"23.2963\"/>\n<text text-anchor=\"middle\" x=\"442.1822\" y=\"-161.2475\" font-family=\"Times,serif\" font-size=\"14.00\" fill=\"#000000\">St3</text>\n</g>\n<!-- St5&#45;&gt;St3 -->\n<g id=\"edge8\" class=\"edge\">\n<title>St5&#45;&gt;St3</title>\n<path fill=\"none\" stroke=\"#000000\" d=\"M356.6798,-200.0435C372.2264,-193.6621 393.4039,-184.9694 410.7927,-177.8319\"/>\n<polygon fill=\"#000000\" stroke=\"#000000\" points=\"412.6,-180.8735 420.522,-173.8383 409.9419,-174.3978 412.6,-180.8735\"/>\n<text text-anchor=\"middle\" x=\"386.5848\" y=\"-192.7475\" font-family=\"Times,serif\" font-size=\"14.00\" fill=\"#000000\">&#39;&#39; </text>\n</g>\n<!-- St8 -->\n<g id=\"node22\" class=\"node\">\n<title>St8</title>\n<ellipse fill=\"none\" stroke=\"#000000\" cx=\"442.1822\" cy=\"-34.9475\" rx=\"23.2963\" ry=\"23.2963\"/>\n<text text-anchor=\"middle\" x=\"442.1822\" y=\"-31.2475\" font-family=\"Times,serif\" font-size=\"14.00\" fill=\"#000000\">St8</text>\n</g>\n<!-- St5&#45;&gt;St8 -->\n<g id=\"edge7\" class=\"edge\">\n<title>St5&#45;&gt;St8</title>\n<path fill=\"none\" stroke=\"#000000\" d=\"M344.0558,-187.2687C356.5841,-158.5649 380.9171,-107.0239 409.5848,-67.9475 411.9814,-64.6807 414.6951,-61.4233 417.5087,-58.2979\"/>\n<polygon fill=\"#000000\" stroke=\"#000000\" points=\"420.2211,-60.5249 424.5844,-50.8702 415.1527,-55.6966 420.2211,-60.5249\"/>\n<text text-anchor=\"middle\" x=\"386.5848\" y=\"-112.7475\" font-family=\"Times,serif\" font-size=\"14.00\" fill=\"#000000\">&#39;&#39; </text>\n</g>\n<!-- St12 -->\n<g id=\"node28\" class=\"node\">\n<title>St12</title>\n<ellipse fill=\"none\" stroke=\"#000000\" cx=\"442.1822\" cy=\"-289.9475\" rx=\"28.6832\" ry=\"28.6832\"/>\n<ellipse fill=\"none\" stroke=\"#000000\" cx=\"442.1822\" cy=\"-289.9475\" rx=\"32.6952\" ry=\"32.6952\"/>\n<text text-anchor=\"middle\" x=\"442.1822\" y=\"-286.2475\" font-family=\"Times,serif\" font-size=\"14.00\" fill=\"#000000\">St12</text>\n</g>\n<!-- St5&#45;&gt;St12 -->\n<g id=\"edge6\" class=\"edge\">\n<title>St5&#45;&gt;St12</title>\n<path fill=\"none\" stroke=\"#000000\" d=\"M353.6592,-223.0566C368.6404,-234.3769 390.0695,-250.5694 408.0913,-264.1873\"/>\n<polygon fill=\"#000000\" stroke=\"#000000\" points=\"406.008,-266.9999 416.0965,-270.2363 410.2282,-261.4151 406.008,-266.9999\"/>\n<text text-anchor=\"middle\" x=\"386.5848\" y=\"-252.7475\" font-family=\"Times,serif\" font-size=\"14.00\" fill=\"#000000\">&#39;&#39; </text>\n</g>\n<!-- St1&#45;&gt;St2 -->\n<g id=\"edge5\" class=\"edge\">\n<title>St1&#45;&gt;St2</title>\n<path fill=\"none\" stroke=\"#000000\" d=\"M140.3932,-422.9016C157.0149,-414.0729 180.5276,-401.5839 199.1255,-391.7054\"/>\n<polygon fill=\"#000000\" stroke=\"#000000\" points=\"200.8844,-394.7343 208.0741,-386.9523 197.6007,-388.5522 200.8844,-394.7343\"/>\n<text text-anchor=\"middle\" x=\"172.1949\" y=\"-411.7475\" font-family=\"Times,serif\" font-size=\"14.00\" fill=\"#000000\">f </text>\n</g>\n<!-- St3&#45;&gt;St4 -->\n<g id=\"edge10\" class=\"edge\">\n<title>St3&#45;&gt;St4</title>\n<path fill=\"none\" stroke=\"#000000\" d=\"M464.8169,-171.3463C481.4746,-176.0554 504.3609,-182.5253 522.9581,-187.7827\"/>\n<polygon fill=\"#000000\" stroke=\"#000000\" points=\"522.2067,-191.2074 532.7818,-190.5598 524.111,-184.4714 522.2067,-191.2074\"/>\n<text text-anchor=\"middle\" x=\"498.7797\" y=\"-184.7475\" font-family=\"Times,serif\" font-size=\"14.00\" fill=\"#000000\">s </text>\n</g>\n<!-- St29 -->\n<g id=\"node26\" class=\"node\">\n<title>St29</title>\n<ellipse fill=\"none\" stroke=\"#000000\" cx=\"768.767\" cy=\"-653.9475\" rx=\"28.6832\" ry=\"28.6832\"/>\n<ellipse fill=\"none\" stroke=\"#000000\" cx=\"768.767\" cy=\"-653.9475\" rx=\"32.6952\" ry=\"32.6952\"/>\n<text text-anchor=\"middle\" x=\"768.767\" y=\"-650.2475\" font-family=\"Times,serif\" font-size=\"14.00\" fill=\"#000000\">St29</text>\n</g>\n<!-- St28&#45;&gt;St29 -->\n<g id=\"edge30\" class=\"edge\">\n<title>St28&#45;&gt;St29</title>\n<path fill=\"none\" stroke=\"#000000\" d=\"M690.2984,-653.9475C701.1386,-653.9475 713.723,-653.9475 725.5971,-653.9475\"/>\n<polygon fill=\"#000000\" stroke=\"#000000\" points=\"725.7875,-657.4476 735.7874,-653.9475 725.7874,-650.4476 725.7875,-657.4476\"/>\n<text text-anchor=\"middle\" x=\"713.1696\" y=\"-657.7475\" font-family=\"Times,serif\" font-size=\"14.00\" fill=\"#000000\">a </text>\n</g>\n<!-- St8&#45;&gt;St9 -->\n<g id=\"edge13\" class=\"edge\">\n<title>St8&#45;&gt;St9</title>\n<path fill=\"none\" stroke=\"#000000\" d=\"M465.6363,-34.3259C481.8761,-33.8955 503.737,-33.3161 521.8163,-32.837\"/>\n<polygon fill=\"#000000\" stroke=\"#000000\" points=\"522.0494,-36.3321 531.9531,-32.5683 521.8639,-29.3346 522.0494,-36.3321\"/>\n<text text-anchor=\"middle\" x=\"498.7797\" y=\"-37.7475\" font-family=\"Times,serif\" font-size=\"14.00\" fill=\"#000000\">b </text>\n</g>\n<!-- St22&#45;&gt;St23 -->\n<g id=\"edge27\" class=\"edge\">\n<title>St22&#45;&gt;St23</title>\n<path fill=\"none\" stroke=\"#000000\" d=\"M529.056,-543.3514C513.5658,-537.0694 493.4164,-529.8194 474.7797,-525.9475 441.2085,-518.9729 402.2147,-516.9509 373.9535,-516.5417\"/>\n<polygon fill=\"#000000\" stroke=\"#000000\" points=\"373.7099,-513.0397 363.6813,-516.4569 373.652,-520.0395 373.7099,-513.0397\"/>\n<text text-anchor=\"middle\" x=\"442.1822\" y=\"-529.7475\" font-family=\"Times,serif\" font-size=\"14.00\" fill=\"#000000\">&#39;&#39; </text>\n</g>\n</g>\n</svg>\n"
          },
          "metadata": {
            "tags": []
          },
          "execution_count": 49
        }
      ]
    },
    {
      "cell_type": "markdown",
      "metadata": {
        "id": "fmY0Ky9A1Faw"
      },
      "source": [
        "## Repeat finding out the aforesaid paths in your own Rev_RE1_hand"
      ]
    },
    {
      "cell_type": "markdown",
      "metadata": {
        "id": "cmAoBNG81Faw"
      },
      "source": [
        "\n",
        "This is an exercise in explaining how Rev_RE1_hand got translated to an NFA. You are to pick these cases and find an example of each, and explain below. What you pick does not matter.\n",
        "\n",
        "* Find a case where a Star is used, and explain the construction, pointing to the states involved. Use up to 6 bullets below. More or less based on how you explain (clarity not length emphasized).\n",
        "  - The case (d ((s*) (b + (b a) + '')) is considered.\n",
        "  - The states involved are: {St19, St20, St23, St21, St22}\n",
        "  - {St19} is an initial state, with one transition on {d -> St20}.\n",
        "  - {St20} has one transition of {'' -> St23}.\n",
        "  - {St23} has one transition of {'' -> St21}.\n",
        "  - {St21} has one transition of {s -> St22}.\n",
        "  - {St22} has one transition of {'' -> St23}.\n",
        "  - The path {St23, St22, St21} forms a lasso, allowing the \"s\" Star operation.\n",
        "\n",
        "* Find a case where the Star follows something (I.e. a concatenation of the form \"X\" followed by \"Star\" is used). If such a case does not arise in your RE, skip this part. Show how that concatenation construction is accomplished in the same manner (up to 6 bullets roughly) as above. More or less based on how you explain. \n",
        "  - The case (d ((s*) (b + (b a) + '')) is considered.\n",
        "  - The states involved are: {St19, St20, St23, St21, St22}\n",
        "  - {St19} is an initial state, with one transition on {d -> St20}.\n",
        "  - {St20} has one transition of {'' -> St23}.\n",
        "  - {St23} has one transition of {'' -> St21}.\n",
        "  - {St21} has one transition of {s -> St22}.\n",
        "  - {St22} has one transition of {'' -> St23}.\n",
        "  - The path {St23, St22, St21} forms a lasso, allowing the \"s\" Star operation.\n",
        "  \n",
        "* Find a case where something follows Star (I.e. a concatenation of the form \"Star\" followed by \"X\"). If such a case does not arise in your RE, skip this part. Explain how the concatenation is accomplished.\n",
        "  - The case (f (((s*) (( b + (b a) ) + '')) )) is considered.\n",
        "  - States {St1, St2, St5, St3, St4, St12, St8, St6} are used.\n",
        "  - {St1} is an initial state, with one transition on {f -> St2}.\n",
        "  - {St2} has one transition of {'' -> St5}.\n",
        "  - {St5} has two transitions of {'' -> St3, '' -> St12, '' -> St6, '' -> St8}.\n",
        "  - {St3} has one transition of {s -> St4}.\n",
        "  - {St4} has one transition of {'' -> St5}.\n",
        "  - The path {St3, St4, St5} forms a lasso, allowing part the \"s\" Star operation.\n",
        "  - The transitions of {St5} to states {St3, St6, St8, St12} on {''} allows completion of the \"s\" Star operation by allowing strings with no \"s\" symbols to be accepted."
      ]
    },
    {
      "cell_type": "markdown",
      "metadata": {
        "id": "V9nRzOHS1Fax"
      },
      "source": [
        "# END\n"
      ]
    }
  ]
}
>>>>>>> 38b29d91fe5e12384bf0c07ae9d98494c5102ed3
