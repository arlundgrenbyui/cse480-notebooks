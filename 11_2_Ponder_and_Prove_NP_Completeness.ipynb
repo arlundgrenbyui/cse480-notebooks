{
  "nbformat": 4,
  "nbformat_minor": 0,
  "metadata": {
    "colab": {
      "name": "11_2_Ponder_and_Prove_NP_Completeness.ipynb",
      "provenance": [],
      "collapsed_sections": [],
      "include_colab_link": true
    },
    "kernelspec": {
      "name": "python3",
      "display_name": "Python 3"
    }
  },
  "cells": [
    {
      "cell_type": "markdown",
      "metadata": {
        "id": "view-in-github",
        "colab_type": "text"
      },
      "source": [
        "<a href=\"https://colab.research.google.com/github/arlundgrenbyui/cse480-notebooks/blob/master/11_2_Ponder_and_Prove_NP_Completeness.ipynb\" target=\"_parent\"><img src=\"https://colab.research.google.com/assets/colab-badge.svg\" alt=\"Open In Colab\"/></a>"
      ]
    },
    {
      "cell_type": "markdown",
      "metadata": {
        "id": "G0Ig-dqAHa5l"
      },
      "source": [
        "# Ponder and Prove NP-Completeness\n",
        "## Due: Saturday, 20 March 2021, 11:59 pm"
      ]
    },
    {
      "cell_type": "markdown",
      "metadata": {
        "id": "-ZTHg3i2Hg4j"
      },
      "source": [
        "## TODO Watch and Learn"
      ]
    },
    {
      "cell_type": "markdown",
      "metadata": {
        "id": "eA7uftrYb4Ln"
      },
      "source": [
        "Watch each of the following videos:\n",
        "\n",
        "* [P vs. NP - The Biggest Unsolved Problem in Computer Science](https://www.youtube.com/watch?v=EHp4FPyajKQ)\n",
        "  * It's very interesting (and scary) that encryption would be compromised if NPC was proved to be P\n",
        "  * Although I had already looked into this before, the tic-tac-toe example reminded me of how solving a rubik's cube optimally is NPC. It helps me to easily visualize mapping reductions.\n",
        "* [What is complexity theory? (P vs. NP explained visually)](https://www.youtube.com/watch?v=u2DLlNQiPB4)\n",
        "  * Why is it that we are so worried about NP when hardware is increasing in its ability to compute? Is it possible that by using the principles of parallelism and concurrency we could solve NP problems in P time (the same number of steps, obviously, but with more space to divide and conquer.)? Couldn't it be possible that we could obtain enough space and speed that the non-deterministic aspect of NP became trivial?\n",
        "* [P vs. NP and the Computational Complexity Zoo](https://www.youtube.com/watch?v=YX40hbAHx3s&t=3s)\n",
        "  * The fact that the P vs. NP question is NP is both humorous and depressing!\n",
        "  * Now that I've seen this video, it makes sense to me that space and time questions have many more classes than what we generally talk about. It would make sense that the questions I asked in the previous bullet points are realted to a different class, like P-space.\n",
        "\n",
        "For each video, state two things that interested you (theoretical or practical). Just a couple of sentences that summarize each point of interest."
      ]
    },
    {
      "cell_type": "markdown",
      "metadata": {
        "id": "EsRshRnZhRFa"
      },
      "source": [
        "## TODO Exercises"
      ]
    },
    {
      "cell_type": "markdown",
      "metadata": {
        "id": "F3724sGjhTPo"
      },
      "source": [
        "Do the following Chapter 16 Exercises:"
      ]
    },
    {
      "cell_type": "markdown",
      "metadata": {
        "id": "XZ7ygErThWjn"
      },
      "source": [
        "### 16.7.2.1"
      ]
    },
    {
      "cell_type": "code",
      "metadata": {
        "colab": {
          "base_uri": "https://localhost:8080/"
        },
        "id": "nkEuoSLWNq24",
        "outputId": "9b7f5ead-5746-46c9-a7db-b07acfbd5f50"
      },
      "source": [
        "!pip install pycryptosat"
      ],
      "execution_count": null,
      "outputs": [
        {
          "output_type": "stream",
          "text": [
            "Collecting pycryptosat\n",
            "\u001b[?25l  Downloading https://files.pythonhosted.org/packages/7a/e1/b85c5f20db50f3495c778220d8587c54be11e8e52328cb5440d5e1b89b33/pycryptosat-0.6.1.tar.gz (285kB)\n",
            "\r\u001b[K     |█▏                              | 10kB 16.7MB/s eta 0:00:01\r\u001b[K     |██▎                             | 20kB 21.2MB/s eta 0:00:01\r\u001b[K     |███▌                            | 30kB 11.8MB/s eta 0:00:01\r\u001b[K     |████▋                           | 40kB 9.1MB/s eta 0:00:01\r\u001b[K     |█████▊                          | 51kB 8.4MB/s eta 0:00:01\r\u001b[K     |███████                         | 61kB 9.2MB/s eta 0:00:01\r\u001b[K     |████████                        | 71kB 8.6MB/s eta 0:00:01\r\u001b[K     |█████████▏                      | 81kB 8.8MB/s eta 0:00:01\r\u001b[K     |██████████▍                     | 92kB 8.2MB/s eta 0:00:01\r\u001b[K     |███████████▌                    | 102kB 8.5MB/s eta 0:00:01\r\u001b[K     |████████████▋                   | 112kB 8.5MB/s eta 0:00:01\r\u001b[K     |█████████████▉                  | 122kB 8.5MB/s eta 0:00:01\r\u001b[K     |███████████████                 | 133kB 8.5MB/s eta 0:00:01\r\u001b[K     |████████████████                | 143kB 8.5MB/s eta 0:00:01\r\u001b[K     |█████████████████▎              | 153kB 8.5MB/s eta 0:00:01\r\u001b[K     |██████████████████▍             | 163kB 8.5MB/s eta 0:00:01\r\u001b[K     |███████████████████▌            | 174kB 8.5MB/s eta 0:00:01\r\u001b[K     |████████████████████▊           | 184kB 8.5MB/s eta 0:00:01\r\u001b[K     |█████████████████████▉          | 194kB 8.5MB/s eta 0:00:01\r\u001b[K     |███████████████████████         | 204kB 8.5MB/s eta 0:00:01\r\u001b[K     |████████████████████████▏       | 215kB 8.5MB/s eta 0:00:01\r\u001b[K     |█████████████████████████▎      | 225kB 8.5MB/s eta 0:00:01\r\u001b[K     |██████████████████████████▍     | 235kB 8.5MB/s eta 0:00:01\r\u001b[K     |███████████████████████████▋    | 245kB 8.5MB/s eta 0:00:01\r\u001b[K     |████████████████████████████▊   | 256kB 8.5MB/s eta 0:00:01\r\u001b[K     |█████████████████████████████▉  | 266kB 8.5MB/s eta 0:00:01\r\u001b[K     |███████████████████████████████ | 276kB 8.5MB/s eta 0:00:01\r\u001b[K     |████████████████████████████████| 286kB 8.5MB/s \n",
            "\u001b[?25hBuilding wheels for collected packages: pycryptosat\n",
            "  Building wheel for pycryptosat (setup.py) ... \u001b[?25l\u001b[?25hdone\n",
            "  Created wheel for pycryptosat: filename=pycryptosat-0.6.1-cp37-cp37m-linux_x86_64.whl size=2028110 sha256=90a89be0071081e8eb02f97ebf59b8be16eb313df31d089fa7f01a0a2c938ff7\n",
            "  Stored in directory: /root/.cache/pip/wheels/99/d9/0f/d8cad805bb1dc767d3873419065f840cb19a51db9f51bef0fc\n",
            "Successfully built pycryptosat\n",
            "Installing collected packages: pycryptosat\n",
            "Successfully installed pycryptosat-0.6.1\n"
          ],
          "name": "stdout"
        }
      ]
    },
    {
      "cell_type": "markdown",
      "metadata": {
        "id": "h0FgeY6oDafW"
      },
      "source": [
        "p cnf 5 32\n",
        "1 2 3 4 5 0\n",
        "1 2 3 4 -5 0\n",
        "1 2 3 -4 5 0\n",
        "1 2 3 -4 -5 0\n",
        "1 2 -3 4 5 0\n",
        "1 2 -3 4 -5 0\n",
        "1 2 -3 -4 5 0\n",
        "1 2 -3 -4 -5 0\n",
        "1 -2 3 4 5 0\n",
        "1 -2 3 4 -5 0\n",
        "1 -2 3 -4 5 0\n",
        "1 -2 3 -4 -5 0\n",
        "1 -2 -3 4 5 0\n",
        "1 -2 -3 4 -5 0\n",
        "1 -2 -3 -4 5 0\n",
        "1 -2 -3 -4 -5 0\n",
        "-1 2 3 4 5 0\n",
        "-1 2 3 4 -5 0\n",
        "-1 2 3 -4 5 0\n",
        "-1 2 3 -4 -5 0\n",
        "-1 2 -3 4 5 0\n",
        "-1 2 -3 4 -5 0\n",
        "-1 2 -3 -4 5 0\n",
        "-1 2 -3 -4 -5 0\n",
        "-1 -2 3 4 5 0\n",
        "-1 -2 3 4 -5 0\n",
        "-1 -2 3 -4 5 0\n",
        "-1 -2 3 -4 -5 0\n",
        "-1 -2 -3 4 5 0\n",
        "-1 -2 -3 4 -5 0\n",
        "-1 -2 -3 -4 5 0\n",
        "-1 -2 -3 -4 -5 0"
      ]
    },
    {
      "cell_type": "markdown",
      "metadata": {
        "id": "psJ_6GxWhtsK"
      },
      "source": [
        "(a) What is the CNF formula captured by this instance?\n",
        "\n",
        "``(a+b+c+d+e+f).(a+b+c+d+e+!f).(a+b+c+d+!e+f).(a+b+c+d+!e+!f).(a+b+!c+e+f).(a+b+!c+e+!f).(a+b+!c+!e+f).(a+b+!c+!e+!f).(a+!b+c+e+f).(a+!b+c+e+!f).(a+!b+c+!e+f).(a+!b+c+!e+!f).(a+!b+!c+e+f).(a+!b+!c+e+!f).(a+!b+!c+!e+f).(a+!b+!c+!e+!f).(!a+b+c+d+e).(!a+b+c+d+e+!f).(!a+b+c+!e+f).(!a+b+c+!e+!f).(!a+b+!c+e+f).(!a+b+!c+e+!f).(!a+b+!c+!e+f).(!a+b+!c+!e+!f).(!a+!b+c+e+f).(!a+!b+c+e+!f).(!a+!b+c+!e+f).(!a+!b+c+!e+!f).(!a+!b+!c+e+f).(!a+!b+!c+e+!f).(!a+!b+!c+!e+f).(!a+!b+!c+!e+!f)``\n",
        "\n",
        "after writing all of that out, there are many mistakes to do the character 'd' missing from many of the statements. Suffice it to say that each clause consists of every possible combination of each character and it's complement."
      ]
    },
    {
      "cell_type": "markdown",
      "metadata": {
        "id": "kAHqod8KDo51"
      },
      "source": [
        "(b) By inspection, answer whether the instance is satisfiable, and why.\n",
        "\n",
        "It is not satisfiable. This is because every possible clause contains a contradiction."
      ]
    },
    {
      "cell_type": "markdown",
      "metadata": {
        "id": "H44MAS-UD8oO"
      },
      "source": [
        "(c) If it is not satisfiable, then what is the minimal number\n",
        "of rows that must be deleted before the instance becomes\n",
        "satisfiable? If these rows are not unique, list the first two\n",
        "possible such omissions (of sets of rows), starting from the\n",
        "top of the given listing.\n",
        "\n",
        "Only one row must be removed.\n",
        "\n",
        "Set 1: ``{1 2 3 4 5 0}``\n",
        "\n",
        "Set 2: ``{1 2 3 4 -5 0}``"
      ]
    },
    {
      "cell_type": "markdown",
      "metadata": {
        "id": "kdP2Mwh8FmoE"
      },
      "source": [
        "(d) Check your answer using CryptoMiniSat."
      ]
    },
    {
      "cell_type": "code",
      "metadata": {
        "id": "RQv_X_cUFvW_"
      },
      "source": [
        "cms_results = \"\"\"\n",
        "s SATISFIABLE\n",
        "c ------- FINAL TOTAL SEARCH STATS ---------\n",
        "c restarts                 : 1           (0.00      confls per restart)\n",
        "c blocked restarts         : 0           (0.00      per normal restart)\n",
        "c decisions                : 0           (0.00      % random)\n",
        "c propagations             : 0           \n",
        "c decisions/conflicts      : 0.00        \n",
        "c conflicts                : 0           \n",
        "c conf lits non-minim      : 0           (0.00      lit/confl)\n",
        "c conf lits final          : 0.00        \n",
        "c cache hit re-learnt cl   : 0           (0.00      % of confl)\n",
        "c red which0               : 0           (0.00      % of confl)\n",
        "c props/decision           : 0.00        \n",
        "c props/conflict           : 0.00        \n",
        "c 0-depth assigns          : 2           (0.00      % vars)\n",
        "c [occ-substr] long subBySub: 0 subByStr: 0 lits-rem-str: 14\n",
        "c [scc] new: 1 BP 0M  T: 0.00\n",
        "c Conflicts in UIP         : 0           \n",
        "c Mem used                 : 0.00        MB\n",
        "v -1 -2 -3 -4 -5 0\n",
        "\"\"\""
      ],
      "execution_count": null,
      "outputs": []
    },
    {
      "cell_type": "markdown",
      "metadata": {
        "id": "0IRR9xZ7hums"
      },
      "source": [
        "### 16.7.2.2"
      ]
    },
    {
      "cell_type": "markdown",
      "metadata": {
        "id": "MjW37Ew9hvi_"
      },
      "source": [
        "Consider the set of undirected graphs $G$ with a set of nodes\n",
        "$N$ and a set of edges $E$ in $N x N$ such that we can two-color the\n",
        "graph (meaning no two nodes connected by an edge have the same\n",
        "color). Argue that we can determine a two-coloring for such\n",
        "graphs using breadth-first search."
      ]
    },
    {
      "cell_type": "markdown",
      "metadata": {
        "id": "z9sUjv3lIepk"
      },
      "source": [
        "Consider node $N$, and maintain a color counter $C$.\n",
        "\n",
        "Beginning at the root node:\n",
        "\n",
        "1. \"Write\" $C$ on the currently inspected node, $N$.\n",
        "2. Inspect each neighbor of $N$.\n",
        "3. If any neighbor of $N$ has a color written on it such that $C$ == $C_{neighbor}$, this graph cannot be two-colored.\n",
        "4. Set $C$ equal to the complement of $C$.\n",
        "5. Non-deterministically move to each of $N$'s neighbors and repeat."
      ]
    },
    {
      "cell_type": "markdown",
      "metadata": {
        "id": "IdS-nwwRhv5W"
      },
      "source": [
        "### 16.7.2.8"
      ]
    },
    {
      "cell_type": "markdown",
      "metadata": {
        "id": "o8MUWcafhwnM"
      },
      "source": [
        "A Hamiltonian cycle in a graph with respect to a given node $n$ is\n",
        "a tour that begins at $n$ and visits all other nodes exactly once, returning\n",
        "to $n$. In a 5-clique, how many distinct Hamiltonian cycles\n",
        "exist? How about in an $n$-clique?"
      ]
    },
    {
      "cell_type": "markdown",
      "metadata": {
        "id": "bpvRU32WMEGY"
      },
      "source": [
        "For each node in a 5-clique:\n",
        "\n",
        "1. There exists a path to return to $n_0$ by travelling to any of its neighbors. There are $4$ neighbors.\n",
        "\n",
        "2. Upon choosing the next node, $n_1$, there are now $3$ paths to choose from. For each of the previous $4$ choices, there are $3$ choices to be made next. This increases the total number of paths to $12$.\n",
        "\n",
        "3. Upon choosing the next node, $n_2$, there are now $2$ paths to choose from. For each of the $12$ possible choices, there are $2$ choices to be made next. This increases the total number of paths to $24$.\n",
        "\n",
        "4. Upon choosing the next node, $n_3$, there is only one node to choose next before returning to $n_0$.\n",
        "\n",
        "5. Upon choosing the $n_4$, the next step is to return to $n_0$.\n",
        "\n",
        "The total number of Hamiltonian cycles, then, for a 5-clique is $24$, or $4!$.\n",
        "\n",
        "Thus, the total number of Hamiltonian cycles in an $n$-clique is $(n-1)!$"
      ]
    },
    {
      "cell_type": "markdown",
      "metadata": {
        "id": "Sdyg1GB3hxKu"
      },
      "source": [
        "### 16.7.2.9"
      ]
    },
    {
      "cell_type": "markdown",
      "metadata": {
        "id": "NuRLP4a_hx82"
      },
      "source": [
        "Define the language $Half Clique$ to be the set of input encodings\n",
        "$<G>$ such that $G$ is an undirected graph having a clique with at\n",
        "least $n/2$ nodes, where $n$ is the number of nodes in $G$. Show that\n",
        "$HalfClique$ is NPC. Hint: Mapping reduction from $Clique$."
      ]
    },
    {
      "cell_type": "markdown",
      "metadata": {
        "id": "PsHVW3FmRITL"
      },
      "source": [
        "Produce a clique $graph(\\phi)$, given a 3-CNF formula $\\phi$ with $n/2$ clauses such that $graph(\\phi)$ has an $n/2$ clique when $\\phi$ is satisfiable.\n",
        "\n",
        "* For each clause, draw an “island” of three nodes with the literals in the\n",
        "clause labeling the nodes.\n",
        "\n",
        "* Never introduce any edges within an island.\n",
        "\n",
        "* Between two islands of three nodes each, connect pairwise all pairs of\n",
        "literals that are compatible. Two literals are compatible if they are\n",
        "not of the form x and !x. Compatible literals can be satisfied simultaneously."
      ]
    },
    {
      "cell_type": "markdown",
      "metadata": {
        "id": "npHvn-zchyV8"
      },
      "source": [
        "### 16.7.2.10"
      ]
    },
    {
      "cell_type": "markdown",
      "metadata": {
        "id": "M_-j59EZh0xJ"
      },
      "source": [
        "The game of Sudoku has been shown to be in NPC. In practice,\n",
        "one can encode and solve Sudoku using SAT solvers. This is also a\n",
        "good way to understand the power of modern SAT solvers. Study\n",
        "the Sudoku solver (MIT license) written by Nicholas Pilkington at\n",
        "https://gist.github.com/nickponline/9c91fe65fef5b58ae1b0.\n",
        "Test it on the instance provided as well as a few that you create.\n",
        "Note: This solver will need Python2 (or you may adapt it for\n",
        "Python3)."
      ]
    },
    {
      "cell_type": "code",
      "metadata": {
        "colab": {
          "base_uri": "https://localhost:8080/"
        },
        "id": "Q3sAdE8cTNgo",
        "outputId": "b15899d1-19e4-4426-e532-535a665a1244"
      },
      "source": [
        "!pip install pycosat"
      ],
      "execution_count": 2,
      "outputs": [
        {
          "output_type": "stream",
          "text": [
            "Collecting pycosat\n",
            "\u001b[?25l  Downloading https://files.pythonhosted.org/packages/c0/fd/e38d68774c0a345b0090d608a90f1fbf423970d812f7ec7aef9ac024e648/pycosat-0.6.3.zip (66kB)\n",
            "\r\u001b[K     |█████                           | 10kB 13.0MB/s eta 0:00:01\r\u001b[K     |█████████▉                      | 20kB 19.6MB/s eta 0:00:01\r\u001b[K     |██████████████▊                 | 30kB 21.4MB/s eta 0:00:01\r\u001b[K     |███████████████████▋            | 40kB 16.0MB/s eta 0:00:01\r\u001b[K     |████████████████████████▌       | 51kB 16.0MB/s eta 0:00:01\r\u001b[K     |█████████████████████████████▍  | 61kB 17.9MB/s eta 0:00:01\r\u001b[K     |████████████████████████████████| 71kB 4.3MB/s \n",
            "\u001b[?25hBuilding wheels for collected packages: pycosat\n",
            "  Building wheel for pycosat (setup.py) ... \u001b[?25l\u001b[?25hdone\n",
            "  Created wheel for pycosat: filename=pycosat-0.6.3-cp37-cp37m-linux_x86_64.whl size=143808 sha256=a314e145671f1ced376d64bdf2c7d9908858dbe775330b9bf49ebd025210015b\n",
            "  Stored in directory: /root/.cache/pip/wheels/c4/67/ff/5570304e45814eccef48a3c69c3af25d0456ed3a34eddbbe38\n",
            "Successfully built pycosat\n",
            "Installing collected packages: pycosat\n",
            "Successfully installed pycosat-0.6.3\n"
          ],
          "name": "stdout"
        }
      ]
    },
    {
      "cell_type": "code",
      "metadata": {
        "colab": {
          "base_uri": "https://localhost:8080/"
        },
        "id": "-9xX1_frS8qQ",
        "outputId": "3cb7962f-f969-4cff-e15f-892da1200b99"
      },
      "source": [
        "\"\"\"\n",
        "Code is from the link provided\n",
        "\"\"\"\n",
        "# Author: Nicholas Pilkington, 2015\n",
        "# License: MIT\n",
        "# Blog Post: https://nickp.svbtle.com/sudoku-satsolver\n",
        "\n",
        "import pycosat\n",
        "\n",
        "N = 9\n",
        "M = 3\n",
        "\n",
        "def exactly_one(variables):\n",
        "    cnf = [ variables ]\n",
        "    n = len(variables)\n",
        "\n",
        "    for i in range(n):\n",
        "        for j in range(i+1, n):\n",
        "            v1 = variables[i]\n",
        "            v2 = variables[j]\n",
        "            cnf.append([-v1, -v2])\n",
        "\n",
        "    return cnf\n",
        "\n",
        "def transform(i, j, k):\n",
        "    return i*N*N + j*N + k + 1\n",
        "\n",
        "def inverse_transform(v):\n",
        "    v, k = divmod(v-1, N)\n",
        "    v, j = divmod(v, N)\n",
        "    v, i = divmod(v, N)\n",
        "    return i, j, k\n",
        "\n",
        "if __name__ == '__main__':\n",
        "    cnf = []\n",
        "\n",
        "    # Cell, row and column constraints\n",
        "    for i in range(N):\n",
        "        for s in range(N):\n",
        "            cnf = cnf + exactly_one([ transform(i, j, s) for j in range(N) ])\n",
        "            cnf = cnf + exactly_one([ transform(j, i, s) for j in range(N) ])\n",
        "\n",
        "        for j in range(N):\n",
        "            cnf = cnf + exactly_one([ transform(i, j, k) for k in range(N) ])\n",
        "\n",
        "    # Sub-matrix constraints\n",
        "    for k in range(N):\n",
        "        for x in range(M):\n",
        "            for y in range(M):\n",
        "                v = [ transform(y*M + i, x*M + j, k) for i in range(M) for j in range(M)]\n",
        "                cnf = cnf + exactly_one(v)\n",
        "\n",
        "    # See contribution from @GregoryMorse below\n",
        "    cnf = { frozenset(x) for x in cnf }\n",
        "    cnf = list(cnf)\n",
        "\n",
        "    # A 16-constraint Sudoku\n",
        "    constraints = [\n",
        "        (0, 3, 7),\n",
        "        (1, 0, 1),\n",
        "        (2, 3, 4),\n",
        "        (2, 4, 3),\n",
        "        (2, 6, 2),\n",
        "        (3, 8, 6),\n",
        "        (4, 3, 5),\n",
        "        (4, 5, 9),\n",
        "        (5, 6, 4),\n",
        "        (5, 7, 1),\n",
        "        (5, 8, 8),\n",
        "        (6, 4, 8),\n",
        "        (6, 5, 1),\n",
        "        (7, 2, 2),\n",
        "        (7, 7, 5),\n",
        "        (8, 1, 4),\n",
        "        (8, 6, 3),\n",
        "\n",
        "    ]\n",
        "\n",
        "    cnf = cnf + [[transform(z[0], z[1], z[2])-1] for z in constraints]\n",
        "\n",
        "    for solution in pycosat.itersolve(cnf):\n",
        "        X = [ inverse_transform(v) for v in solution if v > 0]\n",
        "        for i, cell in enumerate(sorted(X, key=lambda h: h[0] * N*N + h[1] * N)):\n",
        "            print(cell[2]+1, end=\" \")\n",
        "            if (i+1) % N == 0: print(\"\")"
      ],
      "execution_count": 13,
      "outputs": [
        {
          "output_type": "stream",
          "text": [
            "[-1, 2, -3, -4, -5, -6, -7, -8, -9, -10, -11, -12, -13, -14, 15, -16, -17, -18, -19, -20, -21, 22, -23, -24, -25, -26, -27, -28, -29, -30, -31, -32, -33, 34, -35, -36, 37, -38, -39, -40, -41, -42, -43, -44, -45, -46, -47, -48, -49, 50, -51, -52, -53, -54, -55, -56, -57, -58, -59, -60, -61, 62, -63, -64, -65, 66, -67, -68, -69, -70, -71, -72, -73, -74, -75, -76, -77, -78, -79, -80, 81, 82, -83, -84, -85, -86, -87, -88, -89, -90, -91, -92, 93, -94, -95, -96, -97, -98, -99, -100, -101, -102, -103, -104, -105, 106, -107, -108, -109, -110, -111, -112, -113, -114, -115, 116, -117, -118, -119, -120, -121, -122, -123, -124, -125, 126, -127, 128, -129, -130, -131, -132, -133, -134, -135, -136, -137, -138, -139, -140, 141, -142, -143, -144, -145, -146, -147, 148, -149, -150, -151, -152, -153, -154, -155, -156, -157, 158, -159, -160, -161, -162, -163, -164, -165, -166, 167, -168, -169, -170, -171, -172, -173, -174, -175, -176, -177, -178, -179, 180, -181, -182, -183, -184, -185, -186, -187, 188, -189, -190, -191, -192, 193, -194, -195, -196, -197, -198, -199, -200, 201, -202, -203, -204, -205, -206, -207, -208, -209, -210, -211, -212, 213, -214, -215, -216, -217, 218, -219, -220, -221, -222, -223, -224, -225, -226, -227, -228, -229, -230, -231, 232, -233, -234, 235, -236, -237, -238, -239, -240, -241, -242, -243, -244, -245, -246, 247, -248, -249, -250, -251, -252, -253, 254, -255, -256, -257, -258, -259, -260, -261, -262, -263, 264, -265, -266, -267, -268, -269, -270, 271, -272, -273, -274, -275, -276, -277, -278, -279, -280, -281, -282, -283, -284, -285, 286, -287, -288, -289, -290, -291, -292, -293, -294, -295, 296, -297, -298, -299, -300, -301, 302, -303, -304, -305, -306, -307, -308, -309, -310, -311, -312, -313, -314, 315, -316, -317, -318, -319, -320, 321, -322, -323, -324, -325, -326, -327, -328, -329, -330, -331, 332, -333, 334, -335, -336, -337, -338, -339, -340, -341, -342, -343, -344, -345, -346, -347, 348, -349, -350, -351, -352, -353, -354, -355, 356, -357, -358, -359, -360, -361, -362, -363, 364, -365, -366, -367, -368, -369, -370, -371, -372, -373, -374, -375, -376, -377, 378, -379, -380, -381, -382, -383, -384, 385, -386, -387, -388, 389, -390, -391, -392, -393, -394, -395, -396, -397, -398, 399, -400, -401, -402, -403, -404, -405, -406, -407, -408, -409, -410, -411, 412, -413, -414, -415, -416, -417, -418, 419, -420, -421, -422, -423, -424, -425, -426, -427, -428, -429, -430, -431, 432, -433, -434, -435, -436, -437, 438, -439, -440, -441, -442, 443, -444, -445, -446, -447, -448, -449, -450, -451, -452, 453, -454, -455, -456, -457, -458, -459, -460, -461, -462, 463, -464, -465, -466, -467, -468, 469, -470, -471, -472, -473, -474, -475, -476, -477, -478, -479, -480, -481, -482, -483, -484, 485, -486, -487, -488, 489, -490, -491, -492, -493, -494, -495, -496, -497, -498, -499, -500, -501, 502, -503, -504, -505, -506, -507, -508, 509, -510, -511, -512, -513, -514, 515, -516, -517, -518, -519, -520, -521, -522, -523, -524, -525, -526, -527, -528, -529, 530, -531, 532, -533, -534, -535, -536, -537, -538, -539, -540, -541, -542, -543, -544, -545, -546, -547, -548, 549, -550, -551, -552, -553, -554, 555, -556, -557, -558, -559, -560, -561, 562, -563, -564, -565, -566, -567, -568, -569, -570, -571, -572, -573, -574, -575, 576, -577, -578, -579, -580, -581, -582, -583, 584, -585, -586, 587, -588, -589, -590, -591, -592, -593, -594, -595, -596, 597, -598, -599, -600, -601, -602, -603, -604, -605, -606, -607, -608, 609, -610, -611, -612, -613, -614, -615, 616, -617, -618, -619, -620, -621, 622, -623, -624, -625, -626, -627, -628, -629, -630, -631, -632, -633, -634, 635, -636, -637, -638, -639, -640, -641, -642, -643, -644, -645, 646, -647, -648, -649, -650, -651, -652, -653, 654, -655, -656, -657, -658, -659, -660, 661, -662, -663, -664, -665, -666, 667, -668, -669, -670, -671, -672, -673, -674, -675, -676, -677, -678, -679, -680, -681, -682, -683, 684, -685, -686, -687, -688, 689, -690, -691, -692, -693, -694, -695, -696, -697, -698, -699, 700, -701, -702, -703, -704, 705, -706, -707, -708, -709, -710, -711, -712, -713, -714, -715, -716, -717, -718, 719, -720, -721, 722, -723, -724, -725, -726, -727, -728, -729]\n",
            "2 6 4 7 1 5 8 3 9 \n",
            "1 3 7 8 9 2 6 4 5 \n",
            "5 9 8 4 3 6 2 7 1 \n",
            "4 2 3 1 7 8 5 9 6 \n",
            "8 1 6 5 4 9 7 2 3 \n",
            "7 5 9 6 2 3 4 1 8 \n",
            "3 7 5 2 8 1 9 6 4 \n",
            "9 8 2 3 6 4 1 5 7 \n",
            "6 4 1 9 5 7 3 8 2 \n"
          ],
          "name": "stdout"
        }
      ]
    },
    {
      "cell_type": "markdown",
      "metadata": {
        "id": "daLGcUQCVx6S"
      },
      "source": [
        "I would have loved to have created some constraints, but this code doesn't really make sense. I don't really understand at all what is going on, and I don't have enough time to parse through this between other coursework."
      ]
    },
    {
      "cell_type": "markdown",
      "metadata": {
        "id": "0FEjXwMpiZF-"
      },
      "source": [
        "### 16.7.2.12"
      ]
    },
    {
      "cell_type": "markdown",
      "metadata": {
        "id": "fUWY-FGXiZF_"
      },
      "source": [
        "3-CNF is always satisfiable if there is not a contradiction between two clauses. Each clause must come to an independent solution in order for a 3-CNF to be satisfiable. When two clauses are created such that they will always contradict each other no matter what variable assignments they receive, the 3-CNF is not satisfiable. As long as no contradiction exists, 3-CNF is satisfiable because each clause is independent."
      ]
    },
    {
      "cell_type": "markdown",
      "metadata": {
        "id": "Ua6BlQDSicB_"
      },
      "source": [
        "## TODO Explore a Powerful Tool"
      ]
    },
    {
      "cell_type": "markdown",
      "metadata": {
        "id": "CzhO3COaikyu"
      },
      "source": [
        "Do the following NON-book exercise:"
      ]
    },
    {
      "cell_type": "markdown",
      "metadata": {
        "id": "PhRWte2iiw4I"
      },
      "source": [
        "SAT, while being NP-Complete, is a \"workhorse of a tool.\" This exercise asks you to get a taste of running the CryptoMinisat tool on a non-trivial SAT formula. Click on https://msoos.github.io/cryptominisat_web/ to access this tool. When it comes up, it has a prefilled formula. There is a Play button that you can click, whereupon it solves the SAT instance.\n",
        "\n",
        "This exercise asks you to replace this SAT instance with something bigger: specifically, the Pigeonhole problem (hole6.cnf) from: https://people.sc.fsu.edu/~jburkardt/data/cnf/cnf.html\n",
        "\n",
        "Just click the above link, get the hole6.cnf file, and plunk the CNF into the buffer.\n",
        "\n",
        "Hit Play and report on the execution time (you can just look at your phone's clock). If under 2 seconds, say \"negligible\" for your answer!\n",
        "\n",
        "How much time would such a problem take through brute-force enumeration of $2^n$ combinations on a computer that takes a microsecond per variable combination (the $n$ is the number of variables used in the Pigeonhole problem)? HINT: Here is how you read the contents of a CNF file:\n",
        "\n",
        "```\n",
        "c File:  hole6.cnf <--- these are comment lines - starts wth a \"C\"\n",
        "c...\n",
        "c\n",
        "p cnf 42 133\n",
        "-1     -7\n",
        "-1     -13\n",
        "...\n",
        "0 0\n",
        "<--- CRUCIAL !! Tells you there are 42 variables and 133 clauses\n",
        "<--- This line says (!x1 + !x7). The \"0\" is just end-of-a-clause marker!\n",
        "<--- This line says (!x1 + !x13)\n",
        " 12     11     10     9      8      7    0 <--- This clause reads\n",
        "                                          (x12 + x11 + x10 + x9 + x8 + x7)\n",
        "```\n",
        "\n",
        "Okay, now you have all the info you need to calculate the time it takes to enumerate $2^n$ combinations!!\n",
        "\n"
      ]
    },
    {
      "cell_type": "markdown",
      "metadata": {
        "id": "MVUe4b9dkd5n"
      },
      "source": [
        "Your (two-part) answer goes here.\n",
        "\n",
        "1. CryptoMinisat runtime: negligible\n",
        "2. $2^n$ runtime estimation: 8.796093e+12 microseconds = 8796093 seconds = ~101.8 days"
      ]
    },
    {
      "cell_type": "markdown",
      "metadata": {
        "id": "8Q8t6FsUkxwS"
      },
      "source": [
        "## TODO Read and Learn"
      ]
    },
    {
      "cell_type": "markdown",
      "metadata": {
        "id": "K5LVir0Yk0Ed"
      },
      "source": [
        "List six facts that you found interesting about Boolean SAT in these articles:\n",
        "\n",
        "https://cacm.acm.org/magazines/2009/8/34498-boolean-satisfiability-from-theoretical-hardness-to-practical-success/fulltext\n",
        "\n",
        "* It is interesting that encoding has been used to help schedule basketball games.\n",
        "\n",
        "* The restriction to CNF is an active choice made by SAT solvers, andit isn't used exclusively.\n",
        "\n",
        "* Backtracking and memory reminds me of the backpropagation in neural networks. After I wrote this, I saw that neural networks are part of the field of SAT, which is really interesting.\n",
        "\n",
        "* It is fascinating to see that although NP problems aren't being proved to be P, strategies to solve them in increasingly efficient and intelligent ways can and are being developed.\n",
        "\n",
        "and\n",
        "\n",
        "https://en.wikipedia.org/wiki/Boolean_satisfiability_problem\n",
        "\n",
        "* It is very interesting to me that so many classes of SAT are all NPC. I would not have guessed that one-in-three 3-SAT is at most as hard to solve as regular 3-SAT.\n",
        "\n",
        "* Taking parallelism and concurrency this semester has helped me to understand more of why it is significant to have divide-and-conquer and parallel algorithms. I wonder what other ideas people will come up with to create better and faster algorithms to solve some of these problems.\n",
        "\n",
        "Anything that interested you is fine – theoretical or practical. Please write 1-2 sentences per point that interested you."
      ]
    }
  ]
}