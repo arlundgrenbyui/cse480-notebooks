{
  "nbformat": 4,
  "nbformat_minor": 0,
  "metadata": {
    "colab": {
      "name": "09_2_Ponder_and_Prove_Recursively_Enumerable_and_Recursive_Sets.ipynb",
      "provenance": [],
      "collapsed_sections": [],
      "include_colab_link": true
    },
    "kernelspec": {
      "name": "python3",
      "display_name": "Python 3"
    }
  },
  "cells": [
    {
      "cell_type": "markdown",
      "metadata": {
        "id": "view-in-github",
        "colab_type": "text"
      },
      "source": [
        "<a href=\"https://colab.research.google.com/github/arlundgrenbyui/cse480-notebooks/blob/master/09_2_Ponder_and_Prove_Recursively_Enumerable_and_Recursive_Sets.ipynb\" target=\"_parent\"><img src=\"https://colab.research.google.com/assets/colab-badge.svg\" alt=\"Open In Colab\"/></a>"
      ]
    },
    {
      "cell_type": "markdown",
      "metadata": {
        "id": "KROWXw9EqAOY"
      },
      "source": [
        "# Ponder and Prove Recursively Enumerable and Recursive Sets\n",
        "## Due: Saturday, 27 February 2021, 11:59 pm"
      ]
    },
    {
      "cell_type": "markdown",
      "metadata": {
        "id": "uLXu2I4YqK2x"
      },
      "source": [
        "## TODO Exercise 14.4.1, RE and Recursive\n"
      ]
    },
    {
      "cell_type": "markdown",
      "metadata": {
        "id": "m7clQtUHqQDq"
      },
      "source": [
        "Do the first six parts only (we'll do part 7 in class together)."
      ]
    },
    {
      "cell_type": "markdown",
      "metadata": {
        "id": "ND770ZuCq5kG"
      },
      "source": [
        "1. Describe a decider to check whether the language of a given DFA $D$ is infinite."
      ]
    },
    {
      "cell_type": "markdown",
      "metadata": {
        "id": "XSOHv237TWp-"
      },
      "source": [
        "Examine the order of states in the DFA. If a loop can be found in the DFA and an accept state exists either inside of or after the loop, the language is infinite.\r\n",
        "\r\n",
        "* To do this, the decider maintains the order of states visited on an \"internal tape\". \r\n",
        "\r\n",
        "* Each time a new state is visited, the internal tape is examined to determine if the new state has been previously visited. If it has, then a loop has been discovered. \r\n",
        "\r\n",
        "* If an accept state exists on the internal tape after a loop is discovered, then the decider halts and determines that the language of D is infinite.\r\n",
        "\r\n",
        "* If not, the decider continues examining states until an accept state is found. If one is found, it is determined that the language is infinite."
      ]
    },
    {
      "cell_type": "markdown",
      "metadata": {
        "id": "5rVqkMA0kWFT"
      },
      "source": [
        "2. Describe a decider to check whether a linear bounded automaton $L$ working on an input $w$ will go into an infinite loop."
      ]
    },
    {
      "cell_type": "markdown",
      "metadata": {
        "id": "YLD045n5W_GA"
      },
      "source": [
        "Determine whether the current state of w is identical to a state of w that was previously present on the tape.\r\n",
        "\r\n",
        "* To do this, the decider maintains copies of w in each cycle of L. \r\n",
        "* After each cycle terminates, the decider checks whether the current state of L matches any of the stored copies of w. If the states match, the head is in the same location, and L is not currently in a halted state, the machine will go into an infinite loop. \r\n",
        "* If not, the decider will add the state of L to its list and continue. If L halts, then the decider determines that L will not go into an infinite loop. \r\n",
        "* If a duplicate is found in the list of L states, then the decider determines that L is in an infinite loop and halts."
      ]
    },
    {
      "cell_type": "markdown",
      "metadata": {
        "id": "PBAwrOrkkWk7"
      },
      "source": [
        "3. Describe an enumerator for the language $Halt_{TM}$ similar to how the enumerator for $A_{TM}$ was designed."
      ]
    },
    {
      "cell_type": "markdown",
      "metadata": {
        "id": "JwzFFurPa9S5"
      },
      "source": [
        "* Keep listing pairs (A, B) of strings from $\\Sigma$* on an “internal tape.”\r\n",
        "* Keep checking whether A is a Turing machine description (e.g., our\r\n",
        "markdown language for the TM has a parser; one can run this parser\r\n",
        "and see if it accepts A). If so, A happens to be a Turing machine\r\n",
        "description.\r\n",
        "* Run Turing machine A on B, treating B as its input. Again, do not run\r\n",
        "to completion; instead, engage in a dovetailed execution with all other\r\n",
        "TMs and inputs meanwhile being enumerated internally.\r\n",
        "* When the dovetailed simulation finds an (A,B) pair such that A halts on\r\n",
        "B, it lists the (A, B) pair on the output tape.\r\n",
        "* This listing will produce every (M,w) such that M halts on w.\r\n",
        "* The existence of this enumerator means that ATM is RE."
      ]
    },
    {
      "cell_type": "markdown",
      "metadata": {
        "id": "8Jeqy8I_kWrR"
      },
      "source": [
        "4. Describe an enumerator for the language $\\overline{L_{UnivCFG}}$."
      ]
    },
    {
      "cell_type": "markdown",
      "metadata": {
        "id": "3zHD_GQec64O"
      },
      "source": [
        "* Keep listing grammars (G) from the set of all CFGs on an “internal tape.”\r\n",
        "* Maintain an infinite supply of Turing Machine M, a TM that will determine if G has $\\Sigma$* as its language.\r\n",
        "* Run an instance of Turing machine M on G, treating G as its input. Again, do not run\r\n",
        "to completion; instead, engage in a dovetailed execution with all G inputs meanwhile being enumerated internally.\r\n",
        "* When the dovetailed simulation finds an G such that M halts on\r\n",
        "G, it lists the (G) pair on the output tape.\r\n",
        "* This listing will produce every (G) such that G is a member of LunivCFG."
      ]
    },
    {
      "cell_type": "markdown",
      "metadata": {
        "id": "98rHo7ggkWwM"
      },
      "source": [
        "5. Describe a semi-decider for whether or not a grammar $G_{1}$ has a language that is not contained in the language of another grammar $G_{2}$. That is, we must be able to enumerate all such pairs\n",
        "$(G_{1}, G_{2})$ such that $L(G_{1}) \\not \\subseteq L(G_{2})$."
      ]
    },
    {
      "cell_type": "markdown",
      "metadata": {
        "id": "BuJPOmFKfLsK"
      },
      "source": [
        "* Enumerate all strings from $G_1$ and $G_2$ and list them on two “internal tapes.” This will be a dovetailed execution.\r\n",
        "* A second dovetailed execution is then used to compare every string on the tape containing strings from $G_1$ against every string on the tape containing strings from $G_2$.\r\n",
        "* When second dovetailed simulation finds a string g1 such that it is not found on the tape of strings from $G_2$, The pair ($G_1, G_2$) is listed the output tape.\r\n",
        "* This listing will produce every ($G_1, G_2$) such that $G_1$'s language is not in the language of $G_2$."
      ]
    },
    {
      "cell_type": "markdown",
      "metadata": {
        "id": "55N7qScokW2I"
      },
      "source": [
        "6. Suppose someone claims to have a decider for $L(G_{1}) \\subseteq L(G_{2})$. Demonstrate how to build a reduction proof from $UnivCFG$. Draw a diagram similar to Figure 14.1 explaining your proof."
      ]
    },
    {
      "cell_type": "markdown",
      "metadata": {
        "id": "EcOgH0dGhWXP"
      },
      "source": [
        "* Suppose that it is possible to determine that $L(G_1) \\subseteq L(G_2)$.\r\n",
        "* Any language deriving from the grammar $G$, $L(G)$, must be a subset of the universal language.\r\n",
        "* It is impossible to determine whether a CFG has the universal language. Therefore, it is impossible for $L(G_1)$ to be determined to be a subset of $L(G_2)$.\r\n",
        "* A decider must halt. The proposed decider cannot halt when determining if $L(G_1) \\subseteq L(G_{Univ})$, therefore the proposed decider cannot exist."
      ]
    },
    {
      "cell_type": "markdown",
      "metadata": {
        "id": "b1UH0-3-OPVA"
      },
      "source": [
        "What [...] is mathematics? The answer, it appears, is that any argument which is carried out with sufficient precision is mathematical, and the reason that your friends and ours cannot understand mathematics is not because they have no head for figures, but because they are unable to **achieve the degree of concentration required to follow a moderately involved sequence of inferences**.\n"
      ]
    },
    {
      "cell_type": "markdown",
      "metadata": {
        "id": "iPiO58ZohUMy"
      },
      "source": [
        "7. In 15.2.2, we will argue that $L_{AmbCFG}$ is not recursive. Assuming this result, argue that $\\overline{L_{AmbCFG}}$ is not RE.\n"
      ]
    },
    {
      "cell_type": "markdown",
      "metadata": {
        "id": "Y5s-HiojkW2J"
      },
      "source": [
        "Recall Theorem 14.2.3:\n",
        "\n",
        "If a language $L$ and its complement $\\overline{L}$ are both RE, then $L$ is recursive.\n",
        "\n",
        "We get to assume that $L_{AmbCFG}$ is not recursive.\n",
        "\n",
        "Therefore, by the contrapositive of the Theorem, we know that it is NOT the case that both \"$L_{AmbCFG}$ is RE\" and \"its complement $\\overline{L_{AmbCFG}}$ is RE\" can be true.\n",
        "\n",
        "By DeMorgan's Law we translate that into the equivalent statement:\n",
        "\n",
        "Either $L_{AmbCFG}$ is not RE, or $\\overline{L_{AmbCFG}}$ is not RE.\n",
        "\n",
        "In section 14.3.4 on pages 218 and 219, $L_{AmbCFG}$ is proven to be RE.\n",
        "\n",
        "Therefore, $\\overline{L_{AmbCFG}}$ must be the one that is not RE."
      ]
    }
  ]
}