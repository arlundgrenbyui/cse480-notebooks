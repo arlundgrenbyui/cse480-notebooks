{
  "nbformat": 4,
  "nbformat_minor": 0,
  "metadata": {
    "colab": {
      "name": "proof_problems.ipynb",
      "provenance": [],
      "collapsed_sections": [
        "-OdWAKyfFPkx",
        "c95PEdirFUdr",
        "SsFkn_PuFZOp",
        "q18gZ23MFmKj"
      ],
      "include_colab_link": true
    },
    "kernelspec": {
      "name": "python3",
      "display_name": "Python 3"
    }
  },
  "cells": [
    {
      "cell_type": "markdown",
      "metadata": {
        "id": "view-in-github",
        "colab_type": "text"
      },
      "source": [
        "<a href=\"https://colab.research.google.com/github/arlundgrenbyui/cse480-notebooks/blob/master/proof_problems.ipynb\" target=\"_parent\"><img src=\"https://colab.research.google.com/assets/colab-badge.svg\" alt=\"Open In Colab\"/></a>"
      ]
    },
    {
      "cell_type": "markdown",
      "metadata": {
        "id": "NJbnmTGuC2yN"
      },
      "source": [
        "# Look at a Series of Proof Problems\n",
        "Think about how you would go about trying to solve these problems.\n",
        "\n",
        "In other words, how would you approach trying to prove each one?\n",
        "\n",
        "It will be good warm-up for next week's exploration of the Pumping Lemma for Regular Languages."
      ]
    },
    {
      "cell_type": "markdown",
      "metadata": {
        "id": "-OdWAKyfFPkx"
      },
      "source": [
        "## Easiest Proof Problem"
      ]
    },
    {
      "cell_type": "markdown",
      "metadata": {
        "id": "5fMk--buC87a"
      },
      "source": [
        "Prove that if $a \\equiv_5 b$ where $a$ and $b$ are integers, then $a^2 \\equiv_5 b^2$.\n",
        "\n",
        "What about the converse?"
      ]
    },
    {
      "cell_type": "markdown",
      "metadata": {
        "id": "c95PEdirFUdr"
      },
      "source": [
        "## Easy Proof Problem"
      ]
    },
    {
      "cell_type": "markdown",
      "metadata": {
        "id": "n376QHhFDP8V"
      },
      "source": [
        "Prove that for every natural number $n$, there exist integers $a$ and $b$ such that $n = 3a + 7b$.\n",
        "\n",
        "Can you generalize this result?"
      ]
    },
    {
      "cell_type": "markdown",
      "metadata": {
        "id": "SsFkn_PuFZOp"
      },
      "source": [
        "## Hard Proof Problem"
      ]
    },
    {
      "cell_type": "markdown",
      "metadata": {
        "id": "euibTihmDjRp"
      },
      "source": [
        "Show that for $n \\ge 2$, the sum $1 + \\frac{1}{2} + \\cdots + \\frac{1}{n}$ is never an integer.\n",
        "\n",
        "In other words, for $n \\ge 2$, $\\sum_{i = 1}^n \\frac{1}{i}$ is never an integer."
      ]
    },
    {
      "cell_type": "markdown",
      "metadata": {
        "id": "cfVwMa5yFiz7"
      },
      "source": [
        "## Harder Proof Problem"
      ]
    },
    {
      "cell_type": "markdown",
      "metadata": {
        "id": "AFljtCEUDv-G"
      },
      "source": [
        "Given that\n",
        "$$\\frac{1}{n(n+1)} = \\frac{1}{n} - \\frac{1}{n+1},$$\n",
        "what is the value of the summation\n",
        "$$\\sum_{n=1}^\\infty \\frac{b(n)}{n(n+1)},$$\n",
        "\n",
        "where $b(n)$ counts the number of ones in the binary expansion of $n$?\n",
        "\n",
        "The harder question is, why does this value converge to the number it does? Can you find an expression in common mathematical symbols (using 5 or fewer characters) for this value? And what does binary expansion have to do with why this value is what it is? How would you prove it?\n",
        "\n",
        "Hint: you may find it helpful at some point to refer to the so-called [Theoretical Computer Science Cheat Sheet](https://www.tug.org/texshowcase/cheat.pdf)."
      ]
    },
    {
      "cell_type": "markdown",
      "metadata": {
        "id": "7Hsn6iTc2gjs"
      },
      "source": [
        "Given that\r\n",
        "$$\\frac{1}{n(n+1)} = \\frac{1}{n} - \\frac{1}{n+1},$$\r\n",
        "what is the value of the summation\r\n",
        "$$\\sum_{n=1}^\\infty \\frac{b(n)}{n(n+1)},$$<br>\r\n",
        "\r\n",
        "##Cases\r\n",
        "\r\n",
        "---\r\n",
        "<br>\r\n",
        "\r\n",
        "$$\\frac{b(n)}{n(n+1)}$$\r\n",
        "\r\n",
        "where ${n}$ is ${1}$, the binary expansion is ${0001}$.\r\n",
        "\r\n",
        "$$\\frac{b(1)}{1(1+1)} = \\frac{1}{1} - \\frac{1}{1+1} = {1} - \\frac{1}{2} = \\frac{1}{2}$$\r\n",
        "\r\n",
        "where ${n}$ is ${2}$, the binary expansion is ${0010}$.\r\n",
        "\r\n",
        "$$\\frac{b(2)}{2(2+1)} = \\frac{1}{2} - \\frac{1}{2+1} = \\frac{1}{2} - \\frac{1}{3} = \\frac{1}{6}$$\r\n",
        "\r\n",
        "Summing where ${n}$ is ${1}$ and where ${n}$ is ${2}$ yields:\r\n",
        "\r\n",
        "$$\\frac{4}{6} = \\frac{2}{3}$$\r\n",
        "\r\n",
        "where ${n}$ is ${3}$, the binary expansion is ${0011}$.\r\n",
        "\r\n",
        "$$\\frac{b(3)}{3(3+1)} = \\frac{2}{3} - \\frac{2}{3+1} = \\frac{2}{3} - \\frac{1}{2} = \\frac{1}{6}$$\r\n",
        "\r\n",
        "$$\\sum_{n=1}^{3} = \\frac{4}{6} + \\frac{1}{6} = \\frac{5}{6}$$\r\n",
        "\r\n",
        "where ${n}$ is ${4}$, the binary expansion is ${0100}$.\r\n",
        "\r\n",
        "$$\\frac{b(4)}{4(4+1)} = \\frac{1}{4} - \\frac{1}{4+1} = \\frac{1}{4} - \\frac{1}{5} = \\frac{1}{20}$$\r\n",
        "\r\n",
        "$$\\sum_{n=1}^{4} = \\frac{50}{60} + \\frac{3}{60} = \\frac{53}{60}$$\r\n",
        "\r\n",
        "where ${n}$ is ${5}$, the binary expansion is ${0101}$.\r\n",
        "\r\n",
        "$$\\frac{b(5)}{5(5+1)} = \\frac{2}{5} - \\frac{2}{5+1} = \\frac{2}{5} - \\frac{1}{3} = \\frac{1}{15}$$\r\n",
        "\r\n",
        "$$\\sum_{n=1}^{5} = \\frac{53}{60} + \\frac{4}{60} = \\frac{57}{60}$$\r\n",
        "\r\n",
        "where ${n}$ is ${6}$, the binary expansion is ${0110}$.\r\n",
        "\r\n",
        "$$\\frac{b(6)}{6(6+1)} = \\frac{2}{6} - \\frac{2}{6+1} = \\frac{14}{35} - \\frac{10}{35} = \\frac{4}{35}$$\r\n",
        "\r\n",
        "$$\\sum_{n=1}^{6} = \\frac{399}{420} + \\frac{48}{420} = \\frac{446}{420} = 1 + \\frac{13}{210}$$\r\n",
        "\r\n",
        "where ${n}$ is ${7}$, the binary expansion is ${0111}$.\r\n",
        "\r\n",
        "$$\\frac{b(7)}{7(7+1)} = \\frac{3}{7} - \\frac{3}{7+1} = \\frac{24}{56} - \\frac{21}{56} = \\frac{3}{56}$$\r\n",
        "\r\n",
        "$$\\sum_{n=1}^{7} = {1} + \\frac{52}{840} + \\frac{315}{840} = {1} + \\frac{367}{840}$$"
      ]
    },
    {
      "cell_type": "code",
      "metadata": {
        "id": "YDfeq4M39q2N"
      },
      "source": [
        "def b(n):\r\n",
        "    x = str(bin(n)).count('1')\r\n",
        "    return x / (n * (n+1))\r\n",
        "# print(sum([b(n) for n in range(1, 450000000)]))"
      ],
      "execution_count": 7,
      "outputs": []
    },
    {
      "cell_type": "markdown",
      "metadata": {
        "id": "eo_6x3-qDZWA"
      },
      "source": [
        "![image.png](data:image/png;base64,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)"
      ]
    },
    {
      "cell_type": "code",
      "metadata": {
        "id": "yr9rK7gnF4mM"
      },
      "source": [
        "x = 0\r\n",
        "for n in range(1, 100000000000):\r\n",
        "    x += b(n)\r\n",
        "print(x)"
      ],
      "execution_count": null,
      "outputs": []
    },
    {
      "cell_type": "code",
      "metadata": {
        "id": "b52_nsdcCH8i"
      },
      "source": [
        "# 1.38629436112      <- ln(4)\r\n",
        "# 1.3862943247932535 <- b(1,000,000,000)\r\n",
        "# 1.386294285878355  <-   b(200,000,000)\r\n",
        "# 1.3862942152423683 <-   b(100,000,000)"
      ],
      "execution_count": null,
      "outputs": []
    },
    {
      "cell_type": "code",
      "metadata": {
        "id": "E7PFdYZvZFAz"
      },
      "source": [
        "import matplotlib.pyplot as plots\r\n",
        "import operator as op\r\n",
        "from functools import reduce\r\n",
        "\r\n",
        "def ncr(n, r):\r\n",
        "    r = min(r, n-r)\r\n",
        "    numer = reduce(op.mul, range(n, n-r, -1), 1)\r\n",
        "    denom = reduce(op.mul, range(1, r+1), 1)\r\n",
        "    return numer // denom\r\n",
        "\r\n",
        "def b(n):\r\n",
        "    x = str(bin(n)).count('1')\r\n",
        "    return x / (n * (n+1))\r\n",
        "\r\n",
        "def b_2(n):\r\n",
        "    return 2 * (1 / n) * (1 / math.factorial(n)) * (1 / (4 ** n))\r\n",
        "\r\n",
        "def b_2_test(n):\r\n",
        "    return (1 / n) * ncr(2 * n, n) * (1 / (4 ** n))\r\n",
        "\r\n",
        "def sum_b(n):\r\n",
        "    x = 0\r\n",
        "    for i in range(1, n + 1):\r\n",
        "        x += b(i)\r\n",
        "    return x\r\n",
        "\r\n",
        "def sum_b_2(n):\r\n",
        "    x = 0\r\n",
        "    for i in range(1, n + 1):\r\n",
        "        x += b_2(i)\r\n",
        "    return x\r\n",
        "\r\n",
        "def sum_b_2_test(n):\r\n",
        "    x = 0\r\n",
        "    for i in range(1, n + 1):\r\n",
        "        x += b_2_test(i)\r\n",
        "    return x\r\n",
        "\r\n",
        "def plot_binary_pairs(n):\r\n",
        "    pairs = []\r\n",
        "    for i in range(1, n + 1):\r\n",
        "        pairs.append((i, str(bin(i)).count('1')))\r\n",
        "    x_val = [pair[0] for pair in pairs]\r\n",
        "    y_val = [pair[1] for pair in pairs]\r\n",
        "    plots.plot(x_val, y_val)\r\n",
        "    plots.show()\r\n",
        "\r\n",
        "def plot_b(n):\r\n",
        "    pairs = []\r\n",
        "    for i in range(1, n + 1):\r\n",
        "        pairs.append((i, b(i)))\r\n",
        "    x_val = [pair[0] for pair in pairs]\r\n",
        "    y_val = [pair[1] for pair in pairs]\r\n",
        "    plots.plot(x_val, y_val)\r\n",
        "    plots.show()\r\n",
        "\r\n",
        "def plot_b_summation(n):\r\n",
        "    pairs = []\r\n",
        "    for i in range(1, n + 1):\r\n",
        "        pairs.append((i, sum_b(i)))\r\n",
        "    x_val = [pair[0] for pair in pairs]\r\n",
        "    y_val = [pair[1] for pair in pairs]\r\n",
        "    plots.plot(x_val, y_val)\r\n",
        "    plots.show()"
      ],
      "execution_count": 22,
      "outputs": []
    },
    {
      "cell_type": "code",
      "metadata": {
        "colab": {
          "base_uri": "https://localhost:8080/",
          "height": 265
        },
        "id": "R-MgUe9kZ5sf",
        "outputId": "40e647ef-0936-4dbb-b148-70fd9e1c6e14"
      },
      "source": [
        "plot_binary_pairs(10)"
      ],
      "execution_count": null,
      "outputs": [
        {
          "output_type": "display_data",
          "data": {
            "image/png": "[encoded data removed]",
            "text/plain": [
              "<Figure size 432x288 with 1 Axes>"
            ]
          },
          "metadata": {
            "tags": [],
            "needs_background": "light"
          }
        }
      ]
    },
    {
      "cell_type": "code",
      "metadata": {
        "colab": {
          "base_uri": "https://localhost:8080/",
          "height": 265
        },
        "id": "Boz-mEQZczAd",
        "outputId": "7239fc5f-8996-4e8b-c0b0-a9f16cb110fc"
      },
      "source": [
        "plot_b(10)"
      ],
      "execution_count": null,
      "outputs": [
        {
          "output_type": "display_data",
          "data": {
            "image/png": "[encoded data removed]",
            "text/plain": [
              "<Figure size 432x288 with 1 Axes>"
            ]
          },
          "metadata": {
            "tags": [],
            "needs_background": "light"
          }
        }
      ]
    },
    {
      "cell_type": "code",
      "metadata": {
        "colab": {
          "base_uri": "https://localhost:8080/",
          "height": 265
        },
        "id": "7Hx_LQTvd7nI",
        "outputId": "152f6637-b65d-49ef-cd13-94c249da93c8"
      },
      "source": [
        "plot_b_summation(10)"
      ],
      "execution_count": null,
      "outputs": [
        {
          "output_type": "display_data",
          "data": {
            "image/png": "[encoded data removed]",
            "text/plain": [
              "<Figure size 432x288 with 1 Axes>"
            ]
          },
          "metadata": {
            "tags": [],
            "needs_background": "light"
          }
        }
      ]
    },
    {
      "cell_type": "code",
      "metadata": {
        "colab": {
          "base_uri": "https://localhost:8080/"
        },
        "id": "IzVgrJFZfvbI",
        "outputId": "dc7b0e69-b9cc-4a05-c35c-6b6f2fedf3c6"
      },
      "source": [
        "print(b(2))\r\n",
        "print(b(4))\r\n",
        "print(b(5))\r\n",
        "print('-------------------')\r\n",
        "print(b(4))\r\n",
        "print(b(8))\r\n",
        "print(b(9))"
      ],
      "execution_count": null,
      "outputs": [
        {
          "output_type": "stream",
          "text": [
            "0.16666666666666666\n",
            "0.05\n",
            "0.06666666666666667\n",
            "-------------------\n",
            "0.05\n",
            "0.013888888888888888\n",
            "0.022222222222222223\n"
          ],
          "name": "stdout"
        }
      ]
    },
    {
      "cell_type": "markdown",
      "metadata": {
        "id": "mp7_d5d4wKcm"
      },
      "source": [
        "There are 2 possible characters in binary: ${0}$ or ${1}$"
      ]
    },
    {
      "cell_type": "markdown",
      "metadata": {
        "id": "MVWGIZ7AXT0y"
      },
      "source": [
        "## The below section is incorrect, I incorrectly expanded (2n choose 2)"
      ]
    },
    {
      "cell_type": "markdown",
      "metadata": {
        "id": "YwcGBzv2rVJx"
      },
      "source": [
        "---\r\n",
        "\r\n",
        "$ln(4) = \\sum_{n=1}^\\infty \\frac{b(n)}{n(n+1)} = \\sum_{n=1}^\\infty \\frac{1}{n} {2n \\choose n} \\frac{1}{4^n}$\r\n",
        "\r\n",
        "---\r\n",
        "\r\n",
        "$ln(4) = \\sum_{n=1}^\\infty {b(n)} (\\frac{1}{n} - \\frac{1}{n(n+1)}) = \\sum_{n=1}^\\infty \\frac{1}{n} \\frac{2n!}{n!(2n-n)!} \\frac{1}{4^n}$\r\n",
        "\r\n",
        "---\r\n",
        "$ln(4) = \\sum_{n=1}^\\infty {b(n)} (\\frac{1}{n} - \\frac{1}{n(n+1)}) = \\sum_{n=1}^\\infty \\frac{1}{n} (\\frac{2n!}{n!n!}) \\frac{1}{4^n}$\r\n",
        "\r\n",
        "---\r\n",
        "$ln(4) = \\sum_{n=1}^\\infty \\frac{{b(n)}}{n} - \\frac{1}{n+1} = \\sum_{n=1}^\\infty 2 \\frac{1}{n} \\frac{1}{n!} \\frac{1}{4^n}$"
      ]
    },
    {
      "cell_type": "markdown",
      "metadata": {
        "id": "SGzZjH9cRHq9"
      },
      "source": [
        "---\r\n",
        "\r\n",
        "1. $\\sum_{n=1}^1 \\frac{{b(n)}}{n} - \\frac{1}{n+1} = \\sum_{n=1}^1 2 \\frac{1}{n} \\frac{1}{n!} \\frac{1}{4^n}$\r\n",
        "\r\n",
        "2. $\\sum_{n=1}^1 \\frac{{b(1)}}{1} - \\frac{1}{1+1} = \\sum_{n=1}^1 2 \\frac{1}{1} \\frac{1}{1!} \\frac{1}{4^1}$\r\n",
        "\r\n",
        "3. $\\sum_{n=1}^1 \\frac{{1}}{1} - \\frac{1}{2} = \\sum_{n=1}^1 2 \\frac{1}{4^1}$\r\n",
        "\r\n",
        "4. $\\frac{1}{2} = \\frac{1}{2}$\r\n",
        "\r\n",
        "---\r\n",
        "\r\n",
        "1. $\\sum_{n=1}^1 \\frac{{b(n)}}{n} - \\frac{1}{n+1} = \\sum_{n=1}^1 2 \\frac{1}{n} \\frac{1}{n!} \\frac{1}{4^n}$"
      ]
    },
    {
      "cell_type": "markdown",
      "metadata": {
        "id": "ty8tT4r1Xamj"
      },
      "source": [
        "## Comparing"
      ]
    },
    {
      "cell_type": "markdown",
      "metadata": {
        "id": "YZsQE_wdSGnb"
      },
      "source": [
        ""
      ]
    },
    {
      "cell_type": "code",
      "metadata": {
        "id": "O1_Wg3p2witO"
      },
      "source": [
        "import math"
      ],
      "execution_count": 2,
      "outputs": []
    },
    {
      "cell_type": "code",
      "metadata": {
        "colab": {
          "base_uri": "https://localhost:8080/"
        },
        "id": "R46LePwrwsG-",
        "outputId": "e66fdc44-f8b4-4934-a2f3-07009aa1b8ea"
      },
      "source": [
        "(math.factorial(8) / (math.factorial(4) * math.factorial(8 - 4))) * (1/4) * (1/(4**4))"
      ],
      "execution_count": null,
      "outputs": [
        {
          "output_type": "execute_result",
          "data": {
            "text/plain": [
              "0.068359375"
            ]
          },
          "metadata": {
            "tags": []
          },
          "execution_count": 20
        }
      ]
    },
    {
      "cell_type": "code",
      "metadata": {
        "colab": {
          "base_uri": "https://localhost:8080/"
        },
        "id": "NRfjlq2hZwDR",
        "outputId": "5d863d46-d449-437d-8819-74f3104cbc55"
      },
      "source": [
        "(4 + 4) ** (-2 * 4)"
      ],
      "execution_count": null,
      "outputs": [
        {
          "output_type": "execute_result",
          "data": {
            "text/plain": [
              "5.960464477539063e-08"
            ]
          },
          "metadata": {
            "tags": []
          },
          "execution_count": 21
        }
      ]
    },
    {
      "cell_type": "code",
      "metadata": {
        "colab": {
          "base_uri": "https://localhost:8080/"
        },
        "id": "puCjzRKWyVHi",
        "outputId": "a063a3e2-fb10-4ef0-e8dc-5295278f5c02"
      },
      "source": [
        "math.factorial(3) * math.factorial(3)"
      ],
      "execution_count": null,
      "outputs": [
        {
          "output_type": "execute_result",
          "data": {
            "text/plain": [
              "36"
            ]
          },
          "metadata": {
            "tags": []
          },
          "execution_count": 14
        }
      ]
    },
    {
      "cell_type": "code",
      "metadata": {
        "colab": {
          "base_uri": "https://localhost:8080/"
        },
        "id": "KBkbmHPqyuax",
        "outputId": "9e23d659-7a30-4381-d23d-98b9fd12d085"
      },
      "source": [
        "(math.factorial(6) / (math.factorial(3))) * (math.factorial(6) / (math.factorial(3)))"
      ],
      "execution_count": null,
      "outputs": [
        {
          "output_type": "execute_result",
          "data": {
            "text/plain": [
              "14400.0"
            ]
          },
          "metadata": {
            "tags": []
          },
          "execution_count": 19
        }
      ]
    },
    {
      "cell_type": "code",
      "metadata": {
        "id": "EuuPLykwhhBY"
      },
      "source": [
        "def b_2(n):\r\n",
        "    fact = math.factorial(n)\r\n",
        "    fact_2 = math.factorial(n * 2)\r\n",
        "    return (1 / n) * (fact_2 / (fact * fact)) * (1 / (4 ** n))"
      ],
      "execution_count": 28,
      "outputs": []
    },
    {
      "cell_type": "code",
      "metadata": {
        "colab": {
          "base_uri": "https://localhost:8080/"
        },
        "id": "eXfDZOpph2o4",
        "outputId": "2692bd3a-efea-4f5b-b3f9-94c89e310d70"
      },
      "source": [
        "b_2(1)\r\n",
        "print(b_2(2))"
      ],
      "execution_count": 6,
      "outputs": [
        {
          "output_type": "stream",
          "text": [
            "0.03125\n"
          ],
          "name": "stdout"
        }
      ]
    },
    {
      "cell_type": "code",
      "metadata": {
        "id": "Gy5-GkcRU22h"
      },
      "source": [
        "def comp_b(n):\r\n",
        "    x = sum_b(n)\r\n",
        "    y = sum_b_2(n)\r\n",
        "    print('{} == {}: {}'.format(x, y, x == y))"
      ],
      "execution_count": 31,
      "outputs": []
    },
    {
      "cell_type": "code",
      "metadata": {
        "colab": {
          "base_uri": "https://localhost:8080/"
        },
        "id": "vNQVcAk_VOsN",
        "outputId": "ed73167b-8129-4fab-8fd3-936db1221633"
      },
      "source": [
        "for i in range(100):\r\n",
        "    comp_b(i)"
      ],
      "execution_count": 32,
      "outputs": [
        {
          "output_type": "stream",
          "text": [
            "0 == 0: True\n",
            "0.5 == 0.5: True\n",
            "0.6666666666666666 == 0.6875: False\n",
            "0.8333333333333333 == 0.7916666666666666: False\n",
            "0.8833333333333333 == 0.8600260416666666: False\n",
            "0.95 == 0.9092447916666666: False\n",
            "0.9976190476190476 == 0.9468424479166666: False\n",
            "1.0511904761904762 == 0.976767113095238: False\n",
            "1.065079365079365 == 1.0013146899995349: False\n",
            "1.0873015873015872 == 1.0219225323389447: False\n",
            "1.1054834054834053 == 1.03954223753914: False\n",
            "1.128210678210678 == 1.0548320643657558: False\n",
            "1.1410311910311908 == 1.0682637525155259: False\n",
            "1.1575147075147072 == 1.0801853692165053: False\n",
            "1.1718004218004214 == 1.0908600821298822: False\n",
            "1.188467088467088 == 1.1004910453361734: False\n",
            "1.1921435590553233 == 1.109237916216887: False\n",
            "1.1986795067677416 == 1.117228137367435: False\n",
            "1.2045274599841158 == 1.1245648373436328: False\n",
            "1.212422196826221 == 1.131332485798131: False\n",
            "1.2171841015881257 == 1.13760102017911: False\n",
            "1.2236776080816323 == 1.1434289092861427: False\n",
            "1.229606461836573 == 1.148865462864294: False\n",
            "1.2368528386481672 == 1.153952597119842: False\n",
            "1.2401861719815006 == 1.1587262013995707: False\n",
            "1.2448015565968853 == 1.1632172083059393: False\n",
            "1.2490750608703896 == 1.1674524404106879: False\n",
            "1.254366066161395 == 1.1714552866660675: False\n",
            "1.2580606474421832 == 1.1752462475648167: False\n",
            "1.2626583485916085 == 1.178843378120348: False\n",
            "1.2669594238604258 == 1.182262650553967: False\n",
            "1.271999746441071 == 1.1855182533393587: False\n",
            "1.2729467161380408 == 1.1886228393939826: False\n",
            "1.2747292473323366 == 1.1915877333304463: False\n",
            "1.2764099196012442 == 1.1944231055162253: False\n",
            "1.2787908719821965 == 1.197138119045955: False\n",
            "1.280292373483698 == 1.1997410544708693: False\n",
            "1.2824260861437264 == 1.202239416157018: False\n",
            "1.2844503776417022 == 1.2046400233866104: False\n",
            "1.2870144802058048 == 1.206949088723161: False\n",
            "1.2882339924009267 == 1.2091722856925087: False\n",
            "1.2899761526796725 == 1.2113148074595184: False\n",
            "1.2916372822477789 == 1.2133814178827422: False\n",
            "1.2937514471526415 == 1.2153764960901272: False\n",
            "1.295266598667793 == 1.2173040755255164: False\n",
            "1.2971989658175513 == 1.2191678782585988: False\n",
            "1.2990491045779584 == 1.2209713452226756: False\n",
            "1.301265416634696 == 1.222717662939362: False\n",
            "1.3021157567707504 == 1.2244097872026007: False\n",
            "1.3033402465666688 == 1.2260504641225591: False\n",
            "1.3045167171549041 == 1.2276422488703027: False\n",
            "1.3060250127808468 == 1.2291875224143445: False\n",
            "1.3071135468882489 == 1.2306885064984516: False\n",
            "1.3085111709273824 == 1.2321472770750312: False\n",
            "1.3098579722741839 == 1.233565776378835: False\n",
            "1.3114813488975605 == 1.2349458238006845: False\n",
            "1.3124211985216208 == 1.2362891256996626: False\n",
            "1.3136311198767328 == 1.237597284274106: False\n",
            "1.3148000269486206 == 1.2388718055962638: False\n",
            "1.3162124563271518 == 1.2401141069022334: False\n",
            "1.317305352502015 == 1.241325523217402: False\n",
            "1.3186274043264465 == 1.242507313387803: False\n",
            "1.3199074862516897 == 1.2436606655793379: False\n",
            "1.321395581489785 == 1.244786702299468: False\n",
            "1.3216359661051698 == 1.2458864849896245: False\n",
            "1.3221021665713701 == 1.2469610182310367: False\n",
            "1.3225544506057438 == 1.2480112536018613: False\n",
            "1.3232129229499054 == 1.2490380932192704: False\n",
            "1.323639180409411 == 1.2500423929964617: False\n",
            "1.3242602984218332 == 1.251024965641317: False\n",
            "1.3248639201522154 == 1.2519865834205832: False\n",
            "1.3256463927656739 == 1.2529279807109381: False\n",
            "1.326026910269479 == 1.2538498563560936: False\n",
            "1.3265822601398973 == 1.254752875847126: False\n",
            "1.3271228006804379 == 1.2556376733414896: False\n",
            "1.3278245550664027 == 1.256504853534632: False\n",
            "1.3283372003158902 == 1.257354993396763: False\n",
            "1.3290032009818908 == 1.2581886437861085: False\n",
            "1.329652340871537 == 1.2590063309488995: False\n",
            "1.3304434801120433 == 1.2598085579153742: False\n",
            "1.330752122087352 == 1.2605958058002091: False\n",
            "1.3312037932707304 == 1.2613685350150143: False\n",
            "1.331644580811136 == 1.2621271863998353: False\n",
            "1.3322183042764257 == 1.2628721822799798: False\n",
            "1.3326384723436526 == 1.2636039274539226: False\n",
            "1.3331856679660876 == 1.2643228101175414: False\n",
            "1.3337202843788114 == 1.2650292027294736: False\n",
            "1.3343733669284457 == 1.2657234628219778: False\n",
            "1.3347564108508154 == 1.2664059337613098: False\n",
            "1.3352557866310901 == 1.267076945461287: False\n",
            "1.3357441871194906 == 1.2677368150534063: False\n",
            "1.336341415977589 == 1.2683858475166128: False\n",
            "1.3368089241589822 == 1.2690243362695532: False\n",
            "1.3373808756574952 == 1.2696525637279326: False\n",
            "1.3379407860718289 == 1.2702708018293742: False\n",
            "1.338598680808671 == 1.270879312528001: False\n",
            "1.3388134574409734 == 1.2714783482607799: False\n",
            "1.3391290475945605 == 1.2720681523875164: False\n",
            "1.3394382621894894 == 1.272648959606239: False\n",
            "1.3398423025935298 == 1.2732209963455847: False\n"
          ],
          "name": "stdout"
        }
      ]
    },
    {
      "cell_type": "code",
      "metadata": {
        "colab": {
          "base_uri": "https://localhost:8080/"
        },
        "id": "o7pd9GWwy6vR",
        "outputId": "d140902b-b450-4303-89b5-3c51023bec4b"
      },
      "source": [
        "n = math.factorial(4)\r\n",
        "print((2 * n) / (n * n))\r\n",
        "print(((2 * n) / n) - ( (2 * n) / (n)))"
      ],
      "execution_count": null,
      "outputs": [
        {
          "output_type": "stream",
          "text": [
            "0.08333333333333333\n",
            "0.0\n"
          ],
          "name": "stdout"
        }
      ]
    },
    {
      "cell_type": "markdown",
      "metadata": {
        "id": "8QP0X53tdl_y"
      },
      "source": [
        "## Expanding both sides"
      ]
    },
    {
      "cell_type": "markdown",
      "metadata": {
        "id": "DS9u04JydqhE"
      },
      "source": [
        "$ln(4) = \\sum_{n=1}^\\infty \\frac{b(n)}{n} - \\frac{1}{n+1} = \\sum_{n=1}^\\infty \\frac{1}{n} {2n \\choose n} \\frac{1}{4^n}$\r\n",
        "---\r\n",
        "---\r\n",
        "$ln(4) = \\sum_{n=1}^\\infty \\frac{b(n)}{n} - \\sum_{n=1}^\\infty \\frac{1}{n+1} = \\sum_{n=1}^\\infty \\frac{1}{n} {2n \\choose n} \\frac{1}{4^n}$\r\n",
        "---\r\n",
        "---\r\n",
        "The first summation looks like a Dirichlet series.\r\n",
        "Wikipedia: \"Dirichlet series can be used as generating series for counting weighted sets of objects with respect to a weight which is combined multiplicatively when taking Cartesian products.\"\r\n",
        "\r\n",
        "It looks like the first part of the summation is using the Dirichlet series to weight the function by how many 1s are in a given binary expansion of ${n}$.\r\n",
        "\r\n",
        "It is important to note that although the two equations are not equivalent, they converge on the same value. This has to do with the fact that the outputs of ${b(n)}$ are \"spiky\". That is, ${b(n)}$ fluctuates in magnitude according to the value of ${n}$.\r\n",
        "\r\n",
        "The second summation on the left hand side is the infinite harmonic series juxtaposed one step beyond the first summation on the left hand side. It could be re-written as:\r\n",
        "\r\n",
        "---\r\n",
        "$ln(4) = \\sum_{n=1}^\\infty \\frac{b(n)}{n} - \\sum_{i=n + 1}^\\infty \\frac{1}{i} = \\sum_{n=1}^\\infty \\frac{1}{n} {2n \\choose n} \\frac{1}{4^n}$\r\n",
        "---"
      ]
    },
    {
      "cell_type": "markdown",
      "metadata": {
        "id": "Qhjy505Lj3_M"
      },
      "source": [
        "## It was at this point, that I realized that I expanded the left hand side incorrectly."
      ]
    },
    {
      "cell_type": "markdown",
      "metadata": {
        "id": "BcVU8TzzkCbx"
      },
      "source": [
        "$ln(4) = \\sum_{n=1}^\\infty \\frac{b(n)}{n} - \\frac{b(n)}{n+1} = \\sum_{n=1}^\\infty \\frac{1}{n} {2n \\choose n} \\frac{1}{4^n}$\r\n",
        "---\r\n",
        "---\r\n",
        "$ln(4) = \\sum_{n=1}^\\infty \\frac{b(n)}{n} - \\sum_{n=1}^\\infty \\frac{b(n)}{n+1} = \\sum_{n=1}^\\infty \\frac{1}{n} {2n \\choose n} \\frac{1}{4^n}$\r\n",
        "---\r\n",
        "---\r\n",
        "\r\n",
        "Although I made several mistakes, I still believe that the reason the two distinct equations can converge on the ${ln(4)}$ has to do with the method by which they increase. \r\n",
        "\r\n",
        "The equation given in the question is based on an outside source, the number of 1s in the binary expansion of a number. The summation is reached by summing the difference of ${b(n)}$ multiplied by the nth harmonic number in the harmonic series and ${b(n)}$ multiplied by the (n + 1) harmonic number in the harmonic series from n = 1 to inifinity. \r\n",
        "\r\n",
        "The equation found in the paper shared by Brother Neff converges on the same value by summing the result dividing ${2n \\choose n}$ by ${4^n}$ and multiplying it by the ${n}$th harmonic number beginning at ${n=1}$ and ending at infinity.\r\n",
        "\r\n",
        "The second equation will produce a number that increases by smaller increments towards ${ln(4)}$ because the number produced by ${2n \\choose n} \\frac{1}{4^n}$ is always being multiplied by a number in the harmonic series, or being divided by the denominator of the number in the harmonic series.\r\n",
        "\r\n",
        "The first equation is interesting because it is the result of summing the difference between two identencial series where the second series is always ${i + 1}$ beyond the first.\r\n",
        "\r\n",
        "Both equations are bound by being multiplied by the nth number of the harmonic series, thus creating a limit that they cannot pass.\r\n",
        "\r\n",
        "**I would try to prove this by creating another function that is bound by ${ln(4)}$, but I have already spent around 15 hours on this problem and no longer have the time to work.**"
      ]
    },
    {
      "cell_type": "markdown",
      "metadata": {
        "id": "YuUfgj-JwbCt"
      },
      "source": [
        "## Code exploring the left hand side"
      ]
    },
    {
      "cell_type": "code",
      "metadata": {
        "id": "zqs2XwoAuFT9"
      },
      "source": [
        "def b_one_series(n):\r\n",
        "    return str(bin(n)).count('1') / n\r\n",
        "\r\n",
        "def sum_b_one_series(n):\r\n",
        "    x = 0\r\n",
        "    for i in range(1, n + 1):\r\n",
        "        x += b_one_series(i)\r\n",
        "    return x"
      ],
      "execution_count": 44,
      "outputs": []
    },
    {
      "cell_type": "code",
      "metadata": {
        "colab": {
          "base_uri": "https://localhost:8080/"
        },
        "id": "r9yFAM3IuO3L",
        "outputId": "602144a3-72d2-45fd-f80e-28165e6e376a"
      },
      "source": [
        "for n in range(1, 50):\r\n",
        "    print('{} vs {}'.format(b(n), b_one_series(n)))"
      ],
      "execution_count": 40,
      "outputs": [
        {
          "output_type": "stream",
          "text": [
            "0.5 vs 1.0\n",
            "0.16666666666666666 vs 0.5\n",
            "0.16666666666666666 vs 0.6666666666666666\n",
            "0.05 vs 0.25\n",
            "0.06666666666666667 vs 0.4\n",
            "0.047619047619047616 vs 0.3333333333333333\n",
            "0.05357142857142857 vs 0.42857142857142855\n",
            "0.013888888888888888 vs 0.125\n",
            "0.022222222222222223 vs 0.2222222222222222\n",
            "0.01818181818181818 vs 0.2\n",
            "0.022727272727272728 vs 0.2727272727272727\n",
            "0.01282051282051282 vs 0.16666666666666666\n",
            "0.016483516483516484 vs 0.23076923076923078\n",
            "0.014285714285714285 vs 0.21428571428571427\n",
            "0.016666666666666666 vs 0.26666666666666666\n",
            "0.003676470588235294 vs 0.0625\n",
            "0.006535947712418301 vs 0.11764705882352941\n",
            "0.005847953216374269 vs 0.1111111111111111\n",
            "0.007894736842105263 vs 0.15789473684210525\n",
            "0.004761904761904762 vs 0.1\n",
            "0.006493506493506494 vs 0.14285714285714285\n",
            "0.005928853754940711 vs 0.13636363636363635\n",
            "0.007246376811594203 vs 0.17391304347826086\n",
            "0.0033333333333333335 vs 0.08333333333333333\n",
            "0.004615384615384616 vs 0.12\n",
            "0.004273504273504274 vs 0.11538461538461539\n",
            "0.005291005291005291 vs 0.14814814814814814\n",
            "0.003694581280788177 vs 0.10714285714285714\n",
            "0.004597701149425287 vs 0.13793103448275862\n",
            "0.004301075268817204 vs 0.13333333333333333\n",
            "0.005040322580645161 vs 0.16129032258064516\n",
            "0.000946969696969697 vs 0.03125\n",
            "0.0017825311942959 vs 0.06060606060606061\n",
            "0.0016806722689075631 vs 0.058823529411764705\n",
            "0.002380952380952381 vs 0.08571428571428572\n",
            "0.0015015015015015015 vs 0.05555555555555555\n",
            "0.0021337126600284497 vs 0.08108108108108109\n",
            "0.0020242914979757085 vs 0.07894736842105263\n",
            "0.002564102564102564 vs 0.10256410256410256\n",
            "0.0012195121951219512 vs 0.05\n",
            "0.0017421602787456446 vs 0.07317073170731707\n",
            "0.0016611295681063123 vs 0.07142857142857142\n",
            "0.0021141649048625794 vs 0.09302325581395349\n",
            "0.0015151515151515152 vs 0.06818181818181818\n",
            "0.001932367149758454 vs 0.08888888888888889\n",
            "0.0018501387604070306 vs 0.08695652173913043\n",
            "0.002216312056737589 vs 0.10638297872340426\n",
            "0.0008503401360544217 vs 0.041666666666666664\n",
            "0.0012244897959183673 vs 0.061224489795918366\n"
          ],
          "name": "stdout"
        }
      ]
    },
    {
      "cell_type": "code",
      "metadata": {
        "id": "c-UJ7sOwu1aP"
      },
      "source": [
        "def plot_b_one_series(n):\r\n",
        "    pairs = []\r\n",
        "    for i in range(1, n + 1):\r\n",
        "        pairs.append((i, b_one_series(i)))\r\n",
        "    x_val = [pair[0] for pair in pairs]\r\n",
        "    y_val = [pair[1] for pair in pairs]\r\n",
        "    plots.plot(x_val, y_val)\r\n",
        "    plots.show()\r\n",
        "\r\n",
        "def plot_b_one_series_summation(n):\r\n",
        "    pairs = []\r\n",
        "    for i in range(1, n + 1):\r\n",
        "        pairs.append((i, sum_b_one_series(i)))\r\n",
        "    x_val = [pair[0] for pair in pairs]\r\n",
        "    y_val = [pair[1] for pair in pairs]\r\n",
        "    plots.plot(x_val, y_val)\r\n",
        "    plots.show()"
      ],
      "execution_count": 45,
      "outputs": []
    },
    {
      "cell_type": "code",
      "metadata": {
        "colab": {
          "base_uri": "https://localhost:8080/",
          "height": 264
        },
        "id": "cI8aX-o7u8-j",
        "outputId": "5050ed98-c592-4472-9989-b7a6ff07cf1e"
      },
      "source": [
        "plot_b_one_series(10)"
      ],
      "execution_count": 42,
      "outputs": [
        {
          "output_type": "display_data",
          "data": {
            "image/png": "[encoded data removed]",
            "text/plain": [
              "<Figure size 432x288 with 1 Axes>"
            ]
          },
          "metadata": {
            "tags": [],
            "needs_background": "light"
          }
        }
      ]
    },
    {
      "cell_type": "code",
      "metadata": {
        "colab": {
          "base_uri": "https://localhost:8080/",
          "height": 264
        },
        "id": "fqIGtIZhvATt",
        "outputId": "b907180c-3ddb-4fab-977c-cff82ad7ce28"
      },
      "source": [
        "plot_b(10)"
      ],
      "execution_count": 43,
      "outputs": [
        {
          "output_type": "display_data",
          "data": {
            "image/png": "[encoded data removed]",
            "text/plain": [
              "<Figure size 432x288 with 1 Axes>"
            ]
          },
          "metadata": {
            "tags": [],
            "needs_background": "light"
          }
        }
      ]
    },
    {
      "cell_type": "code",
      "metadata": {
        "colab": {
          "base_uri": "https://localhost:8080/",
          "height": 264
        },
        "id": "YAV_cLf8vdr2",
        "outputId": "a3d6d78b-d1a8-4ef3-f8ab-1bb7f2401ec2"
      },
      "source": [
        "plot_b_one_series_summation(10)"
      ],
      "execution_count": 47,
      "outputs": [
        {
          "output_type": "display_data",
          "data": {
            "image/png": "[encoded data removed]",
            "text/plain": [
              "<Figure size 432x288 with 1 Axes>"
            ]
          },
          "metadata": {
            "tags": [],
            "needs_background": "light"
          }
        }
      ]
    },
    {
      "cell_type": "code",
      "metadata": {
        "colab": {
          "base_uri": "https://localhost:8080/",
          "height": 264
        },
        "id": "V-jnSribvhoS",
        "outputId": "8e2dab48-2f80-41db-dae7-3c14486c9af3"
      },
      "source": [
        "plot_b_summation(10)"
      ],
      "execution_count": 48,
      "outputs": [
        {
          "output_type": "display_data",
          "data": {
            "image/png": "[encoded data removed]",
            "text/plain": [
              "<Figure size 432x288 with 1 Axes>"
            ]
          },
          "metadata": {
            "tags": [],
            "needs_background": "light"
          }
        }
      ]
    },
    {
      "cell_type": "markdown",
      "metadata": {
        "id": "q18gZ23MFmKj"
      },
      "source": [
        "## Hardest Proof Problem"
      ]
    },
    {
      "cell_type": "markdown",
      "metadata": {
        "id": "Jl44d2HdE85J"
      },
      "source": [
        "Prove that $a^4 + b^4 + c^4 = d^4$ has no positive integer solutions."
      ]
    }
  ]
}